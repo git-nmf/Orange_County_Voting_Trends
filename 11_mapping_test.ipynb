{
 "cells": [
  {
   "cell_type": "markdown",
   "metadata": {},
   "source": [
    "# 11_mapping_test\n",
    "### This page is for constructing dataframes that can be loaded into Tableau"
   ]
  },
  {
   "cell_type": "code",
   "execution_count": 49,
   "metadata": {},
   "outputs": [],
   "source": [
    "# imports\n",
    "import pandas as pd\n",
    "import requests\n",
    "import pickle as p\n",
    "import matplotlib.pyplot as plt"
   ]
  },
  {
   "cell_type": "code",
   "execution_count": 50,
   "metadata": {},
   "outputs": [],
   "source": [
    "# pd.set_option('display.max_columns', None)\n",
    "# pd.set_option('display.max_rows', None)"
   ]
  },
  {
   "cell_type": "code",
   "execution_count": 51,
   "metadata": {},
   "outputs": [],
   "source": [
    "#precints18 URL:  https://public.tableau.com/profile/neva7752#!/vizhome/srprec_g12_cty059/srprec2018?publish=yes\n",
    "#URL mentions g12, but map is for 2018 precints"
   ]
  },
  {
   "cell_type": "code",
   "execution_count": null,
   "metadata": {},
   "outputs": [],
   "source": []
  },
  {
   "cell_type": "markdown",
   "metadata": {},
   "source": [
    "### Test:  Load one column of agg data"
   ]
  },
  {
   "cell_type": "code",
   "execution_count": 52,
   "metadata": {},
   "outputs": [
    {
     "data": {
      "text/plain": [
       "(1334, 23)"
      ]
     },
     "execution_count": 52,
     "metadata": {},
     "output_type": "execute_result"
    }
   ],
   "source": [
    "map1 = pd.read_pickle('./data/combined18.pkl')\n",
    "map1.shape"
   ]
  },
  {
   "cell_type": "code",
   "execution_count": 43,
   "metadata": {},
   "outputs": [
    {
     "data": {
      "text/html": [
       "<div>\n",
       "<style scoped>\n",
       "    .dataframe tbody tr th:only-of-type {\n",
       "        vertical-align: middle;\n",
       "    }\n",
       "\n",
       "    .dataframe tbody tr th {\n",
       "        vertical-align: top;\n",
       "    }\n",
       "\n",
       "    .dataframe thead th {\n",
       "        text-align: right;\n",
       "    }\n",
       "</style>\n",
       "<table border=\"1\" class=\"dataframe\">\n",
       "  <thead>\n",
       "    <tr style=\"text-align: right;\">\n",
       "      <th></th>\n",
       "      <th>srprec_orig</th>\n",
       "      <th>subindex</th>\n",
       "      <th>pctsrprec_tract</th>\n",
       "      <th>hh_med_inc_wgt</th>\n",
       "      <th>county</th>\n",
       "      <th>srprec</th>\n",
       "      <th>cddist</th>\n",
       "      <th>TOTREG</th>\n",
       "      <th>TOTVOTE</th>\n",
       "      <th>CNGDEM01</th>\n",
       "      <th>...</th>\n",
       "      <th>dem</th>\n",
       "      <th>rep</th>\n",
       "      <th>dcl</th>\n",
       "      <th>male</th>\n",
       "      <th>female</th>\n",
       "      <th>hispdem</th>\n",
       "      <th>hisprep</th>\n",
       "      <th>hispdcl</th>\n",
       "      <th>hispoth</th>\n",
       "      <th>_merge</th>\n",
       "    </tr>\n",
       "  </thead>\n",
       "  <tbody>\n",
       "    <tr>\n",
       "      <th>0</th>\n",
       "      <td>2001.0</td>\n",
       "      <td>3.0</td>\n",
       "      <td>100.0</td>\n",
       "      <td>54480.48</td>\n",
       "      <td>30</td>\n",
       "      <td>2001</td>\n",
       "      <td>46</td>\n",
       "      <td>684</td>\n",
       "      <td>381</td>\n",
       "      <td>249</td>\n",
       "      <td>...</td>\n",
       "      <td>161.0</td>\n",
       "      <td>106.0</td>\n",
       "      <td>83.0</td>\n",
       "      <td>173.0</td>\n",
       "      <td>198.0</td>\n",
       "      <td>106.0</td>\n",
       "      <td>20.0</td>\n",
       "      <td>56.0</td>\n",
       "      <td>7.0</td>\n",
       "      <td>both</td>\n",
       "    </tr>\n",
       "    <tr>\n",
       "      <th>1</th>\n",
       "      <td>2002.0</td>\n",
       "      <td>0.0</td>\n",
       "      <td>100.0</td>\n",
       "      <td>44136.00</td>\n",
       "      <td>30</td>\n",
       "      <td>2002</td>\n",
       "      <td>46</td>\n",
       "      <td>295</td>\n",
       "      <td>123</td>\n",
       "      <td>100</td>\n",
       "      <td>...</td>\n",
       "      <td>61.0</td>\n",
       "      <td>8.0</td>\n",
       "      <td>39.0</td>\n",
       "      <td>46.0</td>\n",
       "      <td>63.0</td>\n",
       "      <td>52.0</td>\n",
       "      <td>0.0</td>\n",
       "      <td>23.0</td>\n",
       "      <td>0.0</td>\n",
       "      <td>both</td>\n",
       "    </tr>\n",
       "    <tr>\n",
       "      <th>2</th>\n",
       "      <td>2008.0</td>\n",
       "      <td>0.0</td>\n",
       "      <td>100.0</td>\n",
       "      <td>66970.00</td>\n",
       "      <td>30</td>\n",
       "      <td>2008</td>\n",
       "      <td>46</td>\n",
       "      <td>2341</td>\n",
       "      <td>1295</td>\n",
       "      <td>929</td>\n",
       "      <td>...</td>\n",
       "      <td>621.0</td>\n",
       "      <td>234.0</td>\n",
       "      <td>301.0</td>\n",
       "      <td>574.0</td>\n",
       "      <td>623.0</td>\n",
       "      <td>376.0</td>\n",
       "      <td>60.0</td>\n",
       "      <td>171.0</td>\n",
       "      <td>12.0</td>\n",
       "      <td>both</td>\n",
       "    </tr>\n",
       "    <tr>\n",
       "      <th>3</th>\n",
       "      <td>2009.0</td>\n",
       "      <td>3.0</td>\n",
       "      <td>100.0</td>\n",
       "      <td>54967.05</td>\n",
       "      <td>30</td>\n",
       "      <td>2009</td>\n",
       "      <td>46</td>\n",
       "      <td>1450</td>\n",
       "      <td>772</td>\n",
       "      <td>515</td>\n",
       "      <td>...</td>\n",
       "      <td>380.0</td>\n",
       "      <td>177.0</td>\n",
       "      <td>160.0</td>\n",
       "      <td>359.0</td>\n",
       "      <td>376.0</td>\n",
       "      <td>169.0</td>\n",
       "      <td>39.0</td>\n",
       "      <td>54.0</td>\n",
       "      <td>1.0</td>\n",
       "      <td>both</td>\n",
       "    </tr>\n",
       "    <tr>\n",
       "      <th>4</th>\n",
       "      <td>2011.0</td>\n",
       "      <td>0.0</td>\n",
       "      <td>100.0</td>\n",
       "      <td>119595.00</td>\n",
       "      <td>30</td>\n",
       "      <td>2011</td>\n",
       "      <td>45</td>\n",
       "      <td>1113</td>\n",
       "      <td>829</td>\n",
       "      <td>368</td>\n",
       "      <td>...</td>\n",
       "      <td>251.0</td>\n",
       "      <td>360.0</td>\n",
       "      <td>167.0</td>\n",
       "      <td>415.0</td>\n",
       "      <td>390.0</td>\n",
       "      <td>59.0</td>\n",
       "      <td>29.0</td>\n",
       "      <td>30.0</td>\n",
       "      <td>5.0</td>\n",
       "      <td>both</td>\n",
       "    </tr>\n",
       "  </tbody>\n",
       "</table>\n",
       "<p>5 rows × 23 columns</p>\n",
       "</div>"
      ],
      "text/plain": [
       "   srprec_orig  subindex  pctsrprec_tract  hh_med_inc_wgt  county  srprec  \\\n",
       "0       2001.0       3.0            100.0        54480.48      30    2001   \n",
       "1       2002.0       0.0            100.0        44136.00      30    2002   \n",
       "2       2008.0       0.0            100.0        66970.00      30    2008   \n",
       "3       2009.0       3.0            100.0        54967.05      30    2009   \n",
       "4       2011.0       0.0            100.0       119595.00      30    2011   \n",
       "\n",
       "   cddist  TOTREG  TOTVOTE  CNGDEM01  ...    dem    rep    dcl   male  female  \\\n",
       "0      46     684      381       249  ...  161.0  106.0   83.0  173.0   198.0   \n",
       "1      46     295      123       100  ...   61.0    8.0   39.0   46.0    63.0   \n",
       "2      46    2341     1295       929  ...  621.0  234.0  301.0  574.0   623.0   \n",
       "3      46    1450      772       515  ...  380.0  177.0  160.0  359.0   376.0   \n",
       "4      45    1113      829       368  ...  251.0  360.0  167.0  415.0   390.0   \n",
       "\n",
       "   hispdem  hisprep  hispdcl  hispoth  _merge  \n",
       "0    106.0     20.0     56.0      7.0    both  \n",
       "1     52.0      0.0     23.0      0.0    both  \n",
       "2    376.0     60.0    171.0     12.0    both  \n",
       "3    169.0     39.0     54.0      1.0    both  \n",
       "4     59.0     29.0     30.0      5.0    both  \n",
       "\n",
       "[5 rows x 23 columns]"
      ]
     },
     "execution_count": 43,
     "metadata": {},
     "output_type": "execute_result"
    }
   ],
   "source": [
    "map1.head()"
   ]
  },
  {
   "cell_type": "code",
   "execution_count": 53,
   "metadata": {},
   "outputs": [
    {
     "name": "stdout",
     "output_type": "stream",
     "text": [
      "<class 'pandas.core.frame.DataFrame'>\n",
      "Int64Index: 1334 entries, 0 to 1333\n",
      "Data columns (total 23 columns):\n",
      " #   Column           Non-Null Count  Dtype   \n",
      "---  ------           --------------  -----   \n",
      " 0   srprec_orig      1334 non-null   float64 \n",
      " 1   subindex         1334 non-null   float64 \n",
      " 2   pctsrprec_tract  1334 non-null   float64 \n",
      " 3   hh_med_inc_wgt   1334 non-null   float64 \n",
      " 4   county           1334 non-null   int64   \n",
      " 5   srprec           1334 non-null   int64   \n",
      " 6   cddist           1334 non-null   int64   \n",
      " 7   TOTREG           1334 non-null   int64   \n",
      " 8   TOTVOTE          1334 non-null   int64   \n",
      " 9   CNGDEM01         1334 non-null   int64   \n",
      " 10  CNGREP01         1334 non-null   int64   \n",
      " 11  election         1334 non-null   object  \n",
      " 12  totreg_r         1334 non-null   float64 \n",
      " 13  dem              1334 non-null   float64 \n",
      " 14  rep              1334 non-null   float64 \n",
      " 15  dcl              1334 non-null   float64 \n",
      " 16  male             1334 non-null   float64 \n",
      " 17  female           1334 non-null   float64 \n",
      " 18  hispdem          1334 non-null   float64 \n",
      " 19  hisprep          1334 non-null   float64 \n",
      " 20  hispdcl          1334 non-null   float64 \n",
      " 21  hispoth          1334 non-null   float64 \n",
      " 22  _merge           1334 non-null   category\n",
      "dtypes: category(1), float64(14), int64(7), object(1)\n",
      "memory usage: 241.0+ KB\n"
     ]
    }
   ],
   "source": [
    "map1.info()"
   ]
  },
  {
   "cell_type": "code",
   "execution_count": null,
   "metadata": {},
   "outputs": [],
   "source": []
  },
  {
   "cell_type": "code",
   "execution_count": 56,
   "metadata": {},
   "outputs": [],
   "source": [
    "map1 = map1[['srprec_orig', 'hh_med_inc_wgt']]"
   ]
  },
  {
   "cell_type": "code",
   "execution_count": 57,
   "metadata": {},
   "outputs": [],
   "source": [
    "map1['srprec_orig'] = map1['srprec_orig'].astype('int')\n"
   ]
  },
  {
   "cell_type": "code",
   "execution_count": 58,
   "metadata": {},
   "outputs": [
    {
     "name": "stdout",
     "output_type": "stream",
     "text": [
      "<class 'pandas.core.frame.DataFrame'>\n",
      "Int64Index: 1334 entries, 0 to 1333\n",
      "Data columns (total 2 columns):\n",
      " #   Column          Non-Null Count  Dtype  \n",
      "---  ------          --------------  -----  \n",
      " 0   srprec_orig     1334 non-null   int64  \n",
      " 1   hh_med_inc_wgt  1334 non-null   float64\n",
      "dtypes: float64(1), int64(1)\n",
      "memory usage: 31.3 KB\n"
     ]
    }
   ],
   "source": [
    "map1.info()"
   ]
  },
  {
   "cell_type": "code",
   "execution_count": 60,
   "metadata": {},
   "outputs": [],
   "source": [
    "map1['srprec_orig'] = map1['srprec_orig'].astype('string')\n"
   ]
  },
  {
   "cell_type": "code",
   "execution_count": 61,
   "metadata": {},
   "outputs": [
    {
     "data": {
      "text/html": [
       "<div>\n",
       "<style scoped>\n",
       "    .dataframe tbody tr th:only-of-type {\n",
       "        vertical-align: middle;\n",
       "    }\n",
       "\n",
       "    .dataframe tbody tr th {\n",
       "        vertical-align: top;\n",
       "    }\n",
       "\n",
       "    .dataframe thead th {\n",
       "        text-align: right;\n",
       "    }\n",
       "</style>\n",
       "<table border=\"1\" class=\"dataframe\">\n",
       "  <thead>\n",
       "    <tr style=\"text-align: right;\">\n",
       "      <th></th>\n",
       "      <th>srprec_orig</th>\n",
       "      <th>hh_med_inc_wgt</th>\n",
       "    </tr>\n",
       "  </thead>\n",
       "  <tbody>\n",
       "    <tr>\n",
       "      <th>0</th>\n",
       "      <td>2001</td>\n",
       "      <td>54480.48</td>\n",
       "    </tr>\n",
       "    <tr>\n",
       "      <th>1</th>\n",
       "      <td>2002</td>\n",
       "      <td>44136.00</td>\n",
       "    </tr>\n",
       "    <tr>\n",
       "      <th>2</th>\n",
       "      <td>2008</td>\n",
       "      <td>66970.00</td>\n",
       "    </tr>\n",
       "    <tr>\n",
       "      <th>3</th>\n",
       "      <td>2009</td>\n",
       "      <td>54967.05</td>\n",
       "    </tr>\n",
       "    <tr>\n",
       "      <th>4</th>\n",
       "      <td>2011</td>\n",
       "      <td>119595.00</td>\n",
       "    </tr>\n",
       "  </tbody>\n",
       "</table>\n",
       "</div>"
      ],
      "text/plain": [
       "  srprec_orig  hh_med_inc_wgt\n",
       "0        2001        54480.48\n",
       "1        2002        44136.00\n",
       "2        2008        66970.00\n",
       "3        2009        54967.05\n",
       "4        2011       119595.00"
      ]
     },
     "execution_count": 61,
     "metadata": {},
     "output_type": "execute_result"
    }
   ],
   "source": [
    "map1.head()"
   ]
  },
  {
   "cell_type": "code",
   "execution_count": 62,
   "metadata": {},
   "outputs": [
    {
     "name": "stdout",
     "output_type": "stream",
     "text": [
      "<class 'pandas.core.frame.DataFrame'>\n",
      "Int64Index: 1334 entries, 0 to 1333\n",
      "Data columns (total 2 columns):\n",
      " #   Column          Non-Null Count  Dtype  \n",
      "---  ------          --------------  -----  \n",
      " 0   srprec_orig     1334 non-null   string \n",
      " 1   hh_med_inc_wgt  1334 non-null   float64\n",
      "dtypes: float64(1), string(1)\n",
      "memory usage: 31.3 KB\n"
     ]
    }
   ],
   "source": [
    "map1.info()"
   ]
  },
  {
   "cell_type": "code",
   "execution_count": null,
   "metadata": {},
   "outputs": [],
   "source": []
  },
  {
   "cell_type": "code",
   "execution_count": null,
   "metadata": {},
   "outputs": [],
   "source": []
  },
  {
   "cell_type": "code",
   "execution_count": 63,
   "metadata": {},
   "outputs": [],
   "source": [
    "#Tableau found negative values, prevents creation of bins.  \n",
    "# look for negative income values"
   ]
  },
  {
   "cell_type": "code",
   "execution_count": 64,
   "metadata": {},
   "outputs": [
    {
     "data": {
      "text/html": [
       "<div>\n",
       "<style scoped>\n",
       "    .dataframe tbody tr th:only-of-type {\n",
       "        vertical-align: middle;\n",
       "    }\n",
       "\n",
       "    .dataframe tbody tr th {\n",
       "        vertical-align: top;\n",
       "    }\n",
       "\n",
       "    .dataframe thead th {\n",
       "        text-align: right;\n",
       "    }\n",
       "</style>\n",
       "<table border=\"1\" class=\"dataframe\">\n",
       "  <thead>\n",
       "    <tr style=\"text-align: right;\">\n",
       "      <th></th>\n",
       "      <th>srprec_orig</th>\n",
       "      <th>hh_med_inc_wgt</th>\n",
       "    </tr>\n",
       "  </thead>\n",
       "  <tbody>\n",
       "    <tr>\n",
       "      <th>17</th>\n",
       "      <td>2042</td>\n",
       "      <td>-2.251742e+05</td>\n",
       "    </tr>\n",
       "    <tr>\n",
       "      <th>31</th>\n",
       "      <td>2095</td>\n",
       "      <td>-6.666667e+08</td>\n",
       "    </tr>\n",
       "    <tr>\n",
       "      <th>34</th>\n",
       "      <td>2102</td>\n",
       "      <td>-6.666667e+08</td>\n",
       "    </tr>\n",
       "    <tr>\n",
       "      <th>86</th>\n",
       "      <td>2385</td>\n",
       "      <td>-1.020671e+07</td>\n",
       "    </tr>\n",
       "    <tr>\n",
       "      <th>96</th>\n",
       "      <td>2429</td>\n",
       "      <td>-4.938274e+06</td>\n",
       "    </tr>\n",
       "    <tr>\n",
       "      <th>379</th>\n",
       "      <td>23155</td>\n",
       "      <td>-5.471153e+07</td>\n",
       "    </tr>\n",
       "  </tbody>\n",
       "</table>\n",
       "</div>"
      ],
      "text/plain": [
       "    srprec_orig  hh_med_inc_wgt\n",
       "17         2042   -2.251742e+05\n",
       "31         2095   -6.666667e+08\n",
       "34         2102   -6.666667e+08\n",
       "86         2385   -1.020671e+07\n",
       "96         2429   -4.938274e+06\n",
       "379       23155   -5.471153e+07"
      ]
     },
     "execution_count": 64,
     "metadata": {},
     "output_type": "execute_result"
    }
   ],
   "source": [
    "map1.loc[map1['hh_med_inc_wgt'] <= 0]"
   ]
  },
  {
   "cell_type": "code",
   "execution_count": 65,
   "metadata": {},
   "outputs": [],
   "source": [
    "# There are six precincts with negative income, out of 1,334 (<0.5% of rows).\n",
    "# ok to drop for map-test"
   ]
  },
  {
   "cell_type": "code",
   "execution_count": 66,
   "metadata": {},
   "outputs": [],
   "source": [
    "map1 = map1.loc[map1['hh_med_inc_wgt'] > 0]"
   ]
  },
  {
   "cell_type": "code",
   "execution_count": 67,
   "metadata": {},
   "outputs": [
    {
     "data": {
      "text/plain": [
       "(1328, 2)"
      ]
     },
     "execution_count": 67,
     "metadata": {},
     "output_type": "execute_result"
    }
   ],
   "source": [
    "map1.shape"
   ]
  },
  {
   "cell_type": "code",
   "execution_count": 68,
   "metadata": {},
   "outputs": [
    {
     "data": {
      "text/html": [
       "<div>\n",
       "<style scoped>\n",
       "    .dataframe tbody tr th:only-of-type {\n",
       "        vertical-align: middle;\n",
       "    }\n",
       "\n",
       "    .dataframe tbody tr th {\n",
       "        vertical-align: top;\n",
       "    }\n",
       "\n",
       "    .dataframe thead th {\n",
       "        text-align: right;\n",
       "    }\n",
       "</style>\n",
       "<table border=\"1\" class=\"dataframe\">\n",
       "  <thead>\n",
       "    <tr style=\"text-align: right;\">\n",
       "      <th></th>\n",
       "      <th>srprec_orig</th>\n",
       "      <th>hh_med_inc_wgt</th>\n",
       "    </tr>\n",
       "  </thead>\n",
       "  <tbody>\n",
       "    <tr>\n",
       "      <th>0</th>\n",
       "      <td>2001</td>\n",
       "      <td>54480.48</td>\n",
       "    </tr>\n",
       "    <tr>\n",
       "      <th>1</th>\n",
       "      <td>2002</td>\n",
       "      <td>44136.00</td>\n",
       "    </tr>\n",
       "    <tr>\n",
       "      <th>2</th>\n",
       "      <td>2008</td>\n",
       "      <td>66970.00</td>\n",
       "    </tr>\n",
       "    <tr>\n",
       "      <th>3</th>\n",
       "      <td>2009</td>\n",
       "      <td>54967.05</td>\n",
       "    </tr>\n",
       "    <tr>\n",
       "      <th>4</th>\n",
       "      <td>2011</td>\n",
       "      <td>119595.00</td>\n",
       "    </tr>\n",
       "  </tbody>\n",
       "</table>\n",
       "</div>"
      ],
      "text/plain": [
       "  srprec_orig  hh_med_inc_wgt\n",
       "0        2001        54480.48\n",
       "1        2002        44136.00\n",
       "2        2008        66970.00\n",
       "3        2009        54967.05\n",
       "4        2011       119595.00"
      ]
     },
     "execution_count": 68,
     "metadata": {},
     "output_type": "execute_result"
    }
   ],
   "source": [
    "map1.head()"
   ]
  },
  {
   "cell_type": "code",
   "execution_count": null,
   "metadata": {},
   "outputs": [],
   "source": []
  },
  {
   "cell_type": "code",
   "execution_count": 69,
   "metadata": {},
   "outputs": [],
   "source": [
    "map1.to_csv('./map_files/map1.csv')"
   ]
  },
  {
   "cell_type": "code",
   "execution_count": 12,
   "metadata": {},
   "outputs": [],
   "source": [
    "# load csv into Tableau ... see if the precincts line up"
   ]
  },
  {
   "cell_type": "code",
   "execution_count": null,
   "metadata": {},
   "outputs": [],
   "source": []
  },
  {
   "cell_type": "code",
   "execution_count": null,
   "metadata": {},
   "outputs": [],
   "source": []
  },
  {
   "cell_type": "code",
   "execution_count": null,
   "metadata": {},
   "outputs": [],
   "source": []
  }
 ],
 "metadata": {
  "kernelspec": {
   "display_name": "Python 3",
   "language": "python",
   "name": "python3"
  },
  "language_info": {
   "codemirror_mode": {
    "name": "ipython",
    "version": 3
   },
   "file_extension": ".py",
   "mimetype": "text/x-python",
   "name": "python",
   "nbconvert_exporter": "python",
   "pygments_lexer": "ipython3",
   "version": "3.8.3"
  }
 },
 "nbformat": 4,
 "nbformat_minor": 4
}
