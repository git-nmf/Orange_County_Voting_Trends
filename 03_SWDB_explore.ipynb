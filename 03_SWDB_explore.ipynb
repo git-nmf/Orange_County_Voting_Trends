{
 "cells": [
  {
   "cell_type": "code",
   "execution_count": 82,
   "metadata": {},
   "outputs": [],
   "source": [
    "# imports\n",
    "import pandas as pd\n",
    "import requests\n",
    "import pickle as p\n",
    "import matplotlib.pyplot as plt"
   ]
  },
  {
   "cell_type": "code",
   "execution_count": 35,
   "metadata": {},
   "outputs": [],
   "source": [
    "# pd.set_option('display.max_columns', None)\n",
    "# pd.set_option('display.max_rows', None)"
   ]
  },
  {
   "cell_type": "code",
   "execution_count": 39,
   "metadata": {},
   "outputs": [
    {
     "data": {
      "text/html": [
       "<div>\n",
       "<style scoped>\n",
       "    .dataframe tbody tr th:only-of-type {\n",
       "        vertical-align: middle;\n",
       "    }\n",
       "\n",
       "    .dataframe tbody tr th {\n",
       "        vertical-align: top;\n",
       "    }\n",
       "\n",
       "    .dataframe thead th {\n",
       "        text-align: right;\n",
       "    }\n",
       "</style>\n",
       "<table border=\"1\" class=\"dataframe\">\n",
       "  <thead>\n",
       "    <tr style=\"text-align: right;\">\n",
       "      <th></th>\n",
       "      <th>1</th>\n",
       "      <th>2</th>\n",
       "      <th>3</th>\n",
       "      <th>4</th>\n",
       "      <th>5</th>\n",
       "    </tr>\n",
       "    <tr>\n",
       "      <th>0</th>\n",
       "      <th></th>\n",
       "      <th></th>\n",
       "      <th></th>\n",
       "      <th></th>\n",
       "      <th></th>\n",
       "    </tr>\n",
       "  </thead>\n",
       "  <tbody>\n",
       "    <tr>\n",
       "      <th>Geographic Area Name</th>\n",
       "      <td>Census Tract 626.44, Orange County, California</td>\n",
       "      <td>Census Tract 626.40, Orange County, California</td>\n",
       "      <td>Census Tract 630.08, Orange County, California</td>\n",
       "      <td>Census Tract 631.03, Orange County, California</td>\n",
       "      <td>Census Tract 637.01, Orange County, California</td>\n",
       "    </tr>\n",
       "    <tr>\n",
       "      <th>GEO_ID</th>\n",
       "      <td>1400000US06059062644</td>\n",
       "      <td>1400000US06059062640</td>\n",
       "      <td>1400000US06059063008</td>\n",
       "      <td>1400000US06059063103</td>\n",
       "      <td>1400000US06059063701</td>\n",
       "    </tr>\n",
       "    <tr>\n",
       "      <th>Estimate EMPLOYMENT STATUS Population 16 years and over</th>\n",
       "      <td>6767</td>\n",
       "      <td>3062</td>\n",
       "      <td>833</td>\n",
       "      <td>2189</td>\n",
       "      <td>4348</td>\n",
       "    </tr>\n",
       "    <tr>\n",
       "      <th>Estimate EMPLOYMENT STATUS Population 16 years and over In labor force</th>\n",
       "      <td>3967</td>\n",
       "      <td>2446</td>\n",
       "      <td>431</td>\n",
       "      <td>1514</td>\n",
       "      <td>3106</td>\n",
       "    </tr>\n",
       "    <tr>\n",
       "      <th>Estimate EMPLOYMENT STATUS Population 16 years and over In labor force Civilian labor force</th>\n",
       "      <td>3967</td>\n",
       "      <td>2436</td>\n",
       "      <td>431</td>\n",
       "      <td>1514</td>\n",
       "      <td>3106</td>\n",
       "    </tr>\n",
       "    <tr>\n",
       "      <th>Estimate EMPLOYMENT STATUS Population 16 years and over In labor force Civilian labor force Employed</th>\n",
       "      <td>3811</td>\n",
       "      <td>2320</td>\n",
       "      <td>412</td>\n",
       "      <td>1407</td>\n",
       "      <td>2937</td>\n",
       "    </tr>\n",
       "    <tr>\n",
       "      <th>Estimate EMPLOYMENT STATUS Population 16 years and over In labor force Civilian labor force Unemployed</th>\n",
       "      <td>156</td>\n",
       "      <td>116</td>\n",
       "      <td>19</td>\n",
       "      <td>107</td>\n",
       "      <td>169</td>\n",
       "    </tr>\n",
       "    <tr>\n",
       "      <th>Estimate EMPLOYMENT STATUS Population 16 years and over In labor force Armed Forces</th>\n",
       "      <td>0</td>\n",
       "      <td>10</td>\n",
       "      <td>0</td>\n",
       "      <td>0</td>\n",
       "      <td>0</td>\n",
       "    </tr>\n",
       "    <tr>\n",
       "      <th>Estimate EMPLOYMENT STATUS Population 16 years and over Not in labor force</th>\n",
       "      <td>2800</td>\n",
       "      <td>616</td>\n",
       "      <td>402</td>\n",
       "      <td>675</td>\n",
       "      <td>1242</td>\n",
       "    </tr>\n",
       "    <tr>\n",
       "      <th>Estimate EMPLOYMENT STATUS Civilian labor force</th>\n",
       "      <td>3967</td>\n",
       "      <td>2436</td>\n",
       "      <td>431</td>\n",
       "      <td>1514</td>\n",
       "      <td>3106</td>\n",
       "    </tr>\n",
       "  </tbody>\n",
       "</table>\n",
       "</div>"
      ],
      "text/plain": [
       "                                                                                                 1  \\\n",
       "0                                                                                                    \n",
       "Geographic Area Name                                Census Tract 626.44, Orange County, California   \n",
       "GEO_ID                                                                        1400000US06059062644   \n",
       "Estimate EMPLOYMENT STATUS Population 16 years ...                                            6767   \n",
       "Estimate EMPLOYMENT STATUS Population 16 years ...                                            3967   \n",
       "Estimate EMPLOYMENT STATUS Population 16 years ...                                            3967   \n",
       "Estimate EMPLOYMENT STATUS Population 16 years ...                                            3811   \n",
       "Estimate EMPLOYMENT STATUS Population 16 years ...                                             156   \n",
       "Estimate EMPLOYMENT STATUS Population 16 years ...                                               0   \n",
       "Estimate EMPLOYMENT STATUS Population 16 years ...                                            2800   \n",
       "Estimate EMPLOYMENT STATUS Civilian labor force                                               3967   \n",
       "\n",
       "                                                                                                 2  \\\n",
       "0                                                                                                    \n",
       "Geographic Area Name                                Census Tract 626.40, Orange County, California   \n",
       "GEO_ID                                                                        1400000US06059062640   \n",
       "Estimate EMPLOYMENT STATUS Population 16 years ...                                            3062   \n",
       "Estimate EMPLOYMENT STATUS Population 16 years ...                                            2446   \n",
       "Estimate EMPLOYMENT STATUS Population 16 years ...                                            2436   \n",
       "Estimate EMPLOYMENT STATUS Population 16 years ...                                            2320   \n",
       "Estimate EMPLOYMENT STATUS Population 16 years ...                                             116   \n",
       "Estimate EMPLOYMENT STATUS Population 16 years ...                                              10   \n",
       "Estimate EMPLOYMENT STATUS Population 16 years ...                                             616   \n",
       "Estimate EMPLOYMENT STATUS Civilian labor force                                               2436   \n",
       "\n",
       "                                                                                                 3  \\\n",
       "0                                                                                                    \n",
       "Geographic Area Name                                Census Tract 630.08, Orange County, California   \n",
       "GEO_ID                                                                        1400000US06059063008   \n",
       "Estimate EMPLOYMENT STATUS Population 16 years ...                                             833   \n",
       "Estimate EMPLOYMENT STATUS Population 16 years ...                                             431   \n",
       "Estimate EMPLOYMENT STATUS Population 16 years ...                                             431   \n",
       "Estimate EMPLOYMENT STATUS Population 16 years ...                                             412   \n",
       "Estimate EMPLOYMENT STATUS Population 16 years ...                                              19   \n",
       "Estimate EMPLOYMENT STATUS Population 16 years ...                                               0   \n",
       "Estimate EMPLOYMENT STATUS Population 16 years ...                                             402   \n",
       "Estimate EMPLOYMENT STATUS Civilian labor force                                                431   \n",
       "\n",
       "                                                                                                 4  \\\n",
       "0                                                                                                    \n",
       "Geographic Area Name                                Census Tract 631.03, Orange County, California   \n",
       "GEO_ID                                                                        1400000US06059063103   \n",
       "Estimate EMPLOYMENT STATUS Population 16 years ...                                            2189   \n",
       "Estimate EMPLOYMENT STATUS Population 16 years ...                                            1514   \n",
       "Estimate EMPLOYMENT STATUS Population 16 years ...                                            1514   \n",
       "Estimate EMPLOYMENT STATUS Population 16 years ...                                            1407   \n",
       "Estimate EMPLOYMENT STATUS Population 16 years ...                                             107   \n",
       "Estimate EMPLOYMENT STATUS Population 16 years ...                                               0   \n",
       "Estimate EMPLOYMENT STATUS Population 16 years ...                                             675   \n",
       "Estimate EMPLOYMENT STATUS Civilian labor force                                               1514   \n",
       "\n",
       "                                                                                                 5  \n",
       "0                                                                                                   \n",
       "Geographic Area Name                                Census Tract 637.01, Orange County, California  \n",
       "GEO_ID                                                                        1400000US06059063701  \n",
       "Estimate EMPLOYMENT STATUS Population 16 years ...                                            4348  \n",
       "Estimate EMPLOYMENT STATUS Population 16 years ...                                            3106  \n",
       "Estimate EMPLOYMENT STATUS Population 16 years ...                                            3106  \n",
       "Estimate EMPLOYMENT STATUS Population 16 years ...                                            2937  \n",
       "Estimate EMPLOYMENT STATUS Population 16 years ...                                             169  \n",
       "Estimate EMPLOYMENT STATUS Population 16 years ...                                               0  \n",
       "Estimate EMPLOYMENT STATUS Population 16 years ...                                            1242  \n",
       "Estimate EMPLOYMENT STATUS Civilian labor force                                               3106  "
      ]
     },
     "execution_count": 39,
     "metadata": {},
     "output_type": "execute_result"
    }
   ],
   "source": [
    "census = pd.read_pickle('./Cap-Census-data/DP03_clean.p')\n",
    "census.head().T[:10]"
   ]
  },
  {
   "cell_type": "code",
   "execution_count": 7,
   "metadata": {
    "collapsed": true,
    "jupyter": {
     "outputs_hidden": true
    }
   },
   "outputs": [
    {
     "data": {
      "text/plain": [
       "['Geographic Area Name',\n",
       " 'GEO_ID',\n",
       " 'Estimate EMPLOYMENT STATUS Population 16 years and over',\n",
       " 'Estimate EMPLOYMENT STATUS Population 16 years and over In labor force',\n",
       " 'Estimate EMPLOYMENT STATUS Population 16 years and over In labor force Civilian labor force',\n",
       " 'Estimate EMPLOYMENT STATUS Population 16 years and over In labor force Civilian labor force Employed',\n",
       " 'Estimate EMPLOYMENT STATUS Population 16 years and over In labor force Civilian labor force Unemployed',\n",
       " 'Estimate EMPLOYMENT STATUS Population 16 years and over In labor force Armed Forces',\n",
       " 'Estimate EMPLOYMENT STATUS Population 16 years and over Not in labor force',\n",
       " 'Estimate EMPLOYMENT STATUS Civilian labor force',\n",
       " 'Estimate EMPLOYMENT STATUS Civilian labor force Unemployment Rate',\n",
       " 'Estimate EMPLOYMENT STATUS Females 16 years and over',\n",
       " 'Estimate EMPLOYMENT STATUS Females 16 years and over In labor force',\n",
       " 'Estimate EMPLOYMENT STATUS Females 16 years and over In labor force Civilian labor force',\n",
       " 'Estimate EMPLOYMENT STATUS Females 16 years and over In labor force Civilian labor force Employed',\n",
       " 'Estimate EMPLOYMENT STATUS Own children of the householder under 6 years',\n",
       " 'Estimate EMPLOYMENT STATUS Own children of the householder under 6 years All parents in family in labor force',\n",
       " 'Estimate EMPLOYMENT STATUS Own children of the householder 6 to 17 years',\n",
       " 'Estimate EMPLOYMENT STATUS Own children of the householder 6 to 17 years All parents in family in labor force',\n",
       " 'Estimate COMMUTING TO WORK Workers 16 years and over',\n",
       " 'Estimate COMMUTING TO WORK Workers 16 years and over Car, truck, or van -- drove alone',\n",
       " 'Estimate COMMUTING TO WORK Workers 16 years and over Car, truck, or van -- carpooled',\n",
       " 'Estimate COMMUTING TO WORK Workers 16 years and over Public transportation (excluding taxicab)',\n",
       " 'Estimate COMMUTING TO WORK Workers 16 years and over Walked',\n",
       " 'Estimate COMMUTING TO WORK Workers 16 years and over Other means',\n",
       " 'Estimate COMMUTING TO WORK Workers 16 years and over Worked at home',\n",
       " 'Estimate COMMUTING TO WORK Workers 16 years and over Mean travel time to work (minutes)',\n",
       " 'Estimate OCCUPATION Civilian employed population 16 years and over',\n",
       " 'Estimate OCCUPATION Civilian employed population 16 years and over Management, business, science, and arts occupations',\n",
       " 'Estimate OCCUPATION Civilian employed population 16 years and over Service occupations',\n",
       " 'Estimate OCCUPATION Civilian employed population 16 years and over Sales and office occupations',\n",
       " 'Estimate OCCUPATION Civilian employed population 16 years and over Natural resources, construction, and maintenance occupations',\n",
       " 'Estimate OCCUPATION Civilian employed population 16 years and over Production, transportation, and material moving occupations',\n",
       " 'Estimate INDUSTRY Civilian employed population 16 years and over',\n",
       " 'Estimate INDUSTRY Civilian employed population 16 years and over Agriculture, forestry, fishing and hunting, and mining',\n",
       " 'Estimate INDUSTRY Civilian employed population 16 years and over Construction',\n",
       " 'Estimate INDUSTRY Civilian employed population 16 years and over Manufacturing',\n",
       " 'Estimate INDUSTRY Civilian employed population 16 years and over Wholesale trade',\n",
       " 'Estimate INDUSTRY Civilian employed population 16 years and over Retail trade',\n",
       " 'Estimate INDUSTRY Civilian employed population 16 years and over Transportation and warehousing, and utilities',\n",
       " 'Estimate INDUSTRY Civilian employed population 16 years and over Information',\n",
       " 'Estimate INDUSTRY Civilian employed population 16 years and over Finance and insurance, and real estate and rental and leasing',\n",
       " 'Estimate INDUSTRY Civilian employed population 16 years and over Professional, scientific, and management, and administrative and waste management services',\n",
       " 'Estimate INDUSTRY Civilian employed population 16 years and over Educational services, and health care and social assistance',\n",
       " 'Estimate INDUSTRY Civilian employed population 16 years and over Arts, entertainment, and recreation, and accommodation and food services',\n",
       " 'Estimate INDUSTRY Civilian employed population 16 years and over Other services, except public administration',\n",
       " 'Estimate INDUSTRY Civilian employed population 16 years and over Public administration',\n",
       " 'Estimate CLASS OF WORKER Civilian employed population 16 years and over',\n",
       " 'Estimate CLASS OF WORKER Civilian employed population 16 years and over Private wage and salary workers',\n",
       " 'Estimate CLASS OF WORKER Civilian employed population 16 years and over Government workers',\n",
       " 'Estimate CLASS OF WORKER Civilian employed population 16 years and over Self-employed in own not incorporated business workers',\n",
       " 'Estimate CLASS OF WORKER Civilian employed population 16 years and over Unpaid family workers',\n",
       " 'Estimate INCOME AND BENEFITS (IN 2018 INFLATION-ADJUSTED DOLLARS) Total households',\n",
       " 'Estimate INCOME AND BENEFITS (IN 2018 INFLATION-ADJUSTED DOLLARS) Total households Less than $10,000',\n",
       " 'Estimate INCOME AND BENEFITS (IN 2018 INFLATION-ADJUSTED DOLLARS) Total households $10,000 to $14,999',\n",
       " 'Estimate INCOME AND BENEFITS (IN 2018 INFLATION-ADJUSTED DOLLARS) Total households $15,000 to $24,999',\n",
       " 'Estimate INCOME AND BENEFITS (IN 2018 INFLATION-ADJUSTED DOLLARS) Total households $25,000 to $34,999',\n",
       " 'Estimate INCOME AND BENEFITS (IN 2018 INFLATION-ADJUSTED DOLLARS) Total households $35,000 to $49,999',\n",
       " 'Estimate INCOME AND BENEFITS (IN 2018 INFLATION-ADJUSTED DOLLARS) Total households $50,000 to $74,999',\n",
       " 'Estimate INCOME AND BENEFITS (IN 2018 INFLATION-ADJUSTED DOLLARS) Total households $75,000 to $99,999',\n",
       " 'Estimate INCOME AND BENEFITS (IN 2018 INFLATION-ADJUSTED DOLLARS) Total households $100,000 to $149,999',\n",
       " 'Estimate INCOME AND BENEFITS (IN 2018 INFLATION-ADJUSTED DOLLARS) Total households $150,000 to $199,999',\n",
       " 'Estimate INCOME AND BENEFITS (IN 2018 INFLATION-ADJUSTED DOLLARS) Total households $200,000 or more',\n",
       " 'Estimate INCOME AND BENEFITS (IN 2018 INFLATION-ADJUSTED DOLLARS) Total households Median household income (dollars)',\n",
       " 'Estimate INCOME AND BENEFITS (IN 2018 INFLATION-ADJUSTED DOLLARS) Total households Mean household income (dollars)',\n",
       " 'Estimate INCOME AND BENEFITS (IN 2018 INFLATION-ADJUSTED DOLLARS) Total households With earnings',\n",
       " 'Estimate INCOME AND BENEFITS (IN 2018 INFLATION-ADJUSTED DOLLARS) Total households With earnings Mean earnings (dollars)',\n",
       " 'Estimate INCOME AND BENEFITS (IN 2018 INFLATION-ADJUSTED DOLLARS) Total households With Social Security',\n",
       " 'Estimate INCOME AND BENEFITS (IN 2018 INFLATION-ADJUSTED DOLLARS) Total households With Social Security Mean Social Security income (dollars)',\n",
       " 'Estimate INCOME AND BENEFITS (IN 2018 INFLATION-ADJUSTED DOLLARS) Total households With retirement income',\n",
       " 'Estimate INCOME AND BENEFITS (IN 2018 INFLATION-ADJUSTED DOLLARS) Total households With retirement income Mean retirement income (dollars)',\n",
       " 'Estimate INCOME AND BENEFITS (IN 2018 INFLATION-ADJUSTED DOLLARS) Total households With Supplemental Security Income',\n",
       " 'Estimate INCOME AND BENEFITS (IN 2018 INFLATION-ADJUSTED DOLLARS) Total households With Supplemental Security Income Mean Supplemental Security Income (dollars)',\n",
       " 'Estimate INCOME AND BENEFITS (IN 2018 INFLATION-ADJUSTED DOLLARS) Total households With cash public assistance income',\n",
       " 'Estimate INCOME AND BENEFITS (IN 2018 INFLATION-ADJUSTED DOLLARS) Total households With cash public assistance income Mean cash public assistance income (dollars)',\n",
       " 'Estimate INCOME AND BENEFITS (IN 2018 INFLATION-ADJUSTED DOLLARS) Total households With Food Stamp/SNAP benefits in the past 12 months',\n",
       " 'Estimate INCOME AND BENEFITS (IN 2018 INFLATION-ADJUSTED DOLLARS) Families',\n",
       " 'Estimate INCOME AND BENEFITS (IN 2018 INFLATION-ADJUSTED DOLLARS) Families Less than $10,000',\n",
       " 'Estimate INCOME AND BENEFITS (IN 2018 INFLATION-ADJUSTED DOLLARS) Families $10,000 to $14,999',\n",
       " 'Estimate INCOME AND BENEFITS (IN 2018 INFLATION-ADJUSTED DOLLARS) Families $15,000 to $24,999',\n",
       " 'Estimate INCOME AND BENEFITS (IN 2018 INFLATION-ADJUSTED DOLLARS) Families $25,000 to $34,999',\n",
       " 'Estimate INCOME AND BENEFITS (IN 2018 INFLATION-ADJUSTED DOLLARS) Families $35,000 to $49,999',\n",
       " 'Estimate INCOME AND BENEFITS (IN 2018 INFLATION-ADJUSTED DOLLARS) Families $50,000 to $74,999',\n",
       " 'Estimate INCOME AND BENEFITS (IN 2018 INFLATION-ADJUSTED DOLLARS) Families $75,000 to $99,999',\n",
       " 'Estimate INCOME AND BENEFITS (IN 2018 INFLATION-ADJUSTED DOLLARS) Families $100,000 to $149,999',\n",
       " 'Estimate INCOME AND BENEFITS (IN 2018 INFLATION-ADJUSTED DOLLARS) Families $150,000 to $199,999',\n",
       " 'Estimate INCOME AND BENEFITS (IN 2018 INFLATION-ADJUSTED DOLLARS) Families $200,000 or more',\n",
       " 'Estimate INCOME AND BENEFITS (IN 2018 INFLATION-ADJUSTED DOLLARS) Families Median family income (dollars)',\n",
       " 'Estimate INCOME AND BENEFITS (IN 2018 INFLATION-ADJUSTED DOLLARS) Families Mean family income (dollars)',\n",
       " 'Estimate INCOME AND BENEFITS (IN 2018 INFLATION-ADJUSTED DOLLARS) Per capita income (dollars)',\n",
       " 'Estimate INCOME AND BENEFITS (IN 2018 INFLATION-ADJUSTED DOLLARS) Nonfamily households',\n",
       " 'Estimate INCOME AND BENEFITS (IN 2018 INFLATION-ADJUSTED DOLLARS) Nonfamily households Median nonfamily income (dollars)',\n",
       " 'Estimate INCOME AND BENEFITS (IN 2018 INFLATION-ADJUSTED DOLLARS) Nonfamily households Mean nonfamily income (dollars)',\n",
       " 'Estimate INCOME AND BENEFITS (IN 2018 INFLATION-ADJUSTED DOLLARS) Median earnings for workers (dollars)',\n",
       " 'Estimate INCOME AND BENEFITS (IN 2018 INFLATION-ADJUSTED DOLLARS) Median earnings for male full-time, year-round workers (dollars)',\n",
       " 'Estimate INCOME AND BENEFITS (IN 2018 INFLATION-ADJUSTED DOLLARS) Median earnings for female full-time, year-round workers (dollars)',\n",
       " 'Estimate HEALTH INSURANCE COVERAGE Civilian noninstitutionalized population',\n",
       " 'Estimate HEALTH INSURANCE COVERAGE Civilian noninstitutionalized population With health insurance coverage',\n",
       " 'Estimate HEALTH INSURANCE COVERAGE Civilian noninstitutionalized population With health insurance coverage With private health insurance',\n",
       " 'Estimate HEALTH INSURANCE COVERAGE Civilian noninstitutionalized population With health insurance coverage With public coverage',\n",
       " 'Estimate HEALTH INSURANCE COVERAGE Civilian noninstitutionalized population No health insurance coverage',\n",
       " 'Estimate HEALTH INSURANCE COVERAGE Civilian noninstitutionalized population Civilian noninstitutionalized population under 19 years',\n",
       " 'Estimate HEALTH INSURANCE COVERAGE Civilian noninstitutionalized population Civilian noninstitutionalized population under 19 years No health insurance coverage',\n",
       " 'Estimate HEALTH INSURANCE COVERAGE Civilian noninstitutionalized population Civilian noninstitutionalized population 19 to 64 years',\n",
       " 'Estimate HEALTH INSURANCE COVERAGE Civilian noninstitutionalized population Civilian noninstitutionalized population 19 to 64 years In labor force',\n",
       " 'Estimate HEALTH INSURANCE COVERAGE Civilian noninstitutionalized population Civilian noninstitutionalized population 19 to 64 years In labor force Employed',\n",
       " 'Estimate HEALTH INSURANCE COVERAGE Civilian noninstitutionalized population Civilian noninstitutionalized population 19 to 64 years In labor force Employed With health insurance coverage',\n",
       " 'Estimate HEALTH INSURANCE COVERAGE Civilian noninstitutionalized population Civilian noninstitutionalized population 19 to 64 years In labor force Employed With health insurance coverage With private health insurance',\n",
       " 'Estimate HEALTH INSURANCE COVERAGE Civilian noninstitutionalized population Civilian noninstitutionalized population 19 to 64 years In labor force Employed With health insurance coverage With public coverage',\n",
       " 'Estimate HEALTH INSURANCE COVERAGE Civilian noninstitutionalized population Civilian noninstitutionalized population 19 to 64 years In labor force Employed No health insurance coverage',\n",
       " 'Estimate HEALTH INSURANCE COVERAGE Civilian noninstitutionalized population Civilian noninstitutionalized population 19 to 64 years In labor force Unemployed',\n",
       " 'Estimate HEALTH INSURANCE COVERAGE Civilian noninstitutionalized population Civilian noninstitutionalized population 19 to 64 years In labor force Unemployed With health insurance coverage',\n",
       " 'Estimate HEALTH INSURANCE COVERAGE Civilian noninstitutionalized population Civilian noninstitutionalized population 19 to 64 years In labor force Unemployed With health insurance coverage With private health insurance',\n",
       " 'Estimate HEALTH INSURANCE COVERAGE Civilian noninstitutionalized population Civilian noninstitutionalized population 19 to 64 years In labor force Unemployed With health insurance coverage With public coverage',\n",
       " 'Estimate HEALTH INSURANCE COVERAGE Civilian noninstitutionalized population Civilian noninstitutionalized population 19 to 64 years In labor force Unemployed No health insurance coverage',\n",
       " 'Estimate HEALTH INSURANCE COVERAGE Civilian noninstitutionalized population Civilian noninstitutionalized population 19 to 64 years Not in labor force',\n",
       " 'Estimate HEALTH INSURANCE COVERAGE Civilian noninstitutionalized population Civilian noninstitutionalized population 19 to 64 years Not in labor force With health insurance coverage',\n",
       " 'Estimate HEALTH INSURANCE COVERAGE Civilian noninstitutionalized population Civilian noninstitutionalized population 19 to 64 years Not in labor force With health insurance coverage With private health insurance',\n",
       " 'Estimate HEALTH INSURANCE COVERAGE Civilian noninstitutionalized population Civilian noninstitutionalized population 19 to 64 years Not in labor force With health insurance coverage With public coverage',\n",
       " 'Estimate HEALTH INSURANCE COVERAGE Civilian noninstitutionalized population Civilian noninstitutionalized population 19 to 64 years Not in labor force No health insurance coverage',\n",
       " 'Estimate PERCENTAGE OF FAMILIES AND PEOPLE WHOSE INCOME IN THE PAST 12 MONTHS IS BELOW THE POVERTY LEVEL All families',\n",
       " 'Estimate PERCENTAGE OF FAMILIES AND PEOPLE WHOSE INCOME IN THE PAST 12 MONTHS IS BELOW THE POVERTY LEVEL All families With related children of the householder under 18 years',\n",
       " 'Estimate PERCENTAGE OF FAMILIES AND PEOPLE WHOSE INCOME IN THE PAST 12 MONTHS IS BELOW THE POVERTY LEVEL All families With related children of the householder under 18 years With related children of the householder under 5 years only',\n",
       " 'Estimate PERCENTAGE OF FAMILIES AND PEOPLE WHOSE INCOME IN THE PAST 12 MONTHS IS BELOW THE POVERTY LEVEL Married couple families',\n",
       " 'Estimate PERCENTAGE OF FAMILIES AND PEOPLE WHOSE INCOME IN THE PAST 12 MONTHS IS BELOW THE POVERTY LEVEL Married couple families With related children of the householder under 18 years',\n",
       " 'Estimate PERCENTAGE OF FAMILIES AND PEOPLE WHOSE INCOME IN THE PAST 12 MONTHS IS BELOW THE POVERTY LEVEL Married couple families With related children of the householder under 18 years With related children of the householder under 5 years only',\n",
       " 'Estimate PERCENTAGE OF FAMILIES AND PEOPLE WHOSE INCOME IN THE PAST 12 MONTHS IS BELOW THE POVERTY LEVEL Families with female householder, no husband present',\n",
       " 'Estimate PERCENTAGE OF FAMILIES AND PEOPLE WHOSE INCOME IN THE PAST 12 MONTHS IS BELOW THE POVERTY LEVEL Families with female householder, no husband present With related children of the householder under 18 years',\n",
       " 'Estimate PERCENTAGE OF FAMILIES AND PEOPLE WHOSE INCOME IN THE PAST 12 MONTHS IS BELOW THE POVERTY LEVEL Families with female householder, no husband present With related children of the householder under 18 years With related children of the householder under 5 years only',\n",
       " 'Estimate PERCENTAGE OF FAMILIES AND PEOPLE WHOSE INCOME IN THE PAST 12 MONTHS IS BELOW THE POVERTY LEVEL All people',\n",
       " 'Estimate PERCENTAGE OF FAMILIES AND PEOPLE WHOSE INCOME IN THE PAST 12 MONTHS IS BELOW THE POVERTY LEVEL All people Under 18 years',\n",
       " 'Estimate PERCENTAGE OF FAMILIES AND PEOPLE WHOSE INCOME IN THE PAST 12 MONTHS IS BELOW THE POVERTY LEVEL All people Under 18 years Related children of the householder under 18 years',\n",
       " 'Estimate PERCENTAGE OF FAMILIES AND PEOPLE WHOSE INCOME IN THE PAST 12 MONTHS IS BELOW THE POVERTY LEVEL All people Under 18 years Related children of the householder under 18 years Related children of the householder under 5 years',\n",
       " 'Estimate PERCENTAGE OF FAMILIES AND PEOPLE WHOSE INCOME IN THE PAST 12 MONTHS IS BELOW THE POVERTY LEVEL All people Under 18 years Related children of the householder under 18 years Related children of the householder 5 to 17 years',\n",
       " 'Estimate PERCENTAGE OF FAMILIES AND PEOPLE WHOSE INCOME IN THE PAST 12 MONTHS IS BELOW THE POVERTY LEVEL All people 18 years and over',\n",
       " 'Estimate PERCENTAGE OF FAMILIES AND PEOPLE WHOSE INCOME IN THE PAST 12 MONTHS IS BELOW THE POVERTY LEVEL All people 18 years and over 18 to 64 years',\n",
       " 'Estimate PERCENTAGE OF FAMILIES AND PEOPLE WHOSE INCOME IN THE PAST 12 MONTHS IS BELOW THE POVERTY LEVEL All people 18 years and over 65 years and over',\n",
       " 'Estimate PERCENTAGE OF FAMILIES AND PEOPLE WHOSE INCOME IN THE PAST 12 MONTHS IS BELOW THE POVERTY LEVEL People in families',\n",
       " 'Estimate PERCENTAGE OF FAMILIES AND PEOPLE WHOSE INCOME IN THE PAST 12 MONTHS IS BELOW THE POVERTY LEVEL Unrelated individuals 15 years and over',\n",
       " 'Geographic Area Name',\n",
       " 'state',\n",
       " 'county',\n",
       " 'tract']"
      ]
     },
     "execution_count": 7,
     "metadata": {},
     "output_type": "execute_result"
    }
   ],
   "source": [
    "# census.columns.tolist()"
   ]
  },
  {
   "cell_type": "code",
   "execution_count": 40,
   "metadata": {},
   "outputs": [
    {
     "data": {
      "text/plain": [
       "(583, 143)"
      ]
     },
     "execution_count": 40,
     "metadata": {},
     "output_type": "execute_result"
    }
   ],
   "source": [
    "census.shape"
   ]
  },
  {
   "cell_type": "code",
   "execution_count": 17,
   "metadata": {},
   "outputs": [
    {
     "data": {
      "text/plain": [
       "1749"
      ]
     },
     "execution_count": 17,
     "metadata": {},
     "output_type": "execute_result"
    }
   ],
   "source": [
    "583*3      # if we have 583 tracts, and estimate 3 block groups per tract, that would calculate 1749 block groups.  Voting data implies ~1650 precincts."
   ]
  },
  {
   "cell_type": "code",
   "execution_count": null,
   "metadata": {},
   "outputs": [],
   "source": []
  },
  {
   "cell_type": "markdown",
   "metadata": {},
   "source": [
    "### Understand Vote results files and what demographics are included"
   ]
  },
  {
   "cell_type": "code",
   "execution_count": null,
   "metadata": {},
   "outputs": [],
   "source": []
  },
  {
   "cell_type": "code",
   "execution_count": 69,
   "metadata": {},
   "outputs": [],
   "source": [
    "pd.set_option('display.max_columns', 10)\n",
    "pd.set_option('display.max_rows', 10)"
   ]
  },
  {
   "cell_type": "code",
   "execution_count": 68,
   "metadata": {},
   "outputs": [
    {
     "data": {
      "text/plain": [
       "(1736, 75)"
      ]
     },
     "execution_count": 68,
     "metadata": {},
     "output_type": "execute_result"
    }
   ],
   "source": [
    "vote = pd.read_csv('./OC-c059_g14_sov_data_by_g14_srprec.csv')\n",
    "vote.shape\n",
    "# 75 variables, 1700 rows"
   ]
  },
  {
   "cell_type": "code",
   "execution_count": 70,
   "metadata": {},
   "outputs": [
    {
     "data": {
      "text/html": [
       "<div>\n",
       "<style scoped>\n",
       "    .dataframe tbody tr th:only-of-type {\n",
       "        vertical-align: middle;\n",
       "    }\n",
       "\n",
       "    .dataframe tbody tr th {\n",
       "        vertical-align: top;\n",
       "    }\n",
       "\n",
       "    .dataframe thead th {\n",
       "        text-align: right;\n",
       "    }\n",
       "</style>\n",
       "<table border=\"1\" class=\"dataframe\">\n",
       "  <thead>\n",
       "    <tr style=\"text-align: right;\">\n",
       "      <th></th>\n",
       "      <th>county</th>\n",
       "      <th>srprec</th>\n",
       "      <th>addist</th>\n",
       "      <th>cddist</th>\n",
       "      <th>sddist</th>\n",
       "      <th>...</th>\n",
       "      <th>SOSREP01</th>\n",
       "      <th>SPINOP01</th>\n",
       "      <th>SPINOP02</th>\n",
       "      <th>TRSDEM01</th>\n",
       "      <th>TRSREP01</th>\n",
       "    </tr>\n",
       "  </thead>\n",
       "  <tbody>\n",
       "    <tr>\n",
       "      <th>0</th>\n",
       "      <td>30</td>\n",
       "      <td>10316</td>\n",
       "      <td>65</td>\n",
       "      <td>47</td>\n",
       "      <td>29</td>\n",
       "      <td>...</td>\n",
       "      <td>260</td>\n",
       "      <td>180</td>\n",
       "      <td>202</td>\n",
       "      <td>194</td>\n",
       "      <td>230</td>\n",
       "    </tr>\n",
       "    <tr>\n",
       "      <th>1</th>\n",
       "      <td>30</td>\n",
       "      <td>10317</td>\n",
       "      <td>65</td>\n",
       "      <td>47</td>\n",
       "      <td>29</td>\n",
       "      <td>...</td>\n",
       "      <td>136</td>\n",
       "      <td>103</td>\n",
       "      <td>117</td>\n",
       "      <td>135</td>\n",
       "      <td>124</td>\n",
       "    </tr>\n",
       "    <tr>\n",
       "      <th>2</th>\n",
       "      <td>30</td>\n",
       "      <td>10319</td>\n",
       "      <td>65</td>\n",
       "      <td>47</td>\n",
       "      <td>29</td>\n",
       "      <td>...</td>\n",
       "      <td>180</td>\n",
       "      <td>99</td>\n",
       "      <td>135</td>\n",
       "      <td>128</td>\n",
       "      <td>153</td>\n",
       "    </tr>\n",
       "    <tr>\n",
       "      <th>3</th>\n",
       "      <td>30</td>\n",
       "      <td>10320</td>\n",
       "      <td>65</td>\n",
       "      <td>47</td>\n",
       "      <td>29</td>\n",
       "      <td>...</td>\n",
       "      <td>311</td>\n",
       "      <td>197</td>\n",
       "      <td>222</td>\n",
       "      <td>231</td>\n",
       "      <td>266</td>\n",
       "    </tr>\n",
       "    <tr>\n",
       "      <th>4</th>\n",
       "      <td>30</td>\n",
       "      <td>10322</td>\n",
       "      <td>65</td>\n",
       "      <td>47</td>\n",
       "      <td>29</td>\n",
       "      <td>...</td>\n",
       "      <td>216</td>\n",
       "      <td>169</td>\n",
       "      <td>173</td>\n",
       "      <td>181</td>\n",
       "      <td>192</td>\n",
       "    </tr>\n",
       "  </tbody>\n",
       "</table>\n",
       "<p>5 rows × 75 columns</p>\n",
       "</div>"
      ],
      "text/plain": [
       "   county srprec  addist  cddist  sddist  ...  SOSREP01  SPINOP01  SPINOP02  \\\n",
       "0      30  10316      65      47      29  ...       260       180       202   \n",
       "1      30  10317      65      47      29  ...       136       103       117   \n",
       "2      30  10319      65      47      29  ...       180        99       135   \n",
       "3      30  10320      65      47      29  ...       311       197       222   \n",
       "4      30  10322      65      47      29  ...       216       169       173   \n",
       "\n",
       "   TRSDEM01  TRSREP01  \n",
       "0       194       230  \n",
       "1       135       124  \n",
       "2       128       153  \n",
       "3       231       266  \n",
       "4       181       192  \n",
       "\n",
       "[5 rows x 75 columns]"
      ]
     },
     "execution_count": 70,
     "metadata": {},
     "output_type": "execute_result"
    }
   ],
   "source": [
    "vote.head()"
   ]
  },
  {
   "cell_type": "code",
   "execution_count": 72,
   "metadata": {},
   "outputs": [
    {
     "data": {
      "text/plain": [
       "county      0\n",
       "srprec      0\n",
       "addist      0\n",
       "cddist      0\n",
       "sddist      0\n",
       "           ..\n",
       "SOSREP01    0\n",
       "SPINOP01    0\n",
       "SPINOP02    0\n",
       "TRSDEM01    0\n",
       "TRSREP01    0\n",
       "Length: 75, dtype: int64"
      ]
     },
     "execution_count": 72,
     "metadata": {},
     "output_type": "execute_result"
    }
   ],
   "source": [
    "vote.isna().sum()\n",
    "#good news - no nulls"
   ]
  },
  {
   "cell_type": "code",
   "execution_count": 101,
   "metadata": {},
   "outputs": [
    {
     "name": "stdout",
     "output_type": "stream",
     "text": [
      "<class 'pandas.core.frame.DataFrame'>\n",
      "RangeIndex: 1736 entries, 0 to 1735\n",
      "Data columns (total 75 columns):\n",
      " #   Column    Non-Null Count  Dtype \n",
      "---  ------    --------------  ----- \n",
      " 0   county    1736 non-null   int64 \n",
      " 1   srprec    1736 non-null   object\n",
      " 2   addist    1736 non-null   int64 \n",
      " 3   cddist    1736 non-null   int64 \n",
      " 4   sddist    1736 non-null   int64 \n",
      " 5   bedist    1736 non-null   int64 \n",
      " 6   TOTREG    1736 non-null   int64 \n",
      " 7   DEMREG    1736 non-null   int64 \n",
      " 8   REPREG    1736 non-null   int64 \n",
      " 9   AIPREG    1736 non-null   int64 \n",
      " 10  GRNREG    1736 non-null   int64 \n",
      " 11  LIBREG    1736 non-null   int64 \n",
      " 12  NLPREG    1736 non-null   int64 \n",
      " 13  REFREG    1736 non-null   int64 \n",
      " 14  DCLREG    1736 non-null   int64 \n",
      " 15  MSCREG    1736 non-null   int64 \n",
      " 16  TOTVOTE   1736 non-null   int64 \n",
      " 17  DEMVOTE   1736 non-null   int64 \n",
      " 18  REPVOTE   1736 non-null   int64 \n",
      " 19  AIPVOTE   1736 non-null   int64 \n",
      " 20  GRNVOTE   1736 non-null   int64 \n",
      " 21  LIBVOTE   1736 non-null   int64 \n",
      " 22  NLPVOTE   1736 non-null   int64 \n",
      " 23  REFVOTE   1736 non-null   int64 \n",
      " 24  DCLVOTE   1736 non-null   int64 \n",
      " 25  MSCVOTE   1736 non-null   int64 \n",
      " 26  PRCVOTE   1736 non-null   int64 \n",
      " 27  ABSVOTE   1736 non-null   int64 \n",
      " 28  ASSAIP01  1736 non-null   int64 \n",
      " 29  ASSDEM01  1736 non-null   int64 \n",
      " 30  ASSDEM02  1736 non-null   int64 \n",
      " 31  ASSIND01  1736 non-null   int64 \n",
      " 32  ASSLIB01  1736 non-null   int64 \n",
      " 33  ASSREP01  1736 non-null   int64 \n",
      " 34  ASSREP02  1736 non-null   int64 \n",
      " 35  ATGDEM01  1736 non-null   int64 \n",
      " 36  ATGREP01  1736 non-null   int64 \n",
      " 37  BOEDEM01  1736 non-null   int64 \n",
      " 38  BOEREP01  1736 non-null   int64 \n",
      " 39  CNGDEM01  1736 non-null   int64 \n",
      " 40  CNGDEM02  1736 non-null   int64 \n",
      " 41  CNGIND01  1736 non-null   int64 \n",
      " 42  CNGPAF01  1736 non-null   int64 \n",
      " 43  CNGREP01  1736 non-null   int64 \n",
      " 44  CNGREP02  1736 non-null   int64 \n",
      " 45  CONDEM01  1736 non-null   int64 \n",
      " 46  CONREP01  1736 non-null   int64 \n",
      " 47  GOVDEM01  1736 non-null   int64 \n",
      " 48  GOVREP01  1736 non-null   int64 \n",
      " 49  INSDEM01  1736 non-null   int64 \n",
      " 50  INSREP01  1736 non-null   int64 \n",
      " 51  LTGDEM01  1736 non-null   int64 \n",
      " 52  LTGREP01  1736 non-null   int64 \n",
      " 53  PR_1_N    1736 non-null   int64 \n",
      " 54  PR_1_Y    1736 non-null   int64 \n",
      " 55  PR_2_N    1736 non-null   int64 \n",
      " 56  PR_2_Y    1736 non-null   int64 \n",
      " 57  PR_45_N   1736 non-null   int64 \n",
      " 58  PR_45_Y   1736 non-null   int64 \n",
      " 59  PR_46_N   1736 non-null   int64 \n",
      " 60  PR_46_Y   1736 non-null   int64 \n",
      " 61  PR_47_N   1736 non-null   int64 \n",
      " 62  PR_47_Y   1736 non-null   int64 \n",
      " 63  PR_48_N   1736 non-null   int64 \n",
      " 64  PR_48_Y   1736 non-null   int64 \n",
      " 65  SENDEM01  1736 non-null   int64 \n",
      " 66  SENDEM02  1736 non-null   int64 \n",
      " 67  SENREP01  1736 non-null   int64 \n",
      " 68  SENREP02  1736 non-null   int64 \n",
      " 69  SOSDEM01  1736 non-null   int64 \n",
      " 70  SOSREP01  1736 non-null   int64 \n",
      " 71  SPINOP01  1736 non-null   int64 \n",
      " 72  SPINOP02  1736 non-null   int64 \n",
      " 73  TRSDEM01  1736 non-null   int64 \n",
      " 74  TRSREP01  1736 non-null   int64 \n",
      "dtypes: int64(74), object(1)\n",
      "memory usage: 1017.3+ KB\n"
     ]
    }
   ],
   "source": [
    "vote.info()\n",
    "# most columns are integers, except for SRPREC, which is a categorical label.  "
   ]
  },
  {
   "cell_type": "code",
   "execution_count": null,
   "metadata": {},
   "outputs": [],
   "source": []
  },
  {
   "cell_type": "code",
   "execution_count": 98,
   "metadata": {},
   "outputs": [
    {
     "data": {
      "text/plain": [
       "(1661, 140)"
      ]
     },
     "execution_count": 98,
     "metadata": {},
     "output_type": "execute_result"
    }
   ],
   "source": [
    "reg = pd.read_csv('./OC-c059_g14_voters_by_g14_srprec.csv')\n",
    "reg.shape\n",
    "# 140 variables, 1661 rows"
   ]
  },
  {
   "cell_type": "code",
   "execution_count": 121,
   "metadata": {},
   "outputs": [
    {
     "data": {
      "text/html": [
       "<div>\n",
       "<style scoped>\n",
       "    .dataframe tbody tr th:only-of-type {\n",
       "        vertical-align: middle;\n",
       "    }\n",
       "\n",
       "    .dataframe tbody tr th {\n",
       "        vertical-align: top;\n",
       "    }\n",
       "\n",
       "    .dataframe thead th {\n",
       "        text-align: right;\n",
       "    }\n",
       "</style>\n",
       "<table border=\"1\" class=\"dataframe\">\n",
       "  <thead>\n",
       "    <tr style=\"text-align: right;\">\n",
       "      <th></th>\n",
       "      <th>election</th>\n",
       "      <th>type</th>\n",
       "      <th>srprec</th>\n",
       "      <th>totreg_r</th>\n",
       "      <th>dem</th>\n",
       "      <th>...</th>\n",
       "      <th>oreg5g</th>\n",
       "      <th>oreg6g</th>\n",
       "      <th>oreg7g</th>\n",
       "      <th>oreg8g</th>\n",
       "      <th>oreg9g</th>\n",
       "    </tr>\n",
       "  </thead>\n",
       "  <tbody>\n",
       "    <tr>\n",
       "      <th>0</th>\n",
       "      <td>g14</td>\n",
       "      <td>V</td>\n",
       "      <td>10316</td>\n",
       "      <td>454</td>\n",
       "      <td>141</td>\n",
       "      <td>...</td>\n",
       "      <td>1</td>\n",
       "      <td>1</td>\n",
       "      <td>1</td>\n",
       "      <td>0</td>\n",
       "      <td>2</td>\n",
       "    </tr>\n",
       "    <tr>\n",
       "      <th>1</th>\n",
       "      <td>g14</td>\n",
       "      <td>V</td>\n",
       "      <td>10317</td>\n",
       "      <td>268</td>\n",
       "      <td>116</td>\n",
       "      <td>...</td>\n",
       "      <td>1</td>\n",
       "      <td>3</td>\n",
       "      <td>0</td>\n",
       "      <td>0</td>\n",
       "      <td>1</td>\n",
       "    </tr>\n",
       "    <tr>\n",
       "      <th>2</th>\n",
       "      <td>g14</td>\n",
       "      <td>V</td>\n",
       "      <td>10319</td>\n",
       "      <td>297</td>\n",
       "      <td>93</td>\n",
       "      <td>...</td>\n",
       "      <td>0</td>\n",
       "      <td>0</td>\n",
       "      <td>0</td>\n",
       "      <td>0</td>\n",
       "      <td>2</td>\n",
       "    </tr>\n",
       "    <tr>\n",
       "      <th>3</th>\n",
       "      <td>g14</td>\n",
       "      <td>V</td>\n",
       "      <td>10320</td>\n",
       "      <td>502</td>\n",
       "      <td>141</td>\n",
       "      <td>...</td>\n",
       "      <td>0</td>\n",
       "      <td>2</td>\n",
       "      <td>0</td>\n",
       "      <td>0</td>\n",
       "      <td>4</td>\n",
       "    </tr>\n",
       "    <tr>\n",
       "      <th>4</th>\n",
       "      <td>g14</td>\n",
       "      <td>V</td>\n",
       "      <td>10322</td>\n",
       "      <td>384</td>\n",
       "      <td>140</td>\n",
       "      <td>...</td>\n",
       "      <td>1</td>\n",
       "      <td>1</td>\n",
       "      <td>1</td>\n",
       "      <td>0</td>\n",
       "      <td>1</td>\n",
       "    </tr>\n",
       "  </tbody>\n",
       "</table>\n",
       "<p>5 rows × 140 columns</p>\n",
       "</div>"
      ],
      "text/plain": [
       "  election type  srprec  totreg_r  dem  ...  oreg5g  oreg6g  oreg7g  oreg8g  \\\n",
       "0      g14    V   10316       454  141  ...       1       1       1       0   \n",
       "1      g14    V   10317       268  116  ...       1       3       0       0   \n",
       "2      g14    V   10319       297   93  ...       0       0       0       0   \n",
       "3      g14    V   10320       502  141  ...       0       2       0       0   \n",
       "4      g14    V   10322       384  140  ...       1       1       1       0   \n",
       "\n",
       "   oreg9g  \n",
       "0       2  \n",
       "1       1  \n",
       "2       2  \n",
       "3       4  \n",
       "4       1  \n",
       "\n",
       "[5 rows x 140 columns]"
      ]
     },
     "execution_count": 121,
     "metadata": {},
     "output_type": "execute_result"
    }
   ],
   "source": [
    "reg.head()"
   ]
  },
  {
   "cell_type": "code",
   "execution_count": 109,
   "metadata": {},
   "outputs": [
    {
     "name": "stdout",
     "output_type": "stream",
     "text": [
      "<class 'pandas.core.frame.DataFrame'>\n",
      "RangeIndex: 1661 entries, 0 to 1660\n",
      "Columns: 140 entries, election to oreg9g\n",
      "dtypes: int64(138), object(2)\n",
      "memory usage: 1.8+ MB\n"
     ]
    }
   ],
   "source": [
    "reg.info()\n",
    "#why is it 1.8 MEGAbytes?  "
   ]
  },
  {
   "cell_type": "code",
   "execution_count": 104,
   "metadata": {},
   "outputs": [
    {
     "data": {
      "text/plain": [
       "dtype('int64')"
      ]
     },
     "execution_count": 104,
     "metadata": {},
     "output_type": "execute_result"
    }
   ],
   "source": [
    "(reg['srprec']).dtype"
   ]
  },
  {
   "cell_type": "code",
   "execution_count": 119,
   "metadata": {
    "collapsed": true,
    "jupyter": {
     "outputs_hidden": true
    }
   },
   "outputs": [
    {
     "name": "stdout",
     "output_type": "stream",
     "text": [
      "object\n",
      "object\n",
      "int64\n",
      "int64\n",
      "int64\n",
      "int64\n",
      "int64\n",
      "int64\n",
      "int64\n",
      "int64\n",
      "int64\n",
      "int64\n",
      "int64\n",
      "int64\n",
      "int64\n",
      "int64\n",
      "int64\n",
      "int64\n",
      "int64\n",
      "int64\n",
      "int64\n",
      "int64\n",
      "int64\n",
      "int64\n",
      "int64\n",
      "int64\n",
      "int64\n",
      "int64\n",
      "int64\n",
      "int64\n",
      "int64\n",
      "int64\n",
      "int64\n",
      "int64\n",
      "int64\n",
      "int64\n",
      "int64\n",
      "int64\n",
      "int64\n",
      "int64\n",
      "int64\n",
      "int64\n",
      "int64\n",
      "int64\n",
      "int64\n",
      "int64\n",
      "int64\n",
      "int64\n",
      "int64\n",
      "int64\n",
      "int64\n",
      "int64\n",
      "int64\n",
      "int64\n",
      "int64\n",
      "int64\n",
      "int64\n",
      "int64\n",
      "int64\n",
      "int64\n",
      "int64\n",
      "int64\n",
      "int64\n",
      "int64\n",
      "int64\n",
      "int64\n",
      "int64\n",
      "int64\n",
      "int64\n",
      "int64\n",
      "int64\n",
      "int64\n",
      "int64\n",
      "int64\n",
      "int64\n",
      "int64\n",
      "int64\n",
      "int64\n",
      "int64\n",
      "int64\n",
      "int64\n",
      "int64\n",
      "int64\n",
      "int64\n",
      "int64\n",
      "int64\n",
      "int64\n",
      "int64\n",
      "int64\n",
      "int64\n",
      "int64\n",
      "int64\n",
      "int64\n",
      "int64\n",
      "int64\n",
      "int64\n",
      "int64\n",
      "int64\n",
      "int64\n",
      "int64\n",
      "int64\n",
      "int64\n",
      "int64\n",
      "int64\n",
      "int64\n",
      "int64\n",
      "int64\n",
      "int64\n",
      "int64\n",
      "int64\n",
      "int64\n",
      "int64\n",
      "int64\n",
      "int64\n",
      "int64\n",
      "int64\n",
      "int64\n",
      "int64\n",
      "int64\n",
      "int64\n",
      "int64\n",
      "int64\n",
      "int64\n",
      "int64\n",
      "int64\n",
      "int64\n",
      "int64\n",
      "int64\n",
      "int64\n",
      "int64\n",
      "int64\n",
      "int64\n",
      "int64\n",
      "int64\n",
      "int64\n",
      "int64\n",
      "int64\n",
      "int64\n",
      "int64\n",
      "int64\n"
     ]
    },
    {
     "data": {
      "text/plain": [
       "[None,\n",
       " None,\n",
       " None,\n",
       " None,\n",
       " None,\n",
       " None,\n",
       " None,\n",
       " None,\n",
       " None,\n",
       " None,\n",
       " None,\n",
       " None,\n",
       " None,\n",
       " None,\n",
       " None,\n",
       " None,\n",
       " None,\n",
       " None,\n",
       " None,\n",
       " None,\n",
       " None,\n",
       " None,\n",
       " None,\n",
       " None,\n",
       " None,\n",
       " None,\n",
       " None,\n",
       " None,\n",
       " None,\n",
       " None,\n",
       " None,\n",
       " None,\n",
       " None,\n",
       " None,\n",
       " None,\n",
       " None,\n",
       " None,\n",
       " None,\n",
       " None,\n",
       " None,\n",
       " None,\n",
       " None,\n",
       " None,\n",
       " None,\n",
       " None,\n",
       " None,\n",
       " None,\n",
       " None,\n",
       " None,\n",
       " None,\n",
       " None,\n",
       " None,\n",
       " None,\n",
       " None,\n",
       " None,\n",
       " None,\n",
       " None,\n",
       " None,\n",
       " None,\n",
       " None,\n",
       " None,\n",
       " None,\n",
       " None,\n",
       " None,\n",
       " None,\n",
       " None,\n",
       " None,\n",
       " None,\n",
       " None,\n",
       " None,\n",
       " None,\n",
       " None,\n",
       " None,\n",
       " None,\n",
       " None,\n",
       " None,\n",
       " None,\n",
       " None,\n",
       " None,\n",
       " None,\n",
       " None,\n",
       " None,\n",
       " None,\n",
       " None,\n",
       " None,\n",
       " None,\n",
       " None,\n",
       " None,\n",
       " None,\n",
       " None,\n",
       " None,\n",
       " None,\n",
       " None,\n",
       " None,\n",
       " None,\n",
       " None,\n",
       " None,\n",
       " None,\n",
       " None,\n",
       " None,\n",
       " None,\n",
       " None,\n",
       " None,\n",
       " None,\n",
       " None,\n",
       " None,\n",
       " None,\n",
       " None,\n",
       " None,\n",
       " None,\n",
       " None,\n",
       " None,\n",
       " None,\n",
       " None,\n",
       " None,\n",
       " None,\n",
       " None,\n",
       " None,\n",
       " None,\n",
       " None,\n",
       " None,\n",
       " None,\n",
       " None,\n",
       " None,\n",
       " None,\n",
       " None,\n",
       " None,\n",
       " None,\n",
       " None,\n",
       " None,\n",
       " None,\n",
       " None,\n",
       " None,\n",
       " None,\n",
       " None,\n",
       " None,\n",
       " None,\n",
       " None,\n",
       " None,\n",
       " None]"
      ]
     },
     "execution_count": 119,
     "metadata": {},
     "output_type": "execute_result"
    }
   ],
   "source": [
    "reg_cols = reg.columns.tolist()\n",
    "[print((reg[col]).dtype) for col in reg_cols]\n",
    "#first two columns are objects:  ['election'] and ['type'] ... they are categories"
   ]
  },
  {
   "cell_type": "code",
   "execution_count": 120,
   "metadata": {},
   "outputs": [
    {
     "name": "stdout",
     "output_type": "stream",
     "text": [
      "<class 'pandas.core.frame.DataFrame'>\n",
      "RangeIndex: 1661 entries, 0 to 1660\n",
      "Columns: 140 entries, election to oreg9g\n",
      "dtypes: int64(138), object(2)\n",
      "memory usage: 1.8+ MB\n"
     ]
    }
   ],
   "source": [
    "reg.info()"
   ]
  },
  {
   "cell_type": "code",
   "execution_count": 126,
   "metadata": {},
   "outputs": [
    {
     "data": {
      "text/plain": [
       "election    0\n",
       "othf5564    0\n",
       "othf4554    0\n",
       "othf3544    0\n",
       "othf2534    0\n",
       "           ..\n",
       "filoth      0\n",
       "demmunk     0\n",
       "demm1824    0\n",
       "vietoth     0\n",
       "oreg9g      0\n",
       "Length: 140, dtype: int64"
      ]
     },
     "execution_count": 126,
     "metadata": {},
     "output_type": "execute_result"
    }
   ],
   "source": [
    "reg.isna().sum().sort_values()\n",
    "#confirmed no nulls"
   ]
  },
  {
   "cell_type": "code",
   "execution_count": 95,
   "metadata": {},
   "outputs": [
    {
     "data": {
      "text/plain": [
       "0         10316\n",
       "1         10317\n",
       "2         10319\n",
       "3         10320\n",
       "4         10322\n",
       "         ...   \n",
       "1731      75112\n",
       "1732      75114\n",
       "1733      75115\n",
       "1734      75601\n",
       "1735    CNTYTOT\n",
       "Name: srprec, Length: 1736, dtype: object"
      ]
     },
     "execution_count": 95,
     "metadata": {},
     "output_type": "execute_result"
    }
   ],
   "source": [
    "#why are SOV and SOR different lengths/have different # of columns?  \n",
    "\n",
    "vote['srprec'].sort_values()"
   ]
  },
  {
   "cell_type": "code",
   "execution_count": 80,
   "metadata": {},
   "outputs": [
    {
     "data": {
      "text/plain": [
       "247      2001\n",
       "248      2002\n",
       "249      2003\n",
       "250      2007\n",
       "251      2008\n",
       "        ...  \n",
       "1656    75111\n",
       "1657    75112\n",
       "1658    75114\n",
       "1659    75115\n",
       "1660    75601\n",
       "Name: srprec, Length: 1661, dtype: int64"
      ]
     },
     "execution_count": 80,
     "metadata": {},
     "output_type": "execute_result"
    }
   ],
   "source": [
    "reg['srprec'].sort_values()"
   ]
  },
  {
   "cell_type": "code",
   "execution_count": 92,
   "metadata": {},
   "outputs": [
    {
     "data": {
      "text/html": [
       "<div>\n",
       "<style scoped>\n",
       "    .dataframe tbody tr th:only-of-type {\n",
       "        vertical-align: middle;\n",
       "    }\n",
       "\n",
       "    .dataframe tbody tr th {\n",
       "        vertical-align: top;\n",
       "    }\n",
       "\n",
       "    .dataframe thead th {\n",
       "        text-align: right;\n",
       "    }\n",
       "</style>\n",
       "<table border=\"1\" class=\"dataframe\">\n",
       "  <thead>\n",
       "    <tr style=\"text-align: right;\">\n",
       "      <th></th>\n",
       "      <th>election</th>\n",
       "      <th>type</th>\n",
       "      <th>srprec</th>\n",
       "      <th>totreg_r</th>\n",
       "      <th>dem</th>\n",
       "      <th>...</th>\n",
       "      <th>oreg5g</th>\n",
       "      <th>oreg6g</th>\n",
       "      <th>oreg7g</th>\n",
       "      <th>oreg8g</th>\n",
       "      <th>oreg9g</th>\n",
       "    </tr>\n",
       "  </thead>\n",
       "  <tbody>\n",
       "    <tr>\n",
       "      <th>0</th>\n",
       "      <td>g14</td>\n",
       "      <td>V</td>\n",
       "      <td>10316</td>\n",
       "      <td>454</td>\n",
       "      <td>141</td>\n",
       "      <td>...</td>\n",
       "      <td>1</td>\n",
       "      <td>1</td>\n",
       "      <td>1</td>\n",
       "      <td>0</td>\n",
       "      <td>2</td>\n",
       "    </tr>\n",
       "  </tbody>\n",
       "</table>\n",
       "<p>1 rows × 140 columns</p>\n",
       "</div>"
      ],
      "text/plain": [
       "  election type  srprec  totreg_r  dem  ...  oreg5g  oreg6g  oreg7g  oreg8g  \\\n",
       "0      g14    V   10316       454  141  ...       1       1       1       0   \n",
       "\n",
       "   oreg9g  \n",
       "0       2  \n",
       "\n",
       "[1 rows x 140 columns]"
      ]
     },
     "execution_count": 92,
     "metadata": {},
     "output_type": "execute_result"
    }
   ],
   "source": [
    "reg.loc[reg['srprec'] == 10316]"
   ]
  },
  {
   "cell_type": "code",
   "execution_count": 96,
   "metadata": {},
   "outputs": [
    {
     "data": {
      "text/html": [
       "<div>\n",
       "<style scoped>\n",
       "    .dataframe tbody tr th:only-of-type {\n",
       "        vertical-align: middle;\n",
       "    }\n",
       "\n",
       "    .dataframe tbody tr th {\n",
       "        vertical-align: top;\n",
       "    }\n",
       "\n",
       "    .dataframe thead th {\n",
       "        text-align: right;\n",
       "    }\n",
       "</style>\n",
       "<table border=\"1\" class=\"dataframe\">\n",
       "  <thead>\n",
       "    <tr style=\"text-align: right;\">\n",
       "      <th></th>\n",
       "      <th>election</th>\n",
       "      <th>type</th>\n",
       "      <th>srprec</th>\n",
       "      <th>totreg_r</th>\n",
       "      <th>dem</th>\n",
       "      <th>...</th>\n",
       "      <th>oreg5g</th>\n",
       "      <th>oreg6g</th>\n",
       "      <th>oreg7g</th>\n",
       "      <th>oreg8g</th>\n",
       "      <th>oreg9g</th>\n",
       "    </tr>\n",
       "  </thead>\n",
       "  <tbody>\n",
       "    <tr>\n",
       "      <th>0</th>\n",
       "      <td>g14</td>\n",
       "      <td>V</td>\n",
       "      <td>10316</td>\n",
       "      <td>454</td>\n",
       "      <td>141</td>\n",
       "      <td>...</td>\n",
       "      <td>1</td>\n",
       "      <td>1</td>\n",
       "      <td>1</td>\n",
       "      <td>0</td>\n",
       "      <td>2</td>\n",
       "    </tr>\n",
       "  </tbody>\n",
       "</table>\n",
       "<p>1 rows × 140 columns</p>\n",
       "</div>"
      ],
      "text/plain": [
       "  election type  srprec  totreg_r  dem  ...  oreg5g  oreg6g  oreg7g  oreg8g  \\\n",
       "0      g14    V   10316       454  141  ...       1       1       1       0   \n",
       "\n",
       "   oreg9g  \n",
       "0       2  \n",
       "\n",
       "[1 rows x 140 columns]"
      ]
     },
     "execution_count": 96,
     "metadata": {},
     "output_type": "execute_result"
    }
   ],
   "source": [
    "reg.loc[vote['srprec'] == '10316']"
   ]
  },
  {
   "cell_type": "code",
   "execution_count": 128,
   "metadata": {},
   "outputs": [
    {
     "data": {
      "text/plain": [
       "75"
      ]
     },
     "execution_count": 128,
     "metadata": {},
     "output_type": "execute_result"
    }
   ],
   "source": [
    "len(vote) - len(reg)\n",
    "# vote df has 75 more columns than reg.  "
   ]
  },
  {
   "cell_type": "code",
   "execution_count": 142,
   "metadata": {},
   "outputs": [],
   "source": [
    "srprec = pd.DataFrame(vote['srprec'])"
   ]
  },
  {
   "cell_type": "code",
   "execution_count": 143,
   "metadata": {},
   "outputs": [
    {
     "data": {
      "text/html": [
       "<div>\n",
       "<style scoped>\n",
       "    .dataframe tbody tr th:only-of-type {\n",
       "        vertical-align: middle;\n",
       "    }\n",
       "\n",
       "    .dataframe tbody tr th {\n",
       "        vertical-align: top;\n",
       "    }\n",
       "\n",
       "    .dataframe thead th {\n",
       "        text-align: right;\n",
       "    }\n",
       "</style>\n",
       "<table border=\"1\" class=\"dataframe\">\n",
       "  <thead>\n",
       "    <tr style=\"text-align: right;\">\n",
       "      <th></th>\n",
       "      <th>vote_srprec</th>\n",
       "    </tr>\n",
       "  </thead>\n",
       "  <tbody>\n",
       "    <tr>\n",
       "      <th>0</th>\n",
       "      <td>10316</td>\n",
       "    </tr>\n",
       "    <tr>\n",
       "      <th>1</th>\n",
       "      <td>10317</td>\n",
       "    </tr>\n",
       "    <tr>\n",
       "      <th>2</th>\n",
       "      <td>10319</td>\n",
       "    </tr>\n",
       "    <tr>\n",
       "      <th>3</th>\n",
       "      <td>10320</td>\n",
       "    </tr>\n",
       "    <tr>\n",
       "      <th>4</th>\n",
       "      <td>10322</td>\n",
       "    </tr>\n",
       "    <tr>\n",
       "      <th>...</th>\n",
       "      <td>...</td>\n",
       "    </tr>\n",
       "    <tr>\n",
       "      <th>1731</th>\n",
       "      <td>75112</td>\n",
       "    </tr>\n",
       "    <tr>\n",
       "      <th>1732</th>\n",
       "      <td>75114</td>\n",
       "    </tr>\n",
       "    <tr>\n",
       "      <th>1733</th>\n",
       "      <td>75115</td>\n",
       "    </tr>\n",
       "    <tr>\n",
       "      <th>1734</th>\n",
       "      <td>75601</td>\n",
       "    </tr>\n",
       "    <tr>\n",
       "      <th>1735</th>\n",
       "      <td>CNTYTOT</td>\n",
       "    </tr>\n",
       "  </tbody>\n",
       "</table>\n",
       "<p>1736 rows × 1 columns</p>\n",
       "</div>"
      ],
      "text/plain": [
       "     vote_srprec\n",
       "0          10316\n",
       "1          10317\n",
       "2          10319\n",
       "3          10320\n",
       "4          10322\n",
       "...          ...\n",
       "1731       75112\n",
       "1732       75114\n",
       "1733       75115\n",
       "1734       75601\n",
       "1735     CNTYTOT\n",
       "\n",
       "[1736 rows x 1 columns]"
      ]
     },
     "execution_count": 143,
     "metadata": {},
     "output_type": "execute_result"
    }
   ],
   "source": [
    "srprec.rename(columns={'srprec': 'vote_srprec'})"
   ]
  },
  {
   "cell_type": "code",
   "execution_count": 144,
   "metadata": {},
   "outputs": [
    {
     "data": {
      "text/html": [
       "<div>\n",
       "<style scoped>\n",
       "    .dataframe tbody tr th:only-of-type {\n",
       "        vertical-align: middle;\n",
       "    }\n",
       "\n",
       "    .dataframe tbody tr th {\n",
       "        vertical-align: top;\n",
       "    }\n",
       "\n",
       "    .dataframe thead th {\n",
       "        text-align: right;\n",
       "    }\n",
       "</style>\n",
       "<table border=\"1\" class=\"dataframe\">\n",
       "  <thead>\n",
       "    <tr style=\"text-align: right;\">\n",
       "      <th></th>\n",
       "      <th>srprec</th>\n",
       "      <th>reg_srprec</th>\n",
       "    </tr>\n",
       "  </thead>\n",
       "  <tbody>\n",
       "    <tr>\n",
       "      <th>1731</th>\n",
       "      <td>75112</td>\n",
       "      <td>NaN</td>\n",
       "    </tr>\n",
       "    <tr>\n",
       "      <th>1732</th>\n",
       "      <td>75114</td>\n",
       "      <td>NaN</td>\n",
       "    </tr>\n",
       "    <tr>\n",
       "      <th>1733</th>\n",
       "      <td>75115</td>\n",
       "      <td>NaN</td>\n",
       "    </tr>\n",
       "    <tr>\n",
       "      <th>1734</th>\n",
       "      <td>75601</td>\n",
       "      <td>NaN</td>\n",
       "    </tr>\n",
       "    <tr>\n",
       "      <th>1735</th>\n",
       "      <td>CNTYTOT</td>\n",
       "      <td>NaN</td>\n",
       "    </tr>\n",
       "  </tbody>\n",
       "</table>\n",
       "</div>"
      ],
      "text/plain": [
       "       srprec  reg_srprec\n",
       "1731    75112         NaN\n",
       "1732    75114         NaN\n",
       "1733    75115         NaN\n",
       "1734    75601         NaN\n",
       "1735  CNTYTOT         NaN"
      ]
     },
     "execution_count": 144,
     "metadata": {},
     "output_type": "execute_result"
    }
   ],
   "source": [
    "srprec['reg_srprec'] = reg['srprec']\n",
    "srprec.tail()"
   ]
  },
  {
   "cell_type": "code",
   "execution_count": 148,
   "metadata": {},
   "outputs": [
    {
     "data": {
      "text/html": [
       "<div>\n",
       "<style scoped>\n",
       "    .dataframe tbody tr th:only-of-type {\n",
       "        vertical-align: middle;\n",
       "    }\n",
       "\n",
       "    .dataframe tbody tr th {\n",
       "        vertical-align: top;\n",
       "    }\n",
       "\n",
       "    .dataframe thead th {\n",
       "        text-align: right;\n",
       "    }\n",
       "</style>\n",
       "<table border=\"1\" class=\"dataframe\">\n",
       "  <thead>\n",
       "    <tr style=\"text-align: right;\">\n",
       "      <th></th>\n",
       "      <th>srprec</th>\n",
       "      <th>reg_srprec</th>\n",
       "    </tr>\n",
       "  </thead>\n",
       "  <tbody>\n",
       "    <tr>\n",
       "      <th>1661</th>\n",
       "      <td>71362</td>\n",
       "      <td>NaN</td>\n",
       "    </tr>\n",
       "    <tr>\n",
       "      <th>1662</th>\n",
       "      <td>71368</td>\n",
       "      <td>NaN</td>\n",
       "    </tr>\n",
       "    <tr>\n",
       "      <th>1663</th>\n",
       "      <td>71378</td>\n",
       "      <td>NaN</td>\n",
       "    </tr>\n",
       "    <tr>\n",
       "      <th>1664</th>\n",
       "      <td>7138</td>\n",
       "      <td>NaN</td>\n",
       "    </tr>\n",
       "    <tr>\n",
       "      <th>1665</th>\n",
       "      <td>7139</td>\n",
       "      <td>NaN</td>\n",
       "    </tr>\n",
       "    <tr>\n",
       "      <th>...</th>\n",
       "      <td>...</td>\n",
       "      <td>...</td>\n",
       "    </tr>\n",
       "    <tr>\n",
       "      <th>1731</th>\n",
       "      <td>75112</td>\n",
       "      <td>NaN</td>\n",
       "    </tr>\n",
       "    <tr>\n",
       "      <th>1732</th>\n",
       "      <td>75114</td>\n",
       "      <td>NaN</td>\n",
       "    </tr>\n",
       "    <tr>\n",
       "      <th>1733</th>\n",
       "      <td>75115</td>\n",
       "      <td>NaN</td>\n",
       "    </tr>\n",
       "    <tr>\n",
       "      <th>1734</th>\n",
       "      <td>75601</td>\n",
       "      <td>NaN</td>\n",
       "    </tr>\n",
       "    <tr>\n",
       "      <th>1735</th>\n",
       "      <td>CNTYTOT</td>\n",
       "      <td>NaN</td>\n",
       "    </tr>\n",
       "  </tbody>\n",
       "</table>\n",
       "<p>75 rows × 2 columns</p>\n",
       "</div>"
      ],
      "text/plain": [
       "       srprec  reg_srprec\n",
       "1661    71362         NaN\n",
       "1662    71368         NaN\n",
       "1663    71378         NaN\n",
       "1664     7138         NaN\n",
       "1665     7139         NaN\n",
       "...       ...         ...\n",
       "1731    75112         NaN\n",
       "1732    75114         NaN\n",
       "1733    75115         NaN\n",
       "1734    75601         NaN\n",
       "1735  CNTYTOT         NaN\n",
       "\n",
       "[75 rows x 2 columns]"
      ]
     },
     "execution_count": 148,
     "metadata": {},
     "output_type": "execute_result"
    }
   ],
   "source": [
    "srprec.loc[srprec['reg_srprec'].isna() == True]"
   ]
  },
  {
   "cell_type": "code",
   "execution_count": 164,
   "metadata": {},
   "outputs": [],
   "source": [
    "# df.drop(df.index[df['line_race'] == 0], inplace = True)\n",
    "srprec.drop(srprec.index[srprec['srprec'] == 'CNTYTOT'], inplace=True)"
   ]
  },
  {
   "cell_type": "code",
   "execution_count": 165,
   "metadata": {},
   "outputs": [
    {
     "data": {
      "text/plain": [
       "srprec        71361\n",
       "reg_srprec    75601\n",
       "Name: 1660, dtype: object"
      ]
     },
     "execution_count": 165,
     "metadata": {},
     "output_type": "execute_result"
    }
   ],
   "source": [
    "srprec.iloc[1660]"
   ]
  },
  {
   "cell_type": "code",
   "execution_count": 171,
   "metadata": {},
   "outputs": [
    {
     "name": "stdout",
     "output_type": "stream",
     "text": [
      "<class 'pandas.core.frame.DataFrame'>\n",
      "Int64Index: 1735 entries, 0 to 1734\n",
      "Data columns (total 2 columns):\n",
      " #   Column      Non-Null Count  Dtype  \n",
      "---  ------      --------------  -----  \n",
      " 0   srprec      1735 non-null   float64\n",
      " 1   reg_srprec  1661 non-null   float64\n",
      "dtypes: float64(2)\n",
      "memory usage: 40.7 KB\n"
     ]
    }
   ],
   "source": [
    "srprec.info()"
   ]
  },
  {
   "cell_type": "code",
   "execution_count": 170,
   "metadata": {},
   "outputs": [],
   "source": [
    "srprec['srprec'] = srprec['srprec'].astype(float)"
   ]
  },
  {
   "cell_type": "code",
   "execution_count": 176,
   "metadata": {},
   "outputs": [
    {
     "data": {
      "text/html": [
       "<div>\n",
       "<style scoped>\n",
       "    .dataframe tbody tr th:only-of-type {\n",
       "        vertical-align: middle;\n",
       "    }\n",
       "\n",
       "    .dataframe tbody tr th {\n",
       "        vertical-align: top;\n",
       "    }\n",
       "\n",
       "    .dataframe thead th {\n",
       "        text-align: right;\n",
       "    }\n",
       "</style>\n",
       "<table border=\"1\" class=\"dataframe\">\n",
       "  <thead>\n",
       "    <tr style=\"text-align: right;\">\n",
       "      <th></th>\n",
       "      <th>srprec</th>\n",
       "      <th>reg_srprec</th>\n",
       "    </tr>\n",
       "  </thead>\n",
       "  <tbody>\n",
       "  </tbody>\n",
       "</table>\n",
       "</div>"
      ],
      "text/plain": [
       "Empty DataFrame\n",
       "Columns: [srprec, reg_srprec]\n",
       "Index: []"
      ]
     },
     "execution_count": 176,
     "metadata": {},
     "output_type": "execute_result"
    }
   ],
   "source": [
    "# df[df['Col2'].isnull()]\n",
    "srprec[srprec['srprec'].isna()]"
   ]
  },
  {
   "cell_type": "code",
   "execution_count": null,
   "metadata": {},
   "outputs": [],
   "source": []
  },
  {
   "cell_type": "code",
   "execution_count": null,
   "metadata": {},
   "outputs": [],
   "source": []
  },
  {
   "cell_type": "code",
   "execution_count": null,
   "metadata": {},
   "outputs": [],
   "source": []
  },
  {
   "cell_type": "code",
   "execution_count": null,
   "metadata": {},
   "outputs": [],
   "source": []
  },
  {
   "cell_type": "code",
   "execution_count": null,
   "metadata": {},
   "outputs": [],
   "source": []
  },
  {
   "cell_type": "code",
   "execution_count": null,
   "metadata": {},
   "outputs": [],
   "source": []
  },
  {
   "cell_type": "code",
   "execution_count": null,
   "metadata": {},
   "outputs": [],
   "source": []
  },
  {
   "cell_type": "markdown",
   "metadata": {},
   "source": [
    "### Mapping scratch pad:"
   ]
  },
  {
   "cell_type": "code",
   "execution_count": 220,
   "metadata": {},
   "outputs": [],
   "source": [
    "#stack\n",
    "# !pip install simpledbf\n",
    "import simpledbf\n",
    "from simpledbf import Dbf5"
   ]
  },
  {
   "cell_type": "code",
   "execution_count": 221,
   "metadata": {},
   "outputs": [],
   "source": [
    "#look at geo files from SWDB and see what's in there:\n",
    "dbf = Dbf5('2011_congressional_state_equiv.dbf')\n",
    "df = dbf.to_dataframe()\n",
    "\n",
    "# ?? uses census reference id's?  not geographic coordinates."
   ]
  },
  {
   "cell_type": "code",
   "execution_count": 222,
   "metadata": {},
   "outputs": [
    {
     "data": {
      "text/html": [
       "<div>\n",
       "<style scoped>\n",
       "    .dataframe tbody tr th:only-of-type {\n",
       "        vertical-align: middle;\n",
       "    }\n",
       "\n",
       "    .dataframe tbody tr th {\n",
       "        vertical-align: top;\n",
       "    }\n",
       "\n",
       "    .dataframe thead th {\n",
       "        text-align: right;\n",
       "    }\n",
       "</style>\n",
       "<table border=\"1\" class=\"dataframe\">\n",
       "  <thead>\n",
       "    <tr style=\"text-align: right;\">\n",
       "      <th></th>\n",
       "      <th>BLOCK</th>\n",
       "      <th>DISTRICTID</th>\n",
       "    </tr>\n",
       "  </thead>\n",
       "  <tbody>\n",
       "    <tr>\n",
       "      <th>0</th>\n",
       "      <td>060650432722072</td>\n",
       "      <td>42</td>\n",
       "    </tr>\n",
       "    <tr>\n",
       "      <th>1</th>\n",
       "      <td>060650432722026</td>\n",
       "      <td>42</td>\n",
       "    </tr>\n",
       "    <tr>\n",
       "      <th>2</th>\n",
       "      <td>060650432722070</td>\n",
       "      <td>42</td>\n",
       "    </tr>\n",
       "    <tr>\n",
       "      <th>3</th>\n",
       "      <td>060650432722071</td>\n",
       "      <td>42</td>\n",
       "    </tr>\n",
       "    <tr>\n",
       "      <th>4</th>\n",
       "      <td>060650432722025</td>\n",
       "      <td>42</td>\n",
       "    </tr>\n",
       "  </tbody>\n",
       "</table>\n",
       "</div>"
      ],
      "text/plain": [
       "             BLOCK DISTRICTID\n",
       "0  060650432722072         42\n",
       "1  060650432722026         42\n",
       "2  060650432722070         42\n",
       "3  060650432722071         42\n",
       "4  060650432722025         42"
      ]
     },
     "execution_count": 222,
     "metadata": {},
     "output_type": "execute_result"
    }
   ],
   "source": [
    "df.head()"
   ]
  },
  {
   "cell_type": "code",
   "execution_count": 223,
   "metadata": {},
   "outputs": [
    {
     "data": {
      "text/plain": [
       "(710144, 2)"
      ]
     },
     "execution_count": 223,
     "metadata": {},
     "output_type": "execute_result"
    }
   ],
   "source": [
    "df.shape"
   ]
  },
  {
   "cell_type": "code",
   "execution_count": 224,
   "metadata": {},
   "outputs": [
    {
     "data": {
      "text/plain": [
       "53"
      ]
     },
     "execution_count": 224,
     "metadata": {},
     "output_type": "execute_result"
    }
   ],
   "source": [
    "x = df['DISTRICTID'].value_counts()\n",
    "len(x)"
   ]
  },
  {
   "cell_type": "code",
   "execution_count": 225,
   "metadata": {},
   "outputs": [
    {
     "data": {
      "text/plain": [
       "060190016002023    1\n",
       "060290033031342    1\n",
       "060710023051027    1\n",
       "060710103004225    1\n",
       "060650469001763    1\n",
       "060990018002073    1\n",
       "060670043004021    1\n",
       "060710092021033    1\n",
       "061110002001176    1\n",
       "060990006021037    1\n",
       "Name: BLOCK, dtype: int64"
      ]
     },
     "execution_count": 225,
     "metadata": {},
     "output_type": "execute_result"
    }
   ],
   "source": [
    "df['BLOCK'].value_counts()[:10]"
   ]
  },
  {
   "cell_type": "code",
   "execution_count": 226,
   "metadata": {},
   "outputs": [
    {
     "data": {
      "text/html": [
       "<div>\n",
       "<style scoped>\n",
       "    .dataframe tbody tr th:only-of-type {\n",
       "        vertical-align: middle;\n",
       "    }\n",
       "\n",
       "    .dataframe tbody tr th {\n",
       "        vertical-align: top;\n",
       "    }\n",
       "\n",
       "    .dataframe thead th {\n",
       "        text-align: right;\n",
       "    }\n",
       "</style>\n",
       "<table border=\"1\" class=\"dataframe\">\n",
       "  <thead>\n",
       "    <tr style=\"text-align: right;\">\n",
       "      <th></th>\n",
       "      <th>BLOCK</th>\n",
       "    </tr>\n",
       "    <tr>\n",
       "      <th>DISTRICTID</th>\n",
       "      <th></th>\n",
       "    </tr>\n",
       "  </thead>\n",
       "  <tbody>\n",
       "    <tr>\n",
       "      <th>49</th>\n",
       "      <td>9993</td>\n",
       "    </tr>\n",
       "    <tr>\n",
       "      <th>50</th>\n",
       "      <td>13137</td>\n",
       "    </tr>\n",
       "    <tr>\n",
       "      <th>51</th>\n",
       "      <td>15763</td>\n",
       "    </tr>\n",
       "    <tr>\n",
       "      <th>52</th>\n",
       "      <td>8717</td>\n",
       "    </tr>\n",
       "    <tr>\n",
       "      <th>53</th>\n",
       "      <td>7899</td>\n",
       "    </tr>\n",
       "  </tbody>\n",
       "</table>\n",
       "</div>"
      ],
      "text/plain": [
       "            BLOCK\n",
       "DISTRICTID       \n",
       "49           9993\n",
       "50          13137\n",
       "51          15763\n",
       "52           8717\n",
       "53           7899"
      ]
     },
     "execution_count": 226,
     "metadata": {},
     "output_type": "execute_result"
    }
   ],
   "source": [
    "df.groupby('DISTRICTID').count().tail()\n",
    "#53 congressional districts in 2011"
   ]
  },
  {
   "cell_type": "code",
   "execution_count": 227,
   "metadata": {},
   "outputs": [
    {
     "data": {
      "text/html": [
       "<div>\n",
       "<style scoped>\n",
       "    .dataframe tbody tr th:only-of-type {\n",
       "        vertical-align: middle;\n",
       "    }\n",
       "\n",
       "    .dataframe tbody tr th {\n",
       "        vertical-align: top;\n",
       "    }\n",
       "\n",
       "    .dataframe thead th {\n",
       "        text-align: right;\n",
       "    }\n",
       "</style>\n",
       "<table border=\"1\" class=\"dataframe\">\n",
       "  <thead>\n",
       "    <tr style=\"text-align: right;\">\n",
       "      <th></th>\n",
       "      <th>BLOCK</th>\n",
       "      <th>DISTRICTID</th>\n",
       "    </tr>\n",
       "  </thead>\n",
       "  <tbody>\n",
       "    <tr>\n",
       "      <th>10016</th>\n",
       "      <td>060730001001016</td>\n",
       "      <td>53</td>\n",
       "    </tr>\n",
       "    <tr>\n",
       "      <th>10017</th>\n",
       "      <td>060730001001006</td>\n",
       "      <td>53</td>\n",
       "    </tr>\n",
       "    <tr>\n",
       "      <th>10018</th>\n",
       "      <td>060730001001000</td>\n",
       "      <td>53</td>\n",
       "    </tr>\n",
       "    <tr>\n",
       "      <th>10019</th>\n",
       "      <td>060730001001017</td>\n",
       "      <td>53</td>\n",
       "    </tr>\n",
       "    <tr>\n",
       "      <th>10020</th>\n",
       "      <td>060730001001018</td>\n",
       "      <td>53</td>\n",
       "    </tr>\n",
       "    <tr>\n",
       "      <th>10021</th>\n",
       "      <td>060730001001030</td>\n",
       "      <td>53</td>\n",
       "    </tr>\n",
       "    <tr>\n",
       "      <th>10022</th>\n",
       "      <td>060730001001008</td>\n",
       "      <td>53</td>\n",
       "    </tr>\n",
       "    <tr>\n",
       "      <th>10023</th>\n",
       "      <td>060730001001004</td>\n",
       "      <td>53</td>\n",
       "    </tr>\n",
       "    <tr>\n",
       "      <th>10024</th>\n",
       "      <td>060730001001001</td>\n",
       "      <td>53</td>\n",
       "    </tr>\n",
       "    <tr>\n",
       "      <th>10025</th>\n",
       "      <td>060730001001003</td>\n",
       "      <td>53</td>\n",
       "    </tr>\n",
       "  </tbody>\n",
       "</table>\n",
       "</div>"
      ],
      "text/plain": [
       "                 BLOCK DISTRICTID\n",
       "10016  060730001001016         53\n",
       "10017  060730001001006         53\n",
       "10018  060730001001000         53\n",
       "10019  060730001001017         53\n",
       "10020  060730001001018         53\n",
       "10021  060730001001030         53\n",
       "10022  060730001001008         53\n",
       "10023  060730001001004         53\n",
       "10024  060730001001001         53\n",
       "10025  060730001001003         53"
      ]
     },
     "execution_count": 227,
     "metadata": {},
     "output_type": "execute_result"
    }
   ],
   "source": [
    "x = df.loc[df['DISTRICTID'] == '53']\n",
    "x[:10]"
   ]
  },
  {
   "cell_type": "code",
   "execution_count": 228,
   "metadata": {},
   "outputs": [
    {
     "data": {
      "text/plain": [
       "(7899, 2)"
      ]
     },
     "execution_count": 228,
     "metadata": {},
     "output_type": "execute_result"
    }
   ],
   "source": [
    "x.shape   #7899 blocks in Dist53"
   ]
  },
  {
   "cell_type": "code",
   "execution_count": 229,
   "metadata": {},
   "outputs": [
    {
     "name": "stdout",
     "output_type": "stream",
     "text": [
      "<class 'pandas.core.frame.DataFrame'>\n",
      "RangeIndex: 710144 entries, 0 to 710143\n",
      "Data columns (total 2 columns):\n",
      " #   Column      Non-Null Count   Dtype \n",
      "---  ------      --------------   ----- \n",
      " 0   BLOCK       710144 non-null  object\n",
      " 1   DISTRICTID  710144 non-null  object\n",
      "dtypes: object(2)\n",
      "memory usage: 10.8+ MB\n"
     ]
    }
   ],
   "source": [
    "df.info()"
   ]
  },
  {
   "cell_type": "code",
   "execution_count": 230,
   "metadata": {},
   "outputs": [],
   "source": [
    "# pandas documentation\n",
    "# s.str.slice(start=0, stop=5, step=3)\n",
    "# s.stri.slice[0:5:3]\n",
    "df['state'] = df['BLOCK'].str.slice(stop=2)\n",
    "df['county'] = df['BLOCK'].str.slice(start=2, stop=5)\n",
    "df['tract'] = df['BLOCK'].str.slice(start=5, stop=11)\n",
    "df['block'] = df['BLOCK'].str.slice(start=11, stop=15)"
   ]
  },
  {
   "cell_type": "code",
   "execution_count": 232,
   "metadata": {},
   "outputs": [
    {
     "data": {
      "text/html": [
       "<div>\n",
       "<style scoped>\n",
       "    .dataframe tbody tr th:only-of-type {\n",
       "        vertical-align: middle;\n",
       "    }\n",
       "\n",
       "    .dataframe tbody tr th {\n",
       "        vertical-align: top;\n",
       "    }\n",
       "\n",
       "    .dataframe thead th {\n",
       "        text-align: right;\n",
       "    }\n",
       "</style>\n",
       "<table border=\"1\" class=\"dataframe\">\n",
       "  <thead>\n",
       "    <tr style=\"text-align: right;\">\n",
       "      <th></th>\n",
       "      <th>BLOCK</th>\n",
       "      <th>DISTRICTID</th>\n",
       "      <th>state</th>\n",
       "      <th>county</th>\n",
       "      <th>tract</th>\n",
       "      <th>block</th>\n",
       "    </tr>\n",
       "  </thead>\n",
       "  <tbody>\n",
       "    <tr>\n",
       "      <th>10016</th>\n",
       "      <td>060730001001016</td>\n",
       "      <td>53</td>\n",
       "      <td>06</td>\n",
       "      <td>073</td>\n",
       "      <td>000100</td>\n",
       "      <td>1016</td>\n",
       "    </tr>\n",
       "    <tr>\n",
       "      <th>10017</th>\n",
       "      <td>060730001001006</td>\n",
       "      <td>53</td>\n",
       "      <td>06</td>\n",
       "      <td>073</td>\n",
       "      <td>000100</td>\n",
       "      <td>1006</td>\n",
       "    </tr>\n",
       "    <tr>\n",
       "      <th>10018</th>\n",
       "      <td>060730001001000</td>\n",
       "      <td>53</td>\n",
       "      <td>06</td>\n",
       "      <td>073</td>\n",
       "      <td>000100</td>\n",
       "      <td>1000</td>\n",
       "    </tr>\n",
       "    <tr>\n",
       "      <th>10019</th>\n",
       "      <td>060730001001017</td>\n",
       "      <td>53</td>\n",
       "      <td>06</td>\n",
       "      <td>073</td>\n",
       "      <td>000100</td>\n",
       "      <td>1017</td>\n",
       "    </tr>\n",
       "    <tr>\n",
       "      <th>10020</th>\n",
       "      <td>060730001001018</td>\n",
       "      <td>53</td>\n",
       "      <td>06</td>\n",
       "      <td>073</td>\n",
       "      <td>000100</td>\n",
       "      <td>1018</td>\n",
       "    </tr>\n",
       "    <tr>\n",
       "      <th>10021</th>\n",
       "      <td>060730001001030</td>\n",
       "      <td>53</td>\n",
       "      <td>06</td>\n",
       "      <td>073</td>\n",
       "      <td>000100</td>\n",
       "      <td>1030</td>\n",
       "    </tr>\n",
       "    <tr>\n",
       "      <th>10022</th>\n",
       "      <td>060730001001008</td>\n",
       "      <td>53</td>\n",
       "      <td>06</td>\n",
       "      <td>073</td>\n",
       "      <td>000100</td>\n",
       "      <td>1008</td>\n",
       "    </tr>\n",
       "    <tr>\n",
       "      <th>10023</th>\n",
       "      <td>060730001001004</td>\n",
       "      <td>53</td>\n",
       "      <td>06</td>\n",
       "      <td>073</td>\n",
       "      <td>000100</td>\n",
       "      <td>1004</td>\n",
       "    </tr>\n",
       "    <tr>\n",
       "      <th>10024</th>\n",
       "      <td>060730001001001</td>\n",
       "      <td>53</td>\n",
       "      <td>06</td>\n",
       "      <td>073</td>\n",
       "      <td>000100</td>\n",
       "      <td>1001</td>\n",
       "    </tr>\n",
       "    <tr>\n",
       "      <th>10025</th>\n",
       "      <td>060730001001003</td>\n",
       "      <td>53</td>\n",
       "      <td>06</td>\n",
       "      <td>073</td>\n",
       "      <td>000100</td>\n",
       "      <td>1003</td>\n",
       "    </tr>\n",
       "  </tbody>\n",
       "</table>\n",
       "</div>"
      ],
      "text/plain": [
       "                 BLOCK DISTRICTID state county   tract block\n",
       "10016  060730001001016         53    06    073  000100  1016\n",
       "10017  060730001001006         53    06    073  000100  1006\n",
       "10018  060730001001000         53    06    073  000100  1000\n",
       "10019  060730001001017         53    06    073  000100  1017\n",
       "10020  060730001001018         53    06    073  000100  1018\n",
       "10021  060730001001030         53    06    073  000100  1030\n",
       "10022  060730001001008         53    06    073  000100  1008\n",
       "10023  060730001001004         53    06    073  000100  1004\n",
       "10024  060730001001001         53    06    073  000100  1001\n",
       "10025  060730001001003         53    06    073  000100  1003"
      ]
     },
     "execution_count": 232,
     "metadata": {},
     "output_type": "execute_result"
    }
   ],
   "source": [
    "w = df.loc[df['DISTRICTID'] == '53']\n",
    "w[:10]\n",
    "# df.drop(columns=['tracts'])"
   ]
  },
  {
   "cell_type": "code",
   "execution_count": 233,
   "metadata": {},
   "outputs": [
    {
     "data": {
      "text/html": [
       "<div>\n",
       "<style scoped>\n",
       "    .dataframe tbody tr th:only-of-type {\n",
       "        vertical-align: middle;\n",
       "    }\n",
       "\n",
       "    .dataframe tbody tr th {\n",
       "        vertical-align: top;\n",
       "    }\n",
       "\n",
       "    .dataframe thead th {\n",
       "        text-align: right;\n",
       "    }\n",
       "</style>\n",
       "<table border=\"1\" class=\"dataframe\">\n",
       "  <thead>\n",
       "    <tr style=\"text-align: right;\">\n",
       "      <th></th>\n",
       "      <th>BLOCK</th>\n",
       "      <th>DISTRICTID</th>\n",
       "      <th>state</th>\n",
       "      <th>county</th>\n",
       "      <th>tract</th>\n",
       "      <th>block</th>\n",
       "    </tr>\n",
       "  </thead>\n",
       "  <tbody>\n",
       "    <tr>\n",
       "      <th>0</th>\n",
       "      <td>060650432722072</td>\n",
       "      <td>42</td>\n",
       "      <td>06</td>\n",
       "      <td>065</td>\n",
       "      <td>043272</td>\n",
       "      <td>2072</td>\n",
       "    </tr>\n",
       "    <tr>\n",
       "      <th>1</th>\n",
       "      <td>060650432722026</td>\n",
       "      <td>42</td>\n",
       "      <td>06</td>\n",
       "      <td>065</td>\n",
       "      <td>043272</td>\n",
       "      <td>2026</td>\n",
       "    </tr>\n",
       "    <tr>\n",
       "      <th>2</th>\n",
       "      <td>060650432722070</td>\n",
       "      <td>42</td>\n",
       "      <td>06</td>\n",
       "      <td>065</td>\n",
       "      <td>043272</td>\n",
       "      <td>2070</td>\n",
       "    </tr>\n",
       "    <tr>\n",
       "      <th>3</th>\n",
       "      <td>060650432722071</td>\n",
       "      <td>42</td>\n",
       "      <td>06</td>\n",
       "      <td>065</td>\n",
       "      <td>043272</td>\n",
       "      <td>2071</td>\n",
       "    </tr>\n",
       "    <tr>\n",
       "      <th>4</th>\n",
       "      <td>060650432722025</td>\n",
       "      <td>42</td>\n",
       "      <td>06</td>\n",
       "      <td>065</td>\n",
       "      <td>043272</td>\n",
       "      <td>2025</td>\n",
       "    </tr>\n",
       "    <tr>\n",
       "      <th>5</th>\n",
       "      <td>060650432722027</td>\n",
       "      <td>42</td>\n",
       "      <td>06</td>\n",
       "      <td>065</td>\n",
       "      <td>043272</td>\n",
       "      <td>2027</td>\n",
       "    </tr>\n",
       "    <tr>\n",
       "      <th>6</th>\n",
       "      <td>060650464011053</td>\n",
       "      <td>42</td>\n",
       "      <td>06</td>\n",
       "      <td>065</td>\n",
       "      <td>046401</td>\n",
       "      <td>1053</td>\n",
       "    </tr>\n",
       "    <tr>\n",
       "      <th>7</th>\n",
       "      <td>060650432722017</td>\n",
       "      <td>42</td>\n",
       "      <td>06</td>\n",
       "      <td>065</td>\n",
       "      <td>043272</td>\n",
       "      <td>2017</td>\n",
       "    </tr>\n",
       "    <tr>\n",
       "      <th>8</th>\n",
       "      <td>060650464011052</td>\n",
       "      <td>42</td>\n",
       "      <td>06</td>\n",
       "      <td>065</td>\n",
       "      <td>046401</td>\n",
       "      <td>1052</td>\n",
       "    </tr>\n",
       "    <tr>\n",
       "      <th>9</th>\n",
       "      <td>060650464011058</td>\n",
       "      <td>42</td>\n",
       "      <td>06</td>\n",
       "      <td>065</td>\n",
       "      <td>046401</td>\n",
       "      <td>1058</td>\n",
       "    </tr>\n",
       "  </tbody>\n",
       "</table>\n",
       "</div>"
      ],
      "text/plain": [
       "             BLOCK DISTRICTID state county   tract block\n",
       "0  060650432722072         42    06    065  043272  2072\n",
       "1  060650432722026         42    06    065  043272  2026\n",
       "2  060650432722070         42    06    065  043272  2070\n",
       "3  060650432722071         42    06    065  043272  2071\n",
       "4  060650432722025         42    06    065  043272  2025\n",
       "5  060650432722027         42    06    065  043272  2027\n",
       "6  060650464011053         42    06    065  046401  1053\n",
       "7  060650432722017         42    06    065  043272  2017\n",
       "8  060650464011052         42    06    065  046401  1052\n",
       "9  060650464011058         42    06    065  046401  1058"
      ]
     },
     "execution_count": 233,
     "metadata": {},
     "output_type": "execute_result"
    }
   ],
   "source": [
    "df[:10]"
   ]
  },
  {
   "cell_type": "code",
   "execution_count": 236,
   "metadata": {},
   "outputs": [
    {
     "data": {
      "text/plain": [
       "BLOCK         35718\n",
       "DISTRICTID        4\n",
       "state             1\n",
       "county            1\n",
       "tract           453\n",
       "block          2003\n",
       "dtype: int64"
      ]
     },
     "execution_count": 236,
     "metadata": {},
     "output_type": "execute_result"
    }
   ],
   "source": [
    "df.loc[df['county'] == '065'].nunique()"
   ]
  },
  {
   "cell_type": "code",
   "execution_count": null,
   "metadata": {},
   "outputs": [],
   "source": []
  },
  {
   "cell_type": "code",
   "execution_count": null,
   "metadata": {},
   "outputs": [],
   "source": []
  },
  {
   "cell_type": "code",
   "execution_count": null,
   "metadata": {},
   "outputs": [],
   "source": []
  },
  {
   "cell_type": "markdown",
   "metadata": {},
   "source": [
    "### Srprec <> Census block/tract -- explore"
   ]
  },
  {
   "cell_type": "code",
   "execution_count": 241,
   "metadata": {},
   "outputs": [
    {
     "data": {
      "text/plain": [
       "(23490, 8)"
      ]
     },
     "execution_count": 241,
     "metadata": {},
     "output_type": "execute_result"
    }
   ],
   "source": [
    "xlate = pd.read_csv('./map_files/c059_g12_sr_blk_map.csv')\n",
    "xlate.shape"
   ]
  },
  {
   "cell_type": "code",
   "execution_count": 250,
   "metadata": {},
   "outputs": [
    {
     "data": {
      "text/html": [
       "<div>\n",
       "<style scoped>\n",
       "    .dataframe tbody tr th:only-of-type {\n",
       "        vertical-align: middle;\n",
       "    }\n",
       "\n",
       "    .dataframe tbody tr th {\n",
       "        vertical-align: top;\n",
       "    }\n",
       "\n",
       "    .dataframe thead th {\n",
       "        text-align: right;\n",
       "    }\n",
       "</style>\n",
       "<table border=\"1\" class=\"dataframe\">\n",
       "  <thead>\n",
       "    <tr style=\"text-align: right;\">\n",
       "      <th></th>\n",
       "      <th>srprec</th>\n",
       "      <th>tract</th>\n",
       "      <th>block</th>\n",
       "      <th>blkreg</th>\n",
       "      <th>srtotreg</th>\n",
       "      <th>pctsrprec</th>\n",
       "      <th>blktotreg</th>\n",
       "      <th>pctblk</th>\n",
       "    </tr>\n",
       "  </thead>\n",
       "  <tbody>\n",
       "    <tr>\n",
       "      <th>23485</th>\n",
       "      <td>75602</td>\n",
       "      <td>75809</td>\n",
       "      <td>2007</td>\n",
       "      <td>604</td>\n",
       "      <td>1437</td>\n",
       "      <td>42.032011</td>\n",
       "      <td>613</td>\n",
       "      <td>98.531811</td>\n",
       "    </tr>\n",
       "    <tr>\n",
       "      <th>23486</th>\n",
       "      <td>75602</td>\n",
       "      <td>75814</td>\n",
       "      <td>2003</td>\n",
       "      <td>14</td>\n",
       "      <td>1437</td>\n",
       "      <td>0.974252</td>\n",
       "      <td>14</td>\n",
       "      <td>100.000000</td>\n",
       "    </tr>\n",
       "    <tr>\n",
       "      <th>23487</th>\n",
       "      <td>75602</td>\n",
       "      <td>75814</td>\n",
       "      <td>2016</td>\n",
       "      <td>2</td>\n",
       "      <td>1437</td>\n",
       "      <td>0.139179</td>\n",
       "      <td>2</td>\n",
       "      <td>100.000000</td>\n",
       "    </tr>\n",
       "    <tr>\n",
       "      <th>23488</th>\n",
       "      <td>75602</td>\n",
       "      <td>75814</td>\n",
       "      <td>2017</td>\n",
       "      <td>28</td>\n",
       "      <td>1437</td>\n",
       "      <td>1.948504</td>\n",
       "      <td>28</td>\n",
       "      <td>100.000000</td>\n",
       "    </tr>\n",
       "    <tr>\n",
       "      <th>23489</th>\n",
       "      <td>75901</td>\n",
       "      <td>75809</td>\n",
       "      <td>2007</td>\n",
       "      <td>9</td>\n",
       "      <td>9</td>\n",
       "      <td>100.000000</td>\n",
       "      <td>613</td>\n",
       "      <td>1.468189</td>\n",
       "    </tr>\n",
       "  </tbody>\n",
       "</table>\n",
       "</div>"
      ],
      "text/plain": [
       "       srprec  tract  block  blkreg  srtotreg   pctsrprec  blktotreg  \\\n",
       "23485   75602  75809   2007     604      1437   42.032011        613   \n",
       "23486   75602  75814   2003      14      1437    0.974252         14   \n",
       "23487   75602  75814   2016       2      1437    0.139179          2   \n",
       "23488   75602  75814   2017      28      1437    1.948504         28   \n",
       "23489   75901  75809   2007       9         9  100.000000        613   \n",
       "\n",
       "           pctblk  \n",
       "23485   98.531811  \n",
       "23486  100.000000  \n",
       "23487  100.000000  \n",
       "23488  100.000000  \n",
       "23489    1.468189  "
      ]
     },
     "execution_count": 250,
     "metadata": {},
     "output_type": "execute_result"
    }
   ],
   "source": [
    "xlate.tail()"
   ]
  },
  {
   "cell_type": "code",
   "execution_count": 244,
   "metadata": {},
   "outputs": [
    {
     "data": {
      "text/plain": [
       "582"
      ]
     },
     "execution_count": 244,
     "metadata": {},
     "output_type": "execute_result"
    }
   ],
   "source": [
    "xlate['tract'].nunique()\n",
    "#582 census tracts in g12 data set."
   ]
  },
  {
   "cell_type": "code",
   "execution_count": 245,
   "metadata": {},
   "outputs": [
    {
     "data": {
      "text/plain": [
       "1877"
      ]
     },
     "execution_count": 245,
     "metadata": {},
     "output_type": "execute_result"
    }
   ],
   "source": [
    "xlate['srprec'].nunique()\n",
    "#1877 srprec's"
   ]
  },
  {
   "cell_type": "code",
   "execution_count": 246,
   "metadata": {},
   "outputs": [
    {
     "data": {
      "text/plain": [
       "558"
      ]
     },
     "execution_count": 246,
     "metadata": {},
     "output_type": "execute_result"
    }
   ],
   "source": [
    "xlate['block'].nunique()"
   ]
  },
  {
   "cell_type": "code",
   "execution_count": 247,
   "metadata": {},
   "outputs": [
    {
     "data": {
      "text/plain": [
       "63500    235\n",
       "62800    178\n",
       "62702    141\n",
       "52420    138\n",
       "62604    132\n",
       "        ... \n",
       "63008      6\n",
       "99502      6\n",
       "21813      5\n",
       "52518      4\n",
       "52404      2\n",
       "Name: tract, Length: 582, dtype: int64"
      ]
     },
     "execution_count": 247,
     "metadata": {},
     "output_type": "execute_result"
    }
   ],
   "source": [
    "xlate['tract'].value_counts()"
   ]
  },
  {
   "cell_type": "code",
   "execution_count": 248,
   "metadata": {},
   "outputs": [
    {
     "data": {
      "text/plain": [
       "2001    468\n",
       "2002    461\n",
       "2003    449\n",
       "2004    434\n",
       "2000    423\n",
       "       ... \n",
       "7015      1\n",
       "9008      1\n",
       "2165      1\n",
       "2133      1\n",
       "6053      1\n",
       "Name: block, Length: 558, dtype: int64"
      ]
     },
     "execution_count": 248,
     "metadata": {},
     "output_type": "execute_result"
    }
   ],
   "source": [
    "xlate['block'].value_counts()"
   ]
  },
  {
   "cell_type": "code",
   "execution_count": 249,
   "metadata": {},
   "outputs": [
    {
     "data": {
      "text/plain": [
       "2193     74\n",
       "53355    58\n",
       "68296    57\n",
       "13377    56\n",
       "68098    55\n",
       "         ..\n",
       "2434      1\n",
       "69902     1\n",
       "5379      1\n",
       "44123     1\n",
       "56383     1\n",
       "Name: srprec, Length: 1877, dtype: int64"
      ]
     },
     "execution_count": 249,
     "metadata": {},
     "output_type": "execute_result"
    }
   ],
   "source": [
    "xlate['srprec'].value_counts()"
   ]
  },
  {
   "cell_type": "code",
   "execution_count": null,
   "metadata": {},
   "outputs": [],
   "source": []
  }
 ],
 "metadata": {
  "kernelspec": {
   "display_name": "Python 3",
   "language": "python",
   "name": "python3"
  },
  "language_info": {
   "codemirror_mode": {
    "name": "ipython",
    "version": 3
   },
   "file_extension": ".py",
   "mimetype": "text/x-python",
   "name": "python",
   "nbconvert_exporter": "python",
   "pygments_lexer": "ipython3",
   "version": "3.8.3"
  }
 },
 "nbformat": 4,
 "nbformat_minor": 4
}
