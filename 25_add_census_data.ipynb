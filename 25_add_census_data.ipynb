{
 "cells": [
  {
   "cell_type": "markdown",
   "metadata": {},
   "source": [
    "## This notebook handles mapping srprec to census tract, and then adding on census data"
   ]
  },
  {
   "cell_type": "code",
   "execution_count": 119,
   "metadata": {},
   "outputs": [],
   "source": [
    "# imports\n",
    "import pandas as pd\n",
    "import numpy as np\n",
    "import requests\n",
    "import pickle as pkl\n",
    "import matplotlib.pyplot as plt\n",
    "plt.style.use('ggplot')"
   ]
  },
  {
   "cell_type": "code",
   "execution_count": 91,
   "metadata": {},
   "outputs": [],
   "source": [
    "# pd.set_option('display.max_columns', None)\n",
    "# pd.set_option('display.max_rows', None)"
   ]
  },
  {
   "cell_type": "code",
   "execution_count": 92,
   "metadata": {},
   "outputs": [
    {
     "data": {
      "text/plain": [
       "(1334, 26)"
      ]
     },
     "execution_count": 92,
     "metadata": {},
     "output_type": "execute_result"
    }
   ],
   "source": [
    "data18 = pd.read_pickle('./data/trend18.pkl')\n",
    "data18.shape"
   ]
  },
  {
   "cell_type": "code",
   "execution_count": 93,
   "metadata": {},
   "outputs": [
    {
     "data": {
      "text/html": [
       "<div>\n",
       "<style scoped>\n",
       "    .dataframe tbody tr th:only-of-type {\n",
       "        vertical-align: middle;\n",
       "    }\n",
       "\n",
       "    .dataframe tbody tr th {\n",
       "        vertical-align: top;\n",
       "    }\n",
       "\n",
       "    .dataframe thead th {\n",
       "        text-align: right;\n",
       "    }\n",
       "</style>\n",
       "<table border=\"1\" class=\"dataframe\">\n",
       "  <thead>\n",
       "    <tr style=\"text-align: right;\">\n",
       "      <th></th>\n",
       "      <th>county</th>\n",
       "      <th>srprec</th>\n",
       "      <th>cddist</th>\n",
       "      <th>TOTREG</th>\n",
       "      <th>TOTVOTE</th>\n",
       "      <th>CNGDEM01</th>\n",
       "      <th>CNGREP01</th>\n",
       "      <th>election</th>\n",
       "      <th>type</th>\n",
       "      <th>totreg_r</th>\n",
       "      <th>...</th>\n",
       "      <th>nlp</th>\n",
       "      <th>grn</th>\n",
       "      <th>ref</th>\n",
       "      <th>dcl</th>\n",
       "      <th>male</th>\n",
       "      <th>female</th>\n",
       "      <th>hispdem</th>\n",
       "      <th>hisprep</th>\n",
       "      <th>hispdcl</th>\n",
       "      <th>hispoth</th>\n",
       "    </tr>\n",
       "  </thead>\n",
       "  <tbody>\n",
       "    <tr>\n",
       "      <th>0</th>\n",
       "      <td>30</td>\n",
       "      <td>10316</td>\n",
       "      <td>47</td>\n",
       "      <td>1735</td>\n",
       "      <td>1278</td>\n",
       "      <td>630</td>\n",
       "      <td>592</td>\n",
       "      <td>g18</td>\n",
       "      <td>V</td>\n",
       "      <td>1238.0</td>\n",
       "      <td>...</td>\n",
       "      <td>0.0</td>\n",
       "      <td>2.0</td>\n",
       "      <td>0.0</td>\n",
       "      <td>265.0</td>\n",
       "      <td>582.0</td>\n",
       "      <td>656.0</td>\n",
       "      <td>55.0</td>\n",
       "      <td>43.0</td>\n",
       "      <td>30.0</td>\n",
       "      <td>6.0</td>\n",
       "    </tr>\n",
       "    <tr>\n",
       "      <th>1</th>\n",
       "      <td>30</td>\n",
       "      <td>10317</td>\n",
       "      <td>47</td>\n",
       "      <td>2079</td>\n",
       "      <td>1214</td>\n",
       "      <td>638</td>\n",
       "      <td>513</td>\n",
       "      <td>g18</td>\n",
       "      <td>V</td>\n",
       "      <td>1184.0</td>\n",
       "      <td>...</td>\n",
       "      <td>0.0</td>\n",
       "      <td>4.0</td>\n",
       "      <td>0.0</td>\n",
       "      <td>286.0</td>\n",
       "      <td>588.0</td>\n",
       "      <td>596.0</td>\n",
       "      <td>165.0</td>\n",
       "      <td>60.0</td>\n",
       "      <td>71.0</td>\n",
       "      <td>10.0</td>\n",
       "    </tr>\n",
       "    <tr>\n",
       "      <th>2</th>\n",
       "      <td>30</td>\n",
       "      <td>10319</td>\n",
       "      <td>47</td>\n",
       "      <td>1448</td>\n",
       "      <td>999</td>\n",
       "      <td>495</td>\n",
       "      <td>462</td>\n",
       "      <td>g18</td>\n",
       "      <td>V</td>\n",
       "      <td>945.0</td>\n",
       "      <td>...</td>\n",
       "      <td>0.0</td>\n",
       "      <td>2.0</td>\n",
       "      <td>2.0</td>\n",
       "      <td>256.0</td>\n",
       "      <td>443.0</td>\n",
       "      <td>502.0</td>\n",
       "      <td>68.0</td>\n",
       "      <td>37.0</td>\n",
       "      <td>49.0</td>\n",
       "      <td>5.0</td>\n",
       "    </tr>\n",
       "    <tr>\n",
       "      <th>3</th>\n",
       "      <td>30</td>\n",
       "      <td>10320</td>\n",
       "      <td>47</td>\n",
       "      <td>2407</td>\n",
       "      <td>1686</td>\n",
       "      <td>847</td>\n",
       "      <td>758</td>\n",
       "      <td>g18</td>\n",
       "      <td>V</td>\n",
       "      <td>1644.0</td>\n",
       "      <td>...</td>\n",
       "      <td>0.0</td>\n",
       "      <td>5.0</td>\n",
       "      <td>1.0</td>\n",
       "      <td>423.0</td>\n",
       "      <td>851.0</td>\n",
       "      <td>793.0</td>\n",
       "      <td>79.0</td>\n",
       "      <td>57.0</td>\n",
       "      <td>47.0</td>\n",
       "      <td>7.0</td>\n",
       "    </tr>\n",
       "    <tr>\n",
       "      <th>4</th>\n",
       "      <td>30</td>\n",
       "      <td>10325</td>\n",
       "      <td>47</td>\n",
       "      <td>1465</td>\n",
       "      <td>1035</td>\n",
       "      <td>488</td>\n",
       "      <td>524</td>\n",
       "      <td>g18</td>\n",
       "      <td>V</td>\n",
       "      <td>1012.0</td>\n",
       "      <td>...</td>\n",
       "      <td>0.0</td>\n",
       "      <td>2.0</td>\n",
       "      <td>1.0</td>\n",
       "      <td>189.0</td>\n",
       "      <td>488.0</td>\n",
       "      <td>524.0</td>\n",
       "      <td>67.0</td>\n",
       "      <td>38.0</td>\n",
       "      <td>18.0</td>\n",
       "      <td>1.0</td>\n",
       "    </tr>\n",
       "  </tbody>\n",
       "</table>\n",
       "<p>5 rows × 26 columns</p>\n",
       "</div>"
      ],
      "text/plain": [
       "   county  srprec  cddist  TOTREG  TOTVOTE  CNGDEM01  CNGREP01 election type  \\\n",
       "0      30   10316      47    1735     1278       630       592      g18    V   \n",
       "1      30   10317      47    2079     1214       638       513      g18    V   \n",
       "2      30   10319      47    1448      999       495       462      g18    V   \n",
       "3      30   10320      47    2407     1686       847       758      g18    V   \n",
       "4      30   10325      47    1465     1035       488       524      g18    V   \n",
       "\n",
       "   totreg_r  ...  nlp  grn  ref    dcl   male  female  hispdem  hisprep  \\\n",
       "0    1238.0  ...  0.0  2.0  0.0  265.0  582.0   656.0     55.0     43.0   \n",
       "1    1184.0  ...  0.0  4.0  0.0  286.0  588.0   596.0    165.0     60.0   \n",
       "2     945.0  ...  0.0  2.0  2.0  256.0  443.0   502.0     68.0     37.0   \n",
       "3    1644.0  ...  0.0  5.0  1.0  423.0  851.0   793.0     79.0     57.0   \n",
       "4    1012.0  ...  0.0  2.0  1.0  189.0  488.0   524.0     67.0     38.0   \n",
       "\n",
       "   hispdcl  hispoth  \n",
       "0     30.0      6.0  \n",
       "1     71.0     10.0  \n",
       "2     49.0      5.0  \n",
       "3     47.0      7.0  \n",
       "4     18.0      1.0  \n",
       "\n",
       "[5 rows x 26 columns]"
      ]
     },
     "execution_count": 93,
     "metadata": {},
     "output_type": "execute_result"
    }
   ],
   "source": [
    "data18.head()"
   ]
  },
  {
   "cell_type": "code",
   "execution_count": 145,
   "metadata": {},
   "outputs": [
    {
     "data": {
      "text/plain": [
       "45    347\n",
       "48    334\n",
       "39    226\n",
       "46    198\n",
       "47    133\n",
       "49     87\n",
       "38      9\n",
       "Name: cddist, dtype: int64"
      ]
     },
     "execution_count": 145,
     "metadata": {},
     "output_type": "execute_result"
    }
   ],
   "source": [
    "data18['cddist'].value_counts()"
   ]
  },
  {
   "cell_type": "code",
   "execution_count": null,
   "metadata": {},
   "outputs": [],
   "source": []
  },
  {
   "cell_type": "code",
   "execution_count": null,
   "metadata": {},
   "outputs": [],
   "source": []
  },
  {
   "cell_type": "code",
   "execution_count": null,
   "metadata": {},
   "outputs": [],
   "source": []
  },
  {
   "cell_type": "markdown",
   "metadata": {},
   "source": [
    "### Select census data"
   ]
  },
  {
   "cell_type": "markdown",
   "metadata": {},
   "source": [
    "Voting data contains 'srprec' or voting precints.  \n",
    "Statewidedatabase.org provides conversion tables between precints and census tracts.  "
   ]
  },
  {
   "cell_type": "markdown",
   "metadata": {},
   "source": [
    "Bring in census DP03 data and select columns."
   ]
  },
  {
   "cell_type": "code",
   "execution_count": 51,
   "metadata": {},
   "outputs": [
    {
     "data": {
      "text/plain": [
       "(583, 143)"
      ]
     },
     "execution_count": 51,
     "metadata": {},
     "output_type": "execute_result"
    }
   ],
   "source": [
    "dp03_18 = pd.read_pickle('./census_data/DP03_clean.pkl')\n",
    "dp03_18.shape"
   ]
  },
  {
   "cell_type": "code",
   "execution_count": 465,
   "metadata": {},
   "outputs": [
    {
     "data": {
      "text/html": [
       "<div>\n",
       "<style scoped>\n",
       "    .dataframe tbody tr th:only-of-type {\n",
       "        vertical-align: middle;\n",
       "    }\n",
       "\n",
       "    .dataframe tbody tr th {\n",
       "        vertical-align: top;\n",
       "    }\n",
       "\n",
       "    .dataframe thead th {\n",
       "        text-align: right;\n",
       "    }\n",
       "</style>\n",
       "<table border=\"1\" class=\"dataframe\">\n",
       "  <thead>\n",
       "    <tr style=\"text-align: right;\">\n",
       "      <th></th>\n",
       "      <th>Geographic Area Name</th>\n",
       "      <th>GEO_ID</th>\n",
       "      <th>Estimate EMPLOYMENT STATUS Population 16 years and over</th>\n",
       "      <th>Estimate EMPLOYMENT STATUS Population 16 years and over In labor force</th>\n",
       "      <th>Estimate EMPLOYMENT STATUS Population 16 years and over In labor force Civilian labor force</th>\n",
       "      <th>Estimate EMPLOYMENT STATUS Population 16 years and over In labor force Civilian labor force Employed</th>\n",
       "      <th>Estimate EMPLOYMENT STATUS Population 16 years and over In labor force Civilian labor force Unemployed</th>\n",
       "      <th>Estimate EMPLOYMENT STATUS Population 16 years and over In labor force Armed Forces</th>\n",
       "      <th>Estimate EMPLOYMENT STATUS Population 16 years and over Not in labor force</th>\n",
       "      <th>Estimate EMPLOYMENT STATUS Civilian labor force</th>\n",
       "      <th>...</th>\n",
       "      <th>Estimate PERCENTAGE OF FAMILIES AND PEOPLE WHOSE INCOME IN THE PAST 12 MONTHS IS BELOW THE POVERTY LEVEL All people Under 18 years Related children of the householder under 18 years Related children of the householder 5 to 17 years</th>\n",
       "      <th>Estimate PERCENTAGE OF FAMILIES AND PEOPLE WHOSE INCOME IN THE PAST 12 MONTHS IS BELOW THE POVERTY LEVEL All people 18 years and over</th>\n",
       "      <th>Estimate PERCENTAGE OF FAMILIES AND PEOPLE WHOSE INCOME IN THE PAST 12 MONTHS IS BELOW THE POVERTY LEVEL All people 18 years and over 18 to 64 years</th>\n",
       "      <th>Estimate PERCENTAGE OF FAMILIES AND PEOPLE WHOSE INCOME IN THE PAST 12 MONTHS IS BELOW THE POVERTY LEVEL All people 18 years and over 65 years and over</th>\n",
       "      <th>Estimate PERCENTAGE OF FAMILIES AND PEOPLE WHOSE INCOME IN THE PAST 12 MONTHS IS BELOW THE POVERTY LEVEL People in families</th>\n",
       "      <th>Estimate PERCENTAGE OF FAMILIES AND PEOPLE WHOSE INCOME IN THE PAST 12 MONTHS IS BELOW THE POVERTY LEVEL Unrelated individuals 15 years and over</th>\n",
       "      <th>Geographic Area Name</th>\n",
       "      <th>state</th>\n",
       "      <th>county</th>\n",
       "      <th>tract</th>\n",
       "    </tr>\n",
       "  </thead>\n",
       "  <tbody>\n",
       "    <tr>\n",
       "      <th>1</th>\n",
       "      <td>Census Tract 626.44, Orange County, California</td>\n",
       "      <td>1400000US06059062644</td>\n",
       "      <td>6767</td>\n",
       "      <td>3967</td>\n",
       "      <td>3967</td>\n",
       "      <td>3811</td>\n",
       "      <td>156</td>\n",
       "      <td>0</td>\n",
       "      <td>2800</td>\n",
       "      <td>3967</td>\n",
       "      <td>...</td>\n",
       "      <td>-888888888.0</td>\n",
       "      <td>-888888888.0</td>\n",
       "      <td>-888888888.0</td>\n",
       "      <td>-888888888.0</td>\n",
       "      <td>-888888888.0</td>\n",
       "      <td>-888888888.0</td>\n",
       "      <td>Census Tract 626.44, Orange County, California</td>\n",
       "      <td>06</td>\n",
       "      <td>059</td>\n",
       "      <td>062644</td>\n",
       "    </tr>\n",
       "    <tr>\n",
       "      <th>2</th>\n",
       "      <td>Census Tract 626.40, Orange County, California</td>\n",
       "      <td>1400000US06059062640</td>\n",
       "      <td>3062</td>\n",
       "      <td>2446</td>\n",
       "      <td>2436</td>\n",
       "      <td>2320</td>\n",
       "      <td>116</td>\n",
       "      <td>10</td>\n",
       "      <td>616</td>\n",
       "      <td>2436</td>\n",
       "      <td>...</td>\n",
       "      <td>-888888888.0</td>\n",
       "      <td>-888888888.0</td>\n",
       "      <td>-888888888.0</td>\n",
       "      <td>-888888888.0</td>\n",
       "      <td>-888888888.0</td>\n",
       "      <td>-888888888.0</td>\n",
       "      <td>Census Tract 626.40, Orange County, California</td>\n",
       "      <td>06</td>\n",
       "      <td>059</td>\n",
       "      <td>062640</td>\n",
       "    </tr>\n",
       "  </tbody>\n",
       "</table>\n",
       "<p>2 rows × 143 columns</p>\n",
       "</div>"
      ],
      "text/plain": [
       "0                            Geographic Area Name                GEO_ID  \\\n",
       "1  Census Tract 626.44, Orange County, California  1400000US06059062644   \n",
       "2  Census Tract 626.40, Orange County, California  1400000US06059062640   \n",
       "\n",
       "0 Estimate EMPLOYMENT STATUS Population 16 years and over  \\\n",
       "1                                               6767        \n",
       "2                                               3062        \n",
       "\n",
       "0 Estimate EMPLOYMENT STATUS Population 16 years and over In labor force  \\\n",
       "1                                               3967                       \n",
       "2                                               2446                       \n",
       "\n",
       "0 Estimate EMPLOYMENT STATUS Population 16 years and over In labor force Civilian labor force  \\\n",
       "1                                               3967                                            \n",
       "2                                               2436                                            \n",
       "\n",
       "0 Estimate EMPLOYMENT STATUS Population 16 years and over In labor force Civilian labor force Employed  \\\n",
       "1                                               3811                                                     \n",
       "2                                               2320                                                     \n",
       "\n",
       "0 Estimate EMPLOYMENT STATUS Population 16 years and over In labor force Civilian labor force Unemployed  \\\n",
       "1                                                156                                                       \n",
       "2                                                116                                                       \n",
       "\n",
       "0 Estimate EMPLOYMENT STATUS Population 16 years and over In labor force Armed Forces  \\\n",
       "1                                                  0                                    \n",
       "2                                                 10                                    \n",
       "\n",
       "0 Estimate EMPLOYMENT STATUS Population 16 years and over Not in labor force  \\\n",
       "1                                               2800                           \n",
       "2                                                616                           \n",
       "\n",
       "0 Estimate EMPLOYMENT STATUS Civilian labor force  ...  \\\n",
       "1                                            3967  ...   \n",
       "2                                            2436  ...   \n",
       "\n",
       "0 Estimate PERCENTAGE OF FAMILIES AND PEOPLE WHOSE INCOME IN THE PAST 12 MONTHS IS BELOW THE POVERTY LEVEL All people Under 18 years Related children of the householder under 18 years Related children of the householder 5 to 17 years  \\\n",
       "1                                       -888888888.0                                                                                                                                                                                        \n",
       "2                                       -888888888.0                                                                                                                                                                                        \n",
       "\n",
       "0 Estimate PERCENTAGE OF FAMILIES AND PEOPLE WHOSE INCOME IN THE PAST 12 MONTHS IS BELOW THE POVERTY LEVEL All people 18 years and over  \\\n",
       "1                                       -888888888.0                                                                                      \n",
       "2                                       -888888888.0                                                                                      \n",
       "\n",
       "0 Estimate PERCENTAGE OF FAMILIES AND PEOPLE WHOSE INCOME IN THE PAST 12 MONTHS IS BELOW THE POVERTY LEVEL All people 18 years and over 18 to 64 years  \\\n",
       "1                                       -888888888.0                                                                                                     \n",
       "2                                       -888888888.0                                                                                                     \n",
       "\n",
       "0 Estimate PERCENTAGE OF FAMILIES AND PEOPLE WHOSE INCOME IN THE PAST 12 MONTHS IS BELOW THE POVERTY LEVEL All people 18 years and over 65 years and over  \\\n",
       "1                                       -888888888.0                                                                                                        \n",
       "2                                       -888888888.0                                                                                                        \n",
       "\n",
       "0 Estimate PERCENTAGE OF FAMILIES AND PEOPLE WHOSE INCOME IN THE PAST 12 MONTHS IS BELOW THE POVERTY LEVEL People in families  \\\n",
       "1                                       -888888888.0                                                                            \n",
       "2                                       -888888888.0                                                                            \n",
       "\n",
       "0 Estimate PERCENTAGE OF FAMILIES AND PEOPLE WHOSE INCOME IN THE PAST 12 MONTHS IS BELOW THE POVERTY LEVEL Unrelated individuals 15 years and over  \\\n",
       "1                                       -888888888.0                                                                                                 \n",
       "2                                       -888888888.0                                                                                                 \n",
       "\n",
       "0                            Geographic Area Name state county   tract  \n",
       "1  Census Tract 626.44, Orange County, California    06    059  062644  \n",
       "2  Census Tract 626.40, Orange County, California    06    059  062640  \n",
       "\n",
       "[2 rows x 143 columns]"
      ]
     },
     "execution_count": 465,
     "metadata": {},
     "output_type": "execute_result"
    }
   ],
   "source": [
    "dp03_18.head(2)"
   ]
  },
  {
   "cell_type": "code",
   "execution_count": 473,
   "metadata": {},
   "outputs": [],
   "source": [
    "dp03_18['tract'] = dp03_18['tract'].astype('int64')"
   ]
  },
  {
   "cell_type": "code",
   "execution_count": 474,
   "metadata": {},
   "outputs": [
    {
     "data": {
      "text/plain": [
       "dtype('int64')"
      ]
     },
     "execution_count": 474,
     "metadata": {},
     "output_type": "execute_result"
    }
   ],
   "source": [
    "dp03_18['tract'].dtype"
   ]
  },
  {
   "cell_type": "code",
   "execution_count": null,
   "metadata": {},
   "outputs": [],
   "source": []
  },
  {
   "cell_type": "code",
   "execution_count": 53,
   "metadata": {},
   "outputs": [
    {
     "data": {
      "text/plain": [
       "count            583\n",
       "unique           574\n",
       "top       -666666666\n",
       "freq               3\n",
       "Name: Estimate INCOME AND BENEFITS (IN 2018 INFLATION-ADJUSTED DOLLARS) Total households Median household income (dollars), dtype: object"
      ]
     },
     "execution_count": 53,
     "metadata": {},
     "output_type": "execute_result"
    }
   ],
   "source": [
    "dp03_18['Estimate INCOME AND BENEFITS (IN 2018 INFLATION-ADJUSTED DOLLARS) Total households Median household income (dollars)'].describe()"
   ]
  },
  {
   "cell_type": "code",
   "execution_count": 38,
   "metadata": {
    "collapsed": true,
    "jupyter": {
     "outputs_hidden": true
    }
   },
   "outputs": [
    {
     "data": {
      "text/plain": [
       "['Geographic Area Name',\n",
       " 'GEO_ID',\n",
       " 'Estimate EMPLOYMENT STATUS Population 16 years and over',\n",
       " 'Estimate EMPLOYMENT STATUS Population 16 years and over In labor force',\n",
       " 'Estimate EMPLOYMENT STATUS Population 16 years and over In labor force Civilian labor force',\n",
       " 'Estimate EMPLOYMENT STATUS Population 16 years and over In labor force Civilian labor force Employed',\n",
       " 'Estimate EMPLOYMENT STATUS Population 16 years and over In labor force Civilian labor force Unemployed',\n",
       " 'Estimate EMPLOYMENT STATUS Population 16 years and over In labor force Armed Forces',\n",
       " 'Estimate EMPLOYMENT STATUS Population 16 years and over Not in labor force',\n",
       " 'Estimate EMPLOYMENT STATUS Civilian labor force',\n",
       " 'Estimate EMPLOYMENT STATUS Civilian labor force Unemployment Rate',\n",
       " 'Estimate EMPLOYMENT STATUS Females 16 years and over',\n",
       " 'Estimate EMPLOYMENT STATUS Females 16 years and over In labor force',\n",
       " 'Estimate EMPLOYMENT STATUS Females 16 years and over In labor force Civilian labor force',\n",
       " 'Estimate EMPLOYMENT STATUS Females 16 years and over In labor force Civilian labor force Employed',\n",
       " 'Estimate EMPLOYMENT STATUS Own children of the householder under 6 years',\n",
       " 'Estimate EMPLOYMENT STATUS Own children of the householder under 6 years All parents in family in labor force',\n",
       " 'Estimate EMPLOYMENT STATUS Own children of the householder 6 to 17 years',\n",
       " 'Estimate EMPLOYMENT STATUS Own children of the householder 6 to 17 years All parents in family in labor force',\n",
       " 'Estimate COMMUTING TO WORK Workers 16 years and over',\n",
       " 'Estimate COMMUTING TO WORK Workers 16 years and over Car, truck, or van -- drove alone',\n",
       " 'Estimate COMMUTING TO WORK Workers 16 years and over Car, truck, or van -- carpooled',\n",
       " 'Estimate COMMUTING TO WORK Workers 16 years and over Public transportation (excluding taxicab)',\n",
       " 'Estimate COMMUTING TO WORK Workers 16 years and over Walked',\n",
       " 'Estimate COMMUTING TO WORK Workers 16 years and over Other means',\n",
       " 'Estimate COMMUTING TO WORK Workers 16 years and over Worked at home',\n",
       " 'Estimate COMMUTING TO WORK Workers 16 years and over Mean travel time to work (minutes)',\n",
       " 'Estimate OCCUPATION Civilian employed population 16 years and over',\n",
       " 'Estimate OCCUPATION Civilian employed population 16 years and over Management, business, science, and arts occupations',\n",
       " 'Estimate OCCUPATION Civilian employed population 16 years and over Service occupations',\n",
       " 'Estimate OCCUPATION Civilian employed population 16 years and over Sales and office occupations',\n",
       " 'Estimate OCCUPATION Civilian employed population 16 years and over Natural resources, construction, and maintenance occupations',\n",
       " 'Estimate OCCUPATION Civilian employed population 16 years and over Production, transportation, and material moving occupations',\n",
       " 'Estimate INDUSTRY Civilian employed population 16 years and over',\n",
       " 'Estimate INDUSTRY Civilian employed population 16 years and over Agriculture, forestry, fishing and hunting, and mining',\n",
       " 'Estimate INDUSTRY Civilian employed population 16 years and over Construction',\n",
       " 'Estimate INDUSTRY Civilian employed population 16 years and over Manufacturing',\n",
       " 'Estimate INDUSTRY Civilian employed population 16 years and over Wholesale trade',\n",
       " 'Estimate INDUSTRY Civilian employed population 16 years and over Retail trade',\n",
       " 'Estimate INDUSTRY Civilian employed population 16 years and over Transportation and warehousing, and utilities',\n",
       " 'Estimate INDUSTRY Civilian employed population 16 years and over Information',\n",
       " 'Estimate INDUSTRY Civilian employed population 16 years and over Finance and insurance, and real estate and rental and leasing',\n",
       " 'Estimate INDUSTRY Civilian employed population 16 years and over Professional, scientific, and management, and administrative and waste management services',\n",
       " 'Estimate INDUSTRY Civilian employed population 16 years and over Educational services, and health care and social assistance',\n",
       " 'Estimate INDUSTRY Civilian employed population 16 years and over Arts, entertainment, and recreation, and accommodation and food services',\n",
       " 'Estimate INDUSTRY Civilian employed population 16 years and over Other services, except public administration',\n",
       " 'Estimate INDUSTRY Civilian employed population 16 years and over Public administration',\n",
       " 'Estimate CLASS OF WORKER Civilian employed population 16 years and over',\n",
       " 'Estimate CLASS OF WORKER Civilian employed population 16 years and over Private wage and salary workers',\n",
       " 'Estimate CLASS OF WORKER Civilian employed population 16 years and over Government workers',\n",
       " 'Estimate CLASS OF WORKER Civilian employed population 16 years and over Self-employed in own not incorporated business workers',\n",
       " 'Estimate CLASS OF WORKER Civilian employed population 16 years and over Unpaid family workers',\n",
       " 'Estimate INCOME AND BENEFITS (IN 2018 INFLATION-ADJUSTED DOLLARS) Total households',\n",
       " 'Estimate INCOME AND BENEFITS (IN 2018 INFLATION-ADJUSTED DOLLARS) Total households Less than $10,000',\n",
       " 'Estimate INCOME AND BENEFITS (IN 2018 INFLATION-ADJUSTED DOLLARS) Total households $10,000 to $14,999',\n",
       " 'Estimate INCOME AND BENEFITS (IN 2018 INFLATION-ADJUSTED DOLLARS) Total households $15,000 to $24,999',\n",
       " 'Estimate INCOME AND BENEFITS (IN 2018 INFLATION-ADJUSTED DOLLARS) Total households $25,000 to $34,999',\n",
       " 'Estimate INCOME AND BENEFITS (IN 2018 INFLATION-ADJUSTED DOLLARS) Total households $35,000 to $49,999',\n",
       " 'Estimate INCOME AND BENEFITS (IN 2018 INFLATION-ADJUSTED DOLLARS) Total households $50,000 to $74,999',\n",
       " 'Estimate INCOME AND BENEFITS (IN 2018 INFLATION-ADJUSTED DOLLARS) Total households $75,000 to $99,999',\n",
       " 'Estimate INCOME AND BENEFITS (IN 2018 INFLATION-ADJUSTED DOLLARS) Total households $100,000 to $149,999',\n",
       " 'Estimate INCOME AND BENEFITS (IN 2018 INFLATION-ADJUSTED DOLLARS) Total households $150,000 to $199,999',\n",
       " 'Estimate INCOME AND BENEFITS (IN 2018 INFLATION-ADJUSTED DOLLARS) Total households $200,000 or more',\n",
       " 'Estimate INCOME AND BENEFITS (IN 2018 INFLATION-ADJUSTED DOLLARS) Total households Median household income (dollars)',\n",
       " 'Estimate INCOME AND BENEFITS (IN 2018 INFLATION-ADJUSTED DOLLARS) Total households Mean household income (dollars)',\n",
       " 'Estimate INCOME AND BENEFITS (IN 2018 INFLATION-ADJUSTED DOLLARS) Total households With earnings',\n",
       " 'Estimate INCOME AND BENEFITS (IN 2018 INFLATION-ADJUSTED DOLLARS) Total households With earnings Mean earnings (dollars)',\n",
       " 'Estimate INCOME AND BENEFITS (IN 2018 INFLATION-ADJUSTED DOLLARS) Total households With Social Security',\n",
       " 'Estimate INCOME AND BENEFITS (IN 2018 INFLATION-ADJUSTED DOLLARS) Total households With Social Security Mean Social Security income (dollars)',\n",
       " 'Estimate INCOME AND BENEFITS (IN 2018 INFLATION-ADJUSTED DOLLARS) Total households With retirement income',\n",
       " 'Estimate INCOME AND BENEFITS (IN 2018 INFLATION-ADJUSTED DOLLARS) Total households With retirement income Mean retirement income (dollars)',\n",
       " 'Estimate INCOME AND BENEFITS (IN 2018 INFLATION-ADJUSTED DOLLARS) Total households With Supplemental Security Income',\n",
       " 'Estimate INCOME AND BENEFITS (IN 2018 INFLATION-ADJUSTED DOLLARS) Total households With Supplemental Security Income Mean Supplemental Security Income (dollars)',\n",
       " 'Estimate INCOME AND BENEFITS (IN 2018 INFLATION-ADJUSTED DOLLARS) Total households With cash public assistance income',\n",
       " 'Estimate INCOME AND BENEFITS (IN 2018 INFLATION-ADJUSTED DOLLARS) Total households With cash public assistance income Mean cash public assistance income (dollars)',\n",
       " 'Estimate INCOME AND BENEFITS (IN 2018 INFLATION-ADJUSTED DOLLARS) Total households With Food Stamp/SNAP benefits in the past 12 months',\n",
       " 'Estimate INCOME AND BENEFITS (IN 2018 INFLATION-ADJUSTED DOLLARS) Families',\n",
       " 'Estimate INCOME AND BENEFITS (IN 2018 INFLATION-ADJUSTED DOLLARS) Families Less than $10,000',\n",
       " 'Estimate INCOME AND BENEFITS (IN 2018 INFLATION-ADJUSTED DOLLARS) Families $10,000 to $14,999',\n",
       " 'Estimate INCOME AND BENEFITS (IN 2018 INFLATION-ADJUSTED DOLLARS) Families $15,000 to $24,999',\n",
       " 'Estimate INCOME AND BENEFITS (IN 2018 INFLATION-ADJUSTED DOLLARS) Families $25,000 to $34,999',\n",
       " 'Estimate INCOME AND BENEFITS (IN 2018 INFLATION-ADJUSTED DOLLARS) Families $35,000 to $49,999',\n",
       " 'Estimate INCOME AND BENEFITS (IN 2018 INFLATION-ADJUSTED DOLLARS) Families $50,000 to $74,999',\n",
       " 'Estimate INCOME AND BENEFITS (IN 2018 INFLATION-ADJUSTED DOLLARS) Families $75,000 to $99,999',\n",
       " 'Estimate INCOME AND BENEFITS (IN 2018 INFLATION-ADJUSTED DOLLARS) Families $100,000 to $149,999',\n",
       " 'Estimate INCOME AND BENEFITS (IN 2018 INFLATION-ADJUSTED DOLLARS) Families $150,000 to $199,999',\n",
       " 'Estimate INCOME AND BENEFITS (IN 2018 INFLATION-ADJUSTED DOLLARS) Families $200,000 or more',\n",
       " 'Estimate INCOME AND BENEFITS (IN 2018 INFLATION-ADJUSTED DOLLARS) Families Median family income (dollars)',\n",
       " 'Estimate INCOME AND BENEFITS (IN 2018 INFLATION-ADJUSTED DOLLARS) Families Mean family income (dollars)',\n",
       " 'Estimate INCOME AND BENEFITS (IN 2018 INFLATION-ADJUSTED DOLLARS) Per capita income (dollars)',\n",
       " 'Estimate INCOME AND BENEFITS (IN 2018 INFLATION-ADJUSTED DOLLARS) Nonfamily households',\n",
       " 'Estimate INCOME AND BENEFITS (IN 2018 INFLATION-ADJUSTED DOLLARS) Nonfamily households Median nonfamily income (dollars)',\n",
       " 'Estimate INCOME AND BENEFITS (IN 2018 INFLATION-ADJUSTED DOLLARS) Nonfamily households Mean nonfamily income (dollars)',\n",
       " 'Estimate INCOME AND BENEFITS (IN 2018 INFLATION-ADJUSTED DOLLARS) Median earnings for workers (dollars)',\n",
       " 'Estimate INCOME AND BENEFITS (IN 2018 INFLATION-ADJUSTED DOLLARS) Median earnings for male full-time, year-round workers (dollars)',\n",
       " 'Estimate INCOME AND BENEFITS (IN 2018 INFLATION-ADJUSTED DOLLARS) Median earnings for female full-time, year-round workers (dollars)',\n",
       " 'Estimate HEALTH INSURANCE COVERAGE Civilian noninstitutionalized population',\n",
       " 'Estimate HEALTH INSURANCE COVERAGE Civilian noninstitutionalized population With health insurance coverage',\n",
       " 'Estimate HEALTH INSURANCE COVERAGE Civilian noninstitutionalized population With health insurance coverage With private health insurance',\n",
       " 'Estimate HEALTH INSURANCE COVERAGE Civilian noninstitutionalized population With health insurance coverage With public coverage',\n",
       " 'Estimate HEALTH INSURANCE COVERAGE Civilian noninstitutionalized population No health insurance coverage',\n",
       " 'Estimate HEALTH INSURANCE COVERAGE Civilian noninstitutionalized population Civilian noninstitutionalized population under 19 years',\n",
       " 'Estimate HEALTH INSURANCE COVERAGE Civilian noninstitutionalized population Civilian noninstitutionalized population under 19 years No health insurance coverage',\n",
       " 'Estimate HEALTH INSURANCE COVERAGE Civilian noninstitutionalized population Civilian noninstitutionalized population 19 to 64 years',\n",
       " 'Estimate HEALTH INSURANCE COVERAGE Civilian noninstitutionalized population Civilian noninstitutionalized population 19 to 64 years In labor force',\n",
       " 'Estimate HEALTH INSURANCE COVERAGE Civilian noninstitutionalized population Civilian noninstitutionalized population 19 to 64 years In labor force Employed',\n",
       " 'Estimate HEALTH INSURANCE COVERAGE Civilian noninstitutionalized population Civilian noninstitutionalized population 19 to 64 years In labor force Employed With health insurance coverage',\n",
       " 'Estimate HEALTH INSURANCE COVERAGE Civilian noninstitutionalized population Civilian noninstitutionalized population 19 to 64 years In labor force Employed With health insurance coverage With private health insurance',\n",
       " 'Estimate HEALTH INSURANCE COVERAGE Civilian noninstitutionalized population Civilian noninstitutionalized population 19 to 64 years In labor force Employed With health insurance coverage With public coverage',\n",
       " 'Estimate HEALTH INSURANCE COVERAGE Civilian noninstitutionalized population Civilian noninstitutionalized population 19 to 64 years In labor force Employed No health insurance coverage',\n",
       " 'Estimate HEALTH INSURANCE COVERAGE Civilian noninstitutionalized population Civilian noninstitutionalized population 19 to 64 years In labor force Unemployed',\n",
       " 'Estimate HEALTH INSURANCE COVERAGE Civilian noninstitutionalized population Civilian noninstitutionalized population 19 to 64 years In labor force Unemployed With health insurance coverage',\n",
       " 'Estimate HEALTH INSURANCE COVERAGE Civilian noninstitutionalized population Civilian noninstitutionalized population 19 to 64 years In labor force Unemployed With health insurance coverage With private health insurance',\n",
       " 'Estimate HEALTH INSURANCE COVERAGE Civilian noninstitutionalized population Civilian noninstitutionalized population 19 to 64 years In labor force Unemployed With health insurance coverage With public coverage',\n",
       " 'Estimate HEALTH INSURANCE COVERAGE Civilian noninstitutionalized population Civilian noninstitutionalized population 19 to 64 years In labor force Unemployed No health insurance coverage',\n",
       " 'Estimate HEALTH INSURANCE COVERAGE Civilian noninstitutionalized population Civilian noninstitutionalized population 19 to 64 years Not in labor force',\n",
       " 'Estimate HEALTH INSURANCE COVERAGE Civilian noninstitutionalized population Civilian noninstitutionalized population 19 to 64 years Not in labor force With health insurance coverage',\n",
       " 'Estimate HEALTH INSURANCE COVERAGE Civilian noninstitutionalized population Civilian noninstitutionalized population 19 to 64 years Not in labor force With health insurance coverage With private health insurance',\n",
       " 'Estimate HEALTH INSURANCE COVERAGE Civilian noninstitutionalized population Civilian noninstitutionalized population 19 to 64 years Not in labor force With health insurance coverage With public coverage',\n",
       " 'Estimate HEALTH INSURANCE COVERAGE Civilian noninstitutionalized population Civilian noninstitutionalized population 19 to 64 years Not in labor force No health insurance coverage',\n",
       " 'Estimate PERCENTAGE OF FAMILIES AND PEOPLE WHOSE INCOME IN THE PAST 12 MONTHS IS BELOW THE POVERTY LEVEL All families',\n",
       " 'Estimate PERCENTAGE OF FAMILIES AND PEOPLE WHOSE INCOME IN THE PAST 12 MONTHS IS BELOW THE POVERTY LEVEL All families With related children of the householder under 18 years',\n",
       " 'Estimate PERCENTAGE OF FAMILIES AND PEOPLE WHOSE INCOME IN THE PAST 12 MONTHS IS BELOW THE POVERTY LEVEL All families With related children of the householder under 18 years With related children of the householder under 5 years only',\n",
       " 'Estimate PERCENTAGE OF FAMILIES AND PEOPLE WHOSE INCOME IN THE PAST 12 MONTHS IS BELOW THE POVERTY LEVEL Married couple families',\n",
       " 'Estimate PERCENTAGE OF FAMILIES AND PEOPLE WHOSE INCOME IN THE PAST 12 MONTHS IS BELOW THE POVERTY LEVEL Married couple families With related children of the householder under 18 years',\n",
       " 'Estimate PERCENTAGE OF FAMILIES AND PEOPLE WHOSE INCOME IN THE PAST 12 MONTHS IS BELOW THE POVERTY LEVEL Married couple families With related children of the householder under 18 years With related children of the householder under 5 years only',\n",
       " 'Estimate PERCENTAGE OF FAMILIES AND PEOPLE WHOSE INCOME IN THE PAST 12 MONTHS IS BELOW THE POVERTY LEVEL Families with female householder, no husband present',\n",
       " 'Estimate PERCENTAGE OF FAMILIES AND PEOPLE WHOSE INCOME IN THE PAST 12 MONTHS IS BELOW THE POVERTY LEVEL Families with female householder, no husband present With related children of the householder under 18 years',\n",
       " 'Estimate PERCENTAGE OF FAMILIES AND PEOPLE WHOSE INCOME IN THE PAST 12 MONTHS IS BELOW THE POVERTY LEVEL Families with female householder, no husband present With related children of the householder under 18 years With related children of the householder under 5 years only',\n",
       " 'Estimate PERCENTAGE OF FAMILIES AND PEOPLE WHOSE INCOME IN THE PAST 12 MONTHS IS BELOW THE POVERTY LEVEL All people',\n",
       " 'Estimate PERCENTAGE OF FAMILIES AND PEOPLE WHOSE INCOME IN THE PAST 12 MONTHS IS BELOW THE POVERTY LEVEL All people Under 18 years',\n",
       " 'Estimate PERCENTAGE OF FAMILIES AND PEOPLE WHOSE INCOME IN THE PAST 12 MONTHS IS BELOW THE POVERTY LEVEL All people Under 18 years Related children of the householder under 18 years',\n",
       " 'Estimate PERCENTAGE OF FAMILIES AND PEOPLE WHOSE INCOME IN THE PAST 12 MONTHS IS BELOW THE POVERTY LEVEL All people Under 18 years Related children of the householder under 18 years Related children of the householder under 5 years',\n",
       " 'Estimate PERCENTAGE OF FAMILIES AND PEOPLE WHOSE INCOME IN THE PAST 12 MONTHS IS BELOW THE POVERTY LEVEL All people Under 18 years Related children of the householder under 18 years Related children of the householder 5 to 17 years',\n",
       " 'Estimate PERCENTAGE OF FAMILIES AND PEOPLE WHOSE INCOME IN THE PAST 12 MONTHS IS BELOW THE POVERTY LEVEL All people 18 years and over',\n",
       " 'Estimate PERCENTAGE OF FAMILIES AND PEOPLE WHOSE INCOME IN THE PAST 12 MONTHS IS BELOW THE POVERTY LEVEL All people 18 years and over 18 to 64 years',\n",
       " 'Estimate PERCENTAGE OF FAMILIES AND PEOPLE WHOSE INCOME IN THE PAST 12 MONTHS IS BELOW THE POVERTY LEVEL All people 18 years and over 65 years and over',\n",
       " 'Estimate PERCENTAGE OF FAMILIES AND PEOPLE WHOSE INCOME IN THE PAST 12 MONTHS IS BELOW THE POVERTY LEVEL People in families',\n",
       " 'Estimate PERCENTAGE OF FAMILIES AND PEOPLE WHOSE INCOME IN THE PAST 12 MONTHS IS BELOW THE POVERTY LEVEL Unrelated individuals 15 years and over',\n",
       " 'Geographic Area Name',\n",
       " 'state',\n",
       " 'county',\n",
       " 'tract']"
      ]
     },
     "execution_count": 38,
     "metadata": {},
     "output_type": "execute_result"
    }
   ],
   "source": [
    "dp03_18.columns.tolist()"
   ]
  },
  {
   "cell_type": "code",
   "execution_count": 54,
   "metadata": {},
   "outputs": [],
   "source": [
    "dp03_cols = ['Geographic Area Name',\n",
    "             'GEO_ID',\n",
    "             'tract',\n",
    "             'Estimate EMPLOYMENT STATUS Population 16 years and over',\n",
    "             'Estimate EMPLOYMENT STATUS Population 16 years and over In labor force',\n",
    "             'Estimate EMPLOYMENT STATUS Population 16 years and over Not in labor force', \n",
    "             'Estimate OCCUPATION Civilian employed population 16 years and over Management, business, science, and arts occupations',\n",
    "             'Estimate OCCUPATION Civilian employed population 16 years and over Service occupations',\n",
    "             'Estimate OCCUPATION Civilian employed population 16 years and over Sales and office occupations',\n",
    "             'Estimate OCCUPATION Civilian employed population 16 years and over Natural resources, construction, and maintenance occupations',\n",
    "             'Estimate INCOME AND BENEFITS (IN 2018 INFLATION-ADJUSTED DOLLARS) Total households Median household income (dollars)'\n",
    "            ]"
   ]
  },
  {
   "cell_type": "code",
   "execution_count": 55,
   "metadata": {},
   "outputs": [],
   "source": [
    "dp03_18sub = dp03_18[dp03_cols]"
   ]
  },
  {
   "cell_type": "code",
   "execution_count": 68,
   "metadata": {},
   "outputs": [
    {
     "data": {
      "text/html": [
       "<div>\n",
       "<style scoped>\n",
       "    .dataframe tbody tr th:only-of-type {\n",
       "        vertical-align: middle;\n",
       "    }\n",
       "\n",
       "    .dataframe tbody tr th {\n",
       "        vertical-align: top;\n",
       "    }\n",
       "\n",
       "    .dataframe thead th {\n",
       "        text-align: right;\n",
       "    }\n",
       "</style>\n",
       "<table border=\"1\" class=\"dataframe\">\n",
       "  <thead>\n",
       "    <tr style=\"text-align: right;\">\n",
       "      <th></th>\n",
       "      <th>Geographic Area Name</th>\n",
       "      <th>Geographic Area Name</th>\n",
       "      <th>GEO_ID</th>\n",
       "      <th>tract</th>\n",
       "      <th>Estimate EMPLOYMENT STATUS Population 16 years and over</th>\n",
       "      <th>Estimate EMPLOYMENT STATUS Population 16 years and over In labor force</th>\n",
       "      <th>Estimate EMPLOYMENT STATUS Population 16 years and over Not in labor force</th>\n",
       "      <th>Estimate OCCUPATION Civilian employed population 16 years and over Management, business, science, and arts occupations</th>\n",
       "      <th>Estimate OCCUPATION Civilian employed population 16 years and over Service occupations</th>\n",
       "      <th>Estimate OCCUPATION Civilian employed population 16 years and over Sales and office occupations</th>\n",
       "      <th>Estimate OCCUPATION Civilian employed population 16 years and over Natural resources, construction, and maintenance occupations</th>\n",
       "      <th>Estimate INCOME AND BENEFITS (IN 2018 INFLATION-ADJUSTED DOLLARS) Total households Median household income (dollars)</th>\n",
       "    </tr>\n",
       "  </thead>\n",
       "  <tbody>\n",
       "    <tr>\n",
       "      <th>1</th>\n",
       "      <td>Census Tract 626.44, Orange County, California</td>\n",
       "      <td>Census Tract 626.44, Orange County, California</td>\n",
       "      <td>1400000US06059062644</td>\n",
       "      <td>062644</td>\n",
       "      <td>6767</td>\n",
       "      <td>3967</td>\n",
       "      <td>2800</td>\n",
       "      <td>2547</td>\n",
       "      <td>262</td>\n",
       "      <td>819</td>\n",
       "      <td>91</td>\n",
       "      <td>146953</td>\n",
       "    </tr>\n",
       "    <tr>\n",
       "      <th>2</th>\n",
       "      <td>Census Tract 626.40, Orange County, California</td>\n",
       "      <td>Census Tract 626.40, Orange County, California</td>\n",
       "      <td>1400000US06059062640</td>\n",
       "      <td>062640</td>\n",
       "      <td>3062</td>\n",
       "      <td>2446</td>\n",
       "      <td>616</td>\n",
       "      <td>1202</td>\n",
       "      <td>287</td>\n",
       "      <td>563</td>\n",
       "      <td>63</td>\n",
       "      <td>84632</td>\n",
       "    </tr>\n",
       "  </tbody>\n",
       "</table>\n",
       "</div>"
      ],
      "text/plain": [
       "0                            Geographic Area Name  \\\n",
       "1  Census Tract 626.44, Orange County, California   \n",
       "2  Census Tract 626.40, Orange County, California   \n",
       "\n",
       "0                            Geographic Area Name                GEO_ID  \\\n",
       "1  Census Tract 626.44, Orange County, California  1400000US06059062644   \n",
       "2  Census Tract 626.40, Orange County, California  1400000US06059062640   \n",
       "\n",
       "0   tract  Estimate EMPLOYMENT STATUS Population 16 years and over  \\\n",
       "1  062644                                               6767         \n",
       "2  062640                                               3062         \n",
       "\n",
       "0  Estimate EMPLOYMENT STATUS Population 16 years and over In labor force  \\\n",
       "1                                               3967                        \n",
       "2                                               2446                        \n",
       "\n",
       "0  Estimate EMPLOYMENT STATUS Population 16 years and over Not in labor force  \\\n",
       "1                                               2800                            \n",
       "2                                                616                            \n",
       "\n",
       "0  Estimate OCCUPATION Civilian employed population 16 years and over Management, business, science, and arts occupations  \\\n",
       "1                                               2547                                                                        \n",
       "2                                               1202                                                                        \n",
       "\n",
       "0  Estimate OCCUPATION Civilian employed population 16 years and over Service occupations  \\\n",
       "1                                                262                                        \n",
       "2                                                287                                        \n",
       "\n",
       "0  Estimate OCCUPATION Civilian employed population 16 years and over Sales and office occupations  \\\n",
       "1                                                819                                                 \n",
       "2                                                563                                                 \n",
       "\n",
       "0  Estimate OCCUPATION Civilian employed population 16 years and over Natural resources, construction, and maintenance occupations  \\\n",
       "1                                                 91                                                                                 \n",
       "2                                                 63                                                                                 \n",
       "\n",
       "0  Estimate INCOME AND BENEFITS (IN 2018 INFLATION-ADJUSTED DOLLARS) Total households Median household income (dollars)  \n",
       "1                                             146953                                                                     \n",
       "2                                              84632                                                                     "
      ]
     },
     "execution_count": 68,
     "metadata": {},
     "output_type": "execute_result"
    }
   ],
   "source": [
    "dp03_18sub.head(2)"
   ]
  },
  {
   "cell_type": "code",
   "execution_count": 60,
   "metadata": {},
   "outputs": [
    {
     "name": "stdout",
     "output_type": "stream",
     "text": [
      "<class 'pandas.core.frame.DataFrame'>\n",
      "Int64Index: 583 entries, 1 to 583\n",
      "Data columns (total 12 columns):\n",
      " #   Column                                                                                                                           Non-Null Count  Dtype \n",
      "---  ------                                                                                                                           --------------  ----- \n",
      " 0   Geographic Area Name                                                                                                             583 non-null    object\n",
      " 1   Geographic Area Name                                                                                                             583 non-null    object\n",
      " 2   GEO_ID                                                                                                                           583 non-null    object\n",
      " 3   tract                                                                                                                            583 non-null    object\n",
      " 4   Estimate EMPLOYMENT STATUS Population 16 years and over                                                                          583 non-null    object\n",
      " 5   Estimate EMPLOYMENT STATUS Population 16 years and over In labor force                                                           583 non-null    object\n",
      " 6   Estimate EMPLOYMENT STATUS Population 16 years and over Not in labor force                                                       583 non-null    object\n",
      " 7   Estimate OCCUPATION Civilian employed population 16 years and over Management, business, science, and arts occupations           583 non-null    object\n",
      " 8   Estimate OCCUPATION Civilian employed population 16 years and over Service occupations                                           583 non-null    object\n",
      " 9   Estimate OCCUPATION Civilian employed population 16 years and over Sales and office occupations                                  583 non-null    object\n",
      " 10  Estimate OCCUPATION Civilian employed population 16 years and over Natural resources, construction, and maintenance occupations  583 non-null    object\n",
      " 11  Estimate INCOME AND BENEFITS (IN 2018 INFLATION-ADJUSTED DOLLARS) Total households Median household income (dollars)             583 non-null    object\n",
      "dtypes: object(12)\n",
      "memory usage: 59.2+ KB\n"
     ]
    }
   ],
   "source": [
    "dp03_18sub.info()"
   ]
  },
  {
   "cell_type": "code",
   "execution_count": 58,
   "metadata": {},
   "outputs": [],
   "source": [
    "num_cols = ['Estimate EMPLOYMENT STATUS Population 16 years and over',\n",
    "             'Estimate EMPLOYMENT STATUS Population 16 years and over In labor force',\n",
    "             'Estimate EMPLOYMENT STATUS Population 16 years and over Not in labor force', \n",
    "             'Estimate OCCUPATION Civilian employed population 16 years and over Management, business, science, and arts occupations',\n",
    "             'Estimate OCCUPATION Civilian employed population 16 years and over Service occupations',\n",
    "             'Estimate OCCUPATION Civilian employed population 16 years and over Sales and office occupations',\n",
    "             'Estimate OCCUPATION Civilian employed population 16 years and over Natural resources, construction, and maintenance occupations',\n",
    "             'Estimate INCOME AND BENEFITS (IN 2018 INFLATION-ADJUSTED DOLLARS) Total households Median household income (dollars)']"
   ]
  },
  {
   "cell_type": "code",
   "execution_count": 65,
   "metadata": {
    "collapsed": true,
    "jupyter": {
     "outputs_hidden": true
    }
   },
   "outputs": [
    {
     "name": "stderr",
     "output_type": "stream",
     "text": [
      "<ipython-input-65-41ea6c34ecb4>:2: SettingWithCopyWarning: \n",
      "A value is trying to be set on a copy of a slice from a DataFrame.\n",
      "Try using .loc[row_indexer,col_indexer] = value instead\n",
      "\n",
      "See the caveats in the documentation: https://pandas.pydata.org/pandas-docs/stable/user_guide/indexing.html#returning-a-view-versus-a-copy\n",
      "  dp03_18sub[col] = pd.to_numeric(dp03_18sub[col])\n"
     ]
    }
   ],
   "source": [
    "for col in num_cols:\n",
    "    dp03_18sub[col] = pd.to_numeric(dp03_18sub[col])\n",
    "\n",
    "# will generate a warning (not an error) about making a change a copy of a slide of a dataframe.  \n",
    "# we will just proceed.  "
   ]
  },
  {
   "cell_type": "code",
   "execution_count": 464,
   "metadata": {},
   "outputs": [
    {
     "name": "stdout",
     "output_type": "stream",
     "text": [
      "<class 'pandas.core.frame.DataFrame'>\n",
      "Int64Index: 583 entries, 1 to 583\n",
      "Data columns (total 12 columns):\n",
      " #   Column                                                                                                                           Non-Null Count  Dtype \n",
      "---  ------                                                                                                                           --------------  ----- \n",
      " 0   Geographic Area Name                                                                                                             583 non-null    object\n",
      " 1   Geographic Area Name                                                                                                             583 non-null    object\n",
      " 2   GEO_ID                                                                                                                           583 non-null    object\n",
      " 3   tract                                                                                                                            583 non-null    object\n",
      " 4   Estimate EMPLOYMENT STATUS Population 16 years and over                                                                          583 non-null    int64 \n",
      " 5   Estimate EMPLOYMENT STATUS Population 16 years and over In labor force                                                           583 non-null    int64 \n",
      " 6   Estimate EMPLOYMENT STATUS Population 16 years and over Not in labor force                                                       583 non-null    int64 \n",
      " 7   Estimate OCCUPATION Civilian employed population 16 years and over Management, business, science, and arts occupations           583 non-null    int64 \n",
      " 8   Estimate OCCUPATION Civilian employed population 16 years and over Service occupations                                           583 non-null    int64 \n",
      " 9   Estimate OCCUPATION Civilian employed population 16 years and over Sales and office occupations                                  583 non-null    int64 \n",
      " 10  Estimate OCCUPATION Civilian employed population 16 years and over Natural resources, construction, and maintenance occupations  583 non-null    int64 \n",
      " 11  Estimate INCOME AND BENEFITS (IN 2018 INFLATION-ADJUSTED DOLLARS) Total households Median household income (dollars)             583 non-null    int64 \n",
      "dtypes: int64(8), object(4)\n",
      "memory usage: 59.2+ KB\n"
     ]
    }
   ],
   "source": [
    "dp03_18sub.info()"
   ]
  },
  {
   "cell_type": "code",
   "execution_count": 77,
   "metadata": {},
   "outputs": [
    {
     "data": {
      "text/plain": [
       "086404    1\n",
       "099229    1\n",
       "063702    1\n",
       "110202    1\n",
       "063202    1\n",
       "         ..\n",
       "099602    1\n",
       "021913    1\n",
       "032045    1\n",
       "001403    1\n",
       "042103    1\n",
       "Name: tract, Length: 583, dtype: int64"
      ]
     },
     "execution_count": 77,
     "metadata": {},
     "output_type": "execute_result"
    }
   ],
   "source": [
    "dp03_18sub['tract'].value_counts()"
   ]
  },
  {
   "cell_type": "code",
   "execution_count": null,
   "metadata": {},
   "outputs": [],
   "source": []
  },
  {
   "cell_type": "code",
   "execution_count": null,
   "metadata": {},
   "outputs": [],
   "source": []
  },
  {
   "cell_type": "markdown",
   "metadata": {},
   "source": [
    "### Conversion file:  srprec < > census tract"
   ]
  },
  {
   "cell_type": "code",
   "execution_count": 147,
   "metadata": {},
   "outputs": [
    {
     "data": {
      "text/plain": [
       "(22985, 8)"
      ]
     },
     "execution_count": 147,
     "metadata": {},
     "output_type": "execute_result"
    }
   ],
   "source": [
    "# from Statewidedatabase.org\n",
    "# https://statewidedatabase.org/d10/g18_geo_conv.html\n",
    "# Orange County, right column, download 'SRPREC TO 2010 BLK' csv option.\n",
    "# url:  https://statewidedatabase.org/pub/data/G18/c059/c059_g18_sr_blk_map.csv\n",
    "\n",
    "convert18 = pd.read_csv('./map_files/c059_g18_sr_blk_map.csv')\n",
    "convert18.shape"
   ]
  },
  {
   "cell_type": "markdown",
   "metadata": {},
   "source": [
    "#### explore dataset"
   ]
  },
  {
   "cell_type": "code",
   "execution_count": 211,
   "metadata": {},
   "outputs": [
    {
     "data": {
      "text/html": [
       "<div>\n",
       "<style scoped>\n",
       "    .dataframe tbody tr th:only-of-type {\n",
       "        vertical-align: middle;\n",
       "    }\n",
       "\n",
       "    .dataframe tbody tr th {\n",
       "        vertical-align: top;\n",
       "    }\n",
       "\n",
       "    .dataframe thead th {\n",
       "        text-align: right;\n",
       "    }\n",
       "</style>\n",
       "<table border=\"1\" class=\"dataframe\">\n",
       "  <thead>\n",
       "    <tr style=\"text-align: right;\">\n",
       "      <th></th>\n",
       "      <th>srprec</th>\n",
       "      <th>tract</th>\n",
       "      <th>block</th>\n",
       "      <th>blkreg</th>\n",
       "      <th>srtotreg</th>\n",
       "      <th>pctsrprec</th>\n",
       "      <th>blktotreg</th>\n",
       "      <th>pctblk</th>\n",
       "    </tr>\n",
       "  </thead>\n",
       "  <tbody>\n",
       "    <tr>\n",
       "      <th>0</th>\n",
       "      <td>NaN</td>\n",
       "      <td>0</td>\n",
       "      <td>0</td>\n",
       "      <td>20</td>\n",
       "      <td>NaN</td>\n",
       "      <td>NaN</td>\n",
       "      <td>20</td>\n",
       "      <td>100.000000</td>\n",
       "    </tr>\n",
       "    <tr>\n",
       "      <th>1</th>\n",
       "      <td>10316.0</td>\n",
       "      <td>110106</td>\n",
       "      <td>2000</td>\n",
       "      <td>11</td>\n",
       "      <td>1720.0</td>\n",
       "      <td>0.639535</td>\n",
       "      <td>11</td>\n",
       "      <td>100.000000</td>\n",
       "    </tr>\n",
       "    <tr>\n",
       "      <th>2</th>\n",
       "      <td>10316.0</td>\n",
       "      <td>110106</td>\n",
       "      <td>2001</td>\n",
       "      <td>15</td>\n",
       "      <td>1720.0</td>\n",
       "      <td>0.872093</td>\n",
       "      <td>15</td>\n",
       "      <td>100.000000</td>\n",
       "    </tr>\n",
       "    <tr>\n",
       "      <th>3</th>\n",
       "      <td>10316.0</td>\n",
       "      <td>110106</td>\n",
       "      <td>2002</td>\n",
       "      <td>62</td>\n",
       "      <td>1720.0</td>\n",
       "      <td>3.604651</td>\n",
       "      <td>62</td>\n",
       "      <td>100.000000</td>\n",
       "    </tr>\n",
       "    <tr>\n",
       "      <th>4</th>\n",
       "      <td>10316.0</td>\n",
       "      <td>110106</td>\n",
       "      <td>2003</td>\n",
       "      <td>10</td>\n",
       "      <td>1720.0</td>\n",
       "      <td>0.581395</td>\n",
       "      <td>21</td>\n",
       "      <td>47.619048</td>\n",
       "    </tr>\n",
       "  </tbody>\n",
       "</table>\n",
       "</div>"
      ],
      "text/plain": [
       "    srprec   tract  block  blkreg  srtotreg  pctsrprec  blktotreg      pctblk\n",
       "0      NaN       0      0      20       NaN        NaN         20  100.000000\n",
       "1  10316.0  110106   2000      11    1720.0   0.639535         11  100.000000\n",
       "2  10316.0  110106   2001      15    1720.0   0.872093         15  100.000000\n",
       "3  10316.0  110106   2002      62    1720.0   3.604651         62  100.000000\n",
       "4  10316.0  110106   2003      10    1720.0   0.581395         21   47.619048"
      ]
     },
     "execution_count": 211,
     "metadata": {},
     "output_type": "execute_result"
    }
   ],
   "source": [
    "convert18.head()"
   ]
  },
  {
   "cell_type": "code",
   "execution_count": 75,
   "metadata": {},
   "outputs": [
    {
     "name": "stdout",
     "output_type": "stream",
     "text": [
      "<class 'pandas.core.frame.DataFrame'>\n",
      "RangeIndex: 22985 entries, 0 to 22984\n",
      "Data columns (total 8 columns):\n",
      " #   Column     Non-Null Count  Dtype  \n",
      "---  ------     --------------  -----  \n",
      " 0   srprec     22984 non-null  float64\n",
      " 1   tract      22985 non-null  int64  \n",
      " 2   block      22985 non-null  int64  \n",
      " 3   blkreg     22985 non-null  int64  \n",
      " 4   srtotreg   22984 non-null  float64\n",
      " 5   pctsrprec  22984 non-null  float64\n",
      " 6   blktotreg  22985 non-null  int64  \n",
      " 7   pctblk     22985 non-null  float64\n",
      "dtypes: float64(4), int64(4)\n",
      "memory usage: 1.4 MB\n"
     ]
    }
   ],
   "source": [
    "convert18.info()"
   ]
  },
  {
   "cell_type": "code",
   "execution_count": 79,
   "metadata": {},
   "outputs": [
    {
     "data": {
      "text/plain": [
       "583"
      ]
     },
     "execution_count": 79,
     "metadata": {},
     "output_type": "execute_result"
    }
   ],
   "source": [
    "convert18['tract'].nunique()"
   ]
  },
  {
   "cell_type": "code",
   "execution_count": 148,
   "metadata": {},
   "outputs": [
    {
     "data": {
      "text/plain": [
       "1334"
      ]
     },
     "execution_count": 148,
     "metadata": {},
     "output_type": "execute_result"
    }
   ],
   "source": [
    "convert18['srprec'].nunique()"
   ]
  },
  {
   "cell_type": "code",
   "execution_count": 197,
   "metadata": {},
   "outputs": [
    {
     "data": {
      "text/plain": [
       "3341      2001.0\n",
       "3371      2001.0\n",
       "3370      2001.0\n",
       "3369      2001.0\n",
       "3368      2001.0\n",
       "          ...   \n",
       "22957    75702.0\n",
       "22956    75702.0\n",
       "22970    75702.0\n",
       "22960    75702.0\n",
       "0            NaN\n",
       "Name: srprec, Length: 22985, dtype: float64"
      ]
     },
     "execution_count": 197,
     "metadata": {},
     "output_type": "execute_result"
    }
   ],
   "source": [
    "convert18['srprec'].sort_values()"
   ]
  },
  {
   "cell_type": "code",
   "execution_count": 242,
   "metadata": {},
   "outputs": [
    {
     "data": {
      "text/plain": [
       "179      2001\n",
       "180      2002\n",
       "181      2008\n",
       "182      2009\n",
       "183      2011\n",
       "        ...  \n",
       "1540    75116\n",
       "1541    75117\n",
       "1542    75122\n",
       "1543    75701\n",
       "1544    75702\n",
       "Name: srprec, Length: 1334, dtype: Int64"
      ]
     },
     "execution_count": 242,
     "metadata": {},
     "output_type": "execute_result"
    }
   ],
   "source": [
    "data18['srprec'].sort_values()"
   ]
  },
  {
   "cell_type": "code",
   "execution_count": null,
   "metadata": {},
   "outputs": [],
   "source": []
  },
  {
   "cell_type": "markdown",
   "metadata": {},
   "source": [
    "#### understand how srprec, tract, block, and pctsrprec relate"
   ]
  },
  {
   "cell_type": "code",
   "execution_count": 216,
   "metadata": {},
   "outputs": [
    {
     "data": {
      "text/plain": [
       "array([11602, 86501, 86502])"
      ]
     },
     "execution_count": 216,
     "metadata": {},
     "output_type": "execute_result"
    }
   ],
   "source": [
    "convert18.loc[convert18['srprec'] == 2001]['tract'].unique()\n",
    "\n",
    "# precinct 2001 has 3 tracts"
   ]
  },
  {
   "cell_type": "code",
   "execution_count": 231,
   "metadata": {},
   "outputs": [
    {
     "data": {
      "text/html": [
       "<div>\n",
       "<style scoped>\n",
       "    .dataframe tbody tr th:only-of-type {\n",
       "        vertical-align: middle;\n",
       "    }\n",
       "\n",
       "    .dataframe tbody tr th {\n",
       "        vertical-align: top;\n",
       "    }\n",
       "\n",
       "    .dataframe thead th {\n",
       "        text-align: right;\n",
       "    }\n",
       "</style>\n",
       "<table border=\"1\" class=\"dataframe\">\n",
       "  <thead>\n",
       "    <tr style=\"text-align: right;\">\n",
       "      <th></th>\n",
       "      <th>srprec</th>\n",
       "      <th>tract</th>\n",
       "      <th>block</th>\n",
       "      <th>blkreg</th>\n",
       "      <th>srtotreg</th>\n",
       "      <th>pctsrprec</th>\n",
       "      <th>blktotreg</th>\n",
       "      <th>pctblk</th>\n",
       "    </tr>\n",
       "  </thead>\n",
       "  <tbody>\n",
       "    <tr>\n",
       "      <th>3341</th>\n",
       "      <td>2001.0</td>\n",
       "      <td>11602</td>\n",
       "      <td>1038</td>\n",
       "      <td>1</td>\n",
       "      <td>679.0</td>\n",
       "      <td>0.147275</td>\n",
       "      <td>1</td>\n",
       "      <td>100.0</td>\n",
       "    </tr>\n",
       "    <tr>\n",
       "      <th>3342</th>\n",
       "      <td>2001.0</td>\n",
       "      <td>11602</td>\n",
       "      <td>2025</td>\n",
       "      <td>33</td>\n",
       "      <td>679.0</td>\n",
       "      <td>4.860088</td>\n",
       "      <td>33</td>\n",
       "      <td>100.0</td>\n",
       "    </tr>\n",
       "    <tr>\n",
       "      <th>3343</th>\n",
       "      <td>2001.0</td>\n",
       "      <td>11602</td>\n",
       "      <td>2026</td>\n",
       "      <td>12</td>\n",
       "      <td>679.0</td>\n",
       "      <td>1.767305</td>\n",
       "      <td>12</td>\n",
       "      <td>100.0</td>\n",
       "    </tr>\n",
       "    <tr>\n",
       "      <th>3344</th>\n",
       "      <td>2001.0</td>\n",
       "      <td>11602</td>\n",
       "      <td>2028</td>\n",
       "      <td>24</td>\n",
       "      <td>679.0</td>\n",
       "      <td>3.534610</td>\n",
       "      <td>24</td>\n",
       "      <td>100.0</td>\n",
       "    </tr>\n",
       "    <tr>\n",
       "      <th>3345</th>\n",
       "      <td>2001.0</td>\n",
       "      <td>11602</td>\n",
       "      <td>2032</td>\n",
       "      <td>3</td>\n",
       "      <td>679.0</td>\n",
       "      <td>0.441826</td>\n",
       "      <td>3</td>\n",
       "      <td>100.0</td>\n",
       "    </tr>\n",
       "    <tr>\n",
       "      <th>...</th>\n",
       "      <td>...</td>\n",
       "      <td>...</td>\n",
       "      <td>...</td>\n",
       "      <td>...</td>\n",
       "      <td>...</td>\n",
       "      <td>...</td>\n",
       "      <td>...</td>\n",
       "      <td>...</td>\n",
       "    </tr>\n",
       "    <tr>\n",
       "      <th>3367</th>\n",
       "      <td>2001.0</td>\n",
       "      <td>86502</td>\n",
       "      <td>1007</td>\n",
       "      <td>31</td>\n",
       "      <td>679.0</td>\n",
       "      <td>4.565538</td>\n",
       "      <td>31</td>\n",
       "      <td>100.0</td>\n",
       "    </tr>\n",
       "    <tr>\n",
       "      <th>3368</th>\n",
       "      <td>2001.0</td>\n",
       "      <td>86502</td>\n",
       "      <td>1012</td>\n",
       "      <td>1</td>\n",
       "      <td>679.0</td>\n",
       "      <td>0.147275</td>\n",
       "      <td>1</td>\n",
       "      <td>100.0</td>\n",
       "    </tr>\n",
       "    <tr>\n",
       "      <th>3369</th>\n",
       "      <td>2001.0</td>\n",
       "      <td>86502</td>\n",
       "      <td>1014</td>\n",
       "      <td>222</td>\n",
       "      <td>679.0</td>\n",
       "      <td>32.695140</td>\n",
       "      <td>222</td>\n",
       "      <td>100.0</td>\n",
       "    </tr>\n",
       "    <tr>\n",
       "      <th>3370</th>\n",
       "      <td>2001.0</td>\n",
       "      <td>86502</td>\n",
       "      <td>1017</td>\n",
       "      <td>9</td>\n",
       "      <td>679.0</td>\n",
       "      <td>1.325479</td>\n",
       "      <td>9</td>\n",
       "      <td>100.0</td>\n",
       "    </tr>\n",
       "    <tr>\n",
       "      <th>3371</th>\n",
       "      <td>2001.0</td>\n",
       "      <td>86502</td>\n",
       "      <td>1020</td>\n",
       "      <td>82</td>\n",
       "      <td>679.0</td>\n",
       "      <td>12.076583</td>\n",
       "      <td>82</td>\n",
       "      <td>100.0</td>\n",
       "    </tr>\n",
       "  </tbody>\n",
       "</table>\n",
       "<p>31 rows × 8 columns</p>\n",
       "</div>"
      ],
      "text/plain": [
       "      srprec  tract  block  blkreg  srtotreg  pctsrprec  blktotreg  pctblk\n",
       "3341  2001.0  11602   1038       1     679.0   0.147275          1   100.0\n",
       "3342  2001.0  11602   2025      33     679.0   4.860088         33   100.0\n",
       "3343  2001.0  11602   2026      12     679.0   1.767305         12   100.0\n",
       "3344  2001.0  11602   2028      24     679.0   3.534610         24   100.0\n",
       "3345  2001.0  11602   2032       3     679.0   0.441826          3   100.0\n",
       "...      ...    ...    ...     ...       ...        ...        ...     ...\n",
       "3367  2001.0  86502   1007      31     679.0   4.565538         31   100.0\n",
       "3368  2001.0  86502   1012       1     679.0   0.147275          1   100.0\n",
       "3369  2001.0  86502   1014     222     679.0  32.695140        222   100.0\n",
       "3370  2001.0  86502   1017       9     679.0   1.325479          9   100.0\n",
       "3371  2001.0  86502   1020      82     679.0  12.076583         82   100.0\n",
       "\n",
       "[31 rows x 8 columns]"
      ]
     },
     "execution_count": 231,
     "metadata": {},
     "output_type": "execute_result"
    }
   ],
   "source": [
    "convert18.loc[convert18['srprec'] == 2001]\n",
    "\n",
    "# precinct 2001 has 31 blocks\n",
    "# thus, within one precinct, each tract has ~10 blocks"
   ]
  },
  {
   "cell_type": "code",
   "execution_count": 241,
   "metadata": {},
   "outputs": [
    {
     "data": {
      "text/html": [
       "<div>\n",
       "<style scoped>\n",
       "    .dataframe tbody tr th:only-of-type {\n",
       "        vertical-align: middle;\n",
       "    }\n",
       "\n",
       "    .dataframe tbody tr th {\n",
       "        vertical-align: top;\n",
       "    }\n",
       "\n",
       "    .dataframe thead th {\n",
       "        text-align: right;\n",
       "    }\n",
       "</style>\n",
       "<table border=\"1\" class=\"dataframe\">\n",
       "  <thead>\n",
       "    <tr style=\"text-align: right;\">\n",
       "      <th></th>\n",
       "      <th>srprec</th>\n",
       "      <th>tract</th>\n",
       "      <th>block</th>\n",
       "      <th>blkreg</th>\n",
       "      <th>srtotreg</th>\n",
       "      <th>pctsrprec</th>\n",
       "      <th>blktotreg</th>\n",
       "      <th>pctblk</th>\n",
       "    </tr>\n",
       "  </thead>\n",
       "  <tbody>\n",
       "    <tr>\n",
       "      <th>3341</th>\n",
       "      <td>2001.0</td>\n",
       "      <td>11602</td>\n",
       "      <td>1038</td>\n",
       "      <td>1</td>\n",
       "      <td>679.0</td>\n",
       "      <td>0.147275</td>\n",
       "      <td>1</td>\n",
       "      <td>100.0</td>\n",
       "    </tr>\n",
       "    <tr>\n",
       "      <th>3342</th>\n",
       "      <td>2001.0</td>\n",
       "      <td>11602</td>\n",
       "      <td>2025</td>\n",
       "      <td>33</td>\n",
       "      <td>679.0</td>\n",
       "      <td>4.860088</td>\n",
       "      <td>33</td>\n",
       "      <td>100.0</td>\n",
       "    </tr>\n",
       "    <tr>\n",
       "      <th>3343</th>\n",
       "      <td>2001.0</td>\n",
       "      <td>11602</td>\n",
       "      <td>2026</td>\n",
       "      <td>12</td>\n",
       "      <td>679.0</td>\n",
       "      <td>1.767305</td>\n",
       "      <td>12</td>\n",
       "      <td>100.0</td>\n",
       "    </tr>\n",
       "    <tr>\n",
       "      <th>3344</th>\n",
       "      <td>2001.0</td>\n",
       "      <td>11602</td>\n",
       "      <td>2028</td>\n",
       "      <td>24</td>\n",
       "      <td>679.0</td>\n",
       "      <td>3.534610</td>\n",
       "      <td>24</td>\n",
       "      <td>100.0</td>\n",
       "    </tr>\n",
       "    <tr>\n",
       "      <th>3345</th>\n",
       "      <td>2001.0</td>\n",
       "      <td>11602</td>\n",
       "      <td>2032</td>\n",
       "      <td>3</td>\n",
       "      <td>679.0</td>\n",
       "      <td>0.441826</td>\n",
       "      <td>3</td>\n",
       "      <td>100.0</td>\n",
       "    </tr>\n",
       "    <tr>\n",
       "      <th>...</th>\n",
       "      <td>...</td>\n",
       "      <td>...</td>\n",
       "      <td>...</td>\n",
       "      <td>...</td>\n",
       "      <td>...</td>\n",
       "      <td>...</td>\n",
       "      <td>...</td>\n",
       "      <td>...</td>\n",
       "    </tr>\n",
       "    <tr>\n",
       "      <th>3367</th>\n",
       "      <td>2001.0</td>\n",
       "      <td>86502</td>\n",
       "      <td>1007</td>\n",
       "      <td>31</td>\n",
       "      <td>679.0</td>\n",
       "      <td>4.565538</td>\n",
       "      <td>31</td>\n",
       "      <td>100.0</td>\n",
       "    </tr>\n",
       "    <tr>\n",
       "      <th>3368</th>\n",
       "      <td>2001.0</td>\n",
       "      <td>86502</td>\n",
       "      <td>1012</td>\n",
       "      <td>1</td>\n",
       "      <td>679.0</td>\n",
       "      <td>0.147275</td>\n",
       "      <td>1</td>\n",
       "      <td>100.0</td>\n",
       "    </tr>\n",
       "    <tr>\n",
       "      <th>3369</th>\n",
       "      <td>2001.0</td>\n",
       "      <td>86502</td>\n",
       "      <td>1014</td>\n",
       "      <td>222</td>\n",
       "      <td>679.0</td>\n",
       "      <td>32.695140</td>\n",
       "      <td>222</td>\n",
       "      <td>100.0</td>\n",
       "    </tr>\n",
       "    <tr>\n",
       "      <th>3370</th>\n",
       "      <td>2001.0</td>\n",
       "      <td>86502</td>\n",
       "      <td>1017</td>\n",
       "      <td>9</td>\n",
       "      <td>679.0</td>\n",
       "      <td>1.325479</td>\n",
       "      <td>9</td>\n",
       "      <td>100.0</td>\n",
       "    </tr>\n",
       "    <tr>\n",
       "      <th>3371</th>\n",
       "      <td>2001.0</td>\n",
       "      <td>86502</td>\n",
       "      <td>1020</td>\n",
       "      <td>82</td>\n",
       "      <td>679.0</td>\n",
       "      <td>12.076583</td>\n",
       "      <td>82</td>\n",
       "      <td>100.0</td>\n",
       "    </tr>\n",
       "  </tbody>\n",
       "</table>\n",
       "<p>31 rows × 8 columns</p>\n",
       "</div>"
      ],
      "text/plain": [
       "      srprec  tract  block  blkreg  srtotreg  pctsrprec  blktotreg  pctblk\n",
       "3341  2001.0  11602   1038       1     679.0   0.147275          1   100.0\n",
       "3342  2001.0  11602   2025      33     679.0   4.860088         33   100.0\n",
       "3343  2001.0  11602   2026      12     679.0   1.767305         12   100.0\n",
       "3344  2001.0  11602   2028      24     679.0   3.534610         24   100.0\n",
       "3345  2001.0  11602   2032       3     679.0   0.441826          3   100.0\n",
       "...      ...    ...    ...     ...       ...        ...        ...     ...\n",
       "3367  2001.0  86502   1007      31     679.0   4.565538         31   100.0\n",
       "3368  2001.0  86502   1012       1     679.0   0.147275          1   100.0\n",
       "3369  2001.0  86502   1014     222     679.0  32.695140        222   100.0\n",
       "3370  2001.0  86502   1017       9     679.0   1.325479          9   100.0\n",
       "3371  2001.0  86502   1020      82     679.0  12.076583         82   100.0\n",
       "\n",
       "[31 rows x 8 columns]"
      ]
     },
     "execution_count": 241,
     "metadata": {},
     "output_type": "execute_result"
    }
   ],
   "source": [
    "convert18.loc[convert18['srprec'] == 2001]"
   ]
  },
  {
   "cell_type": "code",
   "execution_count": 260,
   "metadata": {},
   "outputs": [
    {
     "data": {
      "text/html": [
       "<div>\n",
       "<style scoped>\n",
       "    .dataframe tbody tr th:only-of-type {\n",
       "        vertical-align: middle;\n",
       "    }\n",
       "\n",
       "    .dataframe tbody tr th {\n",
       "        vertical-align: top;\n",
       "    }\n",
       "\n",
       "    .dataframe thead th {\n",
       "        text-align: right;\n",
       "    }\n",
       "</style>\n",
       "<table border=\"1\" class=\"dataframe\">\n",
       "  <thead>\n",
       "    <tr style=\"text-align: right;\">\n",
       "      <th></th>\n",
       "      <th>tract</th>\n",
       "      <th>block</th>\n",
       "      <th>blkreg</th>\n",
       "      <th>srtotreg</th>\n",
       "      <th>pctsrprec</th>\n",
       "      <th>blktotreg</th>\n",
       "      <th>pctblk</th>\n",
       "    </tr>\n",
       "    <tr>\n",
       "      <th>srprec</th>\n",
       "      <th></th>\n",
       "      <th></th>\n",
       "      <th></th>\n",
       "      <th></th>\n",
       "      <th></th>\n",
       "      <th></th>\n",
       "      <th></th>\n",
       "    </tr>\n",
       "  </thead>\n",
       "  <tbody>\n",
       "    <tr>\n",
       "      <th>2001.0</th>\n",
       "      <td>1183559</td>\n",
       "      <td>50994</td>\n",
       "      <td>679</td>\n",
       "      <td>21049.0</td>\n",
       "      <td>100.0</td>\n",
       "      <td>679</td>\n",
       "      <td>3100.000000</td>\n",
       "    </tr>\n",
       "    <tr>\n",
       "      <th>2002.0</th>\n",
       "      <td>82040</td>\n",
       "      <td>11039</td>\n",
       "      <td>291</td>\n",
       "      <td>2037.0</td>\n",
       "      <td>100.0</td>\n",
       "      <td>291</td>\n",
       "      <td>700.000000</td>\n",
       "    </tr>\n",
       "    <tr>\n",
       "      <th>2008.0</th>\n",
       "      <td>2774464</td>\n",
       "      <td>70230</td>\n",
       "      <td>2304</td>\n",
       "      <td>73728.0</td>\n",
       "      <td>100.0</td>\n",
       "      <td>2304</td>\n",
       "      <td>3200.000000</td>\n",
       "    </tr>\n",
       "    <tr>\n",
       "      <th>2009.0</th>\n",
       "      <td>2526444</td>\n",
       "      <td>54257</td>\n",
       "      <td>1441</td>\n",
       "      <td>40348.0</td>\n",
       "      <td>100.0</td>\n",
       "      <td>2006</td>\n",
       "      <td>2663.116825</td>\n",
       "    </tr>\n",
       "    <tr>\n",
       "      <th>2011.0</th>\n",
       "      <td>306670</td>\n",
       "      <td>23144</td>\n",
       "      <td>1105</td>\n",
       "      <td>15470.0</td>\n",
       "      <td>100.0</td>\n",
       "      <td>1264</td>\n",
       "      <td>1324.082935</td>\n",
       "    </tr>\n",
       "  </tbody>\n",
       "</table>\n",
       "</div>"
      ],
      "text/plain": [
       "          tract  block  blkreg  srtotreg  pctsrprec  blktotreg       pctblk\n",
       "srprec                                                                     \n",
       "2001.0  1183559  50994     679   21049.0      100.0        679  3100.000000\n",
       "2002.0    82040  11039     291    2037.0      100.0        291   700.000000\n",
       "2008.0  2774464  70230    2304   73728.0      100.0       2304  3200.000000\n",
       "2009.0  2526444  54257    1441   40348.0      100.0       2006  2663.116825\n",
       "2011.0   306670  23144    1105   15470.0      100.0       1264  1324.082935"
      ]
     },
     "execution_count": 260,
     "metadata": {},
     "output_type": "execute_result"
    }
   ],
   "source": [
    "convert18.groupby('srprec').sum().head()"
   ]
  },
  {
   "cell_type": "code",
   "execution_count": null,
   "metadata": {},
   "outputs": [],
   "source": []
  },
  {
   "cell_type": "markdown",
   "metadata": {},
   "source": [
    "#### create a weighted tract-to-srprec conversion file"
   ]
  },
  {
   "cell_type": "code",
   "execution_count": 305,
   "metadata": {},
   "outputs": [
    {
     "data": {
      "text/html": [
       "<div>\n",
       "<style scoped>\n",
       "    .dataframe tbody tr th:only-of-type {\n",
       "        vertical-align: middle;\n",
       "    }\n",
       "\n",
       "    .dataframe tbody tr th {\n",
       "        vertical-align: top;\n",
       "    }\n",
       "\n",
       "    .dataframe thead th {\n",
       "        text-align: right;\n",
       "    }\n",
       "</style>\n",
       "<table border=\"1\" class=\"dataframe\">\n",
       "  <thead>\n",
       "    <tr style=\"text-align: right;\">\n",
       "      <th></th>\n",
       "      <th>tract</th>\n",
       "      <th>srprec</th>\n",
       "      <th>block</th>\n",
       "      <th>blkreg</th>\n",
       "      <th>srtotreg</th>\n",
       "      <th>pctsrprec</th>\n",
       "      <th>blktotreg</th>\n",
       "      <th>pctblk</th>\n",
       "    </tr>\n",
       "  </thead>\n",
       "  <tbody>\n",
       "    <tr>\n",
       "      <th>0</th>\n",
       "      <td>11602</td>\n",
       "      <td>40020.0</td>\n",
       "      <td>39911</td>\n",
       "      <td>254</td>\n",
       "      <td>13580.0</td>\n",
       "      <td>37.407953</td>\n",
       "      <td>254</td>\n",
       "      <td>2000.0</td>\n",
       "    </tr>\n",
       "    <tr>\n",
       "      <th>1</th>\n",
       "      <td>86501</td>\n",
       "      <td>6003.0</td>\n",
       "      <td>3009</td>\n",
       "      <td>47</td>\n",
       "      <td>2037.0</td>\n",
       "      <td>6.921944</td>\n",
       "      <td>47</td>\n",
       "      <td>300.0</td>\n",
       "    </tr>\n",
       "    <tr>\n",
       "      <th>2</th>\n",
       "      <td>86502</td>\n",
       "      <td>16008.0</td>\n",
       "      <td>8074</td>\n",
       "      <td>378</td>\n",
       "      <td>5432.0</td>\n",
       "      <td>55.670103</td>\n",
       "      <td>378</td>\n",
       "      <td>800.0</td>\n",
       "    </tr>\n",
       "  </tbody>\n",
       "</table>\n",
       "</div>"
      ],
      "text/plain": [
       "   tract   srprec  block  blkreg  srtotreg  pctsrprec  blktotreg  pctblk\n",
       "0  11602  40020.0  39911     254   13580.0  37.407953        254  2000.0\n",
       "1  86501   6003.0   3009      47    2037.0   6.921944         47   300.0\n",
       "2  86502  16008.0   8074     378    5432.0  55.670103        378   800.0"
      ]
     },
     "execution_count": 305,
     "metadata": {},
     "output_type": "execute_result"
    }
   ],
   "source": [
    "pr002001 = convert18.loc[convert18['srprec'] == 2001].groupby('tract', as_index=False).sum()\n",
    "# for precinct 2001, one tract represents 56% of the population, the other two represent less.\n",
    "# but no preponderance of representation\n",
    "# theoretically, these weights could be applied to census-tract data, then attached to srprec\n",
    "# said differently ... vote results could be mapped to precint directly ...\n",
    "# ... and census-tract data could be mapped with the pctsrprec applied\n",
    "\n",
    "pr002001"
   ]
  },
  {
   "cell_type": "code",
   "execution_count": 306,
   "metadata": {},
   "outputs": [],
   "source": [
    "pr002001['srprec_orig'] = np.full_like(pr002001.shape[0], 2001)"
   ]
  },
  {
   "cell_type": "code",
   "execution_count": 307,
   "metadata": {},
   "outputs": [],
   "source": [
    "pr002001.rename(columns={'pctsrprec':'pctsrprec_tract'}, inplace=True)"
   ]
  },
  {
   "cell_type": "code",
   "execution_count": 308,
   "metadata": {},
   "outputs": [],
   "source": [
    "pr002001 = pr002001[['tract', 'pctsrprec_tract', 'srprec_orig']]"
   ]
  },
  {
   "cell_type": "code",
   "execution_count": 309,
   "metadata": {},
   "outputs": [
    {
     "data": {
      "text/html": [
       "<div>\n",
       "<style scoped>\n",
       "    .dataframe tbody tr th:only-of-type {\n",
       "        vertical-align: middle;\n",
       "    }\n",
       "\n",
       "    .dataframe tbody tr th {\n",
       "        vertical-align: top;\n",
       "    }\n",
       "\n",
       "    .dataframe thead th {\n",
       "        text-align: right;\n",
       "    }\n",
       "</style>\n",
       "<table border=\"1\" class=\"dataframe\">\n",
       "  <thead>\n",
       "    <tr style=\"text-align: right;\">\n",
       "      <th></th>\n",
       "      <th>tract</th>\n",
       "      <th>pctsrprec_tract</th>\n",
       "      <th>srprec_orig</th>\n",
       "    </tr>\n",
       "  </thead>\n",
       "  <tbody>\n",
       "    <tr>\n",
       "      <th>0</th>\n",
       "      <td>11602</td>\n",
       "      <td>37.407953</td>\n",
       "      <td>2001</td>\n",
       "    </tr>\n",
       "    <tr>\n",
       "      <th>1</th>\n",
       "      <td>86501</td>\n",
       "      <td>6.921944</td>\n",
       "      <td>2001</td>\n",
       "    </tr>\n",
       "    <tr>\n",
       "      <th>2</th>\n",
       "      <td>86502</td>\n",
       "      <td>55.670103</td>\n",
       "      <td>2001</td>\n",
       "    </tr>\n",
       "  </tbody>\n",
       "</table>\n",
       "</div>"
      ],
      "text/plain": [
       "   tract  pctsrprec_tract  srprec_orig\n",
       "0  11602        37.407953         2001\n",
       "1  86501         6.921944         2001\n",
       "2  86502        55.670103         2001"
      ]
     },
     "execution_count": 309,
     "metadata": {},
     "output_type": "execute_result"
    }
   ],
   "source": [
    "pr002001"
   ]
  },
  {
   "cell_type": "code",
   "execution_count": null,
   "metadata": {},
   "outputs": [],
   "source": []
  },
  {
   "cell_type": "code",
   "execution_count": 310,
   "metadata": {},
   "outputs": [
    {
     "data": {
      "text/html": [
       "<div>\n",
       "<style scoped>\n",
       "    .dataframe tbody tr th:only-of-type {\n",
       "        vertical-align: middle;\n",
       "    }\n",
       "\n",
       "    .dataframe tbody tr th {\n",
       "        vertical-align: top;\n",
       "    }\n",
       "\n",
       "    .dataframe thead th {\n",
       "        text-align: right;\n",
       "    }\n",
       "</style>\n",
       "<table border=\"1\" class=\"dataframe\">\n",
       "  <thead>\n",
       "    <tr style=\"text-align: right;\">\n",
       "      <th></th>\n",
       "      <th>tract</th>\n",
       "      <th>srprec</th>\n",
       "      <th>block</th>\n",
       "      <th>blkreg</th>\n",
       "      <th>srtotreg</th>\n",
       "      <th>pctsrprec</th>\n",
       "      <th>blktotreg</th>\n",
       "      <th>pctblk</th>\n",
       "    </tr>\n",
       "  </thead>\n",
       "  <tbody>\n",
       "    <tr>\n",
       "      <th>0</th>\n",
       "      <td>11720</td>\n",
       "      <td>14014.0</td>\n",
       "      <td>11039</td>\n",
       "      <td>291</td>\n",
       "      <td>2037.0</td>\n",
       "      <td>100.0</td>\n",
       "      <td>291</td>\n",
       "      <td>700.0</td>\n",
       "    </tr>\n",
       "  </tbody>\n",
       "</table>\n",
       "</div>"
      ],
      "text/plain": [
       "   tract   srprec  block  blkreg  srtotreg  pctsrprec  blktotreg  pctblk\n",
       "0  11720  14014.0  11039     291    2037.0      100.0        291   700.0"
      ]
     },
     "execution_count": 310,
     "metadata": {},
     "output_type": "execute_result"
    }
   ],
   "source": [
    "pr002002 = convert18.loc[convert18['srprec'] == 2002].groupby('tract', as_index=False).sum()\n",
    "pr002002"
   ]
  },
  {
   "cell_type": "code",
   "execution_count": 311,
   "metadata": {},
   "outputs": [],
   "source": [
    "pr002002['srprec_orig'] = np.full_like(pr002002.shape[0], 2002)"
   ]
  },
  {
   "cell_type": "code",
   "execution_count": 312,
   "metadata": {},
   "outputs": [],
   "source": [
    "pr002002.rename(columns={'pctsrprec':'pctsrprec_tract'}, inplace=True)"
   ]
  },
  {
   "cell_type": "code",
   "execution_count": 313,
   "metadata": {},
   "outputs": [],
   "source": [
    "pr002002 = pr002002[['tract', 'pctsrprec_tract', 'srprec_orig']]"
   ]
  },
  {
   "cell_type": "code",
   "execution_count": 314,
   "metadata": {},
   "outputs": [
    {
     "data": {
      "text/html": [
       "<div>\n",
       "<style scoped>\n",
       "    .dataframe tbody tr th:only-of-type {\n",
       "        vertical-align: middle;\n",
       "    }\n",
       "\n",
       "    .dataframe tbody tr th {\n",
       "        vertical-align: top;\n",
       "    }\n",
       "\n",
       "    .dataframe thead th {\n",
       "        text-align: right;\n",
       "    }\n",
       "</style>\n",
       "<table border=\"1\" class=\"dataframe\">\n",
       "  <thead>\n",
       "    <tr style=\"text-align: right;\">\n",
       "      <th></th>\n",
       "      <th>tract</th>\n",
       "      <th>pctsrprec_tract</th>\n",
       "      <th>srprec_orig</th>\n",
       "    </tr>\n",
       "  </thead>\n",
       "  <tbody>\n",
       "    <tr>\n",
       "      <th>0</th>\n",
       "      <td>11720</td>\n",
       "      <td>100.0</td>\n",
       "      <td>2002</td>\n",
       "    </tr>\n",
       "  </tbody>\n",
       "</table>\n",
       "</div>"
      ],
      "text/plain": [
       "   tract  pctsrprec_tract  srprec_orig\n",
       "0  11720            100.0         2002"
      ]
     },
     "execution_count": 314,
     "metadata": {},
     "output_type": "execute_result"
    }
   ],
   "source": [
    "pr002002"
   ]
  },
  {
   "cell_type": "code",
   "execution_count": null,
   "metadata": {},
   "outputs": [],
   "source": []
  },
  {
   "cell_type": "code",
   "execution_count": 315,
   "metadata": {},
   "outputs": [],
   "source": [
    "df = pd.concat([pr002001, pr002002])"
   ]
  },
  {
   "cell_type": "code",
   "execution_count": 316,
   "metadata": {},
   "outputs": [
    {
     "data": {
      "text/html": [
       "<div>\n",
       "<style scoped>\n",
       "    .dataframe tbody tr th:only-of-type {\n",
       "        vertical-align: middle;\n",
       "    }\n",
       "\n",
       "    .dataframe tbody tr th {\n",
       "        vertical-align: top;\n",
       "    }\n",
       "\n",
       "    .dataframe thead th {\n",
       "        text-align: right;\n",
       "    }\n",
       "</style>\n",
       "<table border=\"1\" class=\"dataframe\">\n",
       "  <thead>\n",
       "    <tr style=\"text-align: right;\">\n",
       "      <th></th>\n",
       "      <th>tract</th>\n",
       "      <th>pctsrprec_tract</th>\n",
       "      <th>srprec_orig</th>\n",
       "    </tr>\n",
       "  </thead>\n",
       "  <tbody>\n",
       "    <tr>\n",
       "      <th>0</th>\n",
       "      <td>11602</td>\n",
       "      <td>37.407953</td>\n",
       "      <td>2001</td>\n",
       "    </tr>\n",
       "    <tr>\n",
       "      <th>1</th>\n",
       "      <td>86501</td>\n",
       "      <td>6.921944</td>\n",
       "      <td>2001</td>\n",
       "    </tr>\n",
       "    <tr>\n",
       "      <th>2</th>\n",
       "      <td>86502</td>\n",
       "      <td>55.670103</td>\n",
       "      <td>2001</td>\n",
       "    </tr>\n",
       "    <tr>\n",
       "      <th>0</th>\n",
       "      <td>11720</td>\n",
       "      <td>100.000000</td>\n",
       "      <td>2002</td>\n",
       "    </tr>\n",
       "  </tbody>\n",
       "</table>\n",
       "</div>"
      ],
      "text/plain": [
       "   tract  pctsrprec_tract  srprec_orig\n",
       "0  11602        37.407953         2001\n",
       "1  86501         6.921944         2001\n",
       "2  86502        55.670103         2001\n",
       "0  11720       100.000000         2002"
      ]
     },
     "execution_count": 316,
     "metadata": {},
     "output_type": "execute_result"
    }
   ],
   "source": [
    "df"
   ]
  },
  {
   "cell_type": "code",
   "execution_count": null,
   "metadata": {},
   "outputs": [],
   "source": []
  },
  {
   "cell_type": "code",
   "execution_count": null,
   "metadata": {},
   "outputs": [],
   "source": [
    "precincts_all = convert18['srprec'].unique().tolist()[1:]"
   ]
  },
  {
   "cell_type": "code",
   "execution_count": 373,
   "metadata": {},
   "outputs": [
    {
     "data": {
      "text/plain": [
       "1334"
      ]
     },
     "execution_count": 373,
     "metadata": {},
     "output_type": "execute_result"
    }
   ],
   "source": [
    "len(precincts_all)"
   ]
  },
  {
   "cell_type": "code",
   "execution_count": 401,
   "metadata": {},
   "outputs": [],
   "source": [
    "'''for-loop to calculate the tract's percent composition of the voting precinct ('srprec').  \n",
    "    these weights will be applied to census-tract data to the voting dataset to provide a weighted result of the data'''\n",
    "\n",
    "# precincts = [2001, 2002, 75116]\n",
    "df_convert_subidx = pd.DataFrame()\n",
    "\n",
    "for prec in precincts_all:\n",
    "    \n",
    "    #1. select srprec, group by tract to calculate tract % composition of srprec\n",
    "    df_prec = convert18.loc[convert18['srprec'] == prec].groupby('tract', as_index=False).sum()\n",
    "    \n",
    "    #2. add column to identify original srprec, since it is washed away by groupby().sum()\n",
    "    df_prec['srprec_orig'] = np.full_like(df_prec.shape[0], prec)\n",
    "\n",
    "    #3. rename pctsrprec column to reflect that it pertains to the tract, not the block\n",
    "    df_prec.rename(columns={'pctsrprec':'pctsrprec_tract'}, inplace=True)\n",
    "\n",
    "    #4. define the df to contain only the needed columns, remove confusing colums \n",
    "    df_prec = df_prec[['srprec_orig', 'tract', 'pctsrprec_tract']]\n",
    "    \n",
    "    #5. concat the new df\n",
    "    df_convert_subidx = pd.concat([df_prec, df_convert_subidx])\n"
   ]
  },
  {
   "cell_type": "code",
   "execution_count": 402,
   "metadata": {},
   "outputs": [
    {
     "data": {
      "text/html": [
       "<div>\n",
       "<style scoped>\n",
       "    .dataframe tbody tr th:only-of-type {\n",
       "        vertical-align: middle;\n",
       "    }\n",
       "\n",
       "    .dataframe tbody tr th {\n",
       "        vertical-align: top;\n",
       "    }\n",
       "\n",
       "    .dataframe thead th {\n",
       "        text-align: right;\n",
       "    }\n",
       "</style>\n",
       "<table border=\"1\" class=\"dataframe\">\n",
       "  <thead>\n",
       "    <tr style=\"text-align: right;\">\n",
       "      <th></th>\n",
       "      <th>srprec_orig</th>\n",
       "      <th>tract</th>\n",
       "      <th>pctsrprec_tract</th>\n",
       "    </tr>\n",
       "  </thead>\n",
       "  <tbody>\n",
       "    <tr>\n",
       "      <th>0</th>\n",
       "      <td>7701</td>\n",
       "      <td>110304</td>\n",
       "      <td>100.000000</td>\n",
       "    </tr>\n",
       "    <tr>\n",
       "      <th>0</th>\n",
       "      <td>75702</td>\n",
       "      <td>75809</td>\n",
       "      <td>97.095134</td>\n",
       "    </tr>\n",
       "    <tr>\n",
       "      <th>1</th>\n",
       "      <td>75702</td>\n",
       "      <td>75814</td>\n",
       "      <td>2.904866</td>\n",
       "    </tr>\n",
       "    <tr>\n",
       "      <th>0</th>\n",
       "      <td>75701</td>\n",
       "      <td>75810</td>\n",
       "      <td>100.000000</td>\n",
       "    </tr>\n",
       "    <tr>\n",
       "      <th>0</th>\n",
       "      <td>75122</td>\n",
       "      <td>75810</td>\n",
       "      <td>100.000000</td>\n",
       "    </tr>\n",
       "  </tbody>\n",
       "</table>\n",
       "</div>"
      ],
      "text/plain": [
       "   srprec_orig   tract  pctsrprec_tract\n",
       "0         7701  110304       100.000000\n",
       "0        75702   75809        97.095134\n",
       "1        75702   75814         2.904866\n",
       "0        75701   75810       100.000000\n",
       "0        75122   75810       100.000000"
      ]
     },
     "execution_count": 402,
     "metadata": {},
     "output_type": "execute_result"
    }
   ],
   "source": [
    "df_convert_subidx.head()"
   ]
  },
  {
   "cell_type": "code",
   "execution_count": 403,
   "metadata": {},
   "outputs": [
    {
     "data": {
      "text/plain": [
       "(2011, 3)"
      ]
     },
     "execution_count": 403,
     "metadata": {},
     "output_type": "execute_result"
    }
   ],
   "source": [
    "df_convert_subidx.shape"
   ]
  },
  {
   "cell_type": "code",
   "execution_count": 404,
   "metadata": {},
   "outputs": [
    {
     "data": {
      "text/plain": [
       "1    799\n",
       "2    410\n",
       "3    110\n",
       "4     13\n",
       "5      2\n",
       "Name: srprec_orig, dtype: int64"
      ]
     },
     "execution_count": 404,
     "metadata": {},
     "output_type": "execute_result"
    }
   ],
   "source": [
    "# pd.set_option('display.max_rows', None)\n",
    "df_convert_subidx['srprec_orig'].value_counts().value_counts()\n",
    "\n",
    "# a little over half precincts are made up of just 1 tract (60%).\n",
    "# however, many precincts straddle 2 or more tracts, up to 5 tracts.  "
   ]
  },
  {
   "cell_type": "code",
   "execution_count": 405,
   "metadata": {},
   "outputs": [],
   "source": [
    "df_convert = df_convert_subidx.reset_index()"
   ]
  },
  {
   "cell_type": "code",
   "execution_count": 412,
   "metadata": {},
   "outputs": [],
   "source": [
    "pd.set_option('display.max_rows', 20)\n",
    "df_convert.rename(columns={'index':'subindex'}, inplace=True)"
   ]
  },
  {
   "cell_type": "code",
   "execution_count": 411,
   "metadata": {},
   "outputs": [
    {
     "data": {
      "text/html": [
       "<div>\n",
       "<style scoped>\n",
       "    .dataframe tbody tr th:only-of-type {\n",
       "        vertical-align: middle;\n",
       "    }\n",
       "\n",
       "    .dataframe tbody tr th {\n",
       "        vertical-align: top;\n",
       "    }\n",
       "\n",
       "    .dataframe thead th {\n",
       "        text-align: right;\n",
       "    }\n",
       "</style>\n",
       "<table border=\"1\" class=\"dataframe\">\n",
       "  <thead>\n",
       "    <tr style=\"text-align: right;\">\n",
       "      <th></th>\n",
       "      <th>subindex</th>\n",
       "      <th>srprec_orig</th>\n",
       "      <th>tract</th>\n",
       "      <th>pctsrprec_tract</th>\n",
       "    </tr>\n",
       "  </thead>\n",
       "  <tbody>\n",
       "    <tr>\n",
       "      <th>0</th>\n",
       "      <td>0</td>\n",
       "      <td>7701</td>\n",
       "      <td>110304</td>\n",
       "      <td>100.000000</td>\n",
       "    </tr>\n",
       "    <tr>\n",
       "      <th>1</th>\n",
       "      <td>0</td>\n",
       "      <td>75702</td>\n",
       "      <td>75809</td>\n",
       "      <td>97.095134</td>\n",
       "    </tr>\n",
       "    <tr>\n",
       "      <th>2</th>\n",
       "      <td>1</td>\n",
       "      <td>75702</td>\n",
       "      <td>75814</td>\n",
       "      <td>2.904866</td>\n",
       "    </tr>\n",
       "    <tr>\n",
       "      <th>3</th>\n",
       "      <td>0</td>\n",
       "      <td>75701</td>\n",
       "      <td>75810</td>\n",
       "      <td>100.000000</td>\n",
       "    </tr>\n",
       "    <tr>\n",
       "      <th>4</th>\n",
       "      <td>0</td>\n",
       "      <td>75122</td>\n",
       "      <td>75810</td>\n",
       "      <td>100.000000</td>\n",
       "    </tr>\n",
       "    <tr>\n",
       "      <th>5</th>\n",
       "      <td>0</td>\n",
       "      <td>75117</td>\n",
       "      <td>75810</td>\n",
       "      <td>100.000000</td>\n",
       "    </tr>\n",
       "    <tr>\n",
       "      <th>6</th>\n",
       "      <td>0</td>\n",
       "      <td>75116</td>\n",
       "      <td>75809</td>\n",
       "      <td>70.290635</td>\n",
       "    </tr>\n",
       "    <tr>\n",
       "      <th>7</th>\n",
       "      <td>1</td>\n",
       "      <td>75116</td>\n",
       "      <td>75810</td>\n",
       "      <td>21.097955</td>\n",
       "    </tr>\n",
       "    <tr>\n",
       "      <th>8</th>\n",
       "      <td>2</td>\n",
       "      <td>75116</td>\n",
       "      <td>75811</td>\n",
       "      <td>6.243272</td>\n",
       "    </tr>\n",
       "    <tr>\n",
       "      <th>9</th>\n",
       "      <td>3</td>\n",
       "      <td>75116</td>\n",
       "      <td>75813</td>\n",
       "      <td>1.937567</td>\n",
       "    </tr>\n",
       "    <tr>\n",
       "      <th>10</th>\n",
       "      <td>4</td>\n",
       "      <td>75116</td>\n",
       "      <td>75814</td>\n",
       "      <td>0.430571</td>\n",
       "    </tr>\n",
       "    <tr>\n",
       "      <th>11</th>\n",
       "      <td>0</td>\n",
       "      <td>75110</td>\n",
       "      <td>75809</td>\n",
       "      <td>16.946309</td>\n",
       "    </tr>\n",
       "    <tr>\n",
       "      <th>12</th>\n",
       "      <td>1</td>\n",
       "      <td>75110</td>\n",
       "      <td>75810</td>\n",
       "      <td>83.053691</td>\n",
       "    </tr>\n",
       "    <tr>\n",
       "      <th>13</th>\n",
       "      <td>0</td>\n",
       "      <td>72702</td>\n",
       "      <td>75604</td>\n",
       "      <td>14.855434</td>\n",
       "    </tr>\n",
       "    <tr>\n",
       "      <th>14</th>\n",
       "      <td>1</td>\n",
       "      <td>72702</td>\n",
       "      <td>75605</td>\n",
       "      <td>67.148554</td>\n",
       "    </tr>\n",
       "  </tbody>\n",
       "</table>\n",
       "</div>"
      ],
      "text/plain": [
       "    subindex  srprec_orig   tract  pctsrprec_tract\n",
       "0          0         7701  110304       100.000000\n",
       "1          0        75702   75809        97.095134\n",
       "2          1        75702   75814         2.904866\n",
       "3          0        75701   75810       100.000000\n",
       "4          0        75122   75810       100.000000\n",
       "5          0        75117   75810       100.000000\n",
       "6          0        75116   75809        70.290635\n",
       "7          1        75116   75810        21.097955\n",
       "8          2        75116   75811         6.243272\n",
       "9          3        75116   75813         1.937567\n",
       "10         4        75116   75814         0.430571\n",
       "11         0        75110   75809        16.946309\n",
       "12         1        75110   75810        83.053691\n",
       "13         0        72702   75604        14.855434\n",
       "14         1        72702   75605        67.148554"
      ]
     },
     "execution_count": 411,
     "metadata": {},
     "output_type": "execute_result"
    }
   ],
   "source": [
    "df_convert.head(15)"
   ]
  },
  {
   "cell_type": "code",
   "execution_count": 429,
   "metadata": {},
   "outputs": [],
   "source": [
    "df_convert.to_pickle('./data/df_convert18.pkl')"
   ]
  },
  {
   "cell_type": "code",
   "execution_count": null,
   "metadata": {},
   "outputs": [],
   "source": []
  },
  {
   "cell_type": "code",
   "execution_count": null,
   "metadata": {},
   "outputs": [],
   "source": []
  },
  {
   "cell_type": "markdown",
   "metadata": {},
   "source": [
    "### test merging the dataframes"
   ]
  },
  {
   "cell_type": "markdown",
   "metadata": {},
   "source": [
    "#### a. set up mini-frames"
   ]
  },
  {
   "cell_type": "code",
   "execution_count": 508,
   "metadata": {},
   "outputs": [
    {
     "data": {
      "text/html": [
       "<div>\n",
       "<style scoped>\n",
       "    .dataframe tbody tr th:only-of-type {\n",
       "        vertical-align: middle;\n",
       "    }\n",
       "\n",
       "    .dataframe tbody tr th {\n",
       "        vertical-align: top;\n",
       "    }\n",
       "\n",
       "    .dataframe thead th {\n",
       "        text-align: right;\n",
       "    }\n",
       "</style>\n",
       "<table border=\"1\" class=\"dataframe\">\n",
       "  <thead>\n",
       "    <tr style=\"text-align: right;\">\n",
       "      <th></th>\n",
       "      <th>county</th>\n",
       "      <th>srprec</th>\n",
       "      <th>cddist</th>\n",
       "      <th>TOTREG</th>\n",
       "      <th>TOTVOTE</th>\n",
       "      <th>CNGDEM01</th>\n",
       "      <th>CNGREP01</th>\n",
       "      <th>election</th>\n",
       "      <th>type</th>\n",
       "      <th>totreg_r</th>\n",
       "      <th>...</th>\n",
       "      <th>nlp</th>\n",
       "      <th>grn</th>\n",
       "      <th>ref</th>\n",
       "      <th>dcl</th>\n",
       "      <th>male</th>\n",
       "      <th>female</th>\n",
       "      <th>hispdem</th>\n",
       "      <th>hisprep</th>\n",
       "      <th>hispdcl</th>\n",
       "      <th>hispoth</th>\n",
       "    </tr>\n",
       "  </thead>\n",
       "  <tbody>\n",
       "    <tr>\n",
       "      <th>1544</th>\n",
       "      <td>30</td>\n",
       "      <td>75702</td>\n",
       "      <td>45</td>\n",
       "      <td>1382</td>\n",
       "      <td>1125</td>\n",
       "      <td>319</td>\n",
       "      <td>784</td>\n",
       "      <td>g18</td>\n",
       "      <td>V</td>\n",
       "      <td>1089.0</td>\n",
       "      <td>...</td>\n",
       "      <td>0.0</td>\n",
       "      <td>0.0</td>\n",
       "      <td>0.0</td>\n",
       "      <td>199.0</td>\n",
       "      <td>562.0</td>\n",
       "      <td>527.0</td>\n",
       "      <td>15.0</td>\n",
       "      <td>20.0</td>\n",
       "      <td>16.0</td>\n",
       "      <td>5.0</td>\n",
       "    </tr>\n",
       "  </tbody>\n",
       "</table>\n",
       "<p>1 rows × 26 columns</p>\n",
       "</div>"
      ],
      "text/plain": [
       "      county  srprec  cddist  TOTREG  TOTVOTE  CNGDEM01  CNGREP01 election  \\\n",
       "1544      30   75702      45    1382     1125       319       784      g18   \n",
       "\n",
       "     type  totreg_r  ...  nlp  grn  ref    dcl   male  female  hispdem  \\\n",
       "1544    V    1089.0  ...  0.0  0.0  0.0  199.0  562.0   527.0     15.0   \n",
       "\n",
       "      hisprep  hispdcl  hispoth  \n",
       "1544     20.0     16.0      5.0  \n",
       "\n",
       "[1 rows x 26 columns]"
      ]
     },
     "execution_count": 508,
     "metadata": {},
     "output_type": "execute_result"
    }
   ],
   "source": [
    "a = data18.loc[data18['srprec'] == 75702]\n",
    "a"
   ]
  },
  {
   "cell_type": "code",
   "execution_count": 509,
   "metadata": {},
   "outputs": [
    {
     "data": {
      "text/html": [
       "<div>\n",
       "<style scoped>\n",
       "    .dataframe tbody tr th:only-of-type {\n",
       "        vertical-align: middle;\n",
       "    }\n",
       "\n",
       "    .dataframe tbody tr th {\n",
       "        vertical-align: top;\n",
       "    }\n",
       "\n",
       "    .dataframe thead th {\n",
       "        text-align: right;\n",
       "    }\n",
       "</style>\n",
       "<table border=\"1\" class=\"dataframe\">\n",
       "  <thead>\n",
       "    <tr style=\"text-align: right;\">\n",
       "      <th></th>\n",
       "      <th>Estimate EMPLOYMENT STATUS Population 16 years and over</th>\n",
       "      <th>tract</th>\n",
       "    </tr>\n",
       "  </thead>\n",
       "  <tbody>\n",
       "    <tr>\n",
       "      <th>155</th>\n",
       "      <td>2486</td>\n",
       "      <td>75809</td>\n",
       "    </tr>\n",
       "  </tbody>\n",
       "</table>\n",
       "</div>"
      ],
      "text/plain": [
       "0   Estimate EMPLOYMENT STATUS Population 16 years and over  tract\n",
       "155                                               2486       75809"
      ]
     },
     "execution_count": 509,
     "metadata": {},
     "output_type": "execute_result"
    }
   ],
   "source": [
    "b = dp03_18.loc[dp03_18['tract'] == 75809]\n",
    "b = b[['Estimate EMPLOYMENT STATUS Population 16 years and over', 'tract']]\n",
    "b"
   ]
  },
  {
   "cell_type": "code",
   "execution_count": 510,
   "metadata": {},
   "outputs": [
    {
     "data": {
      "text/html": [
       "<div>\n",
       "<style scoped>\n",
       "    .dataframe tbody tr th:only-of-type {\n",
       "        vertical-align: middle;\n",
       "    }\n",
       "\n",
       "    .dataframe tbody tr th {\n",
       "        vertical-align: top;\n",
       "    }\n",
       "\n",
       "    .dataframe thead th {\n",
       "        text-align: right;\n",
       "    }\n",
       "</style>\n",
       "<table border=\"1\" class=\"dataframe\">\n",
       "  <thead>\n",
       "    <tr style=\"text-align: right;\">\n",
       "      <th></th>\n",
       "      <th>subindex</th>\n",
       "      <th>srprec_orig</th>\n",
       "      <th>tract</th>\n",
       "      <th>pctsrprec_tract</th>\n",
       "    </tr>\n",
       "  </thead>\n",
       "  <tbody>\n",
       "    <tr>\n",
       "      <th>1</th>\n",
       "      <td>0</td>\n",
       "      <td>75702</td>\n",
       "      <td>75809</td>\n",
       "      <td>97.095134</td>\n",
       "    </tr>\n",
       "    <tr>\n",
       "      <th>2</th>\n",
       "      <td>1</td>\n",
       "      <td>75702</td>\n",
       "      <td>75814</td>\n",
       "      <td>2.904866</td>\n",
       "    </tr>\n",
       "  </tbody>\n",
       "</table>\n",
       "</div>"
      ],
      "text/plain": [
       "   subindex  srprec_orig  tract  pctsrprec_tract\n",
       "1         0        75702  75809        97.095134\n",
       "2         1        75702  75814         2.904866"
      ]
     },
     "execution_count": 510,
     "metadata": {},
     "output_type": "execute_result"
    }
   ],
   "source": [
    "c = df_convert.loc[df_convert['srprec_orig'] == 75702]\n",
    "c"
   ]
  },
  {
   "cell_type": "code",
   "execution_count": null,
   "metadata": {},
   "outputs": [],
   "source": [
    "# anchor df is df_convert (c)\n",
    "\n",
    "# change to converted_18, to preserve the df_convert \n",
    "\n",
    "# add vote data to converted_18\n",
    "    # pd.merge() converted_18 with data18 on srprec/srprec_orig --> will pandas fill in rows multiple times?\n",
    "    # c['srprec_orig'] type = int64\n",
    "    # a['srprec'] type = Int64  (capital I)\n",
    "    \n",
    "# add census data to converted_18\n",
    "    # pd.merge() converted_18 with dp03_test on tract --> will pandas fill in rows multiple times?\n",
    "    # there will be errors where census data srprec\n",
    "    \n",
    "# create new col that multiplies ['pctsrprec_tract'] * ['census col']"
   ]
  },
  {
   "cell_type": "markdown",
   "metadata": {},
   "source": [
    "#### b. try merging vote data (a) onto anchor df, converter table (c)"
   ]
  },
  {
   "cell_type": "code",
   "execution_count": 456,
   "metadata": {},
   "outputs": [],
   "source": [
    "# pd.merge(left=c, right=a, how='outer', on=['srprec_orig', 'srprec'], indicator=True, suffixes=('_c', '_a'))  \n",
    "\n",
    "# gave an error  KeyError: 'srprec_orig'.  Also # Check for duplicates"
   ]
  },
  {
   "cell_type": "code",
   "execution_count": 511,
   "metadata": {},
   "outputs": [],
   "source": [
    "test = pd.merge(left=c, right=a, how='outer', left_on=['srprec_orig'], right_on=['srprec'], indicator=True)"
   ]
  },
  {
   "cell_type": "code",
   "execution_count": 512,
   "metadata": {},
   "outputs": [
    {
     "data": {
      "text/html": [
       "<div>\n",
       "<style scoped>\n",
       "    .dataframe tbody tr th:only-of-type {\n",
       "        vertical-align: middle;\n",
       "    }\n",
       "\n",
       "    .dataframe tbody tr th {\n",
       "        vertical-align: top;\n",
       "    }\n",
       "\n",
       "    .dataframe thead th {\n",
       "        text-align: right;\n",
       "    }\n",
       "</style>\n",
       "<table border=\"1\" class=\"dataframe\">\n",
       "  <thead>\n",
       "    <tr style=\"text-align: right;\">\n",
       "      <th></th>\n",
       "      <th>subindex</th>\n",
       "      <th>srprec_orig</th>\n",
       "      <th>tract</th>\n",
       "      <th>pctsrprec_tract</th>\n",
       "      <th>county</th>\n",
       "      <th>srprec</th>\n",
       "      <th>cddist</th>\n",
       "      <th>TOTREG</th>\n",
       "      <th>TOTVOTE</th>\n",
       "      <th>CNGDEM01</th>\n",
       "      <th>...</th>\n",
       "      <th>grn</th>\n",
       "      <th>ref</th>\n",
       "      <th>dcl</th>\n",
       "      <th>male</th>\n",
       "      <th>female</th>\n",
       "      <th>hispdem</th>\n",
       "      <th>hisprep</th>\n",
       "      <th>hispdcl</th>\n",
       "      <th>hispoth</th>\n",
       "      <th>_merge</th>\n",
       "    </tr>\n",
       "  </thead>\n",
       "  <tbody>\n",
       "    <tr>\n",
       "      <th>0</th>\n",
       "      <td>0</td>\n",
       "      <td>75702</td>\n",
       "      <td>75809</td>\n",
       "      <td>97.095134</td>\n",
       "      <td>30</td>\n",
       "      <td>75702</td>\n",
       "      <td>45</td>\n",
       "      <td>1382</td>\n",
       "      <td>1125</td>\n",
       "      <td>319</td>\n",
       "      <td>...</td>\n",
       "      <td>0.0</td>\n",
       "      <td>0.0</td>\n",
       "      <td>199.0</td>\n",
       "      <td>562.0</td>\n",
       "      <td>527.0</td>\n",
       "      <td>15.0</td>\n",
       "      <td>20.0</td>\n",
       "      <td>16.0</td>\n",
       "      <td>5.0</td>\n",
       "      <td>both</td>\n",
       "    </tr>\n",
       "    <tr>\n",
       "      <th>1</th>\n",
       "      <td>1</td>\n",
       "      <td>75702</td>\n",
       "      <td>75814</td>\n",
       "      <td>2.904866</td>\n",
       "      <td>30</td>\n",
       "      <td>75702</td>\n",
       "      <td>45</td>\n",
       "      <td>1382</td>\n",
       "      <td>1125</td>\n",
       "      <td>319</td>\n",
       "      <td>...</td>\n",
       "      <td>0.0</td>\n",
       "      <td>0.0</td>\n",
       "      <td>199.0</td>\n",
       "      <td>562.0</td>\n",
       "      <td>527.0</td>\n",
       "      <td>15.0</td>\n",
       "      <td>20.0</td>\n",
       "      <td>16.0</td>\n",
       "      <td>5.0</td>\n",
       "      <td>both</td>\n",
       "    </tr>\n",
       "  </tbody>\n",
       "</table>\n",
       "<p>2 rows × 31 columns</p>\n",
       "</div>"
      ],
      "text/plain": [
       "   subindex  srprec_orig  tract  pctsrprec_tract  county  srprec  cddist  \\\n",
       "0         0        75702  75809        97.095134      30   75702      45   \n",
       "1         1        75702  75814         2.904866      30   75702      45   \n",
       "\n",
       "   TOTREG  TOTVOTE  CNGDEM01  ...  grn  ref    dcl   male  female  hispdem  \\\n",
       "0    1382     1125       319  ...  0.0  0.0  199.0  562.0   527.0     15.0   \n",
       "1    1382     1125       319  ...  0.0  0.0  199.0  562.0   527.0     15.0   \n",
       "\n",
       "   hisprep  hispdcl  hispoth  _merge  \n",
       "0     20.0     16.0      5.0    both  \n",
       "1     20.0     16.0      5.0    both  \n",
       "\n",
       "[2 rows x 31 columns]"
      ]
     },
     "execution_count": 512,
     "metadata": {},
     "output_type": "execute_result"
    }
   ],
   "source": [
    "test"
   ]
  },
  {
   "cell_type": "code",
   "execution_count": null,
   "metadata": {},
   "outputs": [],
   "source": []
  },
  {
   "cell_type": "code",
   "execution_count": 513,
   "metadata": {},
   "outputs": [],
   "source": [
    "test.rename(columns={'_merge':'prec_merge'}, inplace=True)"
   ]
  },
  {
   "cell_type": "markdown",
   "metadata": {},
   "source": [
    "#### c. try merging census data (b) onto anchor df, converter table (c)"
   ]
  },
  {
   "cell_type": "code",
   "execution_count": 514,
   "metadata": {},
   "outputs": [],
   "source": [
    "# pd.merge(left=c, right=b, how='outer', left_on=['tract'], right_on=['tract'], indicator=True, suffixes=('_c', '_b'))\n",
    "test = pd.merge(left=test, right=b, how='outer', left_on=['tract'], right_on=['tract'], indicator=True)"
   ]
  },
  {
   "cell_type": "code",
   "execution_count": 515,
   "metadata": {},
   "outputs": [
    {
     "data": {
      "text/html": [
       "<div>\n",
       "<style scoped>\n",
       "    .dataframe tbody tr th:only-of-type {\n",
       "        vertical-align: middle;\n",
       "    }\n",
       "\n",
       "    .dataframe tbody tr th {\n",
       "        vertical-align: top;\n",
       "    }\n",
       "\n",
       "    .dataframe thead th {\n",
       "        text-align: right;\n",
       "    }\n",
       "</style>\n",
       "<table border=\"1\" class=\"dataframe\">\n",
       "  <thead>\n",
       "    <tr style=\"text-align: right;\">\n",
       "      <th></th>\n",
       "      <th>subindex</th>\n",
       "      <th>srprec_orig</th>\n",
       "      <th>tract</th>\n",
       "      <th>pctsrprec_tract</th>\n",
       "      <th>county</th>\n",
       "      <th>srprec</th>\n",
       "      <th>cddist</th>\n",
       "      <th>TOTREG</th>\n",
       "      <th>TOTVOTE</th>\n",
       "      <th>CNGDEM01</th>\n",
       "      <th>...</th>\n",
       "      <th>dcl</th>\n",
       "      <th>male</th>\n",
       "      <th>female</th>\n",
       "      <th>hispdem</th>\n",
       "      <th>hisprep</th>\n",
       "      <th>hispdcl</th>\n",
       "      <th>hispoth</th>\n",
       "      <th>prec_merge</th>\n",
       "      <th>Estimate EMPLOYMENT STATUS Population 16 years and over</th>\n",
       "      <th>_merge</th>\n",
       "    </tr>\n",
       "  </thead>\n",
       "  <tbody>\n",
       "    <tr>\n",
       "      <th>0</th>\n",
       "      <td>0</td>\n",
       "      <td>75702</td>\n",
       "      <td>75809</td>\n",
       "      <td>97.095134</td>\n",
       "      <td>30</td>\n",
       "      <td>75702</td>\n",
       "      <td>45</td>\n",
       "      <td>1382</td>\n",
       "      <td>1125</td>\n",
       "      <td>319</td>\n",
       "      <td>...</td>\n",
       "      <td>199.0</td>\n",
       "      <td>562.0</td>\n",
       "      <td>527.0</td>\n",
       "      <td>15.0</td>\n",
       "      <td>20.0</td>\n",
       "      <td>16.0</td>\n",
       "      <td>5.0</td>\n",
       "      <td>both</td>\n",
       "      <td>2486</td>\n",
       "      <td>both</td>\n",
       "    </tr>\n",
       "    <tr>\n",
       "      <th>1</th>\n",
       "      <td>1</td>\n",
       "      <td>75702</td>\n",
       "      <td>75814</td>\n",
       "      <td>2.904866</td>\n",
       "      <td>30</td>\n",
       "      <td>75702</td>\n",
       "      <td>45</td>\n",
       "      <td>1382</td>\n",
       "      <td>1125</td>\n",
       "      <td>319</td>\n",
       "      <td>...</td>\n",
       "      <td>199.0</td>\n",
       "      <td>562.0</td>\n",
       "      <td>527.0</td>\n",
       "      <td>15.0</td>\n",
       "      <td>20.0</td>\n",
       "      <td>16.0</td>\n",
       "      <td>5.0</td>\n",
       "      <td>both</td>\n",
       "      <td>NaN</td>\n",
       "      <td>left_only</td>\n",
       "    </tr>\n",
       "  </tbody>\n",
       "</table>\n",
       "<p>2 rows × 33 columns</p>\n",
       "</div>"
      ],
      "text/plain": [
       "   subindex  srprec_orig  tract  pctsrprec_tract  county  srprec  cddist  \\\n",
       "0         0        75702  75809        97.095134      30   75702      45   \n",
       "1         1        75702  75814         2.904866      30   75702      45   \n",
       "\n",
       "   TOTREG  TOTVOTE  CNGDEM01  ...    dcl   male female  hispdem  hisprep  \\\n",
       "0    1382     1125       319  ...  199.0  562.0  527.0     15.0     20.0   \n",
       "1    1382     1125       319  ...  199.0  562.0  527.0     15.0     20.0   \n",
       "\n",
       "   hispdcl  hispoth  prec_merge  \\\n",
       "0     16.0      5.0        both   \n",
       "1     16.0      5.0        both   \n",
       "\n",
       "   Estimate EMPLOYMENT STATUS Population 16 years and over     _merge  \n",
       "0                                               2486             both  \n",
       "1                                                NaN        left_only  \n",
       "\n",
       "[2 rows x 33 columns]"
      ]
     },
     "execution_count": 515,
     "metadata": {},
     "output_type": "execute_result"
    }
   ],
   "source": [
    "test"
   ]
  },
  {
   "cell_type": "code",
   "execution_count": 523,
   "metadata": {},
   "outputs": [],
   "source": [
    "test.dropna(inplace=True)"
   ]
  },
  {
   "cell_type": "code",
   "execution_count": 526,
   "metadata": {},
   "outputs": [],
   "source": [
    "test['Estimate EMPLOYMENT STATUS Population 16 years and over'] = test['Estimate EMPLOYMENT STATUS Population 16 years and over'].astype('int64')"
   ]
  },
  {
   "cell_type": "code",
   "execution_count": null,
   "metadata": {},
   "outputs": [],
   "source": []
  },
  {
   "cell_type": "code",
   "execution_count": 527,
   "metadata": {},
   "outputs": [],
   "source": [
    "test['test'] = test['pctsrprec_tract']/100 * test['Estimate EMPLOYMENT STATUS Population 16 years and over']"
   ]
  },
  {
   "cell_type": "code",
   "execution_count": null,
   "metadata": {},
   "outputs": [],
   "source": []
  },
  {
   "cell_type": "code",
   "execution_count": 528,
   "metadata": {},
   "outputs": [
    {
     "data": {
      "text/html": [
       "<div>\n",
       "<style scoped>\n",
       "    .dataframe tbody tr th:only-of-type {\n",
       "        vertical-align: middle;\n",
       "    }\n",
       "\n",
       "    .dataframe tbody tr th {\n",
       "        vertical-align: top;\n",
       "    }\n",
       "\n",
       "    .dataframe thead th {\n",
       "        text-align: right;\n",
       "    }\n",
       "</style>\n",
       "<table border=\"1\" class=\"dataframe\">\n",
       "  <thead>\n",
       "    <tr style=\"text-align: right;\">\n",
       "      <th></th>\n",
       "      <th>subindex</th>\n",
       "      <th>srprec_orig</th>\n",
       "      <th>tract</th>\n",
       "      <th>pctsrprec_tract</th>\n",
       "      <th>county</th>\n",
       "      <th>srprec</th>\n",
       "      <th>cddist</th>\n",
       "      <th>TOTREG</th>\n",
       "      <th>TOTVOTE</th>\n",
       "      <th>CNGDEM01</th>\n",
       "      <th>...</th>\n",
       "      <th>male</th>\n",
       "      <th>female</th>\n",
       "      <th>hispdem</th>\n",
       "      <th>hisprep</th>\n",
       "      <th>hispdcl</th>\n",
       "      <th>hispoth</th>\n",
       "      <th>prec_merge</th>\n",
       "      <th>Estimate EMPLOYMENT STATUS Population 16 years and over</th>\n",
       "      <th>_merge</th>\n",
       "      <th>test</th>\n",
       "    </tr>\n",
       "  </thead>\n",
       "  <tbody>\n",
       "    <tr>\n",
       "      <th>0</th>\n",
       "      <td>0</td>\n",
       "      <td>75702</td>\n",
       "      <td>75809</td>\n",
       "      <td>97.095134</td>\n",
       "      <td>30</td>\n",
       "      <td>75702</td>\n",
       "      <td>45</td>\n",
       "      <td>1382</td>\n",
       "      <td>1125</td>\n",
       "      <td>319</td>\n",
       "      <td>...</td>\n",
       "      <td>562.0</td>\n",
       "      <td>527.0</td>\n",
       "      <td>15.0</td>\n",
       "      <td>20.0</td>\n",
       "      <td>16.0</td>\n",
       "      <td>5.0</td>\n",
       "      <td>both</td>\n",
       "      <td>2486</td>\n",
       "      <td>both</td>\n",
       "      <td>2413.78504</td>\n",
       "    </tr>\n",
       "  </tbody>\n",
       "</table>\n",
       "<p>1 rows × 34 columns</p>\n",
       "</div>"
      ],
      "text/plain": [
       "   subindex  srprec_orig  tract  pctsrprec_tract  county  srprec  cddist  \\\n",
       "0         0        75702  75809        97.095134      30   75702      45   \n",
       "\n",
       "   TOTREG  TOTVOTE  CNGDEM01  ...   male female hispdem  hisprep  hispdcl  \\\n",
       "0    1382     1125       319  ...  562.0  527.0    15.0     20.0     16.0   \n",
       "\n",
       "   hispoth  prec_merge  \\\n",
       "0      5.0        both   \n",
       "\n",
       "   Estimate EMPLOYMENT STATUS Population 16 years and over  _merge        test  \n",
       "0                                               2486          both  2413.78504  \n",
       "\n",
       "[1 rows x 34 columns]"
      ]
     },
     "execution_count": 528,
     "metadata": {},
     "output_type": "execute_result"
    }
   ],
   "source": [
    "test"
   ]
  },
  {
   "cell_type": "code",
   "execution_count": null,
   "metadata": {},
   "outputs": [],
   "source": []
  },
  {
   "cell_type": "markdown",
   "metadata": {},
   "source": [
    "### shape file for precincts"
   ]
  },
  {
   "cell_type": "code",
   "execution_count": 106,
   "metadata": {
    "collapsed": true,
    "jupyter": {
     "outputs_hidden": true
    }
   },
   "outputs": [
    {
     "ename": "UnicodeDecodeError",
     "evalue": "'utf-8' codec can't decode byte 0xff in position 0: invalid start byte",
     "output_type": "error",
     "traceback": [
      "\u001b[0;31m-----------------------------------------------------------------------\u001b[0m",
      "\u001b[0;31mUnicodeDecodeError\u001b[0m                    Traceback (most recent call last)",
      "\u001b[0;32m<ipython-input-106-055fbafaed3d>\u001b[0m in \u001b[0;36m<module>\u001b[0;34m\u001b[0m\n\u001b[0;32m----> 1\u001b[0;31m \u001b[0mshape18\u001b[0m \u001b[0;34m=\u001b[0m \u001b[0mpd\u001b[0m\u001b[0;34m.\u001b[0m\u001b[0mread_csv\u001b[0m\u001b[0;34m(\u001b[0m\u001b[0;34m'./map_files/srprec_059_g18_v01_srprec_059_g18_v01.shp.csv'\u001b[0m\u001b[0;34m)\u001b[0m\u001b[0;34m\u001b[0m\u001b[0;34m\u001b[0m\u001b[0m\n\u001b[0m",
      "\u001b[0;32m~/opt/anaconda3/lib/python3.8/site-packages/pandas/io/parsers.py\u001b[0m in \u001b[0;36mread_csv\u001b[0;34m(filepath_or_buffer, sep, delimiter, header, names, index_col, usecols, squeeze, prefix, mangle_dupe_cols, dtype, engine, converters, true_values, false_values, skipinitialspace, skiprows, skipfooter, nrows, na_values, keep_default_na, na_filter, verbose, skip_blank_lines, parse_dates, infer_datetime_format, keep_date_col, date_parser, dayfirst, cache_dates, iterator, chunksize, compression, thousands, decimal, lineterminator, quotechar, quoting, doublequote, escapechar, comment, encoding, dialect, error_bad_lines, warn_bad_lines, delim_whitespace, low_memory, memory_map, float_precision)\u001b[0m\n\u001b[1;32m    684\u001b[0m     )\n\u001b[1;32m    685\u001b[0m \u001b[0;34m\u001b[0m\u001b[0m\n\u001b[0;32m--> 686\u001b[0;31m     \u001b[0;32mreturn\u001b[0m \u001b[0m_read\u001b[0m\u001b[0;34m(\u001b[0m\u001b[0mfilepath_or_buffer\u001b[0m\u001b[0;34m,\u001b[0m \u001b[0mkwds\u001b[0m\u001b[0;34m)\u001b[0m\u001b[0;34m\u001b[0m\u001b[0;34m\u001b[0m\u001b[0m\n\u001b[0m\u001b[1;32m    687\u001b[0m \u001b[0;34m\u001b[0m\u001b[0m\n\u001b[1;32m    688\u001b[0m \u001b[0;34m\u001b[0m\u001b[0m\n",
      "\u001b[0;32m~/opt/anaconda3/lib/python3.8/site-packages/pandas/io/parsers.py\u001b[0m in \u001b[0;36m_read\u001b[0;34m(filepath_or_buffer, kwds)\u001b[0m\n\u001b[1;32m    450\u001b[0m \u001b[0;34m\u001b[0m\u001b[0m\n\u001b[1;32m    451\u001b[0m     \u001b[0;31m# Create the parser.\u001b[0m\u001b[0;34m\u001b[0m\u001b[0;34m\u001b[0m\u001b[0;34m\u001b[0m\u001b[0m\n\u001b[0;32m--> 452\u001b[0;31m     \u001b[0mparser\u001b[0m \u001b[0;34m=\u001b[0m \u001b[0mTextFileReader\u001b[0m\u001b[0;34m(\u001b[0m\u001b[0mfp_or_buf\u001b[0m\u001b[0;34m,\u001b[0m \u001b[0;34m**\u001b[0m\u001b[0mkwds\u001b[0m\u001b[0;34m)\u001b[0m\u001b[0;34m\u001b[0m\u001b[0;34m\u001b[0m\u001b[0m\n\u001b[0m\u001b[1;32m    453\u001b[0m \u001b[0;34m\u001b[0m\u001b[0m\n\u001b[1;32m    454\u001b[0m     \u001b[0;32mif\u001b[0m \u001b[0mchunksize\u001b[0m \u001b[0;32mor\u001b[0m \u001b[0miterator\u001b[0m\u001b[0;34m:\u001b[0m\u001b[0;34m\u001b[0m\u001b[0;34m\u001b[0m\u001b[0m\n",
      "\u001b[0;32m~/opt/anaconda3/lib/python3.8/site-packages/pandas/io/parsers.py\u001b[0m in \u001b[0;36m__init__\u001b[0;34m(self, f, engine, **kwds)\u001b[0m\n\u001b[1;32m    944\u001b[0m             \u001b[0mself\u001b[0m\u001b[0;34m.\u001b[0m\u001b[0moptions\u001b[0m\u001b[0;34m[\u001b[0m\u001b[0;34m\"has_index_names\"\u001b[0m\u001b[0;34m]\u001b[0m \u001b[0;34m=\u001b[0m \u001b[0mkwds\u001b[0m\u001b[0;34m[\u001b[0m\u001b[0;34m\"has_index_names\"\u001b[0m\u001b[0;34m]\u001b[0m\u001b[0;34m\u001b[0m\u001b[0;34m\u001b[0m\u001b[0m\n\u001b[1;32m    945\u001b[0m \u001b[0;34m\u001b[0m\u001b[0m\n\u001b[0;32m--> 946\u001b[0;31m         \u001b[0mself\u001b[0m\u001b[0;34m.\u001b[0m\u001b[0m_make_engine\u001b[0m\u001b[0;34m(\u001b[0m\u001b[0mself\u001b[0m\u001b[0;34m.\u001b[0m\u001b[0mengine\u001b[0m\u001b[0;34m)\u001b[0m\u001b[0;34m\u001b[0m\u001b[0;34m\u001b[0m\u001b[0m\n\u001b[0m\u001b[1;32m    947\u001b[0m \u001b[0;34m\u001b[0m\u001b[0m\n\u001b[1;32m    948\u001b[0m     \u001b[0;32mdef\u001b[0m \u001b[0mclose\u001b[0m\u001b[0;34m(\u001b[0m\u001b[0mself\u001b[0m\u001b[0;34m)\u001b[0m\u001b[0;34m:\u001b[0m\u001b[0;34m\u001b[0m\u001b[0;34m\u001b[0m\u001b[0m\n",
      "\u001b[0;32m~/opt/anaconda3/lib/python3.8/site-packages/pandas/io/parsers.py\u001b[0m in \u001b[0;36m_make_engine\u001b[0;34m(self, engine)\u001b[0m\n\u001b[1;32m   1176\u001b[0m     \u001b[0;32mdef\u001b[0m \u001b[0m_make_engine\u001b[0m\u001b[0;34m(\u001b[0m\u001b[0mself\u001b[0m\u001b[0;34m,\u001b[0m \u001b[0mengine\u001b[0m\u001b[0;34m=\u001b[0m\u001b[0;34m\"c\"\u001b[0m\u001b[0;34m)\u001b[0m\u001b[0;34m:\u001b[0m\u001b[0;34m\u001b[0m\u001b[0;34m\u001b[0m\u001b[0m\n\u001b[1;32m   1177\u001b[0m         \u001b[0;32mif\u001b[0m \u001b[0mengine\u001b[0m \u001b[0;34m==\u001b[0m \u001b[0;34m\"c\"\u001b[0m\u001b[0;34m:\u001b[0m\u001b[0;34m\u001b[0m\u001b[0;34m\u001b[0m\u001b[0m\n\u001b[0;32m-> 1178\u001b[0;31m             \u001b[0mself\u001b[0m\u001b[0;34m.\u001b[0m\u001b[0m_engine\u001b[0m \u001b[0;34m=\u001b[0m \u001b[0mCParserWrapper\u001b[0m\u001b[0;34m(\u001b[0m\u001b[0mself\u001b[0m\u001b[0;34m.\u001b[0m\u001b[0mf\u001b[0m\u001b[0;34m,\u001b[0m \u001b[0;34m**\u001b[0m\u001b[0mself\u001b[0m\u001b[0;34m.\u001b[0m\u001b[0moptions\u001b[0m\u001b[0;34m)\u001b[0m\u001b[0;34m\u001b[0m\u001b[0;34m\u001b[0m\u001b[0m\n\u001b[0m\u001b[1;32m   1179\u001b[0m         \u001b[0;32melse\u001b[0m\u001b[0;34m:\u001b[0m\u001b[0;34m\u001b[0m\u001b[0;34m\u001b[0m\u001b[0m\n\u001b[1;32m   1180\u001b[0m             \u001b[0;32mif\u001b[0m \u001b[0mengine\u001b[0m \u001b[0;34m==\u001b[0m \u001b[0;34m\"python\"\u001b[0m\u001b[0;34m:\u001b[0m\u001b[0;34m\u001b[0m\u001b[0;34m\u001b[0m\u001b[0m\n",
      "\u001b[0;32m~/opt/anaconda3/lib/python3.8/site-packages/pandas/io/parsers.py\u001b[0m in \u001b[0;36m__init__\u001b[0;34m(self, src, **kwds)\u001b[0m\n\u001b[1;32m   2006\u001b[0m         \u001b[0mkwds\u001b[0m\u001b[0;34m[\u001b[0m\u001b[0;34m\"usecols\"\u001b[0m\u001b[0;34m]\u001b[0m \u001b[0;34m=\u001b[0m \u001b[0mself\u001b[0m\u001b[0;34m.\u001b[0m\u001b[0musecols\u001b[0m\u001b[0;34m\u001b[0m\u001b[0;34m\u001b[0m\u001b[0m\n\u001b[1;32m   2007\u001b[0m \u001b[0;34m\u001b[0m\u001b[0m\n\u001b[0;32m-> 2008\u001b[0;31m         \u001b[0mself\u001b[0m\u001b[0;34m.\u001b[0m\u001b[0m_reader\u001b[0m \u001b[0;34m=\u001b[0m \u001b[0mparsers\u001b[0m\u001b[0;34m.\u001b[0m\u001b[0mTextReader\u001b[0m\u001b[0;34m(\u001b[0m\u001b[0msrc\u001b[0m\u001b[0;34m,\u001b[0m \u001b[0;34m**\u001b[0m\u001b[0mkwds\u001b[0m\u001b[0;34m)\u001b[0m\u001b[0;34m\u001b[0m\u001b[0;34m\u001b[0m\u001b[0m\n\u001b[0m\u001b[1;32m   2009\u001b[0m         \u001b[0mself\u001b[0m\u001b[0;34m.\u001b[0m\u001b[0munnamed_cols\u001b[0m \u001b[0;34m=\u001b[0m \u001b[0mself\u001b[0m\u001b[0;34m.\u001b[0m\u001b[0m_reader\u001b[0m\u001b[0;34m.\u001b[0m\u001b[0munnamed_cols\u001b[0m\u001b[0;34m\u001b[0m\u001b[0;34m\u001b[0m\u001b[0m\n\u001b[1;32m   2010\u001b[0m \u001b[0;34m\u001b[0m\u001b[0m\n",
      "\u001b[0;32mpandas/_libs/parsers.pyx\u001b[0m in \u001b[0;36mpandas._libs.parsers.TextReader.__cinit__\u001b[0;34m()\u001b[0m\n",
      "\u001b[0;32mpandas/_libs/parsers.pyx\u001b[0m in \u001b[0;36mpandas._libs.parsers.TextReader._get_header\u001b[0;34m()\u001b[0m\n",
      "\u001b[0;31mUnicodeDecodeError\u001b[0m: 'utf-8' codec can't decode byte 0xff in position 0: invalid start byte"
     ]
    }
   ],
   "source": [
    "# shape18 = pd.read_csv('./map_files/srprec_059_g18_v01_srprec_059_g18_v01.shp.csv')"
   ]
  },
  {
   "cell_type": "code",
   "execution_count": null,
   "metadata": {},
   "outputs": [],
   "source": [
    "# UnicodeDecodeError: 'utf-8' codec can't decode byte 0xff in position 0: invalid start byte\n",
    "# to resolve:  https://stackoverflow.com/questions/42339876/error-unicodedecodeerror-utf-8-codec-cant-decode-byte-0xff-in-position-0-in"
   ]
  },
  {
   "cell_type": "code",
   "execution_count": 107,
   "metadata": {},
   "outputs": [],
   "source": [
    "with open('./map_files/srprec_059_g18_v01_srprec_059_g18_v01.shp.csv', 'rb') as f:\n",
    "  contents = f.read()"
   ]
  },
  {
   "cell_type": "code",
   "execution_count": 111,
   "metadata": {},
   "outputs": [
    {
     "data": {
      "text/plain": [
       "bytes"
      ]
     },
     "execution_count": 111,
     "metadata": {},
     "output_type": "execute_result"
    }
   ],
   "source": [
    "type(contents)\n",
    "# binary file, don't know how to put into DataFrame"
   ]
  },
  {
   "cell_type": "code",
   "execution_count": null,
   "metadata": {},
   "outputs": [],
   "source": [
    "shape18.shape"
   ]
  },
  {
   "cell_type": "code",
   "execution_count": null,
   "metadata": {},
   "outputs": [],
   "source": []
  },
  {
   "cell_type": "code",
   "execution_count": 112,
   "metadata": {},
   "outputs": [],
   "source": [
    "with open('./map_files/srprec_059_g18_v01_srprec_059_g18_v01.shp.csv', encoding=\"utf8\", errors='ignore') as f:\n",
    "    contents = f.read()"
   ]
  },
  {
   "cell_type": "code",
   "execution_count": 125,
   "metadata": {},
   "outputs": [
    {
     "data": {
      "text/plain": [
       "str"
      ]
     },
     "execution_count": 125,
     "metadata": {},
     "output_type": "execute_result"
    }
   ],
   "source": [
    "type(contents)"
   ]
  },
  {
   "cell_type": "code",
   "execution_count": 122,
   "metadata": {},
   "outputs": [
    {
     "ename": "ValueError",
     "evalue": "DataFrame constructor not properly called!",
     "output_type": "error",
     "traceback": [
      "\u001b[0;31m-----------------------------------------------------------------------\u001b[0m",
      "\u001b[0;31mValueError\u001b[0m                            Traceback (most recent call last)",
      "\u001b[0;32m<ipython-input-122-c08f903844eb>\u001b[0m in \u001b[0;36m<module>\u001b[0;34m\u001b[0m\n\u001b[0;32m----> 1\u001b[0;31m \u001b[0mfile\u001b[0m \u001b[0;34m=\u001b[0m \u001b[0mpd\u001b[0m\u001b[0;34m.\u001b[0m\u001b[0mDataFrame\u001b[0m\u001b[0;34m(\u001b[0m\u001b[0mdata\u001b[0m\u001b[0;34m=\u001b[0m\u001b[0mcontents\u001b[0m\u001b[0;34m,\u001b[0m \u001b[0mcolumns\u001b[0m\u001b[0;34m=\u001b[0m\u001b[0;34m[\u001b[0m\u001b[0;34m'srprec'\u001b[0m\u001b[0;34m,\u001b[0m \u001b[0;34m'geometry'\u001b[0m\u001b[0;34m]\u001b[0m\u001b[0;34m,\u001b[0m \u001b[0mdtype\u001b[0m\u001b[0;34m=\u001b[0m\u001b[0mnp\u001b[0m\u001b[0;34m.\u001b[0m\u001b[0mint8\u001b[0m\u001b[0;34m)\u001b[0m\u001b[0;34m\u001b[0m\u001b[0;34m\u001b[0m\u001b[0m\n\u001b[0m",
      "\u001b[0;32m~/opt/anaconda3/lib/python3.8/site-packages/pandas/core/frame.py\u001b[0m in \u001b[0;36m__init__\u001b[0;34m(self, data, index, columns, dtype, copy)\u001b[0m\n\u001b[1;32m    527\u001b[0m         \u001b[0;32melse\u001b[0m\u001b[0;34m:\u001b[0m\u001b[0;34m\u001b[0m\u001b[0;34m\u001b[0m\u001b[0m\n\u001b[1;32m    528\u001b[0m             \u001b[0;32mif\u001b[0m \u001b[0mindex\u001b[0m \u001b[0;32mis\u001b[0m \u001b[0;32mNone\u001b[0m \u001b[0;32mor\u001b[0m \u001b[0mcolumns\u001b[0m \u001b[0;32mis\u001b[0m \u001b[0;32mNone\u001b[0m\u001b[0;34m:\u001b[0m\u001b[0;34m\u001b[0m\u001b[0;34m\u001b[0m\u001b[0m\n\u001b[0;32m--> 529\u001b[0;31m                 \u001b[0;32mraise\u001b[0m \u001b[0mValueError\u001b[0m\u001b[0;34m(\u001b[0m\u001b[0;34m\"DataFrame constructor not properly called!\"\u001b[0m\u001b[0;34m)\u001b[0m\u001b[0;34m\u001b[0m\u001b[0;34m\u001b[0m\u001b[0m\n\u001b[0m\u001b[1;32m    530\u001b[0m \u001b[0;34m\u001b[0m\u001b[0m\n\u001b[1;32m    531\u001b[0m             \u001b[0;32mif\u001b[0m \u001b[0;32mnot\u001b[0m \u001b[0mdtype\u001b[0m\u001b[0;34m:\u001b[0m\u001b[0;34m\u001b[0m\u001b[0;34m\u001b[0m\u001b[0m\n",
      "\u001b[0;31mValueError\u001b[0m: DataFrame constructor not properly called!"
     ]
    }
   ],
   "source": [
    "file = pd.DataFrame(data=contents, columns=['srprec', 'geometry'], dtype=np.int8)"
   ]
  },
  {
   "cell_type": "code",
   "execution_count": null,
   "metadata": {},
   "outputs": [],
   "source": []
  },
  {
   "cell_type": "code",
   "execution_count": 126,
   "metadata": {},
   "outputs": [
    {
     "ename": "TypeError",
     "evalue": "a bytes-like object is required, not 'str'",
     "output_type": "error",
     "traceback": [
      "\u001b[0;31m-----------------------------------------------------------------------\u001b[0m",
      "\u001b[0;31mTypeError\u001b[0m                             Traceback (most recent call last)",
      "\u001b[0;32m<ipython-input-126-460c85c0cdd6>\u001b[0m in \u001b[0;36m<module>\u001b[0;34m\u001b[0m\n\u001b[1;32m      1\u001b[0m \u001b[0;32mwith\u001b[0m \u001b[0mopen\u001b[0m\u001b[0;34m(\u001b[0m\u001b[0;34m'./map_files/srprec_059_g18_v01_srprec_059_g18_v01.shp.csv'\u001b[0m\u001b[0;34m,\u001b[0m\u001b[0;34m'rb'\u001b[0m\u001b[0;34m)\u001b[0m \u001b[0;32mas\u001b[0m \u001b[0mf\u001b[0m\u001b[0;34m:\u001b[0m\u001b[0;34m\u001b[0m\u001b[0;34m\u001b[0m\u001b[0m\n\u001b[1;32m      2\u001b[0m     \u001b[0mcontents\u001b[0m \u001b[0;34m=\u001b[0m \u001b[0mf\u001b[0m\u001b[0;34m.\u001b[0m\u001b[0mread\u001b[0m\u001b[0;34m(\u001b[0m\u001b[0;34m)\u001b[0m\u001b[0;34m\u001b[0m\u001b[0;34m\u001b[0m\u001b[0m\n\u001b[0;32m----> 3\u001b[0;31m \u001b[0mcontents\u001b[0m \u001b[0;34m=\u001b[0m \u001b[0mcontents\u001b[0m\u001b[0;34m.\u001b[0m\u001b[0mrstrip\u001b[0m\u001b[0;34m(\u001b[0m\u001b[0;34m\"\\n\"\u001b[0m\u001b[0;34m)\u001b[0m\u001b[0;34m.\u001b[0m\u001b[0mdecode\u001b[0m\u001b[0;34m(\u001b[0m\u001b[0;34m\"utf-16\"\u001b[0m\u001b[0;34m)\u001b[0m\u001b[0;34m\u001b[0m\u001b[0;34m\u001b[0m\u001b[0m\n\u001b[0m\u001b[1;32m      4\u001b[0m \u001b[0mcontents\u001b[0m \u001b[0;34m=\u001b[0m \u001b[0mcontents\u001b[0m\u001b[0;34m.\u001b[0m\u001b[0msplit\u001b[0m\u001b[0;34m(\u001b[0m\u001b[0;34m\"\\r\\n\"\u001b[0m\u001b[0;34m)\u001b[0m\u001b[0;34m\u001b[0m\u001b[0;34m\u001b[0m\u001b[0m\n",
      "\u001b[0;31mTypeError\u001b[0m: a bytes-like object is required, not 'str'"
     ]
    }
   ],
   "source": [
    "with open('./map_files/srprec_059_g18_v01_srprec_059_g18_v01.shp.csv','rb') as f:\n",
    "    contents = f.read()\n",
    "contents = contents.rstrip(\"\\n\").decode(\"utf-16\")\n",
    "contents = contents.split(\"\\r\\n\")"
   ]
  },
  {
   "cell_type": "code",
   "execution_count": null,
   "metadata": {},
   "outputs": [],
   "source": []
  },
  {
   "cell_type": "code",
   "execution_count": 131,
   "metadata": {
    "collapsed": true,
    "jupyter": {
     "outputs_hidden": true
    }
   },
   "outputs": [
    {
     "name": "stdout",
     "output_type": "stream",
     "text": [
      "Requirement already satisfied: geopandas in /Users/nevochka/opt/anaconda3/lib/python3.8/site-packages (0.8.1)\n",
      "Requirement already satisfied: pyproj>=2.2.0 in /Users/nevochka/opt/anaconda3/lib/python3.8/site-packages (from geopandas) (2.6.1.post1)\n",
      "Requirement already satisfied: fiona in /Users/nevochka/opt/anaconda3/lib/python3.8/site-packages (from geopandas) (1.8.17)\n",
      "Requirement already satisfied: shapely in /Users/nevochka/opt/anaconda3/lib/python3.8/site-packages (from geopandas) (1.7.1)\n",
      "Requirement already satisfied: pandas>=0.23.0 in /Users/nevochka/opt/anaconda3/lib/python3.8/site-packages (from geopandas) (1.1.3)\n",
      "Requirement already satisfied: click-plugins>=1.0 in /Users/nevochka/opt/anaconda3/lib/python3.8/site-packages (from fiona->geopandas) (1.1.1)\n",
      "Requirement already satisfied: click<8,>=4.0 in /Users/nevochka/opt/anaconda3/lib/python3.8/site-packages (from fiona->geopandas) (7.1.2)\n",
      "Requirement already satisfied: cligj>=0.5 in /Users/nevochka/opt/anaconda3/lib/python3.8/site-packages (from fiona->geopandas) (0.5.0)\n",
      "Requirement already satisfied: munch in /Users/nevochka/opt/anaconda3/lib/python3.8/site-packages (from fiona->geopandas) (2.5.0)\n",
      "Requirement already satisfied: six>=1.7 in /Users/nevochka/opt/anaconda3/lib/python3.8/site-packages (from fiona->geopandas) (1.15.0)\n",
      "Requirement already satisfied: attrs>=17 in /Users/nevochka/opt/anaconda3/lib/python3.8/site-packages (from fiona->geopandas) (20.2.0)\n",
      "Requirement already satisfied: pytz>=2017.2 in /Users/nevochka/opt/anaconda3/lib/python3.8/site-packages (from pandas>=0.23.0->geopandas) (2020.1)\n",
      "Requirement already satisfied: python-dateutil>=2.7.3 in /Users/nevochka/opt/anaconda3/lib/python3.8/site-packages (from pandas>=0.23.0->geopandas) (2.8.1)\n",
      "Requirement already satisfied: numpy>=1.15.4 in /Users/nevochka/opt/anaconda3/lib/python3.8/site-packages (from pandas>=0.23.0->geopandas) (1.19.1)\n"
     ]
    }
   ],
   "source": [
    "#hope springs eternal\n",
    "#stack:  https://stackoverflow.com/questions/55112771/read-shapefiles-into-dataframe"
   ]
  },
  {
   "cell_type": "code",
   "execution_count": 142,
   "metadata": {},
   "outputs": [
    {
     "ename": "ModuleNotFoundError",
     "evalue": "No module named 'shapefile'",
     "output_type": "error",
     "traceback": [
      "\u001b[0;31m-----------------------------------------------------------------------\u001b[0m",
      "\u001b[0;31mModuleNotFoundError\u001b[0m                   Traceback (most recent call last)",
      "\u001b[0;32m<ipython-input-142-c7800d26a694>\u001b[0m in \u001b[0;36m<module>\u001b[0;34m\u001b[0m\n\u001b[1;32m      1\u001b[0m \u001b[0;32mimport\u001b[0m \u001b[0mpandas\u001b[0m \u001b[0;32mas\u001b[0m \u001b[0mpd\u001b[0m\u001b[0;34m\u001b[0m\u001b[0;34m\u001b[0m\u001b[0m\n\u001b[0;32m----> 2\u001b[0;31m \u001b[0;32mimport\u001b[0m \u001b[0mshapefile\u001b[0m\u001b[0;34m\u001b[0m\u001b[0;34m\u001b[0m\u001b[0m\n\u001b[0m\u001b[1;32m      3\u001b[0m \u001b[0;32mimport\u001b[0m \u001b[0mgeopandas\u001b[0m     \u001b[0;31m#https://geopandas.org/install.html\u001b[0m\u001b[0;34m\u001b[0m\u001b[0;34m\u001b[0m\u001b[0m\n\u001b[1;32m      4\u001b[0m \u001b[0;32mimport\u001b[0m \u001b[0mfiona\u001b[0m\u001b[0;34m;\u001b[0m \u001b[0mhelp\u001b[0m\u001b[0;34m(\u001b[0m\u001b[0mfiona\u001b[0m\u001b[0;34m.\u001b[0m\u001b[0mopen\u001b[0m\u001b[0;34m)\u001b[0m\u001b[0;34m\u001b[0m\u001b[0;34m\u001b[0m\u001b[0m\n",
      "\u001b[0;31mModuleNotFoundError\u001b[0m: No module named 'shapefile'"
     ]
    }
   ],
   "source": [
    "import pandas as pd\n",
    "import shapefile\n",
    "import geopandas     #https://geopandas.org/install.html\n",
    "import fiona; help(fiona.open)"
   ]
  },
  {
   "cell_type": "code",
   "execution_count": 138,
   "metadata": {},
   "outputs": [
    {
     "ename": "NameError",
     "evalue": "name 'geopandas' is not defined",
     "output_type": "error",
     "traceback": [
      "\u001b[0;31m-----------------------------------------------------------------------\u001b[0m",
      "\u001b[0;31mNameError\u001b[0m                             Traceback (most recent call last)",
      "\u001b[0;32m<ipython-input-138-8bc81b9f0851>\u001b[0m in \u001b[0;36m<module>\u001b[0;34m\u001b[0m\n\u001b[0;32m----> 1\u001b[0;31m \u001b[0mgeopandas\u001b[0m\u001b[0;34m.\u001b[0m\u001b[0mread_file\u001b[0m\u001b[0;34m(\u001b[0m\u001b[0;34m'./map_files/srprec_059_g18_v01_srprec_059_g18_v01.shp.csv'\u001b[0m\u001b[0;34m)\u001b[0m\u001b[0;34m\u001b[0m\u001b[0;34m\u001b[0m\u001b[0m\n\u001b[0m",
      "\u001b[0;31mNameError\u001b[0m: name 'geopandas' is not defined"
     ]
    }
   ],
   "source": [
    "geopandas.read_file('./map_files/srprec_059_g18_v01_srprec_059_g18_v01.shp.csv')"
   ]
  },
  {
   "cell_type": "code",
   "execution_count": null,
   "metadata": {},
   "outputs": [],
   "source": []
  },
  {
   "cell_type": "code",
   "execution_count": 127,
   "metadata": {},
   "outputs": [
    {
     "ename": "ModuleNotFoundError",
     "evalue": "No module named 'shapefile'",
     "output_type": "error",
     "traceback": [
      "\u001b[0;31m-----------------------------------------------------------------------\u001b[0m",
      "\u001b[0;31mModuleNotFoundError\u001b[0m                   Traceback (most recent call last)",
      "\u001b[0;32m<ipython-input-127-ff3d79d8319e>\u001b[0m in \u001b[0;36m<module>\u001b[0;34m\u001b[0m\n\u001b[1;32m      3\u001b[0m \u001b[0;34m\u001b[0m\u001b[0m\n\u001b[1;32m      4\u001b[0m \u001b[0;32mimport\u001b[0m \u001b[0mpandas\u001b[0m \u001b[0;32mas\u001b[0m \u001b[0mpd\u001b[0m\u001b[0;34m\u001b[0m\u001b[0;34m\u001b[0m\u001b[0m\n\u001b[0;32m----> 5\u001b[0;31m \u001b[0;32mimport\u001b[0m \u001b[0mshapefile\u001b[0m\u001b[0;34m\u001b[0m\u001b[0;34m\u001b[0m\u001b[0m\n\u001b[0m\u001b[1;32m      6\u001b[0m \u001b[0msf_path\u001b[0m \u001b[0;34m=\u001b[0m \u001b[0;34mr'./map_files/srprec_059_g18_v01_srprec_059_g18_v01.shp.csv'\u001b[0m\u001b[0;34m\u001b[0m\u001b[0;34m\u001b[0m\u001b[0m\n\u001b[1;32m      7\u001b[0m \u001b[0msf\u001b[0m \u001b[0;34m=\u001b[0m \u001b[0mshapefile\u001b[0m\u001b[0;34m.\u001b[0m\u001b[0mReader\u001b[0m\u001b[0;34m(\u001b[0m\u001b[0msf_path\u001b[0m\u001b[0;34m,\u001b[0m \u001b[0mencoding\u001b[0m \u001b[0;34m=\u001b[0m \u001b[0;34m'Shift-JIS'\u001b[0m\u001b[0;34m)\u001b[0m\u001b[0;34m\u001b[0m\u001b[0;34m\u001b[0m\u001b[0m\n",
      "\u001b[0;31mModuleNotFoundError\u001b[0m: No module named 'shapefile'"
     ]
    }
   ],
   "source": [
    "sf_path = r'./map_files/srprec_059_g18_v01_srprec_059_g18_v01.shp.csv'\n",
    "sf = shapefile.Reader(sf_path, encoding = 'Shift-JIS')\n",
    "\n",
    "fields = [x[0] for x in sf.fields][1:]\n",
    "records = sf.records()\n",
    "shps = [s.points for s in sf.shapes()]\n",
    "\n",
    "sf_df = pd.DataFrame(columns = fields, data = records)"
   ]
  },
  {
   "cell_type": "code",
   "execution_count": null,
   "metadata": {},
   "outputs": [],
   "source": []
  },
  {
   "cell_type": "code",
   "execution_count": null,
   "metadata": {},
   "outputs": [],
   "source": []
  },
  {
   "cell_type": "code",
   "execution_count": null,
   "metadata": {},
   "outputs": [],
   "source": []
  },
  {
   "cell_type": "code",
   "execution_count": null,
   "metadata": {},
   "outputs": [],
   "source": []
  },
  {
   "cell_type": "markdown",
   "metadata": {},
   "source": [
    "#### compare conversion fields"
   ]
  },
  {
   "cell_type": "code",
   "execution_count": 98,
   "metadata": {},
   "outputs": [
    {
     "name": "stdout",
     "output_type": "stream",
     "text": [
      "<class 'pandas.core.frame.DataFrame'>\n",
      "Int64Index: 1334 entries, 0 to 1545\n",
      "Data columns (total 2 columns):\n",
      " #   Column  Non-Null Count  Dtype\n",
      "---  ------  --------------  -----\n",
      " 0   srprec  1334 non-null   Int64\n",
      " 1   cddist  1334 non-null   int64\n",
      "dtypes: Int64(1), int64(1)\n",
      "memory usage: 32.6 KB\n"
     ]
    }
   ],
   "source": [
    "data18[['srprec', 'cddist']].info()"
   ]
  },
  {
   "cell_type": "code",
   "execution_count": 100,
   "metadata": {},
   "outputs": [
    {
     "name": "stdout",
     "output_type": "stream",
     "text": [
      "<class 'pandas.core.frame.DataFrame'>\n",
      "RangeIndex: 22985 entries, 0 to 22984\n",
      "Data columns (total 3 columns):\n",
      " #   Column  Non-Null Count  Dtype  \n",
      "---  ------  --------------  -----  \n",
      " 0   srprec  22984 non-null  float64\n",
      " 1   tract   22985 non-null  int64  \n",
      " 2   block   22985 non-null  int64  \n",
      "dtypes: float64(1), int64(2)\n",
      "memory usage: 538.8 KB\n"
     ]
    }
   ],
   "source": [
    "convert18[['srprec', 'tract', 'block']].info()"
   ]
  },
  {
   "cell_type": "code",
   "execution_count": 104,
   "metadata": {},
   "outputs": [
    {
     "name": "stdout",
     "output_type": "stream",
     "text": [
      "<class 'pandas.core.frame.DataFrame'>\n",
      "Int64Index: 583 entries, 1 to 583\n",
      "Data columns (total 1 columns):\n",
      " #   Column  Non-Null Count  Dtype \n",
      "---  ------  --------------  ----- \n",
      " 0   tract   583 non-null    object\n",
      "dtypes: object(1)\n",
      "memory usage: 9.1+ KB\n"
     ]
    }
   ],
   "source": [
    "dp03_18sub[['tract']].info()"
   ]
  },
  {
   "cell_type": "code",
   "execution_count": null,
   "metadata": {},
   "outputs": [],
   "source": []
  }
 ],
 "metadata": {
  "kernelspec": {
   "display_name": "Python 3",
   "language": "python",
   "name": "python3"
  },
  "language_info": {
   "codemirror_mode": {
    "name": "ipython",
    "version": 3
   },
   "file_extension": ".py",
   "mimetype": "text/x-python",
   "name": "python",
   "nbconvert_exporter": "python",
   "pygments_lexer": "ipython3",
   "version": "3.8.3"
  }
 },
 "nbformat": 4,
 "nbformat_minor": 4
}
