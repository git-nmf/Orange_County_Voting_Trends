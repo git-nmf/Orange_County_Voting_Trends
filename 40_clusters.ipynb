{
 "cells": [
  {
   "cell_type": "markdown",
   "metadata": {},
   "source": [
    "## This page uses unsupervised learning models to uncover clusters in our data set"
   ]
  },
  {
   "cell_type": "code",
   "execution_count": 1,
   "metadata": {},
   "outputs": [],
   "source": [
    "# imports\n",
    "import pandas as pd\n",
    "import numpy as np\n",
    "import pickle as pkl\n",
    "import matplotlib.pyplot as plt\n",
    "plt.style.use('ggplot')\n",
    "import seaborn as sns\n",
    "import warnings"
   ]
  },
  {
   "cell_type": "code",
   "execution_count": 2,
   "metadata": {},
   "outputs": [],
   "source": [
    "# pd.set_option('display.max_columns', None)\n",
    "# pd.set_option('display.max_rows', None)\n",
    "np.random.seed(42)"
   ]
  },
  {
   "cell_type": "code",
   "execution_count": 4,
   "metadata": {},
   "outputs": [],
   "source": [
    "# modeling imports\n",
    "from scipy import stats\n",
    "from sklearn.metrics import mean_squared_error, silhouette_score\n",
    "from sklearn.preprocessing import StandardScaler\n",
    "from sklearn.cluster import DBSCAN"
   ]
  },
  {
   "cell_type": "code",
   "execution_count": null,
   "metadata": {},
   "outputs": [],
   "source": []
  },
  {
   "cell_type": "markdown",
   "metadata": {},
   "source": [
    "#### Bring in transformed data set, which combines voting and census data for each precinct"
   ]
  },
  {
   "cell_type": "code",
   "execution_count": 16,
   "metadata": {},
   "outputs": [
    {
     "data": {
      "text/plain": [
       "(1334, 37)"
      ]
     },
     "execution_count": 16,
     "metadata": {},
     "output_type": "execute_result"
    }
   ],
   "source": [
    "df = pd.read_pickle('./data/combined18_extended.pkl')\n",
    "df.shape"
   ]
  },
  {
   "cell_type": "code",
   "execution_count": 17,
   "metadata": {},
   "outputs": [
    {
     "data": {
      "text/html": [
       "<div>\n",
       "<style scoped>\n",
       "    .dataframe tbody tr th:only-of-type {\n",
       "        vertical-align: middle;\n",
       "    }\n",
       "\n",
       "    .dataframe tbody tr th {\n",
       "        vertical-align: top;\n",
       "    }\n",
       "\n",
       "    .dataframe thead th {\n",
       "        text-align: right;\n",
       "    }\n",
       "</style>\n",
       "<table border=\"1\" class=\"dataframe\">\n",
       "  <thead>\n",
       "    <tr style=\"text-align: right;\">\n",
       "      <th></th>\n",
       "      <th>srprec_orig</th>\n",
       "      <th>subindex</th>\n",
       "      <th>pctsrprec_tract</th>\n",
       "      <th>employed_wgt</th>\n",
       "      <th>unemployed_wgt</th>\n",
       "      <th>empl_military_wgt</th>\n",
       "      <th>not_inlaborforce_wgt</th>\n",
       "      <th>working_women_wgt</th>\n",
       "      <th>parents_work_under6_wgt</th>\n",
       "      <th>parents_work_0617_wgt</th>\n",
       "      <th>...</th>\n",
       "      <th>totreg_r</th>\n",
       "      <th>dem</th>\n",
       "      <th>rep</th>\n",
       "      <th>dcl</th>\n",
       "      <th>male</th>\n",
       "      <th>female</th>\n",
       "      <th>hispdem</th>\n",
       "      <th>hisprep</th>\n",
       "      <th>hispdcl</th>\n",
       "      <th>hispoth</th>\n",
       "    </tr>\n",
       "  </thead>\n",
       "  <tbody>\n",
       "    <tr>\n",
       "      <th>0</th>\n",
       "      <td>2001.0</td>\n",
       "      <td>3.0</td>\n",
       "      <td>100.0</td>\n",
       "      <td>2647.0</td>\n",
       "      <td>161.0</td>\n",
       "      <td>0.0</td>\n",
       "      <td>1372.0</td>\n",
       "      <td>1152.0</td>\n",
       "      <td>268.0</td>\n",
       "      <td>783.0</td>\n",
       "      <td>...</td>\n",
       "      <td>371.0</td>\n",
       "      <td>161.0</td>\n",
       "      <td>106.0</td>\n",
       "      <td>83.0</td>\n",
       "      <td>173.0</td>\n",
       "      <td>198.0</td>\n",
       "      <td>106.0</td>\n",
       "      <td>20.0</td>\n",
       "      <td>56.0</td>\n",
       "      <td>7.0</td>\n",
       "    </tr>\n",
       "    <tr>\n",
       "      <th>1</th>\n",
       "      <td>2002.0</td>\n",
       "      <td>0.0</td>\n",
       "      <td>100.0</td>\n",
       "      <td>2881.0</td>\n",
       "      <td>217.0</td>\n",
       "      <td>9.0</td>\n",
       "      <td>1525.0</td>\n",
       "      <td>1030.0</td>\n",
       "      <td>257.0</td>\n",
       "      <td>1082.0</td>\n",
       "      <td>...</td>\n",
       "      <td>109.0</td>\n",
       "      <td>61.0</td>\n",
       "      <td>8.0</td>\n",
       "      <td>39.0</td>\n",
       "      <td>46.0</td>\n",
       "      <td>63.0</td>\n",
       "      <td>52.0</td>\n",
       "      <td>0.0</td>\n",
       "      <td>23.0</td>\n",
       "      <td>0.0</td>\n",
       "    </tr>\n",
       "    <tr>\n",
       "      <th>2</th>\n",
       "      <td>2008.0</td>\n",
       "      <td>0.0</td>\n",
       "      <td>100.0</td>\n",
       "      <td>3948.0</td>\n",
       "      <td>278.0</td>\n",
       "      <td>0.0</td>\n",
       "      <td>1438.0</td>\n",
       "      <td>1656.0</td>\n",
       "      <td>561.0</td>\n",
       "      <td>677.0</td>\n",
       "      <td>...</td>\n",
       "      <td>1197.0</td>\n",
       "      <td>621.0</td>\n",
       "      <td>234.0</td>\n",
       "      <td>301.0</td>\n",
       "      <td>574.0</td>\n",
       "      <td>623.0</td>\n",
       "      <td>376.0</td>\n",
       "      <td>60.0</td>\n",
       "      <td>171.0</td>\n",
       "      <td>12.0</td>\n",
       "    </tr>\n",
       "    <tr>\n",
       "      <th>3</th>\n",
       "      <td>2009.0</td>\n",
       "      <td>3.0</td>\n",
       "      <td>100.0</td>\n",
       "      <td>3045.0</td>\n",
       "      <td>147.0</td>\n",
       "      <td>0.0</td>\n",
       "      <td>2459.0</td>\n",
       "      <td>1447.0</td>\n",
       "      <td>273.0</td>\n",
       "      <td>717.0</td>\n",
       "      <td>...</td>\n",
       "      <td>735.0</td>\n",
       "      <td>380.0</td>\n",
       "      <td>177.0</td>\n",
       "      <td>160.0</td>\n",
       "      <td>359.0</td>\n",
       "      <td>376.0</td>\n",
       "      <td>169.0</td>\n",
       "      <td>39.0</td>\n",
       "      <td>54.0</td>\n",
       "      <td>1.0</td>\n",
       "    </tr>\n",
       "    <tr>\n",
       "      <th>4</th>\n",
       "      <td>2011.0</td>\n",
       "      <td>0.0</td>\n",
       "      <td>100.0</td>\n",
       "      <td>2991.0</td>\n",
       "      <td>74.0</td>\n",
       "      <td>0.0</td>\n",
       "      <td>1401.0</td>\n",
       "      <td>1486.0</td>\n",
       "      <td>334.0</td>\n",
       "      <td>492.0</td>\n",
       "      <td>...</td>\n",
       "      <td>805.0</td>\n",
       "      <td>251.0</td>\n",
       "      <td>360.0</td>\n",
       "      <td>167.0</td>\n",
       "      <td>415.0</td>\n",
       "      <td>390.0</td>\n",
       "      <td>59.0</td>\n",
       "      <td>29.0</td>\n",
       "      <td>30.0</td>\n",
       "      <td>5.0</td>\n",
       "    </tr>\n",
       "  </tbody>\n",
       "</table>\n",
       "<p>5 rows × 37 columns</p>\n",
       "</div>"
      ],
      "text/plain": [
       "   srprec_orig  subindex  pctsrprec_tract  employed_wgt  unemployed_wgt  \\\n",
       "0       2001.0       3.0            100.0        2647.0           161.0   \n",
       "1       2002.0       0.0            100.0        2881.0           217.0   \n",
       "2       2008.0       0.0            100.0        3948.0           278.0   \n",
       "3       2009.0       3.0            100.0        3045.0           147.0   \n",
       "4       2011.0       0.0            100.0        2991.0            74.0   \n",
       "\n",
       "   empl_military_wgt  not_inlaborforce_wgt  working_women_wgt  \\\n",
       "0                0.0                1372.0             1152.0   \n",
       "1                9.0                1525.0             1030.0   \n",
       "2                0.0                1438.0             1656.0   \n",
       "3                0.0                2459.0             1447.0   \n",
       "4                0.0                1401.0             1486.0   \n",
       "\n",
       "   parents_work_under6_wgt  parents_work_0617_wgt  ...  totreg_r    dem  \\\n",
       "0                    268.0                  783.0  ...     371.0  161.0   \n",
       "1                    257.0                 1082.0  ...     109.0   61.0   \n",
       "2                    561.0                  677.0  ...    1197.0  621.0   \n",
       "3                    273.0                  717.0  ...     735.0  380.0   \n",
       "4                    334.0                  492.0  ...     805.0  251.0   \n",
       "\n",
       "     rep    dcl   male  female  hispdem  hisprep  hispdcl  hispoth  \n",
       "0  106.0   83.0  173.0   198.0    106.0     20.0     56.0      7.0  \n",
       "1    8.0   39.0   46.0    63.0     52.0      0.0     23.0      0.0  \n",
       "2  234.0  301.0  574.0   623.0    376.0     60.0    171.0     12.0  \n",
       "3  177.0  160.0  359.0   376.0    169.0     39.0     54.0      1.0  \n",
       "4  360.0  167.0  415.0   390.0     59.0     29.0     30.0      5.0  \n",
       "\n",
       "[5 rows x 37 columns]"
      ]
     },
     "execution_count": 17,
     "metadata": {},
     "output_type": "execute_result"
    }
   ],
   "source": [
    "df.head()"
   ]
  },
  {
   "cell_type": "code",
   "execution_count": 18,
   "metadata": {},
   "outputs": [
    {
     "name": "stdout",
     "output_type": "stream",
     "text": [
      "<class 'pandas.core.frame.DataFrame'>\n",
      "Int64Index: 1334 entries, 0 to 1333\n",
      "Data columns (total 37 columns):\n",
      " #   Column                    Non-Null Count  Dtype  \n",
      "---  ------                    --------------  -----  \n",
      " 0   srprec_orig               1334 non-null   float64\n",
      " 1   subindex                  1334 non-null   float64\n",
      " 2   pctsrprec_tract           1334 non-null   float64\n",
      " 3   employed_wgt              1334 non-null   float64\n",
      " 4   unemployed_wgt            1334 non-null   float64\n",
      " 5   empl_military_wgt         1334 non-null   float64\n",
      " 6   not_inlaborforce_wgt      1334 non-null   float64\n",
      " 7   working_women_wgt         1334 non-null   float64\n",
      " 8   parents_work_under6_wgt   1334 non-null   float64\n",
      " 9   parents_work_0617_wgt     1334 non-null   float64\n",
      " 10  occ_mgmt_sci_art_wgt      1334 non-null   float64\n",
      " 11  occ_service_sector_wgt    1334 non-null   float64\n",
      " 12  occ_sales_gen_office_wgt  1334 non-null   float64\n",
      " 13  occ_constr_maintc_wgt     1334 non-null   float64\n",
      " 14  occ_manuf_transpo_wgt     1334 non-null   float64\n",
      " 15  hh_med_income_wgt         1334 non-null   float64\n",
      " 16  hlthins_priv_wgt          1334 non-null   float64\n",
      " 17  hlthins_public_wgt        1334 non-null   float64\n",
      " 18  hlthins_none_wgt          1334 non-null   float64\n",
      " 19  county                    1334 non-null   int64  \n",
      " 20  srprec                    1334 non-null   int64  \n",
      " 21  cddist                    1334 non-null   int64  \n",
      " 22  TOTREG                    1334 non-null   int64  \n",
      " 23  TOTVOTE                   1334 non-null   int64  \n",
      " 24  CNGDEM01                  1334 non-null   int64  \n",
      " 25  CNGREP01                  1334 non-null   int64  \n",
      " 26  election                  1334 non-null   object \n",
      " 27  totreg_r                  1334 non-null   float64\n",
      " 28  dem                       1334 non-null   float64\n",
      " 29  rep                       1334 non-null   float64\n",
      " 30  dcl                       1334 non-null   float64\n",
      " 31  male                      1334 non-null   float64\n",
      " 32  female                    1334 non-null   float64\n",
      " 33  hispdem                   1334 non-null   float64\n",
      " 34  hisprep                   1334 non-null   float64\n",
      " 35  hispdcl                   1334 non-null   float64\n",
      " 36  hispoth                   1334 non-null   float64\n",
      "dtypes: float64(29), int64(7), object(1)\n",
      "memory usage: 396.0+ KB\n"
     ]
    }
   ],
   "source": [
    "df.info()"
   ]
  },
  {
   "cell_type": "code",
   "execution_count": 19,
   "metadata": {},
   "outputs": [
    {
     "data": {
      "text/plain": [
       "['srprec_orig',\n",
       " 'subindex',\n",
       " 'pctsrprec_tract',\n",
       " 'employed_wgt',\n",
       " 'unemployed_wgt',\n",
       " 'empl_military_wgt',\n",
       " 'not_inlaborforce_wgt',\n",
       " 'working_women_wgt',\n",
       " 'parents_work_under6_wgt',\n",
       " 'parents_work_0617_wgt',\n",
       " 'occ_mgmt_sci_art_wgt',\n",
       " 'occ_service_sector_wgt',\n",
       " 'occ_sales_gen_office_wgt',\n",
       " 'occ_constr_maintc_wgt',\n",
       " 'occ_manuf_transpo_wgt',\n",
       " 'hh_med_income_wgt',\n",
       " 'hlthins_priv_wgt',\n",
       " 'hlthins_public_wgt',\n",
       " 'hlthins_none_wgt',\n",
       " 'county',\n",
       " 'srprec',\n",
       " 'cddist',\n",
       " 'TOTREG',\n",
       " 'TOTVOTE',\n",
       " 'CNGDEM01',\n",
       " 'CNGREP01',\n",
       " 'election',\n",
       " 'totreg_r',\n",
       " 'dem',\n",
       " 'rep',\n",
       " 'dcl',\n",
       " 'male',\n",
       " 'female',\n",
       " 'hispdem',\n",
       " 'hisprep',\n",
       " 'hispdcl',\n",
       " 'hispoth']"
      ]
     },
     "execution_count": 19,
     "metadata": {},
     "output_type": "execute_result"
    }
   ],
   "source": [
    "df.columns.tolist()"
   ]
  },
  {
   "cell_type": "code",
   "execution_count": 140,
   "metadata": {},
   "outputs": [],
   "source": [
    "data = df[['employed_wgt',\n",
    "#  'unemployed_wgt',\n",
    "#  'empl_military_wgt',\n",
    "#  'not_inlaborforce_wgt',\n",
    " 'working_women_wgt',\n",
    " 'parents_work_under6_wgt',\n",
    " 'parents_work_0617_wgt',\n",
    "#  'occ_mgmt_sci_art_wgt',\n",
    "#  'occ_service_sector_wgt',\n",
    "#  'occ_sales_gen_office_wgt',\n",
    "#  'occ_constr_maintc_wgt',\n",
    "#  'occ_manuf_transpo_wgt',\n",
    " 'hh_med_income_wgt',\n",
    " 'hlthins_priv_wgt',\n",
    " 'hlthins_public_wgt',\n",
    " 'hlthins_none_wgt'\n",
    "#  'dcl',\n",
    "#  'hispdem',\n",
    "#  'hisprep',\n",
    "#  'hispdcl',\n",
    "#  'hispoth'\n",
    "#  'TOTVOTE'\n",
    "          ]]"
   ]
  },
  {
   "cell_type": "code",
   "execution_count": 141,
   "metadata": {},
   "outputs": [
    {
     "data": {
      "text/plain": [
       "array([[-0.26063261, -0.34483357,  0.03681775, ..., -0.78857442,\n",
       "         1.09310114,  1.56542936],\n",
       "       [-0.11415821, -0.51638966, -0.01831119, ..., -0.88810001,\n",
       "         1.88287619,  3.24744983],\n",
       "       [ 0.55374001,  0.36388997,  1.5052523 , ..., -0.13082414,\n",
       "         1.17882978,  2.35727284],\n",
       "       ...,\n",
       "       [-1.15012031, -1.25464335, -1.0657611 , ..., -0.69235411,\n",
       "        -0.88830193, -0.82821517],\n",
       "       [-1.15012031, -1.25464335, -1.0657611 , ..., -0.69235411,\n",
       "        -0.88830193, -0.82821517],\n",
       "       [-1.1670212 , -1.18433348, -1.24117137, ..., -0.74046427,\n",
       "        -0.88615871, -0.96795225]])"
      ]
     },
     "execution_count": 141,
     "metadata": {},
     "output_type": "execute_result"
    }
   ],
   "source": [
    "ss = StandardScaler()\n",
    "X_ss = ss.fit_transform(data)\n",
    "X_ss"
   ]
  },
  {
   "cell_type": "code",
   "execution_count": 154,
   "metadata": {},
   "outputs": [
    {
     "data": {
      "text/plain": [
       "DBSCAN(eps=0.2, min_samples=8)"
      ]
     },
     "execution_count": 154,
     "metadata": {},
     "output_type": "execute_result"
    }
   ],
   "source": [
    "dbscan = DBSCAN(min_samples=8, eps=0.2)\n",
    "dbscan.fit(X_ss)       # default epsilon=0.5, min_samples=5"
   ]
  },
  {
   "cell_type": "code",
   "execution_count": 155,
   "metadata": {},
   "outputs": [
    {
     "data": {
      "text/plain": [
       "-0.3328343455122142"
      ]
     },
     "execution_count": 155,
     "metadata": {},
     "output_type": "execute_result"
    }
   ],
   "source": [
    "silhouette_score(X_ss, dbscan.labels_)"
   ]
  },
  {
   "cell_type": "code",
   "execution_count": 156,
   "metadata": {},
   "outputs": [
    {
     "data": {
      "text/plain": [
       "{-1, 0, 1, 2, 3, 4, 5, 6}"
      ]
     },
     "execution_count": 156,
     "metadata": {},
     "output_type": "execute_result"
    }
   ],
   "source": [
    "set(dbscan.labels_)   "
   ]
  },
  {
   "cell_type": "code",
   "execution_count": 157,
   "metadata": {},
   "outputs": [
    {
     "name": "stderr",
     "output_type": "stream",
     "text": [
      "<ipython-input-157-1ac60a8d17f4>:1: SettingWithCopyWarning: \n",
      "A value is trying to be set on a copy of a slice from a DataFrame.\n",
      "Try using .loc[row_indexer,col_indexer] = value instead\n",
      "\n",
      "See the caveats in the documentation: https://pandas.pydata.org/pandas-docs/stable/user_guide/indexing.html#returning-a-view-versus-a-copy\n",
      "  data['cluster'] = dbscan.labels_\n"
     ]
    }
   ],
   "source": [
    "data['cluster'] = dbscan.labels_"
   ]
  },
  {
   "cell_type": "code",
   "execution_count": 158,
   "metadata": {},
   "outputs": [
    {
     "data": {
      "text/html": [
       "<div>\n",
       "<style scoped>\n",
       "    .dataframe tbody tr th:only-of-type {\n",
       "        vertical-align: middle;\n",
       "    }\n",
       "\n",
       "    .dataframe tbody tr th {\n",
       "        vertical-align: top;\n",
       "    }\n",
       "\n",
       "    .dataframe thead th {\n",
       "        text-align: right;\n",
       "    }\n",
       "</style>\n",
       "<table border=\"1\" class=\"dataframe\">\n",
       "  <thead>\n",
       "    <tr style=\"text-align: right;\">\n",
       "      <th></th>\n",
       "      <th>employed_wgt</th>\n",
       "      <th>working_women_wgt</th>\n",
       "      <th>parents_work_under6_wgt</th>\n",
       "      <th>parents_work_0617_wgt</th>\n",
       "      <th>hh_med_income_wgt</th>\n",
       "      <th>hlthins_priv_wgt</th>\n",
       "      <th>hlthins_public_wgt</th>\n",
       "      <th>hlthins_none_wgt</th>\n",
       "      <th>cluster</th>\n",
       "    </tr>\n",
       "  </thead>\n",
       "  <tbody>\n",
       "    <tr>\n",
       "      <th>0</th>\n",
       "      <td>2647.0</td>\n",
       "      <td>1152.0</td>\n",
       "      <td>268.0</td>\n",
       "      <td>783.0</td>\n",
       "      <td>54480.0</td>\n",
       "      <td>2156.0</td>\n",
       "      <td>2846.0</td>\n",
       "      <td>1050.0</td>\n",
       "      <td>-1</td>\n",
       "    </tr>\n",
       "    <tr>\n",
       "      <th>1</th>\n",
       "      <td>2881.0</td>\n",
       "      <td>1030.0</td>\n",
       "      <td>257.0</td>\n",
       "      <td>1082.0</td>\n",
       "      <td>44136.0</td>\n",
       "      <td>1885.0</td>\n",
       "      <td>3583.0</td>\n",
       "      <td>1700.0</td>\n",
       "      <td>-1</td>\n",
       "    </tr>\n",
       "    <tr>\n",
       "      <th>2</th>\n",
       "      <td>3948.0</td>\n",
       "      <td>1656.0</td>\n",
       "      <td>561.0</td>\n",
       "      <td>677.0</td>\n",
       "      <td>66970.0</td>\n",
       "      <td>3947.0</td>\n",
       "      <td>2926.0</td>\n",
       "      <td>1356.0</td>\n",
       "      <td>-1</td>\n",
       "    </tr>\n",
       "    <tr>\n",
       "      <th>3</th>\n",
       "      <td>3045.0</td>\n",
       "      <td>1447.0</td>\n",
       "      <td>273.0</td>\n",
       "      <td>717.0</td>\n",
       "      <td>54967.0</td>\n",
       "      <td>3794.0</td>\n",
       "      <td>2708.0</td>\n",
       "      <td>822.0</td>\n",
       "      <td>-1</td>\n",
       "    </tr>\n",
       "    <tr>\n",
       "      <th>4</th>\n",
       "      <td>2991.0</td>\n",
       "      <td>1486.0</td>\n",
       "      <td>334.0</td>\n",
       "      <td>492.0</td>\n",
       "      <td>119595.0</td>\n",
       "      <td>4400.0</td>\n",
       "      <td>1523.0</td>\n",
       "      <td>259.0</td>\n",
       "      <td>-1</td>\n",
       "    </tr>\n",
       "  </tbody>\n",
       "</table>\n",
       "</div>"
      ],
      "text/plain": [
       "   employed_wgt  working_women_wgt  parents_work_under6_wgt  \\\n",
       "0        2647.0             1152.0                    268.0   \n",
       "1        2881.0             1030.0                    257.0   \n",
       "2        3948.0             1656.0                    561.0   \n",
       "3        3045.0             1447.0                    273.0   \n",
       "4        2991.0             1486.0                    334.0   \n",
       "\n",
       "   parents_work_0617_wgt  hh_med_income_wgt  hlthins_priv_wgt  \\\n",
       "0                  783.0            54480.0            2156.0   \n",
       "1                 1082.0            44136.0            1885.0   \n",
       "2                  677.0            66970.0            3947.0   \n",
       "3                  717.0            54967.0            3794.0   \n",
       "4                  492.0           119595.0            4400.0   \n",
       "\n",
       "   hlthins_public_wgt  hlthins_none_wgt  cluster  \n",
       "0              2846.0            1050.0       -1  \n",
       "1              3583.0            1700.0       -1  \n",
       "2              2926.0            1356.0       -1  \n",
       "3              2708.0             822.0       -1  \n",
       "4              1523.0             259.0       -1  "
      ]
     },
     "execution_count": 158,
     "metadata": {},
     "output_type": "execute_result"
    }
   ],
   "source": [
    "data.head()"
   ]
  },
  {
   "cell_type": "code",
   "execution_count": 159,
   "metadata": {},
   "outputs": [
    {
     "data": {
      "text/plain": [
       "-1    1273\n",
       " 5      11\n",
       " 6      10\n",
       " 1       8\n",
       " 4       8\n",
       " 3       8\n",
       " 2       8\n",
       " 0       8\n",
       "Name: cluster, dtype: int64"
      ]
     },
     "execution_count": 159,
     "metadata": {},
     "output_type": "execute_result"
    }
   ],
   "source": [
    "data['cluster'].value_counts()"
   ]
  },
  {
   "cell_type": "code",
   "execution_count": null,
   "metadata": {},
   "outputs": [],
   "source": []
  },
  {
   "cell_type": "code",
   "execution_count": null,
   "metadata": {},
   "outputs": [],
   "source": [
    "#kmeans\n",
    "#agglomerative = example on NLP. tracks the process\n",
    "#dendrogram"
   ]
  }
 ],
 "metadata": {
  "kernelspec": {
   "display_name": "Python 3",
   "language": "python",
   "name": "python3"
  },
  "language_info": {
   "codemirror_mode": {
    "name": "ipython",
    "version": 3
   },
   "file_extension": ".py",
   "mimetype": "text/x-python",
   "name": "python",
   "nbconvert_exporter": "python",
   "pygments_lexer": "ipython3",
   "version": "3.8.3"
  }
 },
 "nbformat": 4,
 "nbformat_minor": 4
}
