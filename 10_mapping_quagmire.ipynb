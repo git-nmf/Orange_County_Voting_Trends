{
 "cells": [
  {
   "cell_type": "code",
   "execution_count": 49,
   "metadata": {},
   "outputs": [],
   "source": [
    "# imports\n",
    "import pandas as pd\n",
    "import requests\n",
    "import pickle as p\n",
    "import matplotlib.pyplot as plt"
   ]
  },
  {
   "cell_type": "code",
   "execution_count": 2,
   "metadata": {},
   "outputs": [],
   "source": [
    "# pd.set_option('display.max_columns', None)\n",
    "# pd.set_option('display.max_rows', None)"
   ]
  },
  {
   "cell_type": "markdown",
   "metadata": {},
   "source": [
    "### Mapping scratch pad:"
   ]
  },
  {
   "cell_type": "markdown",
   "metadata": {},
   "source": [
    "helpful Tableau tutorial video:  https://www.youtube.com/watch?v=tr51B8ZKAq8\n",
    "- geometry:field, name:detail, data:color"
   ]
  },
  {
   "cell_type": "code",
   "execution_count": 50,
   "metadata": {},
   "outputs": [],
   "source": [
    "#stack\n",
    "# !pip install simpledbf\n",
    "import simpledbf\n",
    "from simpledbf import Dbf5"
   ]
  },
  {
   "cell_type": "code",
   "execution_count": 51,
   "metadata": {},
   "outputs": [],
   "source": [
    "#look at geo files from SWDB and see what's in there:\n",
    "dbf = Dbf5('./map_files/2011_congressional_state_equiv.dbf')\n",
    "df = dbf.to_dataframe()"
   ]
  },
  {
   "cell_type": "code",
   "execution_count": 10,
   "metadata": {},
   "outputs": [
    {
     "data": {
      "text/html": [
       "<div>\n",
       "<style scoped>\n",
       "    .dataframe tbody tr th:only-of-type {\n",
       "        vertical-align: middle;\n",
       "    }\n",
       "\n",
       "    .dataframe tbody tr th {\n",
       "        vertical-align: top;\n",
       "    }\n",
       "\n",
       "    .dataframe thead th {\n",
       "        text-align: right;\n",
       "    }\n",
       "</style>\n",
       "<table border=\"1\" class=\"dataframe\">\n",
       "  <thead>\n",
       "    <tr style=\"text-align: right;\">\n",
       "      <th></th>\n",
       "      <th>BLOCK</th>\n",
       "      <th>DISTRICTID</th>\n",
       "    </tr>\n",
       "  </thead>\n",
       "  <tbody>\n",
       "    <tr>\n",
       "      <th>0</th>\n",
       "      <td>060650432722072</td>\n",
       "      <td>42</td>\n",
       "    </tr>\n",
       "    <tr>\n",
       "      <th>1</th>\n",
       "      <td>060650432722026</td>\n",
       "      <td>42</td>\n",
       "    </tr>\n",
       "    <tr>\n",
       "      <th>2</th>\n",
       "      <td>060650432722070</td>\n",
       "      <td>42</td>\n",
       "    </tr>\n",
       "    <tr>\n",
       "      <th>3</th>\n",
       "      <td>060650432722071</td>\n",
       "      <td>42</td>\n",
       "    </tr>\n",
       "    <tr>\n",
       "      <th>4</th>\n",
       "      <td>060650432722025</td>\n",
       "      <td>42</td>\n",
       "    </tr>\n",
       "  </tbody>\n",
       "</table>\n",
       "</div>"
      ],
      "text/plain": [
       "             BLOCK DISTRICTID\n",
       "0  060650432722072         42\n",
       "1  060650432722026         42\n",
       "2  060650432722070         42\n",
       "3  060650432722071         42\n",
       "4  060650432722025         42"
      ]
     },
     "execution_count": 10,
     "metadata": {},
     "output_type": "execute_result"
    }
   ],
   "source": [
    "df.head()"
   ]
  },
  {
   "cell_type": "code",
   "execution_count": 11,
   "metadata": {},
   "outputs": [
    {
     "data": {
      "text/plain": [
       "(710144, 2)"
      ]
     },
     "execution_count": 11,
     "metadata": {},
     "output_type": "execute_result"
    }
   ],
   "source": [
    "df.shape"
   ]
  },
  {
   "cell_type": "code",
   "execution_count": 12,
   "metadata": {},
   "outputs": [
    {
     "data": {
      "text/html": [
       "<div>\n",
       "<style scoped>\n",
       "    .dataframe tbody tr th:only-of-type {\n",
       "        vertical-align: middle;\n",
       "    }\n",
       "\n",
       "    .dataframe tbody tr th {\n",
       "        vertical-align: top;\n",
       "    }\n",
       "\n",
       "    .dataframe thead th {\n",
       "        text-align: right;\n",
       "    }\n",
       "</style>\n",
       "<table border=\"1\" class=\"dataframe\">\n",
       "  <thead>\n",
       "    <tr style=\"text-align: right;\">\n",
       "      <th></th>\n",
       "      <th>BLOCK</th>\n",
       "    </tr>\n",
       "    <tr>\n",
       "      <th>DISTRICTID</th>\n",
       "      <th></th>\n",
       "    </tr>\n",
       "  </thead>\n",
       "  <tbody>\n",
       "    <tr>\n",
       "      <th>49</th>\n",
       "      <td>9993</td>\n",
       "    </tr>\n",
       "    <tr>\n",
       "      <th>50</th>\n",
       "      <td>13137</td>\n",
       "    </tr>\n",
       "    <tr>\n",
       "      <th>51</th>\n",
       "      <td>15763</td>\n",
       "    </tr>\n",
       "    <tr>\n",
       "      <th>52</th>\n",
       "      <td>8717</td>\n",
       "    </tr>\n",
       "    <tr>\n",
       "      <th>53</th>\n",
       "      <td>7899</td>\n",
       "    </tr>\n",
       "  </tbody>\n",
       "</table>\n",
       "</div>"
      ],
      "text/plain": [
       "            BLOCK\n",
       "DISTRICTID       \n",
       "49           9993\n",
       "50          13137\n",
       "51          15763\n",
       "52           8717\n",
       "53           7899"
      ]
     },
     "execution_count": 12,
     "metadata": {},
     "output_type": "execute_result"
    }
   ],
   "source": [
    "df.groupby('DISTRICTID').count().tail()\n",
    "#53 congressional districts in 2011"
   ]
  },
  {
   "cell_type": "code",
   "execution_count": 13,
   "metadata": {},
   "outputs": [
    {
     "data": {
      "text/html": [
       "<div>\n",
       "<style scoped>\n",
       "    .dataframe tbody tr th:only-of-type {\n",
       "        vertical-align: middle;\n",
       "    }\n",
       "\n",
       "    .dataframe tbody tr th {\n",
       "        vertical-align: top;\n",
       "    }\n",
       "\n",
       "    .dataframe thead th {\n",
       "        text-align: right;\n",
       "    }\n",
       "</style>\n",
       "<table border=\"1\" class=\"dataframe\">\n",
       "  <thead>\n",
       "    <tr style=\"text-align: right;\">\n",
       "      <th></th>\n",
       "      <th>BLOCK</th>\n",
       "      <th>DISTRICTID</th>\n",
       "    </tr>\n",
       "  </thead>\n",
       "  <tbody>\n",
       "    <tr>\n",
       "      <th>10016</th>\n",
       "      <td>060730001001016</td>\n",
       "      <td>53</td>\n",
       "    </tr>\n",
       "    <tr>\n",
       "      <th>10017</th>\n",
       "      <td>060730001001006</td>\n",
       "      <td>53</td>\n",
       "    </tr>\n",
       "    <tr>\n",
       "      <th>10018</th>\n",
       "      <td>060730001001000</td>\n",
       "      <td>53</td>\n",
       "    </tr>\n",
       "    <tr>\n",
       "      <th>10019</th>\n",
       "      <td>060730001001017</td>\n",
       "      <td>53</td>\n",
       "    </tr>\n",
       "    <tr>\n",
       "      <th>10020</th>\n",
       "      <td>060730001001018</td>\n",
       "      <td>53</td>\n",
       "    </tr>\n",
       "    <tr>\n",
       "      <th>10021</th>\n",
       "      <td>060730001001030</td>\n",
       "      <td>53</td>\n",
       "    </tr>\n",
       "    <tr>\n",
       "      <th>10022</th>\n",
       "      <td>060730001001008</td>\n",
       "      <td>53</td>\n",
       "    </tr>\n",
       "    <tr>\n",
       "      <th>10023</th>\n",
       "      <td>060730001001004</td>\n",
       "      <td>53</td>\n",
       "    </tr>\n",
       "    <tr>\n",
       "      <th>10024</th>\n",
       "      <td>060730001001001</td>\n",
       "      <td>53</td>\n",
       "    </tr>\n",
       "    <tr>\n",
       "      <th>10025</th>\n",
       "      <td>060730001001003</td>\n",
       "      <td>53</td>\n",
       "    </tr>\n",
       "  </tbody>\n",
       "</table>\n",
       "</div>"
      ],
      "text/plain": [
       "                 BLOCK DISTRICTID\n",
       "10016  060730001001016         53\n",
       "10017  060730001001006         53\n",
       "10018  060730001001000         53\n",
       "10019  060730001001017         53\n",
       "10020  060730001001018         53\n",
       "10021  060730001001030         53\n",
       "10022  060730001001008         53\n",
       "10023  060730001001004         53\n",
       "10024  060730001001001         53\n",
       "10025  060730001001003         53"
      ]
     },
     "execution_count": 13,
     "metadata": {},
     "output_type": "execute_result"
    }
   ],
   "source": [
    "x = df.loc[df['DISTRICTID'] == '53']\n",
    "x[:10]"
   ]
  },
  {
   "cell_type": "code",
   "execution_count": 14,
   "metadata": {},
   "outputs": [
    {
     "data": {
      "text/plain": [
       "(7899, 2)"
      ]
     },
     "execution_count": 14,
     "metadata": {},
     "output_type": "execute_result"
    }
   ],
   "source": [
    "x.shape   #7899 blocks in Dist53"
   ]
  },
  {
   "cell_type": "code",
   "execution_count": 15,
   "metadata": {},
   "outputs": [
    {
     "name": "stdout",
     "output_type": "stream",
     "text": [
      "<class 'pandas.core.frame.DataFrame'>\n",
      "RangeIndex: 710144 entries, 0 to 710143\n",
      "Data columns (total 2 columns):\n",
      " #   Column      Non-Null Count   Dtype \n",
      "---  ------      --------------   ----- \n",
      " 0   BLOCK       710144 non-null  object\n",
      " 1   DISTRICTID  710144 non-null  object\n",
      "dtypes: object(2)\n",
      "memory usage: 10.8+ MB\n"
     ]
    }
   ],
   "source": [
    "df.info()"
   ]
  },
  {
   "cell_type": "code",
   "execution_count": 16,
   "metadata": {},
   "outputs": [],
   "source": [
    "# pandas documentation\n",
    "# s.str.slice(start=0, stop=5, step=3)\n",
    "# s.stri.slice[0:5:3]\n",
    "df['state'] = df['BLOCK'].str.slice(stop=2)\n",
    "df['county'] = df['BLOCK'].str.slice(start=2, stop=5)\n",
    "df['tract'] = df['BLOCK'].str.slice(start=5, stop=11)\n",
    "df['block'] = df['BLOCK'].str.slice(start=11, stop=15)"
   ]
  },
  {
   "cell_type": "code",
   "execution_count": 48,
   "metadata": {},
   "outputs": [
    {
     "data": {
      "text/plain": [
       "(8256, 6)"
      ]
     },
     "execution_count": 48,
     "metadata": {},
     "output_type": "execute_result"
    }
   ],
   "source": [
    "w = df.loc[df['DISTRICTID'] == '39']\n",
    "w.shape"
   ]
  },
  {
   "cell_type": "code",
   "execution_count": 46,
   "metadata": {},
   "outputs": [
    {
     "data": {
      "text/html": [
       "<div>\n",
       "<style scoped>\n",
       "    .dataframe tbody tr th:only-of-type {\n",
       "        vertical-align: middle;\n",
       "    }\n",
       "\n",
       "    .dataframe tbody tr th {\n",
       "        vertical-align: top;\n",
       "    }\n",
       "\n",
       "    .dataframe thead th {\n",
       "        text-align: right;\n",
       "    }\n",
       "</style>\n",
       "<table border=\"1\" class=\"dataframe\">\n",
       "  <thead>\n",
       "    <tr style=\"text-align: right;\">\n",
       "      <th></th>\n",
       "      <th>BLOCK</th>\n",
       "      <th>DISTRICTID</th>\n",
       "      <th>state</th>\n",
       "      <th>county</th>\n",
       "      <th>tract</th>\n",
       "      <th>block</th>\n",
       "    </tr>\n",
       "  </thead>\n",
       "  <tbody>\n",
       "    <tr>\n",
       "      <th>64656</th>\n",
       "      <td>060590219241056</td>\n",
       "      <td>39</td>\n",
       "      <td>06</td>\n",
       "      <td>059</td>\n",
       "      <td>021924</td>\n",
       "      <td>1056</td>\n",
       "    </tr>\n",
       "    <tr>\n",
       "      <th>64657</th>\n",
       "      <td>060590219241055</td>\n",
       "      <td>39</td>\n",
       "      <td>06</td>\n",
       "      <td>059</td>\n",
       "      <td>021924</td>\n",
       "      <td>1055</td>\n",
       "    </tr>\n",
       "    <tr>\n",
       "      <th>64658</th>\n",
       "      <td>060590219241022</td>\n",
       "      <td>39</td>\n",
       "      <td>06</td>\n",
       "      <td>059</td>\n",
       "      <td>021924</td>\n",
       "      <td>1022</td>\n",
       "    </tr>\n",
       "    <tr>\n",
       "      <th>64659</th>\n",
       "      <td>060590218261014</td>\n",
       "      <td>39</td>\n",
       "      <td>06</td>\n",
       "      <td>059</td>\n",
       "      <td>021826</td>\n",
       "      <td>1014</td>\n",
       "    </tr>\n",
       "    <tr>\n",
       "      <th>64660</th>\n",
       "      <td>060590218261010</td>\n",
       "      <td>39</td>\n",
       "      <td>06</td>\n",
       "      <td>059</td>\n",
       "      <td>021826</td>\n",
       "      <td>1010</td>\n",
       "    </tr>\n",
       "    <tr>\n",
       "      <th>64661</th>\n",
       "      <td>060590218283006</td>\n",
       "      <td>39</td>\n",
       "      <td>06</td>\n",
       "      <td>059</td>\n",
       "      <td>021828</td>\n",
       "      <td>3006</td>\n",
       "    </tr>\n",
       "    <tr>\n",
       "      <th>64662</th>\n",
       "      <td>060590218261005</td>\n",
       "      <td>39</td>\n",
       "      <td>06</td>\n",
       "      <td>059</td>\n",
       "      <td>021826</td>\n",
       "      <td>1005</td>\n",
       "    </tr>\n",
       "    <tr>\n",
       "      <th>64663</th>\n",
       "      <td>060590218261006</td>\n",
       "      <td>39</td>\n",
       "      <td>06</td>\n",
       "      <td>059</td>\n",
       "      <td>021826</td>\n",
       "      <td>1006</td>\n",
       "    </tr>\n",
       "    <tr>\n",
       "      <th>64664</th>\n",
       "      <td>060590218261007</td>\n",
       "      <td>39</td>\n",
       "      <td>06</td>\n",
       "      <td>059</td>\n",
       "      <td>021826</td>\n",
       "      <td>1007</td>\n",
       "    </tr>\n",
       "    <tr>\n",
       "      <th>64665</th>\n",
       "      <td>060590218261009</td>\n",
       "      <td>39</td>\n",
       "      <td>06</td>\n",
       "      <td>059</td>\n",
       "      <td>021826</td>\n",
       "      <td>1009</td>\n",
       "    </tr>\n",
       "  </tbody>\n",
       "</table>\n",
       "</div>"
      ],
      "text/plain": [
       "                 BLOCK DISTRICTID state county   tract block\n",
       "64656  060590219241056         39    06    059  021924  1056\n",
       "64657  060590219241055         39    06    059  021924  1055\n",
       "64658  060590219241022         39    06    059  021924  1022\n",
       "64659  060590218261014         39    06    059  021826  1014\n",
       "64660  060590218261010         39    06    059  021826  1010\n",
       "64661  060590218283006         39    06    059  021828  3006\n",
       "64662  060590218261005         39    06    059  021826  1005\n",
       "64663  060590218261006         39    06    059  021826  1006\n",
       "64664  060590218261007         39    06    059  021826  1007\n",
       "64665  060590218261009         39    06    059  021826  1009"
      ]
     },
     "execution_count": 46,
     "metadata": {},
     "output_type": "execute_result"
    }
   ],
   "source": [
    "w[:10]\n",
    "# df.drop(columns=['tracts'])"
   ]
  },
  {
   "cell_type": "code",
   "execution_count": 47,
   "metadata": {},
   "outputs": [
    {
     "data": {
      "text/plain": [
       "059    0.663639\n",
       "037    0.249637\n",
       "071    0.086725\n",
       "Name: county, dtype: float64"
      ]
     },
     "execution_count": 47,
     "metadata": {},
     "output_type": "execute_result"
    }
   ],
   "source": [
    "w['county'].value_counts(normalize=True)"
   ]
  },
  {
   "cell_type": "code",
   "execution_count": 20,
   "metadata": {},
   "outputs": [
    {
     "data": {
      "text/plain": [
       "BLOCK         35718\n",
       "DISTRICTID        4\n",
       "state             1\n",
       "county            1\n",
       "tract           453\n",
       "block          2003\n",
       "dtype: int64"
      ]
     },
     "execution_count": 20,
     "metadata": {},
     "output_type": "execute_result"
    }
   ],
   "source": [
    "congress_dist = df.loc[df['county'] == '065'].nunique()\n",
    "congress_dist"
   ]
  },
  {
   "cell_type": "code",
   "execution_count": null,
   "metadata": {},
   "outputs": [],
   "source": []
  },
  {
   "cell_type": "code",
   "execution_count": null,
   "metadata": {},
   "outputs": [],
   "source": []
  },
  {
   "cell_type": "markdown",
   "metadata": {},
   "source": [
    "### Srprec <> Census block/tract -- explore"
   ]
  },
  {
   "cell_type": "code",
   "execution_count": 54,
   "metadata": {},
   "outputs": [
    {
     "data": {
      "text/plain": [
       "(23490, 8)"
      ]
     },
     "execution_count": 54,
     "metadata": {},
     "output_type": "execute_result"
    }
   ],
   "source": [
    "xlate = pd.read_csv('./map_files/c059_g12_sr_blk_map.csv')\n",
    "xlate.shape"
   ]
  },
  {
   "cell_type": "code",
   "execution_count": 55,
   "metadata": {},
   "outputs": [
    {
     "data": {
      "text/html": [
       "<div>\n",
       "<style scoped>\n",
       "    .dataframe tbody tr th:only-of-type {\n",
       "        vertical-align: middle;\n",
       "    }\n",
       "\n",
       "    .dataframe tbody tr th {\n",
       "        vertical-align: top;\n",
       "    }\n",
       "\n",
       "    .dataframe thead th {\n",
       "        text-align: right;\n",
       "    }\n",
       "</style>\n",
       "<table border=\"1\" class=\"dataframe\">\n",
       "  <thead>\n",
       "    <tr style=\"text-align: right;\">\n",
       "      <th></th>\n",
       "      <th>srprec</th>\n",
       "      <th>tract</th>\n",
       "      <th>block</th>\n",
       "      <th>blkreg</th>\n",
       "      <th>srtotreg</th>\n",
       "      <th>pctsrprec</th>\n",
       "      <th>blktotreg</th>\n",
       "      <th>pctblk</th>\n",
       "    </tr>\n",
       "  </thead>\n",
       "  <tbody>\n",
       "    <tr>\n",
       "      <th>23485</th>\n",
       "      <td>75602</td>\n",
       "      <td>75809</td>\n",
       "      <td>2007</td>\n",
       "      <td>604</td>\n",
       "      <td>1437</td>\n",
       "      <td>42.032011</td>\n",
       "      <td>613</td>\n",
       "      <td>98.531811</td>\n",
       "    </tr>\n",
       "    <tr>\n",
       "      <th>23486</th>\n",
       "      <td>75602</td>\n",
       "      <td>75814</td>\n",
       "      <td>2003</td>\n",
       "      <td>14</td>\n",
       "      <td>1437</td>\n",
       "      <td>0.974252</td>\n",
       "      <td>14</td>\n",
       "      <td>100.000000</td>\n",
       "    </tr>\n",
       "    <tr>\n",
       "      <th>23487</th>\n",
       "      <td>75602</td>\n",
       "      <td>75814</td>\n",
       "      <td>2016</td>\n",
       "      <td>2</td>\n",
       "      <td>1437</td>\n",
       "      <td>0.139179</td>\n",
       "      <td>2</td>\n",
       "      <td>100.000000</td>\n",
       "    </tr>\n",
       "    <tr>\n",
       "      <th>23488</th>\n",
       "      <td>75602</td>\n",
       "      <td>75814</td>\n",
       "      <td>2017</td>\n",
       "      <td>28</td>\n",
       "      <td>1437</td>\n",
       "      <td>1.948504</td>\n",
       "      <td>28</td>\n",
       "      <td>100.000000</td>\n",
       "    </tr>\n",
       "    <tr>\n",
       "      <th>23489</th>\n",
       "      <td>75901</td>\n",
       "      <td>75809</td>\n",
       "      <td>2007</td>\n",
       "      <td>9</td>\n",
       "      <td>9</td>\n",
       "      <td>100.000000</td>\n",
       "      <td>613</td>\n",
       "      <td>1.468189</td>\n",
       "    </tr>\n",
       "  </tbody>\n",
       "</table>\n",
       "</div>"
      ],
      "text/plain": [
       "       srprec  tract  block  blkreg  srtotreg   pctsrprec  blktotreg  \\\n",
       "23485   75602  75809   2007     604      1437   42.032011        613   \n",
       "23486   75602  75814   2003      14      1437    0.974252         14   \n",
       "23487   75602  75814   2016       2      1437    0.139179          2   \n",
       "23488   75602  75814   2017      28      1437    1.948504         28   \n",
       "23489   75901  75809   2007       9         9  100.000000        613   \n",
       "\n",
       "           pctblk  \n",
       "23485   98.531811  \n",
       "23486  100.000000  \n",
       "23487  100.000000  \n",
       "23488  100.000000  \n",
       "23489    1.468189  "
      ]
     },
     "execution_count": 55,
     "metadata": {},
     "output_type": "execute_result"
    }
   ],
   "source": [
    "xlate.tail()"
   ]
  },
  {
   "cell_type": "code",
   "execution_count": 56,
   "metadata": {},
   "outputs": [
    {
     "data": {
      "text/plain": [
       "582"
      ]
     },
     "execution_count": 56,
     "metadata": {},
     "output_type": "execute_result"
    }
   ],
   "source": [
    "xlate['tract'].nunique()\n",
    "#582 census tracts in g12 data set."
   ]
  },
  {
   "cell_type": "code",
   "execution_count": 57,
   "metadata": {},
   "outputs": [
    {
     "data": {
      "text/plain": [
       "1877"
      ]
     },
     "execution_count": 57,
     "metadata": {},
     "output_type": "execute_result"
    }
   ],
   "source": [
    "xlate['srprec'].nunique()\n",
    "#1877 srprec's"
   ]
  },
  {
   "cell_type": "code",
   "execution_count": 58,
   "metadata": {},
   "outputs": [
    {
     "data": {
      "text/plain": [
       "558"
      ]
     },
     "execution_count": 58,
     "metadata": {},
     "output_type": "execute_result"
    }
   ],
   "source": [
    "xlate['block'].nunique()"
   ]
  },
  {
   "cell_type": "code",
   "execution_count": 59,
   "metadata": {},
   "outputs": [
    {
     "data": {
      "text/plain": [
       "63500    235\n",
       "62800    178\n",
       "62702    141\n",
       "52420    138\n",
       "62604    132\n",
       "        ... \n",
       "63008      6\n",
       "99502      6\n",
       "21813      5\n",
       "52518      4\n",
       "52404      2\n",
       "Name: tract, Length: 582, dtype: int64"
      ]
     },
     "execution_count": 59,
     "metadata": {},
     "output_type": "execute_result"
    }
   ],
   "source": [
    "xlate['tract'].value_counts()"
   ]
  },
  {
   "cell_type": "code",
   "execution_count": 60,
   "metadata": {},
   "outputs": [
    {
     "data": {
      "text/plain": [
       "2001    468\n",
       "2002    461\n",
       "2003    449\n",
       "2004    434\n",
       "2000    423\n",
       "       ... \n",
       "7015      1\n",
       "9008      1\n",
       "2165      1\n",
       "2133      1\n",
       "6053      1\n",
       "Name: block, Length: 558, dtype: int64"
      ]
     },
     "execution_count": 60,
     "metadata": {},
     "output_type": "execute_result"
    }
   ],
   "source": [
    "xlate['block'].value_counts()"
   ]
  },
  {
   "cell_type": "code",
   "execution_count": 61,
   "metadata": {},
   "outputs": [
    {
     "data": {
      "text/plain": [
       "2193     74\n",
       "53355    58\n",
       "68296    57\n",
       "13377    56\n",
       "68098    55\n",
       "         ..\n",
       "2434      1\n",
       "69902     1\n",
       "5379      1\n",
       "44123     1\n",
       "56383     1\n",
       "Name: srprec, Length: 1877, dtype: int64"
      ]
     },
     "execution_count": 61,
     "metadata": {},
     "output_type": "execute_result"
    }
   ],
   "source": [
    "xlate['srprec'].value_counts()"
   ]
  },
  {
   "cell_type": "code",
   "execution_count": 66,
   "metadata": {},
   "outputs": [
    {
     "data": {
      "text/plain": [
       "9021"
      ]
     },
     "execution_count": 66,
     "metadata": {},
     "output_type": "execute_result"
    }
   ],
   "source": [
    "xlate['block'].max()"
   ]
  },
  {
   "cell_type": "code",
   "execution_count": null,
   "metadata": {},
   "outputs": [],
   "source": []
  }
 ],
 "metadata": {
  "kernelspec": {
   "display_name": "Python 3",
   "language": "python",
   "name": "python3"
  },
  "language_info": {
   "codemirror_mode": {
    "name": "ipython",
    "version": 3
   },
   "file_extension": ".py",
   "mimetype": "text/x-python",
   "name": "python",
   "nbconvert_exporter": "python",
   "pygments_lexer": "ipython3",
   "version": "3.8.3"
  }
 },
 "nbformat": 4,
 "nbformat_minor": 4
}
