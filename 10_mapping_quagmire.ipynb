{
 "cells": [
  {
   "cell_type": "code",
   "execution_count": 2,
   "metadata": {},
   "outputs": [],
   "source": [
    "# imports\n",
    "import pandas as pd\n",
    "import requests\n",
    "import pickle as p\n",
    "import matplotlib.pyplot as plt"
   ]
  },
  {
   "cell_type": "code",
   "execution_count": 2,
   "metadata": {},
   "outputs": [],
   "source": [
    "# pd.set_option('display.max_columns', None)\n",
    "# pd.set_option('display.max_rows', None)"
   ]
  },
  {
   "cell_type": "code",
   "execution_count": null,
   "metadata": {},
   "outputs": [],
   "source": []
  },
  {
   "cell_type": "markdown",
   "metadata": {},
   "source": [
    "### Mapping scratch pad:"
   ]
  },
  {
   "cell_type": "markdown",
   "metadata": {},
   "source": [
    "helpful Tableau tutorial video:  https://www.youtube.com/watch?v=tr51B8ZKAq8\n",
    "- geometry:field, name:detail, data:color"
   ]
  },
  {
   "cell_type": "code",
   "execution_count": 3,
   "metadata": {},
   "outputs": [],
   "source": [
    "#stack\n",
    "# !pip install simpledbf\n",
    "import simpledbf\n",
    "from simpledbf import Dbf5"
   ]
  },
  {
   "cell_type": "code",
   "execution_count": 4,
   "metadata": {},
   "outputs": [],
   "source": [
    "#look at geo files from SWDB and see what's in there:\n",
    "dbf = Dbf5('2011_congressional_state_equiv.dbf')\n",
    "df = dbf.to_dataframe()\n",
    "\n",
    "# ?? uses census reference id's?  not geographic coordinates."
   ]
  },
  {
   "cell_type": "code",
   "execution_count": 5,
   "metadata": {},
   "outputs": [
    {
     "data": {
      "text/html": [
       "<div>\n",
       "<style scoped>\n",
       "    .dataframe tbody tr th:only-of-type {\n",
       "        vertical-align: middle;\n",
       "    }\n",
       "\n",
       "    .dataframe tbody tr th {\n",
       "        vertical-align: top;\n",
       "    }\n",
       "\n",
       "    .dataframe thead th {\n",
       "        text-align: right;\n",
       "    }\n",
       "</style>\n",
       "<table border=\"1\" class=\"dataframe\">\n",
       "  <thead>\n",
       "    <tr style=\"text-align: right;\">\n",
       "      <th></th>\n",
       "      <th>BLOCK</th>\n",
       "      <th>DISTRICTID</th>\n",
       "    </tr>\n",
       "  </thead>\n",
       "  <tbody>\n",
       "    <tr>\n",
       "      <th>0</th>\n",
       "      <td>060650432722072</td>\n",
       "      <td>42</td>\n",
       "    </tr>\n",
       "    <tr>\n",
       "      <th>1</th>\n",
       "      <td>060650432722026</td>\n",
       "      <td>42</td>\n",
       "    </tr>\n",
       "    <tr>\n",
       "      <th>2</th>\n",
       "      <td>060650432722070</td>\n",
       "      <td>42</td>\n",
       "    </tr>\n",
       "    <tr>\n",
       "      <th>3</th>\n",
       "      <td>060650432722071</td>\n",
       "      <td>42</td>\n",
       "    </tr>\n",
       "    <tr>\n",
       "      <th>4</th>\n",
       "      <td>060650432722025</td>\n",
       "      <td>42</td>\n",
       "    </tr>\n",
       "  </tbody>\n",
       "</table>\n",
       "</div>"
      ],
      "text/plain": [
       "             BLOCK DISTRICTID\n",
       "0  060650432722072         42\n",
       "1  060650432722026         42\n",
       "2  060650432722070         42\n",
       "3  060650432722071         42\n",
       "4  060650432722025         42"
      ]
     },
     "execution_count": 5,
     "metadata": {},
     "output_type": "execute_result"
    }
   ],
   "source": [
    "df.head()"
   ]
  },
  {
   "cell_type": "code",
   "execution_count": 6,
   "metadata": {},
   "outputs": [
    {
     "data": {
      "text/plain": [
       "(710144, 2)"
      ]
     },
     "execution_count": 6,
     "metadata": {},
     "output_type": "execute_result"
    }
   ],
   "source": [
    "df.shape"
   ]
  },
  {
   "cell_type": "code",
   "execution_count": 7,
   "metadata": {},
   "outputs": [
    {
     "data": {
      "text/plain": [
       "53"
      ]
     },
     "execution_count": 7,
     "metadata": {},
     "output_type": "execute_result"
    }
   ],
   "source": [
    "x = df['DISTRICTID'].value_counts()\n",
    "len(x)"
   ]
  },
  {
   "cell_type": "code",
   "execution_count": 8,
   "metadata": {},
   "outputs": [
    {
     "data": {
      "text/plain": [
       "060014507442023    1\n",
       "060690003002021    1\n",
       "061110071002013    1\n",
       "061130115005030    1\n",
       "060374321022011    1\n",
       "060570005011004    1\n",
       "060190012011037    1\n",
       "060730085091009    1\n",
       "060770051062048    1\n",
       "061130111021017    1\n",
       "Name: BLOCK, dtype: int64"
      ]
     },
     "execution_count": 8,
     "metadata": {},
     "output_type": "execute_result"
    }
   ],
   "source": [
    "df['BLOCK'].value_counts()[:10]"
   ]
  },
  {
   "cell_type": "code",
   "execution_count": 9,
   "metadata": {},
   "outputs": [
    {
     "data": {
      "text/html": [
       "<div>\n",
       "<style scoped>\n",
       "    .dataframe tbody tr th:only-of-type {\n",
       "        vertical-align: middle;\n",
       "    }\n",
       "\n",
       "    .dataframe tbody tr th {\n",
       "        vertical-align: top;\n",
       "    }\n",
       "\n",
       "    .dataframe thead th {\n",
       "        text-align: right;\n",
       "    }\n",
       "</style>\n",
       "<table border=\"1\" class=\"dataframe\">\n",
       "  <thead>\n",
       "    <tr style=\"text-align: right;\">\n",
       "      <th></th>\n",
       "      <th>BLOCK</th>\n",
       "    </tr>\n",
       "    <tr>\n",
       "      <th>DISTRICTID</th>\n",
       "      <th></th>\n",
       "    </tr>\n",
       "  </thead>\n",
       "  <tbody>\n",
       "    <tr>\n",
       "      <th>49</th>\n",
       "      <td>9993</td>\n",
       "    </tr>\n",
       "    <tr>\n",
       "      <th>50</th>\n",
       "      <td>13137</td>\n",
       "    </tr>\n",
       "    <tr>\n",
       "      <th>51</th>\n",
       "      <td>15763</td>\n",
       "    </tr>\n",
       "    <tr>\n",
       "      <th>52</th>\n",
       "      <td>8717</td>\n",
       "    </tr>\n",
       "    <tr>\n",
       "      <th>53</th>\n",
       "      <td>7899</td>\n",
       "    </tr>\n",
       "  </tbody>\n",
       "</table>\n",
       "</div>"
      ],
      "text/plain": [
       "            BLOCK\n",
       "DISTRICTID       \n",
       "49           9993\n",
       "50          13137\n",
       "51          15763\n",
       "52           8717\n",
       "53           7899"
      ]
     },
     "execution_count": 9,
     "metadata": {},
     "output_type": "execute_result"
    }
   ],
   "source": [
    "df.groupby('DISTRICTID').count().tail()\n",
    "#53 congressional districts in 2011"
   ]
  },
  {
   "cell_type": "code",
   "execution_count": 10,
   "metadata": {},
   "outputs": [
    {
     "data": {
      "text/html": [
       "<div>\n",
       "<style scoped>\n",
       "    .dataframe tbody tr th:only-of-type {\n",
       "        vertical-align: middle;\n",
       "    }\n",
       "\n",
       "    .dataframe tbody tr th {\n",
       "        vertical-align: top;\n",
       "    }\n",
       "\n",
       "    .dataframe thead th {\n",
       "        text-align: right;\n",
       "    }\n",
       "</style>\n",
       "<table border=\"1\" class=\"dataframe\">\n",
       "  <thead>\n",
       "    <tr style=\"text-align: right;\">\n",
       "      <th></th>\n",
       "      <th>BLOCK</th>\n",
       "      <th>DISTRICTID</th>\n",
       "    </tr>\n",
       "  </thead>\n",
       "  <tbody>\n",
       "    <tr>\n",
       "      <th>10016</th>\n",
       "      <td>060730001001016</td>\n",
       "      <td>53</td>\n",
       "    </tr>\n",
       "    <tr>\n",
       "      <th>10017</th>\n",
       "      <td>060730001001006</td>\n",
       "      <td>53</td>\n",
       "    </tr>\n",
       "    <tr>\n",
       "      <th>10018</th>\n",
       "      <td>060730001001000</td>\n",
       "      <td>53</td>\n",
       "    </tr>\n",
       "    <tr>\n",
       "      <th>10019</th>\n",
       "      <td>060730001001017</td>\n",
       "      <td>53</td>\n",
       "    </tr>\n",
       "    <tr>\n",
       "      <th>10020</th>\n",
       "      <td>060730001001018</td>\n",
       "      <td>53</td>\n",
       "    </tr>\n",
       "    <tr>\n",
       "      <th>10021</th>\n",
       "      <td>060730001001030</td>\n",
       "      <td>53</td>\n",
       "    </tr>\n",
       "    <tr>\n",
       "      <th>10022</th>\n",
       "      <td>060730001001008</td>\n",
       "      <td>53</td>\n",
       "    </tr>\n",
       "    <tr>\n",
       "      <th>10023</th>\n",
       "      <td>060730001001004</td>\n",
       "      <td>53</td>\n",
       "    </tr>\n",
       "    <tr>\n",
       "      <th>10024</th>\n",
       "      <td>060730001001001</td>\n",
       "      <td>53</td>\n",
       "    </tr>\n",
       "    <tr>\n",
       "      <th>10025</th>\n",
       "      <td>060730001001003</td>\n",
       "      <td>53</td>\n",
       "    </tr>\n",
       "  </tbody>\n",
       "</table>\n",
       "</div>"
      ],
      "text/plain": [
       "                 BLOCK DISTRICTID\n",
       "10016  060730001001016         53\n",
       "10017  060730001001006         53\n",
       "10018  060730001001000         53\n",
       "10019  060730001001017         53\n",
       "10020  060730001001018         53\n",
       "10021  060730001001030         53\n",
       "10022  060730001001008         53\n",
       "10023  060730001001004         53\n",
       "10024  060730001001001         53\n",
       "10025  060730001001003         53"
      ]
     },
     "execution_count": 10,
     "metadata": {},
     "output_type": "execute_result"
    }
   ],
   "source": [
    "x = df.loc[df['DISTRICTID'] == '53']\n",
    "x[:10]"
   ]
  },
  {
   "cell_type": "code",
   "execution_count": 11,
   "metadata": {},
   "outputs": [
    {
     "data": {
      "text/plain": [
       "(7899, 2)"
      ]
     },
     "execution_count": 11,
     "metadata": {},
     "output_type": "execute_result"
    }
   ],
   "source": [
    "x.shape   #7899 blocks in Dist53"
   ]
  },
  {
   "cell_type": "code",
   "execution_count": 12,
   "metadata": {},
   "outputs": [
    {
     "name": "stdout",
     "output_type": "stream",
     "text": [
      "<class 'pandas.core.frame.DataFrame'>\n",
      "RangeIndex: 710144 entries, 0 to 710143\n",
      "Data columns (total 2 columns):\n",
      " #   Column      Non-Null Count   Dtype \n",
      "---  ------      --------------   ----- \n",
      " 0   BLOCK       710144 non-null  object\n",
      " 1   DISTRICTID  710144 non-null  object\n",
      "dtypes: object(2)\n",
      "memory usage: 10.8+ MB\n"
     ]
    }
   ],
   "source": [
    "df.info()"
   ]
  },
  {
   "cell_type": "code",
   "execution_count": 13,
   "metadata": {},
   "outputs": [],
   "source": [
    "# pandas documentation\n",
    "# s.str.slice(start=0, stop=5, step=3)\n",
    "# s.stri.slice[0:5:3]\n",
    "df['state'] = df['BLOCK'].str.slice(stop=2)\n",
    "df['county'] = df['BLOCK'].str.slice(start=2, stop=5)\n",
    "df['tract'] = df['BLOCK'].str.slice(start=5, stop=11)\n",
    "df['block'] = df['BLOCK'].str.slice(start=11, stop=15)"
   ]
  },
  {
   "cell_type": "code",
   "execution_count": 14,
   "metadata": {},
   "outputs": [
    {
     "data": {
      "text/html": [
       "<div>\n",
       "<style scoped>\n",
       "    .dataframe tbody tr th:only-of-type {\n",
       "        vertical-align: middle;\n",
       "    }\n",
       "\n",
       "    .dataframe tbody tr th {\n",
       "        vertical-align: top;\n",
       "    }\n",
       "\n",
       "    .dataframe thead th {\n",
       "        text-align: right;\n",
       "    }\n",
       "</style>\n",
       "<table border=\"1\" class=\"dataframe\">\n",
       "  <thead>\n",
       "    <tr style=\"text-align: right;\">\n",
       "      <th></th>\n",
       "      <th>BLOCK</th>\n",
       "      <th>DISTRICTID</th>\n",
       "      <th>state</th>\n",
       "      <th>county</th>\n",
       "      <th>tract</th>\n",
       "      <th>block</th>\n",
       "    </tr>\n",
       "  </thead>\n",
       "  <tbody>\n",
       "    <tr>\n",
       "      <th>10016</th>\n",
       "      <td>060730001001016</td>\n",
       "      <td>53</td>\n",
       "      <td>06</td>\n",
       "      <td>073</td>\n",
       "      <td>000100</td>\n",
       "      <td>1016</td>\n",
       "    </tr>\n",
       "    <tr>\n",
       "      <th>10017</th>\n",
       "      <td>060730001001006</td>\n",
       "      <td>53</td>\n",
       "      <td>06</td>\n",
       "      <td>073</td>\n",
       "      <td>000100</td>\n",
       "      <td>1006</td>\n",
       "    </tr>\n",
       "    <tr>\n",
       "      <th>10018</th>\n",
       "      <td>060730001001000</td>\n",
       "      <td>53</td>\n",
       "      <td>06</td>\n",
       "      <td>073</td>\n",
       "      <td>000100</td>\n",
       "      <td>1000</td>\n",
       "    </tr>\n",
       "    <tr>\n",
       "      <th>10019</th>\n",
       "      <td>060730001001017</td>\n",
       "      <td>53</td>\n",
       "      <td>06</td>\n",
       "      <td>073</td>\n",
       "      <td>000100</td>\n",
       "      <td>1017</td>\n",
       "    </tr>\n",
       "    <tr>\n",
       "      <th>10020</th>\n",
       "      <td>060730001001018</td>\n",
       "      <td>53</td>\n",
       "      <td>06</td>\n",
       "      <td>073</td>\n",
       "      <td>000100</td>\n",
       "      <td>1018</td>\n",
       "    </tr>\n",
       "    <tr>\n",
       "      <th>10021</th>\n",
       "      <td>060730001001030</td>\n",
       "      <td>53</td>\n",
       "      <td>06</td>\n",
       "      <td>073</td>\n",
       "      <td>000100</td>\n",
       "      <td>1030</td>\n",
       "    </tr>\n",
       "    <tr>\n",
       "      <th>10022</th>\n",
       "      <td>060730001001008</td>\n",
       "      <td>53</td>\n",
       "      <td>06</td>\n",
       "      <td>073</td>\n",
       "      <td>000100</td>\n",
       "      <td>1008</td>\n",
       "    </tr>\n",
       "    <tr>\n",
       "      <th>10023</th>\n",
       "      <td>060730001001004</td>\n",
       "      <td>53</td>\n",
       "      <td>06</td>\n",
       "      <td>073</td>\n",
       "      <td>000100</td>\n",
       "      <td>1004</td>\n",
       "    </tr>\n",
       "    <tr>\n",
       "      <th>10024</th>\n",
       "      <td>060730001001001</td>\n",
       "      <td>53</td>\n",
       "      <td>06</td>\n",
       "      <td>073</td>\n",
       "      <td>000100</td>\n",
       "      <td>1001</td>\n",
       "    </tr>\n",
       "    <tr>\n",
       "      <th>10025</th>\n",
       "      <td>060730001001003</td>\n",
       "      <td>53</td>\n",
       "      <td>06</td>\n",
       "      <td>073</td>\n",
       "      <td>000100</td>\n",
       "      <td>1003</td>\n",
       "    </tr>\n",
       "  </tbody>\n",
       "</table>\n",
       "</div>"
      ],
      "text/plain": [
       "                 BLOCK DISTRICTID state county   tract block\n",
       "10016  060730001001016         53    06    073  000100  1016\n",
       "10017  060730001001006         53    06    073  000100  1006\n",
       "10018  060730001001000         53    06    073  000100  1000\n",
       "10019  060730001001017         53    06    073  000100  1017\n",
       "10020  060730001001018         53    06    073  000100  1018\n",
       "10021  060730001001030         53    06    073  000100  1030\n",
       "10022  060730001001008         53    06    073  000100  1008\n",
       "10023  060730001001004         53    06    073  000100  1004\n",
       "10024  060730001001001         53    06    073  000100  1001\n",
       "10025  060730001001003         53    06    073  000100  1003"
      ]
     },
     "execution_count": 14,
     "metadata": {},
     "output_type": "execute_result"
    }
   ],
   "source": [
    "w = df.loc[df['DISTRICTID'] == '53']\n",
    "w[:10]\n",
    "# df.drop(columns=['tracts'])"
   ]
  },
  {
   "cell_type": "code",
   "execution_count": 15,
   "metadata": {},
   "outputs": [
    {
     "data": {
      "text/html": [
       "<div>\n",
       "<style scoped>\n",
       "    .dataframe tbody tr th:only-of-type {\n",
       "        vertical-align: middle;\n",
       "    }\n",
       "\n",
       "    .dataframe tbody tr th {\n",
       "        vertical-align: top;\n",
       "    }\n",
       "\n",
       "    .dataframe thead th {\n",
       "        text-align: right;\n",
       "    }\n",
       "</style>\n",
       "<table border=\"1\" class=\"dataframe\">\n",
       "  <thead>\n",
       "    <tr style=\"text-align: right;\">\n",
       "      <th></th>\n",
       "      <th>BLOCK</th>\n",
       "      <th>DISTRICTID</th>\n",
       "      <th>state</th>\n",
       "      <th>county</th>\n",
       "      <th>tract</th>\n",
       "      <th>block</th>\n",
       "    </tr>\n",
       "  </thead>\n",
       "  <tbody>\n",
       "    <tr>\n",
       "      <th>0</th>\n",
       "      <td>060650432722072</td>\n",
       "      <td>42</td>\n",
       "      <td>06</td>\n",
       "      <td>065</td>\n",
       "      <td>043272</td>\n",
       "      <td>2072</td>\n",
       "    </tr>\n",
       "    <tr>\n",
       "      <th>1</th>\n",
       "      <td>060650432722026</td>\n",
       "      <td>42</td>\n",
       "      <td>06</td>\n",
       "      <td>065</td>\n",
       "      <td>043272</td>\n",
       "      <td>2026</td>\n",
       "    </tr>\n",
       "    <tr>\n",
       "      <th>2</th>\n",
       "      <td>060650432722070</td>\n",
       "      <td>42</td>\n",
       "      <td>06</td>\n",
       "      <td>065</td>\n",
       "      <td>043272</td>\n",
       "      <td>2070</td>\n",
       "    </tr>\n",
       "    <tr>\n",
       "      <th>3</th>\n",
       "      <td>060650432722071</td>\n",
       "      <td>42</td>\n",
       "      <td>06</td>\n",
       "      <td>065</td>\n",
       "      <td>043272</td>\n",
       "      <td>2071</td>\n",
       "    </tr>\n",
       "    <tr>\n",
       "      <th>4</th>\n",
       "      <td>060650432722025</td>\n",
       "      <td>42</td>\n",
       "      <td>06</td>\n",
       "      <td>065</td>\n",
       "      <td>043272</td>\n",
       "      <td>2025</td>\n",
       "    </tr>\n",
       "    <tr>\n",
       "      <th>5</th>\n",
       "      <td>060650432722027</td>\n",
       "      <td>42</td>\n",
       "      <td>06</td>\n",
       "      <td>065</td>\n",
       "      <td>043272</td>\n",
       "      <td>2027</td>\n",
       "    </tr>\n",
       "    <tr>\n",
       "      <th>6</th>\n",
       "      <td>060650464011053</td>\n",
       "      <td>42</td>\n",
       "      <td>06</td>\n",
       "      <td>065</td>\n",
       "      <td>046401</td>\n",
       "      <td>1053</td>\n",
       "    </tr>\n",
       "    <tr>\n",
       "      <th>7</th>\n",
       "      <td>060650432722017</td>\n",
       "      <td>42</td>\n",
       "      <td>06</td>\n",
       "      <td>065</td>\n",
       "      <td>043272</td>\n",
       "      <td>2017</td>\n",
       "    </tr>\n",
       "    <tr>\n",
       "      <th>8</th>\n",
       "      <td>060650464011052</td>\n",
       "      <td>42</td>\n",
       "      <td>06</td>\n",
       "      <td>065</td>\n",
       "      <td>046401</td>\n",
       "      <td>1052</td>\n",
       "    </tr>\n",
       "    <tr>\n",
       "      <th>9</th>\n",
       "      <td>060650464011058</td>\n",
       "      <td>42</td>\n",
       "      <td>06</td>\n",
       "      <td>065</td>\n",
       "      <td>046401</td>\n",
       "      <td>1058</td>\n",
       "    </tr>\n",
       "  </tbody>\n",
       "</table>\n",
       "</div>"
      ],
      "text/plain": [
       "             BLOCK DISTRICTID state county   tract block\n",
       "0  060650432722072         42    06    065  043272  2072\n",
       "1  060650432722026         42    06    065  043272  2026\n",
       "2  060650432722070         42    06    065  043272  2070\n",
       "3  060650432722071         42    06    065  043272  2071\n",
       "4  060650432722025         42    06    065  043272  2025\n",
       "5  060650432722027         42    06    065  043272  2027\n",
       "6  060650464011053         42    06    065  046401  1053\n",
       "7  060650432722017         42    06    065  043272  2017\n",
       "8  060650464011052         42    06    065  046401  1052\n",
       "9  060650464011058         42    06    065  046401  1058"
      ]
     },
     "execution_count": 15,
     "metadata": {},
     "output_type": "execute_result"
    }
   ],
   "source": [
    "df[:10]"
   ]
  },
  {
   "cell_type": "code",
   "execution_count": 16,
   "metadata": {},
   "outputs": [
    {
     "data": {
      "text/plain": [
       "BLOCK         35718\n",
       "DISTRICTID        4\n",
       "state             1\n",
       "county            1\n",
       "tract           453\n",
       "block          2003\n",
       "dtype: int64"
      ]
     },
     "execution_count": 16,
     "metadata": {},
     "output_type": "execute_result"
    }
   ],
   "source": [
    "df.loc[df['county'] == '065'].nunique()"
   ]
  },
  {
   "cell_type": "code",
   "execution_count": null,
   "metadata": {},
   "outputs": [],
   "source": []
  },
  {
   "cell_type": "code",
   "execution_count": null,
   "metadata": {},
   "outputs": [],
   "source": []
  },
  {
   "cell_type": "markdown",
   "metadata": {},
   "source": [
    "### Srprec <> Census block/tract -- explore"
   ]
  },
  {
   "cell_type": "code",
   "execution_count": 4,
   "metadata": {},
   "outputs": [
    {
     "data": {
      "text/plain": [
       "(23490, 8)"
      ]
     },
     "execution_count": 4,
     "metadata": {},
     "output_type": "execute_result"
    }
   ],
   "source": [
    "xlate = pd.read_csv('./Orange_County_Voting_Trends/map_files/c059_g12_sr_blk_map.csv')\n",
    "xlate.shape"
   ]
  },
  {
   "cell_type": "code",
   "execution_count": 5,
   "metadata": {},
   "outputs": [
    {
     "data": {
      "text/html": [
       "<div>\n",
       "<style scoped>\n",
       "    .dataframe tbody tr th:only-of-type {\n",
       "        vertical-align: middle;\n",
       "    }\n",
       "\n",
       "    .dataframe tbody tr th {\n",
       "        vertical-align: top;\n",
       "    }\n",
       "\n",
       "    .dataframe thead th {\n",
       "        text-align: right;\n",
       "    }\n",
       "</style>\n",
       "<table border=\"1\" class=\"dataframe\">\n",
       "  <thead>\n",
       "    <tr style=\"text-align: right;\">\n",
       "      <th></th>\n",
       "      <th>srprec</th>\n",
       "      <th>tract</th>\n",
       "      <th>block</th>\n",
       "      <th>blkreg</th>\n",
       "      <th>srtotreg</th>\n",
       "      <th>pctsrprec</th>\n",
       "      <th>blktotreg</th>\n",
       "      <th>pctblk</th>\n",
       "    </tr>\n",
       "  </thead>\n",
       "  <tbody>\n",
       "    <tr>\n",
       "      <th>23485</th>\n",
       "      <td>75602</td>\n",
       "      <td>75809</td>\n",
       "      <td>2007</td>\n",
       "      <td>604</td>\n",
       "      <td>1437</td>\n",
       "      <td>42.032011</td>\n",
       "      <td>613</td>\n",
       "      <td>98.531811</td>\n",
       "    </tr>\n",
       "    <tr>\n",
       "      <th>23486</th>\n",
       "      <td>75602</td>\n",
       "      <td>75814</td>\n",
       "      <td>2003</td>\n",
       "      <td>14</td>\n",
       "      <td>1437</td>\n",
       "      <td>0.974252</td>\n",
       "      <td>14</td>\n",
       "      <td>100.000000</td>\n",
       "    </tr>\n",
       "    <tr>\n",
       "      <th>23487</th>\n",
       "      <td>75602</td>\n",
       "      <td>75814</td>\n",
       "      <td>2016</td>\n",
       "      <td>2</td>\n",
       "      <td>1437</td>\n",
       "      <td>0.139179</td>\n",
       "      <td>2</td>\n",
       "      <td>100.000000</td>\n",
       "    </tr>\n",
       "    <tr>\n",
       "      <th>23488</th>\n",
       "      <td>75602</td>\n",
       "      <td>75814</td>\n",
       "      <td>2017</td>\n",
       "      <td>28</td>\n",
       "      <td>1437</td>\n",
       "      <td>1.948504</td>\n",
       "      <td>28</td>\n",
       "      <td>100.000000</td>\n",
       "    </tr>\n",
       "    <tr>\n",
       "      <th>23489</th>\n",
       "      <td>75901</td>\n",
       "      <td>75809</td>\n",
       "      <td>2007</td>\n",
       "      <td>9</td>\n",
       "      <td>9</td>\n",
       "      <td>100.000000</td>\n",
       "      <td>613</td>\n",
       "      <td>1.468189</td>\n",
       "    </tr>\n",
       "  </tbody>\n",
       "</table>\n",
       "</div>"
      ],
      "text/plain": [
       "       srprec  tract  block  blkreg  srtotreg   pctsrprec  blktotreg  \\\n",
       "23485   75602  75809   2007     604      1437   42.032011        613   \n",
       "23486   75602  75814   2003      14      1437    0.974252         14   \n",
       "23487   75602  75814   2016       2      1437    0.139179          2   \n",
       "23488   75602  75814   2017      28      1437    1.948504         28   \n",
       "23489   75901  75809   2007       9         9  100.000000        613   \n",
       "\n",
       "           pctblk  \n",
       "23485   98.531811  \n",
       "23486  100.000000  \n",
       "23487  100.000000  \n",
       "23488  100.000000  \n",
       "23489    1.468189  "
      ]
     },
     "execution_count": 5,
     "metadata": {},
     "output_type": "execute_result"
    }
   ],
   "source": [
    "xlate.tail()"
   ]
  },
  {
   "cell_type": "code",
   "execution_count": 6,
   "metadata": {},
   "outputs": [
    {
     "data": {
      "text/plain": [
       "582"
      ]
     },
     "execution_count": 6,
     "metadata": {},
     "output_type": "execute_result"
    }
   ],
   "source": [
    "xlate['tract'].nunique()\n",
    "#582 census tracts in g12 data set."
   ]
  },
  {
   "cell_type": "code",
   "execution_count": 7,
   "metadata": {},
   "outputs": [
    {
     "data": {
      "text/plain": [
       "1877"
      ]
     },
     "execution_count": 7,
     "metadata": {},
     "output_type": "execute_result"
    }
   ],
   "source": [
    "xlate['srprec'].nunique()\n",
    "#1877 srprec's"
   ]
  },
  {
   "cell_type": "code",
   "execution_count": 8,
   "metadata": {},
   "outputs": [
    {
     "data": {
      "text/plain": [
       "558"
      ]
     },
     "execution_count": 8,
     "metadata": {},
     "output_type": "execute_result"
    }
   ],
   "source": [
    "xlate['block'].nunique()"
   ]
  },
  {
   "cell_type": "code",
   "execution_count": 9,
   "metadata": {},
   "outputs": [
    {
     "data": {
      "text/plain": [
       "63500    235\n",
       "62800    178\n",
       "62702    141\n",
       "52420    138\n",
       "62604    132\n",
       "        ... \n",
       "63008      6\n",
       "99502      6\n",
       "21813      5\n",
       "52518      4\n",
       "52404      2\n",
       "Name: tract, Length: 582, dtype: int64"
      ]
     },
     "execution_count": 9,
     "metadata": {},
     "output_type": "execute_result"
    }
   ],
   "source": [
    "xlate['tract'].value_counts()"
   ]
  },
  {
   "cell_type": "code",
   "execution_count": 10,
   "metadata": {},
   "outputs": [
    {
     "data": {
      "text/plain": [
       "2001    468\n",
       "2002    461\n",
       "2003    449\n",
       "2004    434\n",
       "2000    423\n",
       "       ... \n",
       "7015      1\n",
       "9008      1\n",
       "2165      1\n",
       "2133      1\n",
       "6053      1\n",
       "Name: block, Length: 558, dtype: int64"
      ]
     },
     "execution_count": 10,
     "metadata": {},
     "output_type": "execute_result"
    }
   ],
   "source": [
    "xlate['block'].value_counts()"
   ]
  },
  {
   "cell_type": "code",
   "execution_count": 11,
   "metadata": {},
   "outputs": [
    {
     "data": {
      "text/plain": [
       "2193     74\n",
       "53355    58\n",
       "68296    57\n",
       "13377    56\n",
       "68098    55\n",
       "         ..\n",
       "2434      1\n",
       "69902     1\n",
       "5379      1\n",
       "44123     1\n",
       "56383     1\n",
       "Name: srprec, Length: 1877, dtype: int64"
      ]
     },
     "execution_count": 11,
     "metadata": {},
     "output_type": "execute_result"
    }
   ],
   "source": [
    "xlate['srprec'].value_counts()"
   ]
  },
  {
   "cell_type": "code",
   "execution_count": null,
   "metadata": {},
   "outputs": [],
   "source": []
  },
  {
   "cell_type": "code",
   "execution_count": null,
   "metadata": {},
   "outputs": [],
   "source": []
  }
 ],
 "metadata": {
  "kernelspec": {
   "display_name": "Python 3",
   "language": "python",
   "name": "python3"
  },
  "language_info": {
   "codemirror_mode": {
    "name": "ipython",
    "version": 3
   },
   "file_extension": ".py",
   "mimetype": "text/x-python",
   "name": "python",
   "nbconvert_exporter": "python",
   "pygments_lexer": "ipython3",
   "version": "3.8.3"
  }
 },
 "nbformat": 4,
 "nbformat_minor": 4
}
