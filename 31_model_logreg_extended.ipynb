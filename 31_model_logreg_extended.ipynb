{
 "cells": [
  {
   "cell_type": "markdown",
   "metadata": {},
   "source": [
    "## This page uses compares logistic regression and other classification models for modeling several economic variables from census data to understand the drivers of voting results.\n",
    "\n",
    "Classification models:\n",
    "- Logistic regression"
   ]
  },
  {
   "cell_type": "code",
   "execution_count": 423,
   "metadata": {},
   "outputs": [],
   "source": [
    "# imports\n",
    "import pandas as pd\n",
    "import numpy as np\n",
    "import pickle as pkl\n",
    "import matplotlib.pyplot as plt\n",
    "\n",
    "import seaborn as sns\n",
    "import warnings"
   ]
  },
  {
   "cell_type": "code",
   "execution_count": 39,
   "metadata": {},
   "outputs": [],
   "source": [
    "# pd.set_option('display.max_columns', None)\n",
    "# pd.set_option('display.max_rows', None)\n",
    "np.random.seed(42)"
   ]
  },
  {
   "cell_type": "code",
   "execution_count": 301,
   "metadata": {},
   "outputs": [],
   "source": [
    "# modeling imports\n",
    "from scipy import stats\n",
    "from sklearn.metrics import mean_squared_error\n",
    "from sklearn.linear_model import LogisticRegression\n",
    "from sklearn.experimental import enable_hist_gradient_boosting \n",
    "from sklearn.ensemble import HistGradientBoostingClassifier\n",
    "\n",
    "from sklearn.model_selection import train_test_split, cross_val_score, GridSearchCV\n",
    "from sklearn.preprocessing import StandardScaler, PolynomialFeatures\n",
    "from sklearn.pipeline import make_pipeline\n",
    "from sklearn.feature_selection import SelectKBest\n",
    "from sklearn.svm import SVC\n",
    "from sklearn.tree import DecisionTreeClassifier\n",
    "from sklearn.metrics import f1_score\n",
    "from sklearn.metrics import confusion_matrix, plot_confusion_matrix"
   ]
  },
  {
   "cell_type": "code",
   "execution_count": null,
   "metadata": {},
   "outputs": [],
   "source": []
  },
  {
   "cell_type": "markdown",
   "metadata": {},
   "source": [
    "### Logistic Regression classifier, to learn feature importance.\n",
    "\n",
    "Y = outcome of congressional vote:  \n",
    "- 0 = REP, because has traditionally been the baseline.\n",
    "- 1 = DEM, because this is a new trend."
   ]
  },
  {
   "cell_type": "markdown",
   "metadata": {},
   "source": [
    "#### Bring in transformed data set, which combines voting and census data for each precinct"
   ]
  },
  {
   "cell_type": "code",
   "execution_count": 41,
   "metadata": {},
   "outputs": [
    {
     "data": {
      "text/plain": [
       "(1334, 37)"
      ]
     },
     "execution_count": 41,
     "metadata": {},
     "output_type": "execute_result"
    }
   ],
   "source": [
    "df = pd.read_pickle('./data/combined18_extended.pkl')\n",
    "df.shape"
   ]
  },
  {
   "cell_type": "code",
   "execution_count": 42,
   "metadata": {},
   "outputs": [
    {
     "data": {
      "text/html": [
       "<div>\n",
       "<style scoped>\n",
       "    .dataframe tbody tr th:only-of-type {\n",
       "        vertical-align: middle;\n",
       "    }\n",
       "\n",
       "    .dataframe tbody tr th {\n",
       "        vertical-align: top;\n",
       "    }\n",
       "\n",
       "    .dataframe thead th {\n",
       "        text-align: right;\n",
       "    }\n",
       "</style>\n",
       "<table border=\"1\" class=\"dataframe\">\n",
       "  <thead>\n",
       "    <tr style=\"text-align: right;\">\n",
       "      <th></th>\n",
       "      <th>srprec_orig</th>\n",
       "      <th>subindex</th>\n",
       "      <th>pctsrprec_tract</th>\n",
       "      <th>employed_wgt</th>\n",
       "      <th>unemployed_wgt</th>\n",
       "      <th>empl_military_wgt</th>\n",
       "      <th>not_inlaborforce_wgt</th>\n",
       "      <th>working_women_wgt</th>\n",
       "      <th>parents_work_under6_wgt</th>\n",
       "      <th>parents_work_0617_wgt</th>\n",
       "      <th>...</th>\n",
       "      <th>totreg_r</th>\n",
       "      <th>dem</th>\n",
       "      <th>rep</th>\n",
       "      <th>dcl</th>\n",
       "      <th>male</th>\n",
       "      <th>female</th>\n",
       "      <th>hispdem</th>\n",
       "      <th>hisprep</th>\n",
       "      <th>hispdcl</th>\n",
       "      <th>hispoth</th>\n",
       "    </tr>\n",
       "  </thead>\n",
       "  <tbody>\n",
       "    <tr>\n",
       "      <th>0</th>\n",
       "      <td>2001.0</td>\n",
       "      <td>3.0</td>\n",
       "      <td>100.0</td>\n",
       "      <td>2647.0</td>\n",
       "      <td>161.0</td>\n",
       "      <td>0.0</td>\n",
       "      <td>1372.0</td>\n",
       "      <td>1152.0</td>\n",
       "      <td>268.0</td>\n",
       "      <td>783.0</td>\n",
       "      <td>...</td>\n",
       "      <td>371.0</td>\n",
       "      <td>161.0</td>\n",
       "      <td>106.0</td>\n",
       "      <td>83.0</td>\n",
       "      <td>173.0</td>\n",
       "      <td>198.0</td>\n",
       "      <td>106.0</td>\n",
       "      <td>20.0</td>\n",
       "      <td>56.0</td>\n",
       "      <td>7.0</td>\n",
       "    </tr>\n",
       "    <tr>\n",
       "      <th>1</th>\n",
       "      <td>2002.0</td>\n",
       "      <td>0.0</td>\n",
       "      <td>100.0</td>\n",
       "      <td>2881.0</td>\n",
       "      <td>217.0</td>\n",
       "      <td>9.0</td>\n",
       "      <td>1525.0</td>\n",
       "      <td>1030.0</td>\n",
       "      <td>257.0</td>\n",
       "      <td>1082.0</td>\n",
       "      <td>...</td>\n",
       "      <td>109.0</td>\n",
       "      <td>61.0</td>\n",
       "      <td>8.0</td>\n",
       "      <td>39.0</td>\n",
       "      <td>46.0</td>\n",
       "      <td>63.0</td>\n",
       "      <td>52.0</td>\n",
       "      <td>0.0</td>\n",
       "      <td>23.0</td>\n",
       "      <td>0.0</td>\n",
       "    </tr>\n",
       "    <tr>\n",
       "      <th>2</th>\n",
       "      <td>2008.0</td>\n",
       "      <td>0.0</td>\n",
       "      <td>100.0</td>\n",
       "      <td>3948.0</td>\n",
       "      <td>278.0</td>\n",
       "      <td>0.0</td>\n",
       "      <td>1438.0</td>\n",
       "      <td>1656.0</td>\n",
       "      <td>561.0</td>\n",
       "      <td>677.0</td>\n",
       "      <td>...</td>\n",
       "      <td>1197.0</td>\n",
       "      <td>621.0</td>\n",
       "      <td>234.0</td>\n",
       "      <td>301.0</td>\n",
       "      <td>574.0</td>\n",
       "      <td>623.0</td>\n",
       "      <td>376.0</td>\n",
       "      <td>60.0</td>\n",
       "      <td>171.0</td>\n",
       "      <td>12.0</td>\n",
       "    </tr>\n",
       "    <tr>\n",
       "      <th>3</th>\n",
       "      <td>2009.0</td>\n",
       "      <td>3.0</td>\n",
       "      <td>100.0</td>\n",
       "      <td>3045.0</td>\n",
       "      <td>147.0</td>\n",
       "      <td>0.0</td>\n",
       "      <td>2459.0</td>\n",
       "      <td>1447.0</td>\n",
       "      <td>273.0</td>\n",
       "      <td>717.0</td>\n",
       "      <td>...</td>\n",
       "      <td>735.0</td>\n",
       "      <td>380.0</td>\n",
       "      <td>177.0</td>\n",
       "      <td>160.0</td>\n",
       "      <td>359.0</td>\n",
       "      <td>376.0</td>\n",
       "      <td>169.0</td>\n",
       "      <td>39.0</td>\n",
       "      <td>54.0</td>\n",
       "      <td>1.0</td>\n",
       "    </tr>\n",
       "    <tr>\n",
       "      <th>4</th>\n",
       "      <td>2011.0</td>\n",
       "      <td>0.0</td>\n",
       "      <td>100.0</td>\n",
       "      <td>2991.0</td>\n",
       "      <td>74.0</td>\n",
       "      <td>0.0</td>\n",
       "      <td>1401.0</td>\n",
       "      <td>1486.0</td>\n",
       "      <td>334.0</td>\n",
       "      <td>492.0</td>\n",
       "      <td>...</td>\n",
       "      <td>805.0</td>\n",
       "      <td>251.0</td>\n",
       "      <td>360.0</td>\n",
       "      <td>167.0</td>\n",
       "      <td>415.0</td>\n",
       "      <td>390.0</td>\n",
       "      <td>59.0</td>\n",
       "      <td>29.0</td>\n",
       "      <td>30.0</td>\n",
       "      <td>5.0</td>\n",
       "    </tr>\n",
       "  </tbody>\n",
       "</table>\n",
       "<p>5 rows × 37 columns</p>\n",
       "</div>"
      ],
      "text/plain": [
       "   srprec_orig  subindex  pctsrprec_tract  employed_wgt  unemployed_wgt  \\\n",
       "0       2001.0       3.0            100.0        2647.0           161.0   \n",
       "1       2002.0       0.0            100.0        2881.0           217.0   \n",
       "2       2008.0       0.0            100.0        3948.0           278.0   \n",
       "3       2009.0       3.0            100.0        3045.0           147.0   \n",
       "4       2011.0       0.0            100.0        2991.0            74.0   \n",
       "\n",
       "   empl_military_wgt  not_inlaborforce_wgt  working_women_wgt  \\\n",
       "0                0.0                1372.0             1152.0   \n",
       "1                9.0                1525.0             1030.0   \n",
       "2                0.0                1438.0             1656.0   \n",
       "3                0.0                2459.0             1447.0   \n",
       "4                0.0                1401.0             1486.0   \n",
       "\n",
       "   parents_work_under6_wgt  parents_work_0617_wgt  ...  totreg_r    dem  \\\n",
       "0                    268.0                  783.0  ...     371.0  161.0   \n",
       "1                    257.0                 1082.0  ...     109.0   61.0   \n",
       "2                    561.0                  677.0  ...    1197.0  621.0   \n",
       "3                    273.0                  717.0  ...     735.0  380.0   \n",
       "4                    334.0                  492.0  ...     805.0  251.0   \n",
       "\n",
       "     rep    dcl   male  female  hispdem  hisprep  hispdcl  hispoth  \n",
       "0  106.0   83.0  173.0   198.0    106.0     20.0     56.0      7.0  \n",
       "1    8.0   39.0   46.0    63.0     52.0      0.0     23.0      0.0  \n",
       "2  234.0  301.0  574.0   623.0    376.0     60.0    171.0     12.0  \n",
       "3  177.0  160.0  359.0   376.0    169.0     39.0     54.0      1.0  \n",
       "4  360.0  167.0  415.0   390.0     59.0     29.0     30.0      5.0  \n",
       "\n",
       "[5 rows x 37 columns]"
      ]
     },
     "execution_count": 42,
     "metadata": {},
     "output_type": "execute_result"
    }
   ],
   "source": [
    "df.head()"
   ]
  },
  {
   "cell_type": "code",
   "execution_count": 43,
   "metadata": {},
   "outputs": [
    {
     "name": "stdout",
     "output_type": "stream",
     "text": [
      "<class 'pandas.core.frame.DataFrame'>\n",
      "Int64Index: 1334 entries, 0 to 1333\n",
      "Data columns (total 37 columns):\n",
      " #   Column                    Non-Null Count  Dtype  \n",
      "---  ------                    --------------  -----  \n",
      " 0   srprec_orig               1334 non-null   float64\n",
      " 1   subindex                  1334 non-null   float64\n",
      " 2   pctsrprec_tract           1334 non-null   float64\n",
      " 3   employed_wgt              1334 non-null   float64\n",
      " 4   unemployed_wgt            1334 non-null   float64\n",
      " 5   empl_military_wgt         1334 non-null   float64\n",
      " 6   not_inlaborforce_wgt      1334 non-null   float64\n",
      " 7   working_women_wgt         1334 non-null   float64\n",
      " 8   parents_work_under6_wgt   1334 non-null   float64\n",
      " 9   parents_work_0617_wgt     1334 non-null   float64\n",
      " 10  occ_mgmt_sci_art_wgt      1334 non-null   float64\n",
      " 11  occ_service_sector_wgt    1334 non-null   float64\n",
      " 12  occ_sales_gen_office_wgt  1334 non-null   float64\n",
      " 13  occ_constr_maintc_wgt     1334 non-null   float64\n",
      " 14  occ_manuf_transpo_wgt     1334 non-null   float64\n",
      " 15  hh_med_income_wgt         1334 non-null   float64\n",
      " 16  hlthins_priv_wgt          1334 non-null   float64\n",
      " 17  hlthins_public_wgt        1334 non-null   float64\n",
      " 18  hlthins_none_wgt          1334 non-null   float64\n",
      " 19  county                    1334 non-null   int64  \n",
      " 20  srprec                    1334 non-null   int64  \n",
      " 21  cddist                    1334 non-null   int64  \n",
      " 22  TOTREG                    1334 non-null   int64  \n",
      " 23  TOTVOTE                   1334 non-null   int64  \n",
      " 24  CNGDEM01                  1334 non-null   int64  \n",
      " 25  CNGREP01                  1334 non-null   int64  \n",
      " 26  election                  1334 non-null   object \n",
      " 27  totreg_r                  1334 non-null   float64\n",
      " 28  dem                       1334 non-null   float64\n",
      " 29  rep                       1334 non-null   float64\n",
      " 30  dcl                       1334 non-null   float64\n",
      " 31  male                      1334 non-null   float64\n",
      " 32  female                    1334 non-null   float64\n",
      " 33  hispdem                   1334 non-null   float64\n",
      " 34  hisprep                   1334 non-null   float64\n",
      " 35  hispdcl                   1334 non-null   float64\n",
      " 36  hispoth                   1334 non-null   float64\n",
      "dtypes: float64(29), int64(7), object(1)\n",
      "memory usage: 396.0+ KB\n"
     ]
    }
   ],
   "source": [
    "df.info()"
   ]
  },
  {
   "cell_type": "code",
   "execution_count": 44,
   "metadata": {},
   "outputs": [],
   "source": [
    "df['srprec_orig'] = df['srprec_orig'].astype('int64')"
   ]
  },
  {
   "cell_type": "code",
   "execution_count": 45,
   "metadata": {},
   "outputs": [
    {
     "data": {
      "text/plain": [
       "45    347\n",
       "48    334\n",
       "39    226\n",
       "46    198\n",
       "47    133\n",
       "49     87\n",
       "38      9\n",
       "Name: cddist, dtype: int64"
      ]
     },
     "execution_count": 45,
     "metadata": {},
     "output_type": "execute_result"
    }
   ],
   "source": [
    "df['cddist'].value_counts()"
   ]
  },
  {
   "cell_type": "code",
   "execution_count": null,
   "metadata": {},
   "outputs": [],
   "source": []
  },
  {
   "cell_type": "code",
   "execution_count": null,
   "metadata": {},
   "outputs": [],
   "source": []
  },
  {
   "cell_type": "code",
   "execution_count": null,
   "metadata": {},
   "outputs": [],
   "source": []
  },
  {
   "cell_type": "markdown",
   "metadata": {},
   "source": [
    "### Define X and y from voter data (can enhance with census data later on)"
   ]
  },
  {
   "cell_type": "markdown",
   "metadata": {},
   "source": [
    "#### define y"
   ]
  },
  {
   "cell_type": "code",
   "execution_count": 46,
   "metadata": {},
   "outputs": [],
   "source": [
    "# create a categorical column where CNGREP01 < CNGDEM01  (where Democrat wins, since Dems were victorious in 2018)"
   ]
  },
  {
   "cell_type": "code",
   "execution_count": 47,
   "metadata": {},
   "outputs": [
    {
     "data": {
      "text/html": [
       "<div>\n",
       "<style scoped>\n",
       "    .dataframe tbody tr th:only-of-type {\n",
       "        vertical-align: middle;\n",
       "    }\n",
       "\n",
       "    .dataframe tbody tr th {\n",
       "        vertical-align: top;\n",
       "    }\n",
       "\n",
       "    .dataframe thead th {\n",
       "        text-align: right;\n",
       "    }\n",
       "</style>\n",
       "<table border=\"1\" class=\"dataframe\">\n",
       "  <thead>\n",
       "    <tr style=\"text-align: right;\">\n",
       "      <th></th>\n",
       "      <th>CNGDEM01</th>\n",
       "      <th>CNGREP01</th>\n",
       "    </tr>\n",
       "  </thead>\n",
       "  <tbody>\n",
       "    <tr>\n",
       "      <th>0</th>\n",
       "      <td>249</td>\n",
       "      <td>126</td>\n",
       "    </tr>\n",
       "    <tr>\n",
       "      <th>1</th>\n",
       "      <td>100</td>\n",
       "      <td>17</td>\n",
       "    </tr>\n",
       "    <tr>\n",
       "      <th>2</th>\n",
       "      <td>929</td>\n",
       "      <td>295</td>\n",
       "    </tr>\n",
       "    <tr>\n",
       "      <th>3</th>\n",
       "      <td>515</td>\n",
       "      <td>229</td>\n",
       "    </tr>\n",
       "    <tr>\n",
       "      <th>4</th>\n",
       "      <td>368</td>\n",
       "      <td>439</td>\n",
       "    </tr>\n",
       "  </tbody>\n",
       "</table>\n",
       "</div>"
      ],
      "text/plain": [
       "   CNGDEM01  CNGREP01\n",
       "0       249       126\n",
       "1       100        17\n",
       "2       929       295\n",
       "3       515       229\n",
       "4       368       439"
      ]
     },
     "execution_count": 47,
     "metadata": {},
     "output_type": "execute_result"
    }
   ],
   "source": [
    "y_raw18 = combo[['CNGDEM01', 'CNGREP01']]\n",
    "y_raw18.head()"
   ]
  },
  {
   "cell_type": "code",
   "execution_count": 48,
   "metadata": {},
   "outputs": [
    {
     "data": {
      "text/html": [
       "<div>\n",
       "<style scoped>\n",
       "    .dataframe tbody tr th:only-of-type {\n",
       "        vertical-align: middle;\n",
       "    }\n",
       "\n",
       "    .dataframe tbody tr th {\n",
       "        vertical-align: top;\n",
       "    }\n",
       "\n",
       "    .dataframe thead th {\n",
       "        text-align: right;\n",
       "    }\n",
       "</style>\n",
       "<table border=\"1\" class=\"dataframe\">\n",
       "  <thead>\n",
       "    <tr style=\"text-align: right;\">\n",
       "      <th></th>\n",
       "      <th>CNGDEM01</th>\n",
       "      <th>CNGREP01</th>\n",
       "    </tr>\n",
       "  </thead>\n",
       "  <tbody>\n",
       "    <tr>\n",
       "      <th>count</th>\n",
       "      <td>1334.000000</td>\n",
       "      <td>1334.000000</td>\n",
       "    </tr>\n",
       "    <tr>\n",
       "      <th>mean</th>\n",
       "      <td>435.853073</td>\n",
       "      <td>368.841829</td>\n",
       "    </tr>\n",
       "    <tr>\n",
       "      <th>std</th>\n",
       "      <td>301.603744</td>\n",
       "      <td>284.835099</td>\n",
       "    </tr>\n",
       "    <tr>\n",
       "      <th>min</th>\n",
       "      <td>0.000000</td>\n",
       "      <td>0.000000</td>\n",
       "    </tr>\n",
       "    <tr>\n",
       "      <th>25%</th>\n",
       "      <td>187.750000</td>\n",
       "      <td>129.250000</td>\n",
       "    </tr>\n",
       "    <tr>\n",
       "      <th>50%</th>\n",
       "      <td>415.000000</td>\n",
       "      <td>327.500000</td>\n",
       "    </tr>\n",
       "    <tr>\n",
       "      <th>75%</th>\n",
       "      <td>641.000000</td>\n",
       "      <td>566.750000</td>\n",
       "    </tr>\n",
       "    <tr>\n",
       "      <th>max</th>\n",
       "      <td>1806.000000</td>\n",
       "      <td>1475.000000</td>\n",
       "    </tr>\n",
       "  </tbody>\n",
       "</table>\n",
       "</div>"
      ],
      "text/plain": [
       "          CNGDEM01     CNGREP01\n",
       "count  1334.000000  1334.000000\n",
       "mean    435.853073   368.841829\n",
       "std     301.603744   284.835099\n",
       "min       0.000000     0.000000\n",
       "25%     187.750000   129.250000\n",
       "50%     415.000000   327.500000\n",
       "75%     641.000000   566.750000\n",
       "max    1806.000000  1475.000000"
      ]
     },
     "execution_count": 48,
     "metadata": {},
     "output_type": "execute_result"
    }
   ],
   "source": [
    "y_raw18.describe()"
   ]
  },
  {
   "cell_type": "code",
   "execution_count": 49,
   "metadata": {},
   "outputs": [
    {
     "name": "stderr",
     "output_type": "stream",
     "text": [
      "<ipython-input-49-fc75eef615fc>:1: SettingWithCopyWarning: \n",
      "A value is trying to be set on a copy of a slice from a DataFrame.\n",
      "Try using .loc[row_indexer,col_indexer] = value instead\n",
      "\n",
      "See the caveats in the documentation: https://pandas.pydata.org/pandas-docs/stable/user_guide/indexing.html#returning-a-view-versus-a-copy\n",
      "  y_raw18['dem_win'] = combo['CNGDEM01'] > combo['CNGREP01']\n"
     ]
    }
   ],
   "source": [
    "y_raw18['dem_win'] = combo['CNGDEM01'] > combo['CNGREP01']\n",
    "# will return a slice-of-dataframe warning, OK to proceed"
   ]
  },
  {
   "cell_type": "code",
   "execution_count": 50,
   "metadata": {},
   "outputs": [
    {
     "data": {
      "text/html": [
       "<div>\n",
       "<style scoped>\n",
       "    .dataframe tbody tr th:only-of-type {\n",
       "        vertical-align: middle;\n",
       "    }\n",
       "\n",
       "    .dataframe tbody tr th {\n",
       "        vertical-align: top;\n",
       "    }\n",
       "\n",
       "    .dataframe thead th {\n",
       "        text-align: right;\n",
       "    }\n",
       "</style>\n",
       "<table border=\"1\" class=\"dataframe\">\n",
       "  <thead>\n",
       "    <tr style=\"text-align: right;\">\n",
       "      <th></th>\n",
       "      <th>CNGDEM01</th>\n",
       "      <th>CNGREP01</th>\n",
       "      <th>dem_win</th>\n",
       "    </tr>\n",
       "  </thead>\n",
       "  <tbody>\n",
       "    <tr>\n",
       "      <th>0</th>\n",
       "      <td>249</td>\n",
       "      <td>126</td>\n",
       "      <td>True</td>\n",
       "    </tr>\n",
       "    <tr>\n",
       "      <th>1</th>\n",
       "      <td>100</td>\n",
       "      <td>17</td>\n",
       "      <td>True</td>\n",
       "    </tr>\n",
       "    <tr>\n",
       "      <th>2</th>\n",
       "      <td>929</td>\n",
       "      <td>295</td>\n",
       "      <td>True</td>\n",
       "    </tr>\n",
       "    <tr>\n",
       "      <th>3</th>\n",
       "      <td>515</td>\n",
       "      <td>229</td>\n",
       "      <td>True</td>\n",
       "    </tr>\n",
       "    <tr>\n",
       "      <th>4</th>\n",
       "      <td>368</td>\n",
       "      <td>439</td>\n",
       "      <td>False</td>\n",
       "    </tr>\n",
       "    <tr>\n",
       "      <th>...</th>\n",
       "      <td>...</td>\n",
       "      <td>...</td>\n",
       "      <td>...</td>\n",
       "    </tr>\n",
       "    <tr>\n",
       "      <th>1329</th>\n",
       "      <td>225</td>\n",
       "      <td>495</td>\n",
       "      <td>False</td>\n",
       "    </tr>\n",
       "    <tr>\n",
       "      <th>1330</th>\n",
       "      <td>28</td>\n",
       "      <td>49</td>\n",
       "      <td>False</td>\n",
       "    </tr>\n",
       "    <tr>\n",
       "      <th>1331</th>\n",
       "      <td>93</td>\n",
       "      <td>154</td>\n",
       "      <td>False</td>\n",
       "    </tr>\n",
       "    <tr>\n",
       "      <th>1332</th>\n",
       "      <td>75</td>\n",
       "      <td>173</td>\n",
       "      <td>False</td>\n",
       "    </tr>\n",
       "    <tr>\n",
       "      <th>1333</th>\n",
       "      <td>319</td>\n",
       "      <td>784</td>\n",
       "      <td>False</td>\n",
       "    </tr>\n",
       "  </tbody>\n",
       "</table>\n",
       "<p>1334 rows × 3 columns</p>\n",
       "</div>"
      ],
      "text/plain": [
       "      CNGDEM01  CNGREP01  dem_win\n",
       "0          249       126     True\n",
       "1          100        17     True\n",
       "2          929       295     True\n",
       "3          515       229     True\n",
       "4          368       439    False\n",
       "...        ...       ...      ...\n",
       "1329       225       495    False\n",
       "1330        28        49    False\n",
       "1331        93       154    False\n",
       "1332        75       173    False\n",
       "1333       319       784    False\n",
       "\n",
       "[1334 rows x 3 columns]"
      ]
     },
     "execution_count": 50,
     "metadata": {},
     "output_type": "execute_result"
    }
   ],
   "source": [
    "y_raw18"
   ]
  },
  {
   "cell_type": "code",
   "execution_count": 58,
   "metadata": {},
   "outputs": [
    {
     "data": {
      "text/plain": [
       "1    0.604948\n",
       "0    0.395052\n",
       "Name: dem_win, dtype: float64"
      ]
     },
     "execution_count": 58,
     "metadata": {},
     "output_type": "execute_result"
    }
   ],
   "source": [
    "y_raw18['dem_win'].value_counts(normalize=True)\n",
    "#slightly unbalanced 60/40, but not horrible"
   ]
  },
  {
   "cell_type": "code",
   "execution_count": 52,
   "metadata": {},
   "outputs": [
    {
     "name": "stdout",
     "output_type": "stream",
     "text": [
      "<class 'pandas.core.frame.DataFrame'>\n",
      "Int64Index: 1334 entries, 0 to 1333\n",
      "Data columns (total 3 columns):\n",
      " #   Column    Non-Null Count  Dtype\n",
      "---  ------    --------------  -----\n",
      " 0   CNGDEM01  1334 non-null   int64\n",
      " 1   CNGREP01  1334 non-null   int64\n",
      " 2   dem_win   1334 non-null   bool \n",
      "dtypes: bool(1), int64(2)\n",
      "memory usage: 32.6 KB\n"
     ]
    }
   ],
   "source": [
    "y_raw18.info()"
   ]
  },
  {
   "cell_type": "code",
   "execution_count": 53,
   "metadata": {},
   "outputs": [
    {
     "name": "stderr",
     "output_type": "stream",
     "text": [
      "<ipython-input-53-8b3119850fea>:1: SettingWithCopyWarning: \n",
      "A value is trying to be set on a copy of a slice from a DataFrame.\n",
      "Try using .loc[row_indexer,col_indexer] = value instead\n",
      "\n",
      "See the caveats in the documentation: https://pandas.pydata.org/pandas-docs/stable/user_guide/indexing.html#returning-a-view-versus-a-copy\n",
      "  y_raw18['dem_win'] = y_raw18['dem_win'].astype(int)\n"
     ]
    }
   ],
   "source": [
    "y_raw18['dem_win'] = y_raw18['dem_win'].astype(int)\n",
    "# will return a slice-of-dataframe warning, OK to proceed"
   ]
  },
  {
   "cell_type": "code",
   "execution_count": 54,
   "metadata": {},
   "outputs": [
    {
     "name": "stdout",
     "output_type": "stream",
     "text": [
      "<class 'pandas.core.frame.DataFrame'>\n",
      "Int64Index: 1334 entries, 0 to 1333\n",
      "Data columns (total 3 columns):\n",
      " #   Column    Non-Null Count  Dtype\n",
      "---  ------    --------------  -----\n",
      " 0   CNGDEM01  1334 non-null   int64\n",
      " 1   CNGREP01  1334 non-null   int64\n",
      " 2   dem_win   1334 non-null   int64\n",
      "dtypes: int64(3)\n",
      "memory usage: 41.7 KB\n"
     ]
    }
   ],
   "source": [
    "y_raw18.info()"
   ]
  },
  {
   "cell_type": "code",
   "execution_count": 67,
   "metadata": {},
   "outputs": [
    {
     "data": {
      "text/plain": [
       "0    1\n",
       "1    1\n",
       "2    1\n",
       "3    1\n",
       "4    0\n",
       "Name: dem_win, dtype: int64"
      ]
     },
     "execution_count": 67,
     "metadata": {},
     "output_type": "execute_result"
    }
   ],
   "source": [
    "y = y_raw18['dem_win']\n",
    "y.head()"
   ]
  },
  {
   "cell_type": "code",
   "execution_count": 112,
   "metadata": {},
   "outputs": [],
   "source": [
    "y.to_pickle('./data/y.pkl')"
   ]
  },
  {
   "cell_type": "code",
   "execution_count": 60,
   "metadata": {},
   "outputs": [
    {
     "data": {
      "text/plain": [
       "['srprec_orig',\n",
       " 'subindex',\n",
       " 'pctsrprec_tract',\n",
       " 'employed_wgt',\n",
       " 'unemployed_wgt',\n",
       " 'empl_military_wgt',\n",
       " 'not_inlaborforce_wgt',\n",
       " 'working_women_wgt',\n",
       " 'parents_work_under6_wgt',\n",
       " 'parents_work_0617_wgt',\n",
       " 'occ_mgmt_sci_art_wgt',\n",
       " 'occ_service_sector_wgt',\n",
       " 'occ_sales_gen_office_wgt',\n",
       " 'occ_constr_maintc_wgt',\n",
       " 'occ_manuf_transpo_wgt',\n",
       " 'hh_med_income_wgt',\n",
       " 'hlthins_priv_wgt',\n",
       " 'hlthins_public_wgt',\n",
       " 'hlthins_none_wgt',\n",
       " 'county',\n",
       " 'srprec',\n",
       " 'cddist',\n",
       " 'TOTREG',\n",
       " 'TOTVOTE',\n",
       " 'CNGDEM01',\n",
       " 'CNGREP01',\n",
       " 'election',\n",
       " 'totreg_r',\n",
       " 'dem',\n",
       " 'rep',\n",
       " 'dcl',\n",
       " 'male',\n",
       " 'female',\n",
       " 'hispdem',\n",
       " 'hisprep',\n",
       " 'hispdcl',\n",
       " 'hispoth']"
      ]
     },
     "execution_count": 60,
     "metadata": {},
     "output_type": "execute_result"
    }
   ],
   "source": [
    "df.columns.tolist()"
   ]
  },
  {
   "cell_type": "code",
   "execution_count": 227,
   "metadata": {},
   "outputs": [],
   "source": [
    "X = df[['employed_wgt',\n",
    " 'unemployed_wgt',\n",
    " 'empl_military_wgt',\n",
    " 'not_inlaborforce_wgt',\n",
    " 'working_women_wgt',\n",
    " 'parents_work_under6_wgt',\n",
    " 'parents_work_0617_wgt',\n",
    " 'occ_mgmt_sci_art_wgt',\n",
    " 'occ_service_sector_wgt',\n",
    " 'occ_sales_gen_office_wgt',\n",
    " 'occ_constr_maintc_wgt',\n",
    " 'occ_manuf_transpo_wgt',\n",
    " 'hh_med_income_wgt',\n",
    " 'hlthins_priv_wgt',\n",
    " 'hlthins_public_wgt',\n",
    " 'hlthins_none_wgt',\n",
    "#  'TOTREG',\n",
    "#  'TOTVOTE',\n",
    "#  'dem',\n",
    "#  'rep',\n",
    " 'dcl',\n",
    " 'male',\n",
    " 'female',\n",
    " 'hispdem',\n",
    " 'hisprep',\n",
    " 'hispdcl',\n",
    " 'hispoth']]\n"
   ]
  },
  {
   "cell_type": "code",
   "execution_count": 228,
   "metadata": {},
   "outputs": [
    {
     "data": {
      "text/html": [
       "<div>\n",
       "<style scoped>\n",
       "    .dataframe tbody tr th:only-of-type {\n",
       "        vertical-align: middle;\n",
       "    }\n",
       "\n",
       "    .dataframe tbody tr th {\n",
       "        vertical-align: top;\n",
       "    }\n",
       "\n",
       "    .dataframe thead th {\n",
       "        text-align: right;\n",
       "    }\n",
       "</style>\n",
       "<table border=\"1\" class=\"dataframe\">\n",
       "  <thead>\n",
       "    <tr style=\"text-align: right;\">\n",
       "      <th></th>\n",
       "      <th>employed_wgt</th>\n",
       "      <th>unemployed_wgt</th>\n",
       "      <th>empl_military_wgt</th>\n",
       "      <th>not_inlaborforce_wgt</th>\n",
       "      <th>working_women_wgt</th>\n",
       "      <th>parents_work_under6_wgt</th>\n",
       "      <th>parents_work_0617_wgt</th>\n",
       "      <th>occ_mgmt_sci_art_wgt</th>\n",
       "      <th>occ_service_sector_wgt</th>\n",
       "      <th>occ_sales_gen_office_wgt</th>\n",
       "      <th>...</th>\n",
       "      <th>hlthins_priv_wgt</th>\n",
       "      <th>hlthins_public_wgt</th>\n",
       "      <th>hlthins_none_wgt</th>\n",
       "      <th>dcl</th>\n",
       "      <th>male</th>\n",
       "      <th>female</th>\n",
       "      <th>hispdem</th>\n",
       "      <th>hisprep</th>\n",
       "      <th>hispdcl</th>\n",
       "      <th>hispoth</th>\n",
       "    </tr>\n",
       "  </thead>\n",
       "  <tbody>\n",
       "    <tr>\n",
       "      <th>0</th>\n",
       "      <td>2647.0</td>\n",
       "      <td>161.0</td>\n",
       "      <td>0.0</td>\n",
       "      <td>1372.0</td>\n",
       "      <td>1152.0</td>\n",
       "      <td>268.0</td>\n",
       "      <td>783.0</td>\n",
       "      <td>244.0</td>\n",
       "      <td>637.0</td>\n",
       "      <td>706.0</td>\n",
       "      <td>...</td>\n",
       "      <td>2156.0</td>\n",
       "      <td>2846.0</td>\n",
       "      <td>1050.0</td>\n",
       "      <td>83.0</td>\n",
       "      <td>173.0</td>\n",
       "      <td>198.0</td>\n",
       "      <td>106.0</td>\n",
       "      <td>20.0</td>\n",
       "      <td>56.0</td>\n",
       "      <td>7.0</td>\n",
       "    </tr>\n",
       "    <tr>\n",
       "      <th>1</th>\n",
       "      <td>2881.0</td>\n",
       "      <td>217.0</td>\n",
       "      <td>9.0</td>\n",
       "      <td>1525.0</td>\n",
       "      <td>1030.0</td>\n",
       "      <td>257.0</td>\n",
       "      <td>1082.0</td>\n",
       "      <td>363.0</td>\n",
       "      <td>573.0</td>\n",
       "      <td>383.0</td>\n",
       "      <td>...</td>\n",
       "      <td>1885.0</td>\n",
       "      <td>3583.0</td>\n",
       "      <td>1700.0</td>\n",
       "      <td>39.0</td>\n",
       "      <td>46.0</td>\n",
       "      <td>63.0</td>\n",
       "      <td>52.0</td>\n",
       "      <td>0.0</td>\n",
       "      <td>23.0</td>\n",
       "      <td>0.0</td>\n",
       "    </tr>\n",
       "    <tr>\n",
       "      <th>2</th>\n",
       "      <td>3948.0</td>\n",
       "      <td>278.0</td>\n",
       "      <td>0.0</td>\n",
       "      <td>1438.0</td>\n",
       "      <td>1656.0</td>\n",
       "      <td>561.0</td>\n",
       "      <td>677.0</td>\n",
       "      <td>675.0</td>\n",
       "      <td>796.0</td>\n",
       "      <td>1064.0</td>\n",
       "      <td>...</td>\n",
       "      <td>3947.0</td>\n",
       "      <td>2926.0</td>\n",
       "      <td>1356.0</td>\n",
       "      <td>301.0</td>\n",
       "      <td>574.0</td>\n",
       "      <td>623.0</td>\n",
       "      <td>376.0</td>\n",
       "      <td>60.0</td>\n",
       "      <td>171.0</td>\n",
       "      <td>12.0</td>\n",
       "    </tr>\n",
       "    <tr>\n",
       "      <th>3</th>\n",
       "      <td>3045.0</td>\n",
       "      <td>147.0</td>\n",
       "      <td>0.0</td>\n",
       "      <td>2459.0</td>\n",
       "      <td>1447.0</td>\n",
       "      <td>273.0</td>\n",
       "      <td>717.0</td>\n",
       "      <td>693.0</td>\n",
       "      <td>701.0</td>\n",
       "      <td>912.0</td>\n",
       "      <td>...</td>\n",
       "      <td>3794.0</td>\n",
       "      <td>2708.0</td>\n",
       "      <td>822.0</td>\n",
       "      <td>160.0</td>\n",
       "      <td>359.0</td>\n",
       "      <td>376.0</td>\n",
       "      <td>169.0</td>\n",
       "      <td>39.0</td>\n",
       "      <td>54.0</td>\n",
       "      <td>1.0</td>\n",
       "    </tr>\n",
       "    <tr>\n",
       "      <th>4</th>\n",
       "      <td>2991.0</td>\n",
       "      <td>74.0</td>\n",
       "      <td>0.0</td>\n",
       "      <td>1401.0</td>\n",
       "      <td>1486.0</td>\n",
       "      <td>334.0</td>\n",
       "      <td>492.0</td>\n",
       "      <td>1364.0</td>\n",
       "      <td>331.0</td>\n",
       "      <td>1011.0</td>\n",
       "      <td>...</td>\n",
       "      <td>4400.0</td>\n",
       "      <td>1523.0</td>\n",
       "      <td>259.0</td>\n",
       "      <td>167.0</td>\n",
       "      <td>415.0</td>\n",
       "      <td>390.0</td>\n",
       "      <td>59.0</td>\n",
       "      <td>29.0</td>\n",
       "      <td>30.0</td>\n",
       "      <td>5.0</td>\n",
       "    </tr>\n",
       "  </tbody>\n",
       "</table>\n",
       "<p>5 rows × 23 columns</p>\n",
       "</div>"
      ],
      "text/plain": [
       "   employed_wgt  unemployed_wgt  empl_military_wgt  not_inlaborforce_wgt  \\\n",
       "0        2647.0           161.0                0.0                1372.0   \n",
       "1        2881.0           217.0                9.0                1525.0   \n",
       "2        3948.0           278.0                0.0                1438.0   \n",
       "3        3045.0           147.0                0.0                2459.0   \n",
       "4        2991.0            74.0                0.0                1401.0   \n",
       "\n",
       "   working_women_wgt  parents_work_under6_wgt  parents_work_0617_wgt  \\\n",
       "0             1152.0                    268.0                  783.0   \n",
       "1             1030.0                    257.0                 1082.0   \n",
       "2             1656.0                    561.0                  677.0   \n",
       "3             1447.0                    273.0                  717.0   \n",
       "4             1486.0                    334.0                  492.0   \n",
       "\n",
       "   occ_mgmt_sci_art_wgt  occ_service_sector_wgt  occ_sales_gen_office_wgt  \\\n",
       "0                 244.0                   637.0                     706.0   \n",
       "1                 363.0                   573.0                     383.0   \n",
       "2                 675.0                   796.0                    1064.0   \n",
       "3                 693.0                   701.0                     912.0   \n",
       "4                1364.0                   331.0                    1011.0   \n",
       "\n",
       "   ...  hlthins_priv_wgt  hlthins_public_wgt  hlthins_none_wgt    dcl   male  \\\n",
       "0  ...            2156.0              2846.0            1050.0   83.0  173.0   \n",
       "1  ...            1885.0              3583.0            1700.0   39.0   46.0   \n",
       "2  ...            3947.0              2926.0            1356.0  301.0  574.0   \n",
       "3  ...            3794.0              2708.0             822.0  160.0  359.0   \n",
       "4  ...            4400.0              1523.0             259.0  167.0  415.0   \n",
       "\n",
       "   female  hispdem  hisprep  hispdcl  hispoth  \n",
       "0   198.0    106.0     20.0     56.0      7.0  \n",
       "1    63.0     52.0      0.0     23.0      0.0  \n",
       "2   623.0    376.0     60.0    171.0     12.0  \n",
       "3   376.0    169.0     39.0     54.0      1.0  \n",
       "4   390.0     59.0     29.0     30.0      5.0  \n",
       "\n",
       "[5 rows x 23 columns]"
      ]
     },
     "execution_count": 228,
     "metadata": {},
     "output_type": "execute_result"
    }
   ],
   "source": [
    "X.head()"
   ]
  },
  {
   "cell_type": "code",
   "execution_count": 229,
   "metadata": {},
   "outputs": [],
   "source": [
    "X.to_pickle('./data/X.pkl')"
   ]
  },
  {
   "cell_type": "markdown",
   "metadata": {},
   "source": [
    "#### run the extended dataset through LogReg, no scaling\n"
   ]
  },
  {
   "cell_type": "code",
   "execution_count": 230,
   "metadata": {},
   "outputs": [
    {
     "data": {
      "text/html": [
       "<div>\n",
       "<style scoped>\n",
       "    .dataframe tbody tr th:only-of-type {\n",
       "        vertical-align: middle;\n",
       "    }\n",
       "\n",
       "    .dataframe tbody tr th {\n",
       "        vertical-align: top;\n",
       "    }\n",
       "\n",
       "    .dataframe thead th {\n",
       "        text-align: right;\n",
       "    }\n",
       "</style>\n",
       "<table border=\"1\" class=\"dataframe\">\n",
       "  <thead>\n",
       "    <tr style=\"text-align: right;\">\n",
       "      <th></th>\n",
       "      <th>employed_wgt</th>\n",
       "      <th>unemployed_wgt</th>\n",
       "      <th>empl_military_wgt</th>\n",
       "      <th>not_inlaborforce_wgt</th>\n",
       "      <th>working_women_wgt</th>\n",
       "      <th>parents_work_under6_wgt</th>\n",
       "      <th>parents_work_0617_wgt</th>\n",
       "      <th>occ_mgmt_sci_art_wgt</th>\n",
       "      <th>occ_service_sector_wgt</th>\n",
       "      <th>occ_sales_gen_office_wgt</th>\n",
       "      <th>...</th>\n",
       "      <th>hlthins_priv_wgt</th>\n",
       "      <th>hlthins_public_wgt</th>\n",
       "      <th>hlthins_none_wgt</th>\n",
       "      <th>dcl</th>\n",
       "      <th>male</th>\n",
       "      <th>female</th>\n",
       "      <th>hispdem</th>\n",
       "      <th>hisprep</th>\n",
       "      <th>hispdcl</th>\n",
       "      <th>hispoth</th>\n",
       "    </tr>\n",
       "  </thead>\n",
       "  <tbody>\n",
       "    <tr>\n",
       "      <th>1188</th>\n",
       "      <td>4875.0</td>\n",
       "      <td>253.0</td>\n",
       "      <td>0.0</td>\n",
       "      <td>1959.0</td>\n",
       "      <td>2191.0</td>\n",
       "      <td>711.0</td>\n",
       "      <td>1432.0</td>\n",
       "      <td>3132.0</td>\n",
       "      <td>286.0</td>\n",
       "      <td>1234.0</td>\n",
       "      <td>...</td>\n",
       "      <td>10202.0</td>\n",
       "      <td>750.0</td>\n",
       "      <td>205.0</td>\n",
       "      <td>323.0</td>\n",
       "      <td>653.0</td>\n",
       "      <td>651.0</td>\n",
       "      <td>44.0</td>\n",
       "      <td>23.0</td>\n",
       "      <td>32.0</td>\n",
       "      <td>7.0</td>\n",
       "    </tr>\n",
       "    <tr>\n",
       "      <th>906</th>\n",
       "      <td>2414.0</td>\n",
       "      <td>127.0</td>\n",
       "      <td>0.0</td>\n",
       "      <td>1811.0</td>\n",
       "      <td>1088.0</td>\n",
       "      <td>165.0</td>\n",
       "      <td>321.0</td>\n",
       "      <td>1518.0</td>\n",
       "      <td>175.0</td>\n",
       "      <td>613.0</td>\n",
       "      <td>...</td>\n",
       "      <td>4552.0</td>\n",
       "      <td>1566.0</td>\n",
       "      <td>125.0</td>\n",
       "      <td>315.0</td>\n",
       "      <td>750.0</td>\n",
       "      <td>915.0</td>\n",
       "      <td>12.0</td>\n",
       "      <td>17.0</td>\n",
       "      <td>8.0</td>\n",
       "      <td>1.0</td>\n",
       "    </tr>\n",
       "    <tr>\n",
       "      <th>1018</th>\n",
       "      <td>2771.0</td>\n",
       "      <td>115.0</td>\n",
       "      <td>0.0</td>\n",
       "      <td>1595.0</td>\n",
       "      <td>1284.0</td>\n",
       "      <td>178.0</td>\n",
       "      <td>326.0</td>\n",
       "      <td>1347.0</td>\n",
       "      <td>443.0</td>\n",
       "      <td>690.0</td>\n",
       "      <td>...</td>\n",
       "      <td>3846.0</td>\n",
       "      <td>1714.0</td>\n",
       "      <td>538.0</td>\n",
       "      <td>232.0</td>\n",
       "      <td>398.0</td>\n",
       "      <td>510.0</td>\n",
       "      <td>58.0</td>\n",
       "      <td>27.0</td>\n",
       "      <td>31.0</td>\n",
       "      <td>3.0</td>\n",
       "    </tr>\n",
       "  </tbody>\n",
       "</table>\n",
       "<p>3 rows × 23 columns</p>\n",
       "</div>"
      ],
      "text/plain": [
       "      employed_wgt  unemployed_wgt  empl_military_wgt  not_inlaborforce_wgt  \\\n",
       "1188        4875.0           253.0                0.0                1959.0   \n",
       "906         2414.0           127.0                0.0                1811.0   \n",
       "1018        2771.0           115.0                0.0                1595.0   \n",
       "\n",
       "      working_women_wgt  parents_work_under6_wgt  parents_work_0617_wgt  \\\n",
       "1188             2191.0                    711.0                 1432.0   \n",
       "906              1088.0                    165.0                  321.0   \n",
       "1018             1284.0                    178.0                  326.0   \n",
       "\n",
       "      occ_mgmt_sci_art_wgt  occ_service_sector_wgt  occ_sales_gen_office_wgt  \\\n",
       "1188                3132.0                   286.0                    1234.0   \n",
       "906                 1518.0                   175.0                     613.0   \n",
       "1018                1347.0                   443.0                     690.0   \n",
       "\n",
       "      ...  hlthins_priv_wgt  hlthins_public_wgt  hlthins_none_wgt    dcl  \\\n",
       "1188  ...           10202.0               750.0             205.0  323.0   \n",
       "906   ...            4552.0              1566.0             125.0  315.0   \n",
       "1018  ...            3846.0              1714.0             538.0  232.0   \n",
       "\n",
       "       male  female  hispdem  hisprep  hispdcl  hispoth  \n",
       "1188  653.0   651.0     44.0     23.0     32.0      7.0  \n",
       "906   750.0   915.0     12.0     17.0      8.0      1.0  \n",
       "1018  398.0   510.0     58.0     27.0     31.0      3.0  \n",
       "\n",
       "[3 rows x 23 columns]"
      ]
     },
     "execution_count": 230,
     "metadata": {},
     "output_type": "execute_result"
    }
   ],
   "source": [
    "X_train, X_test, y_train, y_test = train_test_split(X, y, random_state=42)\n",
    "X_train.head(3)"
   ]
  },
  {
   "cell_type": "code",
   "execution_count": 231,
   "metadata": {},
   "outputs": [],
   "source": [
    "import sklearn"
   ]
  },
  {
   "cell_type": "code",
   "execution_count": 232,
   "metadata": {},
   "outputs": [],
   "source": [
    "logreg = LogisticRegression(n_jobs=-1, max_iter=10_000)"
   ]
  },
  {
   "cell_type": "code",
   "execution_count": 233,
   "metadata": {},
   "outputs": [
    {
     "data": {
      "text/plain": [
       "LogisticRegression(max_iter=10000, n_jobs=-1)"
      ]
     },
     "execution_count": 233,
     "metadata": {},
     "output_type": "execute_result"
    }
   ],
   "source": [
    "logreg.fit(X_train, y_train)"
   ]
  },
  {
   "cell_type": "code",
   "execution_count": 234,
   "metadata": {},
   "outputs": [
    {
     "data": {
      "text/plain": [
       "0.644"
      ]
     },
     "execution_count": 234,
     "metadata": {},
     "output_type": "execute_result"
    }
   ],
   "source": [
    "logreg.score(X_train, y_train)"
   ]
  },
  {
   "cell_type": "code",
   "execution_count": 235,
   "metadata": {},
   "outputs": [
    {
     "data": {
      "text/plain": [
       "0.6227544910179641"
      ]
     },
     "execution_count": 235,
     "metadata": {},
     "output_type": "execute_result"
    }
   ],
   "source": [
    "logreg.score(X_test, y_test)"
   ]
  },
  {
   "cell_type": "code",
   "execution_count": 236,
   "metadata": {},
   "outputs": [
    {
     "data": {
      "text/plain": [
       "(0.7482, 0.7225, True)"
      ]
     },
     "execution_count": 236,
     "metadata": {},
     "output_type": "execute_result"
    }
   ],
   "source": [
    "f1_train = f1_score(y_train, logreg.predict(X_train))\n",
    "f1_test = f1_score(y_test, logreg.predict(X_test))\n",
    "overfit = f1_train > f1_test\n",
    "round(f1_train, 4), round(f1_test, 4), overfit"
   ]
  },
  {
   "cell_type": "code",
   "execution_count": 237,
   "metadata": {},
   "outputs": [
    {
     "data": {
      "text/plain": [
       "1    0.598802\n",
       "0    0.401198\n",
       "Name: dem_win, dtype: float64"
      ]
     },
     "execution_count": 237,
     "metadata": {},
     "output_type": "execute_result"
    }
   ],
   "source": [
    "# vs. null model?  \n",
    "y_test.value_counts(normalize=True)\n",
    "\n",
    "# our logreg score (65%) is slightly better than null model (60%), but not great.  "
   ]
  },
  {
   "cell_type": "code",
   "execution_count": null,
   "metadata": {},
   "outputs": [],
   "source": []
  },
  {
   "cell_type": "markdown",
   "metadata": {},
   "source": [
    "#### Examine feature importance:"
   ]
  },
  {
   "cell_type": "code",
   "execution_count": 238,
   "metadata": {},
   "outputs": [
    {
     "data": {
      "text/plain": [
       "array([[ 2.73062790e-04,  3.28093020e-05, -6.18180689e-07,\n",
       "         1.14545012e-04,  1.21383732e-04,  2.63810420e-05,\n",
       "         4.88003301e-05, -1.76864673e-04,  1.88022236e-04,\n",
       "         3.33904056e-05,  7.07877980e-05,  1.57667542e-04,\n",
       "         4.67320959e-09, -3.80476651e-04,  5.59073947e-04,\n",
       "         2.72590160e-04,  2.14184811e-05, -3.55028210e-06,\n",
       "         1.27873781e-08,  6.15002512e-05,  7.93872389e-07,\n",
       "         1.97685181e-05,  2.19532569e-06]])"
      ]
     },
     "execution_count": 238,
     "metadata": {},
     "output_type": "execute_result"
    }
   ],
   "source": [
    "logreg.coef_"
   ]
  },
  {
   "cell_type": "code",
   "execution_count": 239,
   "metadata": {},
   "outputs": [
    {
     "data": {
      "text/plain": [
       "array([[1.0002731 , 1.00003281, 0.99999938, 1.00011455, 1.00012139,\n",
       "        1.00002638, 1.0000488 , 0.99982315, 1.00018804, 1.00003339,\n",
       "        1.00007079, 1.00015768, 1.        , 0.9996196 , 1.00055923,\n",
       "        1.00027263, 1.00002142, 0.99999645, 1.00000001, 1.0000615 ,\n",
       "        1.00000079, 1.00001977, 1.0000022 ]])"
      ]
     },
     "execution_count": 239,
     "metadata": {},
     "output_type": "execute_result"
    }
   ],
   "source": [
    "np.exp(logreg.coef_)"
   ]
  },
  {
   "cell_type": "code",
   "execution_count": 240,
   "metadata": {},
   "outputs": [
    {
     "data": {
      "text/plain": [
       "['employed_wgt',\n",
       " 'unemployed_wgt',\n",
       " 'empl_military_wgt',\n",
       " 'not_inlaborforce_wgt',\n",
       " 'working_women_wgt',\n",
       " 'parents_work_under6_wgt',\n",
       " 'parents_work_0617_wgt',\n",
       " 'occ_mgmt_sci_art_wgt',\n",
       " 'occ_service_sector_wgt',\n",
       " 'occ_sales_gen_office_wgt',\n",
       " 'occ_constr_maintc_wgt',\n",
       " 'occ_manuf_transpo_wgt',\n",
       " 'hh_med_income_wgt',\n",
       " 'hlthins_priv_wgt',\n",
       " 'hlthins_public_wgt',\n",
       " 'hlthins_none_wgt',\n",
       " 'dcl',\n",
       " 'male',\n",
       " 'female',\n",
       " 'hispdem',\n",
       " 'hisprep',\n",
       " 'hispdcl',\n",
       " 'hispoth']"
      ]
     },
     "execution_count": 240,
     "metadata": {},
     "output_type": "execute_result"
    }
   ],
   "source": [
    "features = X.columns.to_list()\n",
    "features"
   ]
  },
  {
   "cell_type": "code",
   "execution_count": 394,
   "metadata": {},
   "outputs": [],
   "source": [
    "logreg_coef = pd.DataFrame({'columns':features, 'coef':logreg.coef_[0]})\n"
   ]
  },
  {
   "cell_type": "code",
   "execution_count": 395,
   "metadata": {},
   "outputs": [
    {
     "data": {
      "text/html": [
       "<div>\n",
       "<style scoped>\n",
       "    .dataframe tbody tr th:only-of-type {\n",
       "        vertical-align: middle;\n",
       "    }\n",
       "\n",
       "    .dataframe tbody tr th {\n",
       "        vertical-align: top;\n",
       "    }\n",
       "\n",
       "    .dataframe thead th {\n",
       "        text-align: right;\n",
       "    }\n",
       "</style>\n",
       "<table border=\"1\" class=\"dataframe\">\n",
       "  <thead>\n",
       "    <tr style=\"text-align: right;\">\n",
       "      <th></th>\n",
       "      <th>columns</th>\n",
       "      <th>coef</th>\n",
       "    </tr>\n",
       "  </thead>\n",
       "  <tbody>\n",
       "    <tr>\n",
       "      <th>13</th>\n",
       "      <td>hlthins_priv_wgt</td>\n",
       "      <td>-3.804767e-04</td>\n",
       "    </tr>\n",
       "    <tr>\n",
       "      <th>7</th>\n",
       "      <td>occ_mgmt_sci_art_wgt</td>\n",
       "      <td>-1.768647e-04</td>\n",
       "    </tr>\n",
       "    <tr>\n",
       "      <th>17</th>\n",
       "      <td>male</td>\n",
       "      <td>-3.550282e-06</td>\n",
       "    </tr>\n",
       "    <tr>\n",
       "      <th>2</th>\n",
       "      <td>empl_military_wgt</td>\n",
       "      <td>-6.181807e-07</td>\n",
       "    </tr>\n",
       "    <tr>\n",
       "      <th>12</th>\n",
       "      <td>hh_med_income_wgt</td>\n",
       "      <td>4.673210e-09</td>\n",
       "    </tr>\n",
       "    <tr>\n",
       "      <th>18</th>\n",
       "      <td>female</td>\n",
       "      <td>1.278738e-08</td>\n",
       "    </tr>\n",
       "    <tr>\n",
       "      <th>20</th>\n",
       "      <td>hisprep</td>\n",
       "      <td>7.938724e-07</td>\n",
       "    </tr>\n",
       "    <tr>\n",
       "      <th>22</th>\n",
       "      <td>hispoth</td>\n",
       "      <td>2.195326e-06</td>\n",
       "    </tr>\n",
       "    <tr>\n",
       "      <th>21</th>\n",
       "      <td>hispdcl</td>\n",
       "      <td>1.976852e-05</td>\n",
       "    </tr>\n",
       "    <tr>\n",
       "      <th>16</th>\n",
       "      <td>dcl</td>\n",
       "      <td>2.141848e-05</td>\n",
       "    </tr>\n",
       "    <tr>\n",
       "      <th>5</th>\n",
       "      <td>parents_work_under6_wgt</td>\n",
       "      <td>2.638104e-05</td>\n",
       "    </tr>\n",
       "    <tr>\n",
       "      <th>1</th>\n",
       "      <td>unemployed_wgt</td>\n",
       "      <td>3.280930e-05</td>\n",
       "    </tr>\n",
       "    <tr>\n",
       "      <th>9</th>\n",
       "      <td>occ_sales_gen_office_wgt</td>\n",
       "      <td>3.339041e-05</td>\n",
       "    </tr>\n",
       "    <tr>\n",
       "      <th>6</th>\n",
       "      <td>parents_work_0617_wgt</td>\n",
       "      <td>4.880033e-05</td>\n",
       "    </tr>\n",
       "    <tr>\n",
       "      <th>19</th>\n",
       "      <td>hispdem</td>\n",
       "      <td>6.150025e-05</td>\n",
       "    </tr>\n",
       "    <tr>\n",
       "      <th>10</th>\n",
       "      <td>occ_constr_maintc_wgt</td>\n",
       "      <td>7.078780e-05</td>\n",
       "    </tr>\n",
       "    <tr>\n",
       "      <th>3</th>\n",
       "      <td>not_inlaborforce_wgt</td>\n",
       "      <td>1.145450e-04</td>\n",
       "    </tr>\n",
       "    <tr>\n",
       "      <th>4</th>\n",
       "      <td>working_women_wgt</td>\n",
       "      <td>1.213837e-04</td>\n",
       "    </tr>\n",
       "    <tr>\n",
       "      <th>11</th>\n",
       "      <td>occ_manuf_transpo_wgt</td>\n",
       "      <td>1.576675e-04</td>\n",
       "    </tr>\n",
       "    <tr>\n",
       "      <th>8</th>\n",
       "      <td>occ_service_sector_wgt</td>\n",
       "      <td>1.880222e-04</td>\n",
       "    </tr>\n",
       "    <tr>\n",
       "      <th>15</th>\n",
       "      <td>hlthins_none_wgt</td>\n",
       "      <td>2.725902e-04</td>\n",
       "    </tr>\n",
       "    <tr>\n",
       "      <th>0</th>\n",
       "      <td>employed_wgt</td>\n",
       "      <td>2.730628e-04</td>\n",
       "    </tr>\n",
       "    <tr>\n",
       "      <th>14</th>\n",
       "      <td>hlthins_public_wgt</td>\n",
       "      <td>5.590739e-04</td>\n",
       "    </tr>\n",
       "  </tbody>\n",
       "</table>\n",
       "</div>"
      ],
      "text/plain": [
       "                     columns          coef\n",
       "13          hlthins_priv_wgt -3.804767e-04\n",
       "7       occ_mgmt_sci_art_wgt -1.768647e-04\n",
       "17                      male -3.550282e-06\n",
       "2          empl_military_wgt -6.181807e-07\n",
       "12         hh_med_income_wgt  4.673210e-09\n",
       "18                    female  1.278738e-08\n",
       "20                   hisprep  7.938724e-07\n",
       "22                   hispoth  2.195326e-06\n",
       "21                   hispdcl  1.976852e-05\n",
       "16                       dcl  2.141848e-05\n",
       "5    parents_work_under6_wgt  2.638104e-05\n",
       "1             unemployed_wgt  3.280930e-05\n",
       "9   occ_sales_gen_office_wgt  3.339041e-05\n",
       "6      parents_work_0617_wgt  4.880033e-05\n",
       "19                   hispdem  6.150025e-05\n",
       "10     occ_constr_maintc_wgt  7.078780e-05\n",
       "3       not_inlaborforce_wgt  1.145450e-04\n",
       "4          working_women_wgt  1.213837e-04\n",
       "11     occ_manuf_transpo_wgt  1.576675e-04\n",
       "8     occ_service_sector_wgt  1.880222e-04\n",
       "15          hlthins_none_wgt  2.725902e-04\n",
       "0               employed_wgt  2.730628e-04\n",
       "14        hlthins_public_wgt  5.590739e-04"
      ]
     },
     "execution_count": 395,
     "metadata": {},
     "output_type": "execute_result"
    }
   ],
   "source": [
    "viz = logreg_coef.sort_values('coef')\n",
    "viz"
   ]
  },
  {
   "cell_type": "code",
   "execution_count": 385,
   "metadata": {},
   "outputs": [
    {
     "data": {
      "text/plain": [
       "['hlthins_priv_wgt',\n",
       " 'occ_mgmt_sci_art_wgt',\n",
       " 'male',\n",
       " 'empl_military_wgt',\n",
       " 'hh_med_income_wgt',\n",
       " 'female',\n",
       " 'hisprep',\n",
       " 'hispoth',\n",
       " 'hispdcl',\n",
       " 'dcl',\n",
       " 'parents_work_under6_wgt',\n",
       " 'unemployed_wgt',\n",
       " 'occ_sales_gen_office_wgt',\n",
       " 'parents_work_0617_wgt',\n",
       " 'hispdem',\n",
       " 'occ_constr_maintc_wgt',\n",
       " 'not_inlaborforce_wgt',\n",
       " 'working_women_wgt',\n",
       " 'occ_manuf_transpo_wgt',\n",
       " 'occ_service_sector_wgt',\n",
       " 'hlthins_none_wgt',\n",
       " 'employed_wgt',\n",
       " 'hlthins_public_wgt']"
      ]
     },
     "execution_count": 385,
     "metadata": {},
     "output_type": "execute_result"
    }
   ],
   "source": [
    "viz['columns'].tolist()"
   ]
  },
  {
   "cell_type": "code",
   "execution_count": 401,
   "metadata": {},
   "outputs": [],
   "source": [
    "viz['features'] = ['private health ins',\n",
    "                   'occup: management',\n",
    "                   'male',\n",
    "                   'empl: military',\n",
    "                   'household median income',\n",
    "                   'female',\n",
    "                   'Hispanic GOP registered',\n",
    "                   'Hispanic Other registered',\n",
    "                   'Hispanic no party affil',\n",
    "                   'No party affiliation',\n",
    "                   'Both parents work, children under 6',\n",
    "                   'Unemployed',\n",
    "                   'occup: Sales, Office',\n",
    "                   'Both parents work, children 6-17 yo',\n",
    "                   'Hispanic DEM registered',\n",
    "                   'occup: construction',\n",
    "                   'not in laborforce',\n",
    "                   'working women',\n",
    "                   'occup: transport',\n",
    "                   'occup: service sector',\n",
    "                   'no health ins',\n",
    "                   'employed',\n",
    "                   'public health ins']\n"
   ]
  },
  {
   "cell_type": "code",
   "execution_count": null,
   "metadata": {},
   "outputs": [],
   "source": []
  },
  {
   "cell_type": "code",
   "execution_count": 402,
   "metadata": {},
   "outputs": [
    {
     "data": {
      "text/html": [
       "<div>\n",
       "<style scoped>\n",
       "    .dataframe tbody tr th:only-of-type {\n",
       "        vertical-align: middle;\n",
       "    }\n",
       "\n",
       "    .dataframe tbody tr th {\n",
       "        vertical-align: top;\n",
       "    }\n",
       "\n",
       "    .dataframe thead th {\n",
       "        text-align: right;\n",
       "    }\n",
       "</style>\n",
       "<table border=\"1\" class=\"dataframe\">\n",
       "  <thead>\n",
       "    <tr style=\"text-align: right;\">\n",
       "      <th></th>\n",
       "      <th>columns</th>\n",
       "      <th>coef</th>\n",
       "      <th>features</th>\n",
       "    </tr>\n",
       "  </thead>\n",
       "  <tbody>\n",
       "    <tr>\n",
       "      <th>13</th>\n",
       "      <td>hlthins_priv_wgt</td>\n",
       "      <td>-3.804767e-04</td>\n",
       "      <td>private health ins</td>\n",
       "    </tr>\n",
       "    <tr>\n",
       "      <th>7</th>\n",
       "      <td>occ_mgmt_sci_art_wgt</td>\n",
       "      <td>-1.768647e-04</td>\n",
       "      <td>occup: management</td>\n",
       "    </tr>\n",
       "    <tr>\n",
       "      <th>17</th>\n",
       "      <td>male</td>\n",
       "      <td>-3.550282e-06</td>\n",
       "      <td>male</td>\n",
       "    </tr>\n",
       "    <tr>\n",
       "      <th>2</th>\n",
       "      <td>empl_military_wgt</td>\n",
       "      <td>-6.181807e-07</td>\n",
       "      <td>empl: military</td>\n",
       "    </tr>\n",
       "    <tr>\n",
       "      <th>12</th>\n",
       "      <td>hh_med_income_wgt</td>\n",
       "      <td>4.673210e-09</td>\n",
       "      <td>household median income</td>\n",
       "    </tr>\n",
       "    <tr>\n",
       "      <th>18</th>\n",
       "      <td>female</td>\n",
       "      <td>1.278738e-08</td>\n",
       "      <td>female</td>\n",
       "    </tr>\n",
       "    <tr>\n",
       "      <th>20</th>\n",
       "      <td>hisprep</td>\n",
       "      <td>7.938724e-07</td>\n",
       "      <td>Hispanic GOP registered</td>\n",
       "    </tr>\n",
       "    <tr>\n",
       "      <th>22</th>\n",
       "      <td>hispoth</td>\n",
       "      <td>2.195326e-06</td>\n",
       "      <td>Hispanic Other registered</td>\n",
       "    </tr>\n",
       "    <tr>\n",
       "      <th>21</th>\n",
       "      <td>hispdcl</td>\n",
       "      <td>1.976852e-05</td>\n",
       "      <td>Hispanic no party affil</td>\n",
       "    </tr>\n",
       "    <tr>\n",
       "      <th>16</th>\n",
       "      <td>dcl</td>\n",
       "      <td>2.141848e-05</td>\n",
       "      <td>No party affiliation</td>\n",
       "    </tr>\n",
       "    <tr>\n",
       "      <th>5</th>\n",
       "      <td>parents_work_under6_wgt</td>\n",
       "      <td>2.638104e-05</td>\n",
       "      <td>Both parents work, children under 6</td>\n",
       "    </tr>\n",
       "    <tr>\n",
       "      <th>1</th>\n",
       "      <td>unemployed_wgt</td>\n",
       "      <td>3.280930e-05</td>\n",
       "      <td>Unemployed</td>\n",
       "    </tr>\n",
       "    <tr>\n",
       "      <th>9</th>\n",
       "      <td>occ_sales_gen_office_wgt</td>\n",
       "      <td>3.339041e-05</td>\n",
       "      <td>occup: Sales, Office</td>\n",
       "    </tr>\n",
       "    <tr>\n",
       "      <th>6</th>\n",
       "      <td>parents_work_0617_wgt</td>\n",
       "      <td>4.880033e-05</td>\n",
       "      <td>Both parents work, children 6-17 yo</td>\n",
       "    </tr>\n",
       "    <tr>\n",
       "      <th>19</th>\n",
       "      <td>hispdem</td>\n",
       "      <td>6.150025e-05</td>\n",
       "      <td>Hispanic DEM registered</td>\n",
       "    </tr>\n",
       "    <tr>\n",
       "      <th>10</th>\n",
       "      <td>occ_constr_maintc_wgt</td>\n",
       "      <td>7.078780e-05</td>\n",
       "      <td>occup: construction</td>\n",
       "    </tr>\n",
       "    <tr>\n",
       "      <th>3</th>\n",
       "      <td>not_inlaborforce_wgt</td>\n",
       "      <td>1.145450e-04</td>\n",
       "      <td>not in laborforce</td>\n",
       "    </tr>\n",
       "    <tr>\n",
       "      <th>4</th>\n",
       "      <td>working_women_wgt</td>\n",
       "      <td>1.213837e-04</td>\n",
       "      <td>working women</td>\n",
       "    </tr>\n",
       "    <tr>\n",
       "      <th>11</th>\n",
       "      <td>occ_manuf_transpo_wgt</td>\n",
       "      <td>1.576675e-04</td>\n",
       "      <td>occup: transport</td>\n",
       "    </tr>\n",
       "    <tr>\n",
       "      <th>8</th>\n",
       "      <td>occ_service_sector_wgt</td>\n",
       "      <td>1.880222e-04</td>\n",
       "      <td>occup: service sector</td>\n",
       "    </tr>\n",
       "    <tr>\n",
       "      <th>15</th>\n",
       "      <td>hlthins_none_wgt</td>\n",
       "      <td>2.725902e-04</td>\n",
       "      <td>no health ins</td>\n",
       "    </tr>\n",
       "    <tr>\n",
       "      <th>0</th>\n",
       "      <td>employed_wgt</td>\n",
       "      <td>2.730628e-04</td>\n",
       "      <td>employed</td>\n",
       "    </tr>\n",
       "    <tr>\n",
       "      <th>14</th>\n",
       "      <td>hlthins_public_wgt</td>\n",
       "      <td>5.590739e-04</td>\n",
       "      <td>public health ins</td>\n",
       "    </tr>\n",
       "  </tbody>\n",
       "</table>\n",
       "</div>"
      ],
      "text/plain": [
       "                     columns          coef  \\\n",
       "13          hlthins_priv_wgt -3.804767e-04   \n",
       "7       occ_mgmt_sci_art_wgt -1.768647e-04   \n",
       "17                      male -3.550282e-06   \n",
       "2          empl_military_wgt -6.181807e-07   \n",
       "12         hh_med_income_wgt  4.673210e-09   \n",
       "18                    female  1.278738e-08   \n",
       "20                   hisprep  7.938724e-07   \n",
       "22                   hispoth  2.195326e-06   \n",
       "21                   hispdcl  1.976852e-05   \n",
       "16                       dcl  2.141848e-05   \n",
       "5    parents_work_under6_wgt  2.638104e-05   \n",
       "1             unemployed_wgt  3.280930e-05   \n",
       "9   occ_sales_gen_office_wgt  3.339041e-05   \n",
       "6      parents_work_0617_wgt  4.880033e-05   \n",
       "19                   hispdem  6.150025e-05   \n",
       "10     occ_constr_maintc_wgt  7.078780e-05   \n",
       "3       not_inlaborforce_wgt  1.145450e-04   \n",
       "4          working_women_wgt  1.213837e-04   \n",
       "11     occ_manuf_transpo_wgt  1.576675e-04   \n",
       "8     occ_service_sector_wgt  1.880222e-04   \n",
       "15          hlthins_none_wgt  2.725902e-04   \n",
       "0               employed_wgt  2.730628e-04   \n",
       "14        hlthins_public_wgt  5.590739e-04   \n",
       "\n",
       "                               features  \n",
       "13                   private health ins  \n",
       "7                     occup: management  \n",
       "17                                 male  \n",
       "2                        empl: military  \n",
       "12              household median income  \n",
       "18                               female  \n",
       "20              Hispanic GOP registered  \n",
       "22            Hispanic Other registered  \n",
       "21              Hispanic no party affil  \n",
       "16                 No party affiliation  \n",
       "5   Both parents work, children under 6  \n",
       "1                            Unemployed  \n",
       "9                  occup: Sales, Office  \n",
       "6   Both parents work, children 6-17 yo  \n",
       "19              Hispanic DEM registered  \n",
       "10                  occup: construction  \n",
       "3                     not in laborforce  \n",
       "4                         working women  \n",
       "11                     occup: transport  \n",
       "8                 occup: service sector  \n",
       "15                        no health ins  \n",
       "0                              employed  \n",
       "14                    public health ins  "
      ]
     },
     "execution_count": 402,
     "metadata": {},
     "output_type": "execute_result"
    }
   ],
   "source": [
    "viz"
   ]
  },
  {
   "cell_type": "code",
   "execution_count": 404,
   "metadata": {},
   "outputs": [],
   "source": [
    "viz.drop(columns='columns', inplace=True)"
   ]
  },
  {
   "cell_type": "code",
   "execution_count": 406,
   "metadata": {},
   "outputs": [],
   "source": [
    "viz.rename(columns={'coef': 'importance'}, inplace=True)"
   ]
  },
  {
   "cell_type": "code",
   "execution_count": 409,
   "metadata": {},
   "outputs": [],
   "source": [
    "vizviz = viz[['features', 'importance']].loc[viz['importance'] > 4.880033e-05]"
   ]
  },
  {
   "cell_type": "code",
   "execution_count": 411,
   "metadata": {},
   "outputs": [
    {
     "data": {
      "text/html": [
       "<div>\n",
       "<style scoped>\n",
       "    .dataframe tbody tr th:only-of-type {\n",
       "        vertical-align: middle;\n",
       "    }\n",
       "\n",
       "    .dataframe tbody tr th {\n",
       "        vertical-align: top;\n",
       "    }\n",
       "\n",
       "    .dataframe thead th {\n",
       "        text-align: right;\n",
       "    }\n",
       "</style>\n",
       "<table border=\"1\" class=\"dataframe\">\n",
       "  <thead>\n",
       "    <tr style=\"text-align: right;\">\n",
       "      <th></th>\n",
       "      <th>features</th>\n",
       "      <th>importance</th>\n",
       "    </tr>\n",
       "  </thead>\n",
       "  <tbody>\n",
       "    <tr>\n",
       "      <th>6</th>\n",
       "      <td>Both parents work, children 6-17 yo</td>\n",
       "      <td>0.000049</td>\n",
       "    </tr>\n",
       "    <tr>\n",
       "      <th>19</th>\n",
       "      <td>Hispanic DEM registered</td>\n",
       "      <td>0.000062</td>\n",
       "    </tr>\n",
       "    <tr>\n",
       "      <th>10</th>\n",
       "      <td>occup: construction</td>\n",
       "      <td>0.000071</td>\n",
       "    </tr>\n",
       "    <tr>\n",
       "      <th>3</th>\n",
       "      <td>not in laborforce</td>\n",
       "      <td>0.000115</td>\n",
       "    </tr>\n",
       "    <tr>\n",
       "      <th>4</th>\n",
       "      <td>working women</td>\n",
       "      <td>0.000121</td>\n",
       "    </tr>\n",
       "    <tr>\n",
       "      <th>11</th>\n",
       "      <td>occup: transport</td>\n",
       "      <td>0.000158</td>\n",
       "    </tr>\n",
       "    <tr>\n",
       "      <th>8</th>\n",
       "      <td>occup: service sector</td>\n",
       "      <td>0.000188</td>\n",
       "    </tr>\n",
       "    <tr>\n",
       "      <th>15</th>\n",
       "      <td>no health ins</td>\n",
       "      <td>0.000273</td>\n",
       "    </tr>\n",
       "    <tr>\n",
       "      <th>0</th>\n",
       "      <td>employed</td>\n",
       "      <td>0.000273</td>\n",
       "    </tr>\n",
       "    <tr>\n",
       "      <th>14</th>\n",
       "      <td>public health ins</td>\n",
       "      <td>0.000559</td>\n",
       "    </tr>\n",
       "  </tbody>\n",
       "</table>\n",
       "</div>"
      ],
      "text/plain": [
       "                               features  importance\n",
       "6   Both parents work, children 6-17 yo    0.000049\n",
       "19              Hispanic DEM registered    0.000062\n",
       "10                  occup: construction    0.000071\n",
       "3                     not in laborforce    0.000115\n",
       "4                         working women    0.000121\n",
       "11                     occup: transport    0.000158\n",
       "8                 occup: service sector    0.000188\n",
       "15                        no health ins    0.000273\n",
       "0                              employed    0.000273\n",
       "14                    public health ins    0.000559"
      ]
     },
     "execution_count": 411,
     "metadata": {},
     "output_type": "execute_result"
    }
   ],
   "source": [
    "vizviz.sort_values('importance')"
   ]
  },
  {
   "cell_type": "code",
   "execution_count": 412,
   "metadata": {},
   "outputs": [
    {
     "data": {
      "text/plain": [
       "Text(0, 0.5, 'feature')"
      ]
     },
     "execution_count": 412,
     "metadata": {},
     "output_type": "execute_result"
    },
    {
     "data": {
      "image/png": "[encoded data removed]",
      "text/plain": [
       "<Figure size 432x288 with 1 Axes>"
      ]
     },
     "metadata": {},
     "output_type": "display_data"
    }
   ],
   "source": [
    "vizviz.plot(kind='barh', x='features', y='importance').legend(\n",
    "    loc='best', ncol=3)\n",
    "plt.title(\"Relative importance of economic factors and Latinx\")\n",
    "plt.xlabel(\"relative importance\")\n",
    "plt.ylabel(\"feature\")\n",
    "# plt.figure(figsize=(25, 10))\n",
    "# plt.yticks(viz['columns'].tolist());"
   ]
  },
  {
   "cell_type": "code",
   "execution_count": 244,
   "metadata": {},
   "outputs": [],
   "source": [
    "# model evaluation scores are below."
   ]
  },
  {
   "cell_type": "markdown",
   "metadata": {},
   "source": [
    "#### Conclusions:\n",
    "1. overfits\n",
    "2. lower model scores (approx 60%) vs voting data only (approx 90%) (party affiliation, gender, etc.)."
   ]
  },
  {
   "cell_type": "code",
   "execution_count": null,
   "metadata": {},
   "outputs": [],
   "source": []
  },
  {
   "cell_type": "code",
   "execution_count": null,
   "metadata": {},
   "outputs": [],
   "source": []
  },
  {
   "cell_type": "markdown",
   "metadata": {},
   "source": [
    "#### scale the data because they are not on the same scale:\n",
    "1. `hh_med_income_wgt` is in dollars\n",
    "2. other fields are expressed as population numbers, however may be of different scales. best to standardize the scale of the data"
   ]
  },
  {
   "cell_type": "code",
   "execution_count": 245,
   "metadata": {},
   "outputs": [],
   "source": [
    "ss = StandardScaler()"
   ]
  },
  {
   "cell_type": "code",
   "execution_count": 246,
   "metadata": {},
   "outputs": [],
   "source": [
    "#estimators\n",
    "logreg2 = LogisticRegression()\n",
    "dtree = DecisionTreeClassifier()\n",
    "hist = HistGradientBoostingClassifier()"
   ]
  },
  {
   "cell_type": "code",
   "execution_count": 247,
   "metadata": {},
   "outputs": [
    {
     "name": "stdout",
     "output_type": "stream",
     "text": [
      "The Score on the train data is: 0.845\n",
      "The Score on the test data is: 0.8532934131736527\n",
      "The Score on the train data is: 1.0\n",
      "The Score on the test data is: 0.7365269461077845\n",
      "The Score on the train data is: 0.999\n",
      "The Score on the test data is: 0.8502994011976048\n"
     ]
    }
   ],
   "source": [
    "ss_logreg2 = make_pipeline(ss, logreg2)\n",
    "ss_dtree = make_pipeline(ss, dtree)\n",
    "ss_hist = make_pipeline(ss, hist)\n",
    "for est in (ss_logreg2, ss_dtree, ss_hist):\n",
    "    est.fit(X_train, y_train)\n",
    "    print(f'The Score on the train data is: {est.score(X_train, y_train)}')\n",
    "    print(f'The Score on the test data is: {est.score(X_test, y_test)}')\n"
   ]
  },
  {
   "cell_type": "markdown",
   "metadata": {},
   "source": [
    "**OBSERVATIONS**\n",
    "- Gradient Boost also has decent results on test data:  85%\n",
    "- For LogReg, scaling the data greatly improved the scores, from approx 65% to 85%"
   ]
  },
  {
   "cell_type": "code",
   "execution_count": null,
   "metadata": {},
   "outputs": [],
   "source": []
  },
  {
   "cell_type": "markdown",
   "metadata": {},
   "source": [
    "### Further tuning via feature selection (Polynomial Features, Select K Best, Decision Tree)"
   ]
  },
  {
   "cell_type": "markdown",
   "metadata": {},
   "source": [
    "#### Polynomial features with logistic regression\n",
    "**RESULT** Overfits the data, by a lot"
   ]
  },
  {
   "cell_type": "code",
   "execution_count": 248,
   "metadata": {},
   "outputs": [],
   "source": [
    "pf = PolynomialFeatures()\n",
    "logreg3 = LogisticRegression(max_iter=10_000)"
   ]
  },
  {
   "cell_type": "code",
   "execution_count": 249,
   "metadata": {},
   "outputs": [
    {
     "name": "stdout",
     "output_type": "stream",
     "text": [
      "The Score on the train data is: 0.999\n",
      "The Score on the test data is: 0.8502994011976048\n"
     ]
    }
   ],
   "source": [
    "pf_logreg3 = make_pipeline(ss, pf, logreg3)\n",
    "\n",
    "pf_logreg3.fit(X_train, y_train)\n",
    "print(f'The Score on the train data is: {est.score(X_train, y_train)}')\n",
    "print(f'The Score on the test data is: {est.score(X_test, y_test)}')"
   ]
  },
  {
   "cell_type": "code",
   "execution_count": 253,
   "metadata": {},
   "outputs": [],
   "source": [
    "# DataFrame of coefficients\n",
    "# pd.DataFrame(list(zip(X.columns, logreg3.coef_)))"
   ]
  },
  {
   "cell_type": "markdown",
   "metadata": {},
   "source": [
    "#### Select K best features\n",
    "Grid Search over a few options"
   ]
  },
  {
   "cell_type": "code",
   "execution_count": 346,
   "metadata": {},
   "outputs": [],
   "source": [
    "ss4 = StandardScaler()\n",
    "pf4 = PolynomialFeatures()\n",
    "select = SelectKBest()\n",
    "logreg4 = LogisticRegression()"
   ]
  },
  {
   "cell_type": "code",
   "execution_count": 347,
   "metadata": {},
   "outputs": [],
   "source": [
    "pf_logreg4 = make_pipeline(ss4, pf4, select, logreg4)"
   ]
  },
  {
   "cell_type": "code",
   "execution_count": 348,
   "metadata": {},
   "outputs": [],
   "source": [
    "params = {\n",
    "    'selectkbest__k': range(5,10,15),\n",
    "    'logisticregression__penalty': ['none', 'l2'],\n",
    "    'logisticregression__max_iter':[100000]\n",
    "}"
   ]
  },
  {
   "cell_type": "code",
   "execution_count": 349,
   "metadata": {},
   "outputs": [
    {
     "name": "stderr",
     "output_type": "stream",
     "text": [
      "/Users/nevochka/opt/anaconda3/lib/python3.8/site-packages/sklearn/feature_selection/_univariate_selection.py:114: UserWarning: Features [0] are constant.\n",
      "  warnings.warn(\"Features %s are constant.\" % constant_features_idx,\n",
      "/Users/nevochka/opt/anaconda3/lib/python3.8/site-packages/sklearn/feature_selection/_univariate_selection.py:116: RuntimeWarning: invalid value encountered in true_divide\n",
      "  f = msb / msw\n",
      "/Users/nevochka/opt/anaconda3/lib/python3.8/site-packages/sklearn/feature_selection/_univariate_selection.py:114: UserWarning: Features [0] are constant.\n",
      "  warnings.warn(\"Features %s are constant.\" % constant_features_idx,\n",
      "/Users/nevochka/opt/anaconda3/lib/python3.8/site-packages/sklearn/feature_selection/_univariate_selection.py:116: RuntimeWarning: invalid value encountered in true_divide\n",
      "  f = msb / msw\n",
      "/Users/nevochka/opt/anaconda3/lib/python3.8/site-packages/sklearn/feature_selection/_univariate_selection.py:114: UserWarning: Features [0] are constant.\n",
      "  warnings.warn(\"Features %s are constant.\" % constant_features_idx,\n",
      "/Users/nevochka/opt/anaconda3/lib/python3.8/site-packages/sklearn/feature_selection/_univariate_selection.py:116: RuntimeWarning: invalid value encountered in true_divide\n",
      "  f = msb / msw\n",
      "/Users/nevochka/opt/anaconda3/lib/python3.8/site-packages/sklearn/feature_selection/_univariate_selection.py:114: UserWarning: Features [0] are constant.\n",
      "  warnings.warn(\"Features %s are constant.\" % constant_features_idx,\n",
      "/Users/nevochka/opt/anaconda3/lib/python3.8/site-packages/sklearn/feature_selection/_univariate_selection.py:116: RuntimeWarning: invalid value encountered in true_divide\n",
      "  f = msb / msw\n",
      "/Users/nevochka/opt/anaconda3/lib/python3.8/site-packages/sklearn/feature_selection/_univariate_selection.py:114: UserWarning: Features [0] are constant.\n",
      "  warnings.warn(\"Features %s are constant.\" % constant_features_idx,\n",
      "/Users/nevochka/opt/anaconda3/lib/python3.8/site-packages/sklearn/feature_selection/_univariate_selection.py:116: RuntimeWarning: invalid value encountered in true_divide\n",
      "  f = msb / msw\n",
      "/Users/nevochka/opt/anaconda3/lib/python3.8/site-packages/sklearn/feature_selection/_univariate_selection.py:114: UserWarning: Features [0] are constant.\n",
      "  warnings.warn(\"Features %s are constant.\" % constant_features_idx,\n",
      "/Users/nevochka/opt/anaconda3/lib/python3.8/site-packages/sklearn/feature_selection/_univariate_selection.py:116: RuntimeWarning: invalid value encountered in true_divide\n",
      "  f = msb / msw\n",
      "/Users/nevochka/opt/anaconda3/lib/python3.8/site-packages/sklearn/feature_selection/_univariate_selection.py:114: UserWarning: Features [0] are constant.\n",
      "  warnings.warn(\"Features %s are constant.\" % constant_features_idx,\n",
      "/Users/nevochka/opt/anaconda3/lib/python3.8/site-packages/sklearn/feature_selection/_univariate_selection.py:116: RuntimeWarning: invalid value encountered in true_divide\n",
      "  f = msb / msw\n",
      "/Users/nevochka/opt/anaconda3/lib/python3.8/site-packages/sklearn/feature_selection/_univariate_selection.py:114: UserWarning: Features [0] are constant.\n",
      "  warnings.warn(\"Features %s are constant.\" % constant_features_idx,\n",
      "/Users/nevochka/opt/anaconda3/lib/python3.8/site-packages/sklearn/feature_selection/_univariate_selection.py:116: RuntimeWarning: invalid value encountered in true_divide\n",
      "  f = msb / msw\n",
      "/Users/nevochka/opt/anaconda3/lib/python3.8/site-packages/sklearn/feature_selection/_univariate_selection.py:114: UserWarning: Features [0] are constant.\n",
      "  warnings.warn(\"Features %s are constant.\" % constant_features_idx,\n",
      "/Users/nevochka/opt/anaconda3/lib/python3.8/site-packages/sklearn/feature_selection/_univariate_selection.py:116: RuntimeWarning: invalid value encountered in true_divide\n",
      "  f = msb / msw\n",
      "/Users/nevochka/opt/anaconda3/lib/python3.8/site-packages/sklearn/feature_selection/_univariate_selection.py:114: UserWarning: Features [0] are constant.\n",
      "  warnings.warn(\"Features %s are constant.\" % constant_features_idx,\n",
      "/Users/nevochka/opt/anaconda3/lib/python3.8/site-packages/sklearn/feature_selection/_univariate_selection.py:116: RuntimeWarning: invalid value encountered in true_divide\n",
      "  f = msb / msw\n",
      "/Users/nevochka/opt/anaconda3/lib/python3.8/site-packages/sklearn/feature_selection/_univariate_selection.py:114: UserWarning: Features [0] are constant.\n",
      "  warnings.warn(\"Features %s are constant.\" % constant_features_idx,\n",
      "/Users/nevochka/opt/anaconda3/lib/python3.8/site-packages/sklearn/feature_selection/_univariate_selection.py:116: RuntimeWarning: invalid value encountered in true_divide\n",
      "  f = msb / msw\n"
     ]
    },
    {
     "data": {
      "text/plain": [
       "GridSearchCV(estimator=Pipeline(steps=[('standardscaler', StandardScaler()),\n",
       "                                       ('polynomialfeatures',\n",
       "                                        PolynomialFeatures()),\n",
       "                                       ('selectkbest', SelectKBest()),\n",
       "                                       ('logisticregression',\n",
       "                                        LogisticRegression())]),\n",
       "             param_grid={'logisticregression__max_iter': [100000],\n",
       "                         'logisticregression__penalty': ['none', 'l2'],\n",
       "                         'selectkbest__k': range(5, 10, 15)})"
      ]
     },
     "execution_count": 349,
     "metadata": {},
     "output_type": "execute_result"
    }
   ],
   "source": [
    "gs = GridSearchCV(pf_logreg4, param_grid=params)\n",
    "gs.fit(X_train, y_train)\n",
    "\n",
    "#returns a warning regarding (\"Features %s are constant.\")\n",
    "# very little data in X_train['empl_military_wgt'] ... OK to ignore"
   ]
  },
  {
   "cell_type": "code",
   "execution_count": 350,
   "metadata": {},
   "outputs": [
    {
     "data": {
      "text/plain": [
       "0.0      828\n",
       "10.0      14\n",
       "4.0       12\n",
       "2.0       11\n",
       "5.0       11\n",
       "16.0       9\n",
       "6.0        9\n",
       "3.0        8\n",
       "14.0       8\n",
       "13.0       7\n",
       "17.0       7\n",
       "9.0        7\n",
       "1.0        6\n",
       "8.0        6\n",
       "7.0        5\n",
       "12.0       5\n",
       "29.0       4\n",
       "18.0       4\n",
       "33.0       4\n",
       "15.0       4\n",
       "30.0       3\n",
       "25.0       3\n",
       "57.0       3\n",
       "44.0       3\n",
       "24.0       3\n",
       "19.0       2\n",
       "26.0       2\n",
       "49.0       2\n",
       "116.0      2\n",
       "27.0       1\n",
       "35.0       1\n",
       "11.0       1\n",
       "40.0       1\n",
       "20.0       1\n",
       "41.0       1\n",
       "36.0       1\n",
       "32.0       1\n",
       "Name: empl_military_wgt, dtype: int64"
      ]
     },
     "execution_count": 350,
     "metadata": {},
     "output_type": "execute_result"
    }
   ],
   "source": [
    "X_train['empl_military_wgt'].value_counts()"
   ]
  },
  {
   "cell_type": "code",
   "execution_count": 351,
   "metadata": {},
   "outputs": [
    {
     "name": "stdout",
     "output_type": "stream",
     "text": [
      "Train Best 0.716\n",
      "Test Score 0.7335329341317365\n",
      "{'logisticregression__max_iter': 100000, 'logisticregression__penalty': 'none', 'selectkbest__k': 5}\n",
      "Pipeline(steps=[('standardscaler', StandardScaler()),\n",
      "                ('polynomialfeatures', PolynomialFeatures()),\n",
      "                ('selectkbest', SelectKBest(k=5)),\n",
      "                ('logisticregression',\n",
      "                 LogisticRegression(max_iter=100000, penalty='none'))])\n"
     ]
    }
   ],
   "source": [
    "print('Train Best', gs.best_score_)\n",
    "print('Test Score', gs.score(X_test, y_test))\n",
    "print(gs.best_params_)\n",
    "print(gs.best_estimator_)\n"
   ]
  },
  {
   "cell_type": "code",
   "execution_count": null,
   "metadata": {},
   "outputs": [],
   "source": []
  },
  {
   "cell_type": "code",
   "execution_count": null,
   "metadata": {},
   "outputs": [],
   "source": []
  },
  {
   "cell_type": "code",
   "execution_count": null,
   "metadata": {},
   "outputs": [],
   "source": []
  },
  {
   "cell_type": "code",
   "execution_count": null,
   "metadata": {},
   "outputs": [],
   "source": []
  },
  {
   "cell_type": "markdown",
   "metadata": {},
   "source": [
    "### Decision Tree to highlight important features"
   ]
  },
  {
   "cell_type": "code",
   "execution_count": 358,
   "metadata": {},
   "outputs": [],
   "source": [
    "# Instantiate model with random_state = 42.\n",
    "dtree5 = DecisionTreeClassifier(random_state=42)"
   ]
  },
  {
   "cell_type": "code",
   "execution_count": 359,
   "metadata": {},
   "outputs": [],
   "source": [
    "ss5 = StandardScaler()"
   ]
  },
  {
   "cell_type": "code",
   "execution_count": 366,
   "metadata": {},
   "outputs": [],
   "source": [
    "#scale X\n",
    "X_train_ss5 = ss5.fit_transform(X_train)\n",
    "X_test_ss5 = ss5.transform(X_test)"
   ]
  },
  {
   "cell_type": "code",
   "execution_count": 367,
   "metadata": {},
   "outputs": [
    {
     "data": {
      "text/plain": [
       "DecisionTreeClassifier(random_state=42)"
      ]
     },
     "execution_count": 367,
     "metadata": {},
     "output_type": "execute_result"
    }
   ],
   "source": [
    "dtree5.fit(X_train_ss5, y_train)"
   ]
  },
  {
   "cell_type": "code",
   "execution_count": 371,
   "metadata": {},
   "outputs": [],
   "source": [
    "params = {'max_depth': [2,3,5,7],\n",
    "          'min_samples_split': [5, 10, 15, 20], \n",
    "          'min_samples_leaf': [2,3,4,5,6], \n",
    "          'ccp_alpha': [0, 0.001, 0.01, 0.1, 1, 10]}"
   ]
  },
  {
   "cell_type": "code",
   "execution_count": 373,
   "metadata": {},
   "outputs": [
    {
     "data": {
      "text/plain": [
       "GridSearchCV(estimator=DecisionTreeClassifier(random_state=42),\n",
       "             param_grid={'ccp_alpha': [0, 0.001, 0.01, 0.1, 1, 10],\n",
       "                         'max_depth': [2, 3, 5, 7],\n",
       "                         'min_samples_leaf': [2, 3, 4, 5, 6],\n",
       "                         'min_samples_split': [5, 10, 15, 20]})"
      ]
     },
     "execution_count": 373,
     "metadata": {},
     "output_type": "execute_result"
    }
   ],
   "source": [
    "grid5 = GridSearchCV(dtree5, param_grid=params)\n",
    "grid5.fit(X_train_ss5, y_train)"
   ]
  },
  {
   "cell_type": "code",
   "execution_count": 374,
   "metadata": {},
   "outputs": [
    {
     "data": {
      "text/plain": [
       "{'ccp_alpha': 0.001,\n",
       " 'max_depth': 7,\n",
       " 'min_samples_leaf': 4,\n",
       " 'min_samples_split': 5}"
      ]
     },
     "execution_count": 374,
     "metadata": {},
     "output_type": "execute_result"
    }
   ],
   "source": [
    "grid5.best_params_"
   ]
  },
  {
   "cell_type": "code",
   "execution_count": 268,
   "metadata": {},
   "outputs": [],
   "source": [
    "# # DataFrame of coefficients\n",
    "# pd.DataFrame(list(zip(X.columns, grid5.best_estimator_.coef_)))"
   ]
  },
  {
   "cell_type": "code",
   "execution_count": 269,
   "metadata": {},
   "outputs": [],
   "source": [
    "dtree5best = DecisionTreeClassifier(random_state=42, ccp_alpha=0.001, max_depth=7, min_samples_leaf=4, min_samples_split=5)"
   ]
  },
  {
   "cell_type": "code",
   "execution_count": 375,
   "metadata": {},
   "outputs": [
    {
     "data": {
      "text/plain": [
       "DecisionTreeClassifier(ccp_alpha=0, max_depth=5, min_samples_leaf=3,\n",
       "                       min_samples_split=5, random_state=42)"
      ]
     },
     "execution_count": 375,
     "metadata": {},
     "output_type": "execute_result"
    }
   ],
   "source": [
    "dtree5best.fit(X_train_ss5, y_train)"
   ]
  },
  {
   "cell_type": "code",
   "execution_count": 376,
   "metadata": {},
   "outputs": [
    {
     "data": {
      "text/plain": [
       "array([0.        , 0.00929989, 0.        , 0.        , 0.03572551,\n",
       "       0.04184952, 0.        , 0.        , 0.        , 0.        ,\n",
       "       0.03468657, 0.01998402, 0.50711497, 0.01808109, 0.        ,\n",
       "       0.06610596, 0.00545657, 0.        , 0.        , 0.06666708,\n",
       "       0.10016947, 0.09485934, 0.        ])"
      ]
     },
     "execution_count": 376,
     "metadata": {},
     "output_type": "execute_result"
    }
   ],
   "source": [
    "dtree5best.feature_importances_"
   ]
  },
  {
   "cell_type": "code",
   "execution_count": 377,
   "metadata": {},
   "outputs": [
    {
     "data": {
      "text/html": [
       "<div>\n",
       "<style scoped>\n",
       "    .dataframe tbody tr th:only-of-type {\n",
       "        vertical-align: middle;\n",
       "    }\n",
       "\n",
       "    .dataframe tbody tr th {\n",
       "        vertical-align: top;\n",
       "    }\n",
       "\n",
       "    .dataframe thead th {\n",
       "        text-align: right;\n",
       "    }\n",
       "</style>\n",
       "<table border=\"1\" class=\"dataframe\">\n",
       "  <thead>\n",
       "    <tr style=\"text-align: right;\">\n",
       "      <th></th>\n",
       "      <th>features</th>\n",
       "      <th>importances</th>\n",
       "    </tr>\n",
       "  </thead>\n",
       "  <tbody>\n",
       "    <tr>\n",
       "      <th>0</th>\n",
       "      <td>employed_wgt</td>\n",
       "      <td>0.000000</td>\n",
       "    </tr>\n",
       "    <tr>\n",
       "      <th>18</th>\n",
       "      <td>female</td>\n",
       "      <td>0.000000</td>\n",
       "    </tr>\n",
       "    <tr>\n",
       "      <th>17</th>\n",
       "      <td>male</td>\n",
       "      <td>0.000000</td>\n",
       "    </tr>\n",
       "    <tr>\n",
       "      <th>14</th>\n",
       "      <td>hlthins_public_wgt</td>\n",
       "      <td>0.000000</td>\n",
       "    </tr>\n",
       "    <tr>\n",
       "      <th>9</th>\n",
       "      <td>occ_sales_gen_office_wgt</td>\n",
       "      <td>0.000000</td>\n",
       "    </tr>\n",
       "    <tr>\n",
       "      <th>8</th>\n",
       "      <td>occ_service_sector_wgt</td>\n",
       "      <td>0.000000</td>\n",
       "    </tr>\n",
       "    <tr>\n",
       "      <th>7</th>\n",
       "      <td>occ_mgmt_sci_art_wgt</td>\n",
       "      <td>0.000000</td>\n",
       "    </tr>\n",
       "    <tr>\n",
       "      <th>22</th>\n",
       "      <td>hispoth</td>\n",
       "      <td>0.000000</td>\n",
       "    </tr>\n",
       "    <tr>\n",
       "      <th>3</th>\n",
       "      <td>not_inlaborforce_wgt</td>\n",
       "      <td>0.000000</td>\n",
       "    </tr>\n",
       "    <tr>\n",
       "      <th>2</th>\n",
       "      <td>empl_military_wgt</td>\n",
       "      <td>0.000000</td>\n",
       "    </tr>\n",
       "    <tr>\n",
       "      <th>6</th>\n",
       "      <td>parents_work_0617_wgt</td>\n",
       "      <td>0.000000</td>\n",
       "    </tr>\n",
       "    <tr>\n",
       "      <th>16</th>\n",
       "      <td>dcl</td>\n",
       "      <td>0.005457</td>\n",
       "    </tr>\n",
       "    <tr>\n",
       "      <th>1</th>\n",
       "      <td>unemployed_wgt</td>\n",
       "      <td>0.009300</td>\n",
       "    </tr>\n",
       "    <tr>\n",
       "      <th>13</th>\n",
       "      <td>hlthins_priv_wgt</td>\n",
       "      <td>0.018081</td>\n",
       "    </tr>\n",
       "    <tr>\n",
       "      <th>11</th>\n",
       "      <td>occ_manuf_transpo_wgt</td>\n",
       "      <td>0.019984</td>\n",
       "    </tr>\n",
       "    <tr>\n",
       "      <th>10</th>\n",
       "      <td>occ_constr_maintc_wgt</td>\n",
       "      <td>0.034687</td>\n",
       "    </tr>\n",
       "    <tr>\n",
       "      <th>4</th>\n",
       "      <td>working_women_wgt</td>\n",
       "      <td>0.035726</td>\n",
       "    </tr>\n",
       "    <tr>\n",
       "      <th>5</th>\n",
       "      <td>parents_work_under6_wgt</td>\n",
       "      <td>0.041850</td>\n",
       "    </tr>\n",
       "    <tr>\n",
       "      <th>15</th>\n",
       "      <td>hlthins_none_wgt</td>\n",
       "      <td>0.066106</td>\n",
       "    </tr>\n",
       "    <tr>\n",
       "      <th>19</th>\n",
       "      <td>hispdem</td>\n",
       "      <td>0.066667</td>\n",
       "    </tr>\n",
       "    <tr>\n",
       "      <th>21</th>\n",
       "      <td>hispdcl</td>\n",
       "      <td>0.094859</td>\n",
       "    </tr>\n",
       "    <tr>\n",
       "      <th>20</th>\n",
       "      <td>hisprep</td>\n",
       "      <td>0.100169</td>\n",
       "    </tr>\n",
       "    <tr>\n",
       "      <th>12</th>\n",
       "      <td>hh_med_income_wgt</td>\n",
       "      <td>0.507115</td>\n",
       "    </tr>\n",
       "  </tbody>\n",
       "</table>\n",
       "</div>"
      ],
      "text/plain": [
       "                    features  importances\n",
       "0               employed_wgt     0.000000\n",
       "18                    female     0.000000\n",
       "17                      male     0.000000\n",
       "14        hlthins_public_wgt     0.000000\n",
       "9   occ_sales_gen_office_wgt     0.000000\n",
       "8     occ_service_sector_wgt     0.000000\n",
       "7       occ_mgmt_sci_art_wgt     0.000000\n",
       "22                   hispoth     0.000000\n",
       "3       not_inlaborforce_wgt     0.000000\n",
       "2          empl_military_wgt     0.000000\n",
       "6      parents_work_0617_wgt     0.000000\n",
       "16                       dcl     0.005457\n",
       "1             unemployed_wgt     0.009300\n",
       "13          hlthins_priv_wgt     0.018081\n",
       "11     occ_manuf_transpo_wgt     0.019984\n",
       "10     occ_constr_maintc_wgt     0.034687\n",
       "4          working_women_wgt     0.035726\n",
       "5    parents_work_under6_wgt     0.041850\n",
       "15          hlthins_none_wgt     0.066106\n",
       "19                   hispdem     0.066667\n",
       "21                   hispdcl     0.094859\n",
       "20                   hisprep     0.100169\n",
       "12         hh_med_income_wgt     0.507115"
      ]
     },
     "execution_count": 377,
     "metadata": {},
     "output_type": "execute_result"
    }
   ],
   "source": [
    "viz_dtree5best = pd.DataFrame({'features': X_train.columns,\n",
    "              'importances':dtree5best.feature_importances_}).sort_values('importances')\n",
    "viz_dtree5best"
   ]
  },
  {
   "cell_type": "code",
   "execution_count": 413,
   "metadata": {},
   "outputs": [],
   "source": [
    "vizdtree = viz_dtree5best.loc[viz_dtree5best['importances'] > 0.01]"
   ]
  },
  {
   "cell_type": "code",
   "execution_count": null,
   "metadata": {},
   "outputs": [],
   "source": []
  },
  {
   "cell_type": "code",
   "execution_count": 418,
   "metadata": {},
   "outputs": [
    {
     "data": {
      "text/plain": [
       "Text(0, 0.5, 'feature')"
      ]
     },
     "execution_count": 418,
     "metadata": {},
     "output_type": "execute_result"
    },
    {
     "data": {
      "image/png": "[encoded data removed]",
      "text/plain": [
       "<Figure size 720x432 with 1 Axes>"
      ]
     },
     "metadata": {},
     "output_type": "display_data"
    }
   ],
   "source": [
    "fig, ax = plt.subplots(figsize=(10,6))\n",
    "vizdtree.plot(kind='barh', x='features', y='importances', ax=ax).legend(\n",
    "    loc='best', ncol=3)\n",
    "plt.title(\"Relative importance of economic factors and Latinx (dtree)\")\n",
    "plt.xlabel(\"relative importance\")\n",
    "plt.ylabel(\"feature\")\n",
    "# plt.yticks(viz['columns'].tolist());"
   ]
  },
  {
   "cell_type": "code",
   "execution_count": null,
   "metadata": {},
   "outputs": [],
   "source": []
  },
  {
   "cell_type": "code",
   "execution_count": 273,
   "metadata": {},
   "outputs": [
    {
     "name": "stdout",
     "output_type": "stream",
     "text": [
      "|--- hh_med_income_wgt <= 88656.00\n",
      "|   |--- hlthins_none_wgt <= 220.50\n",
      "|   |   |--- parents_work_under6_wgt <= 140.00\n",
      "|   |   |   |--- hlthins_priv_wgt <= 2927.00\n",
      "|   |   |   |   |--- occ_service_sector_wgt <= 170.00\n",
      "|   |   |   |   |   |--- class: 1\n",
      "|   |   |   |   |--- occ_service_sector_wgt >  170.00\n",
      "|   |   |   |   |   |--- class: 1\n",
      "|   |   |   |--- hlthins_priv_wgt >  2927.00\n",
      "|   |   |   |   |--- class: 0\n",
      "|   |   |--- parents_work_under6_wgt >  140.00\n",
      "|   |   |   |--- class: 0\n",
      "|   |--- hlthins_none_wgt >  220.50\n",
      "|   |   |--- hispdcl <= 1.50\n",
      "|   |   |   |--- hispdem <= 7.50\n",
      "|   |   |   |   |--- unemployed_wgt <= 155.00\n",
      "|   |   |   |   |   |--- class: 0\n",
      "|   |   |   |   |--- unemployed_wgt >  155.00\n",
      "|   |   |   |   |   |--- employed_wgt <= 3275.50\n",
      "|   |   |   |   |   |   |--- class: 1\n",
      "|   |   |   |   |   |--- employed_wgt >  3275.50\n",
      "|   |   |   |   |   |   |--- occ_service_sector_wgt <= 566.00\n",
      "|   |   |   |   |   |   |   |--- class: 1\n",
      "|   |   |   |   |   |   |--- occ_service_sector_wgt >  566.00\n",
      "|   |   |   |   |   |   |   |--- class: 0\n",
      "|   |   |   |--- hispdem >  7.50\n",
      "|   |   |   |   |--- class: 1\n",
      "|   |   |--- hispdcl >  1.50\n",
      "|   |   |   |--- hispdem <= 45.50\n",
      "|   |   |   |   |--- hisprep <= 11.50\n",
      "|   |   |   |   |   |--- hispdcl <= 4.50\n",
      "|   |   |   |   |   |   |--- male <= 88.00\n",
      "|   |   |   |   |   |   |   |--- class: 1\n",
      "|   |   |   |   |   |   |--- male >  88.00\n",
      "|   |   |   |   |   |   |   |--- class: 0\n",
      "|   |   |   |   |   |--- hispdcl >  4.50\n",
      "|   |   |   |   |   |   |--- class: 1\n",
      "|   |   |   |   |--- hisprep >  11.50\n",
      "|   |   |   |   |   |--- employed_wgt <= 3678.50\n",
      "|   |   |   |   |   |   |--- occ_constr_maintc_wgt <= 243.50\n",
      "|   |   |   |   |   |   |   |--- class: 1\n",
      "|   |   |   |   |   |   |--- occ_constr_maintc_wgt >  243.50\n",
      "|   |   |   |   |   |   |   |--- class: 0\n",
      "|   |   |   |   |   |--- employed_wgt >  3678.50\n",
      "|   |   |   |   |   |   |--- class: 1\n",
      "|   |   |   |--- hispdem >  45.50\n",
      "|   |   |   |   |--- occ_manuf_transpo_wgt <= 293.00\n",
      "|   |   |   |   |   |--- hisprep <= 65.50\n",
      "|   |   |   |   |   |   |--- class: 1\n",
      "|   |   |   |   |   |--- hisprep >  65.50\n",
      "|   |   |   |   |   |   |--- class: 0\n",
      "|   |   |   |   |--- occ_manuf_transpo_wgt >  293.00\n",
      "|   |   |   |   |   |--- class: 1\n",
      "|--- hh_med_income_wgt >  88656.00\n",
      "|   |--- hh_med_income_wgt <= 105036.50\n",
      "|   |   |--- hispdcl <= 20.50\n",
      "|   |   |   |--- occ_constr_maintc_wgt <= 13.00\n",
      "|   |   |   |   |--- class: 1\n",
      "|   |   |   |--- occ_constr_maintc_wgt >  13.00\n",
      "|   |   |   |   |--- occ_constr_maintc_wgt <= 178.50\n",
      "|   |   |   |   |   |--- hispdem <= 15.50\n",
      "|   |   |   |   |   |   |--- class: 0\n",
      "|   |   |   |   |   |--- hispdem >  15.50\n",
      "|   |   |   |   |   |   |--- hisprep <= 17.00\n",
      "|   |   |   |   |   |   |   |--- class: 1\n",
      "|   |   |   |   |   |   |--- hisprep >  17.00\n",
      "|   |   |   |   |   |   |   |--- class: 0\n",
      "|   |   |   |   |--- occ_constr_maintc_wgt >  178.50\n",
      "|   |   |   |   |   |--- male <= 187.00\n",
      "|   |   |   |   |   |   |--- class: 1\n",
      "|   |   |   |   |   |--- male >  187.00\n",
      "|   |   |   |   |   |   |--- occ_constr_maintc_wgt <= 228.50\n",
      "|   |   |   |   |   |   |   |--- class: 1\n",
      "|   |   |   |   |   |   |--- occ_constr_maintc_wgt >  228.50\n",
      "|   |   |   |   |   |   |   |--- class: 0\n",
      "|   |   |--- hispdcl >  20.50\n",
      "|   |   |   |--- hisprep <= 72.00\n",
      "|   |   |   |   |--- male <= 449.00\n",
      "|   |   |   |   |   |--- hispdem <= 88.00\n",
      "|   |   |   |   |   |   |--- hisprep <= 24.00\n",
      "|   |   |   |   |   |   |   |--- class: 1\n",
      "|   |   |   |   |   |   |--- hisprep >  24.00\n",
      "|   |   |   |   |   |   |   |--- class: 0\n",
      "|   |   |   |   |   |--- hispdem >  88.00\n",
      "|   |   |   |   |   |   |--- class: 1\n",
      "|   |   |   |   |--- male >  449.00\n",
      "|   |   |   |   |   |--- female <= 901.50\n",
      "|   |   |   |   |   |   |--- hlthins_none_wgt <= 241.00\n",
      "|   |   |   |   |   |   |   |--- class: 1\n",
      "|   |   |   |   |   |   |--- hlthins_none_wgt >  241.00\n",
      "|   |   |   |   |   |   |   |--- class: 1\n",
      "|   |   |   |   |   |--- female >  901.50\n",
      "|   |   |   |   |   |   |--- class: 0\n",
      "|   |   |   |--- hisprep >  72.00\n",
      "|   |   |   |   |--- hlthins_priv_wgt <= 3678.00\n",
      "|   |   |   |   |   |--- class: 0\n",
      "|   |   |   |   |--- hlthins_priv_wgt >  3678.00\n",
      "|   |   |   |   |   |--- class: 0\n",
      "|   |--- hh_med_income_wgt >  105036.50\n",
      "|   |   |--- working_women_wgt <= 3000.50\n",
      "|   |   |   |--- hispdem <= 90.00\n",
      "|   |   |   |   |--- hisprep <= 33.50\n",
      "|   |   |   |   |   |--- dcl <= 403.50\n",
      "|   |   |   |   |   |   |--- not_inlaborforce_wgt <= 1634.50\n",
      "|   |   |   |   |   |   |   |--- class: 0\n",
      "|   |   |   |   |   |   |--- not_inlaborforce_wgt >  1634.50\n",
      "|   |   |   |   |   |   |   |--- class: 0\n",
      "|   |   |   |   |   |--- dcl >  403.50\n",
      "|   |   |   |   |   |   |--- class: 1\n",
      "|   |   |   |   |--- hisprep >  33.50\n",
      "|   |   |   |   |   |--- not_inlaborforce_wgt <= 1574.50\n",
      "|   |   |   |   |   |   |--- unemployed_wgt <= 159.50\n",
      "|   |   |   |   |   |   |   |--- class: 0\n",
      "|   |   |   |   |   |   |--- unemployed_wgt >  159.50\n",
      "|   |   |   |   |   |   |   |--- class: 1\n",
      "|   |   |   |   |   |--- not_inlaborforce_wgt >  1574.50\n",
      "|   |   |   |   |   |   |--- class: 0\n",
      "|   |   |   |--- hispdem >  90.00\n",
      "|   |   |   |   |--- hisprep <= 55.00\n",
      "|   |   |   |   |   |--- class: 1\n",
      "|   |   |   |   |--- hisprep >  55.00\n",
      "|   |   |   |   |   |--- class: 0\n",
      "|   |   |--- working_women_wgt >  3000.50\n",
      "|   |   |   |--- class: 1\n",
      "\n"
     ]
    },
    {
     "name": "stderr",
     "output_type": "stream",
     "text": [
      "/Users/nevochka/opt/anaconda3/lib/python3.8/site-packages/sklearn/utils/validation.py:68: FutureWarning: Pass feature_names=['employed_wgt', 'unemployed_wgt', 'empl_military_wgt', 'not_inlaborforce_wgt', 'working_women_wgt', 'parents_work_under6_wgt', 'parents_work_0617_wgt', 'occ_mgmt_sci_art_wgt', 'occ_service_sector_wgt', 'occ_sales_gen_office_wgt', 'occ_constr_maintc_wgt', 'occ_manuf_transpo_wgt', 'hh_med_income_wgt', 'hlthins_priv_wgt', 'hlthins_public_wgt', 'hlthins_none_wgt', 'dcl', 'male', 'female', 'hispdem', 'hisprep', 'hispdcl', 'hispoth'] as keyword args. From version 0.25 passing these as positional arguments will result in an error\n",
      "  warnings.warn(\"Pass {} as keyword args. From version 0.25 \"\n"
     ]
    }
   ],
   "source": [
    "# Import export_text from sklearn.tree module.\n",
    "from sklearn.tree import export_text\n",
    "\n",
    "# Print out tree in plaintext.\n",
    "print(export_text(grid5.best_estimator_,\n",
    "                  list(X_train.columns)))"
   ]
  },
  {
   "cell_type": "code",
   "execution_count": null,
   "metadata": {},
   "outputs": [],
   "source": []
  },
  {
   "cell_type": "code",
   "execution_count": null,
   "metadata": {},
   "outputs": [],
   "source": []
  },
  {
   "cell_type": "code",
   "execution_count": null,
   "metadata": {},
   "outputs": [],
   "source": []
  },
  {
   "cell_type": "code",
   "execution_count": null,
   "metadata": {},
   "outputs": [],
   "source": []
  },
  {
   "cell_type": "markdown",
   "metadata": {},
   "source": [
    "## Model evaluation"
   ]
  },
  {
   "cell_type": "markdown",
   "metadata": {},
   "source": [
    "#### LogReg2, `accuracy = 0.85`\n",
    "- logistic regression with scaled data\n",
    "- standard scaler applied within a pipeline\n",
    "- scores are generated from pipeline"
   ]
  },
  {
   "cell_type": "code",
   "execution_count": 306,
   "metadata": {},
   "outputs": [
    {
     "name": "stdout",
     "output_type": "stream",
     "text": [
      "The score on the train data is 0.845\n",
      "The score on the test data is 0.8532934131736527\n"
     ]
    }
   ],
   "source": [
    "# Instantiate and fit a logisitic regression model  \n",
    "#above\n",
    "\n",
    "# Check accuracy score on training data\n",
    "print(f'The score on the train data is {ss_logreg2.score(X_train, y_train)}')\n",
    "print(f'The score on the test data is {ss_logreg2.score(X_test, y_test)}')\n",
    "# score = ss_logreg2.score(X_train, y_train)\n",
    "# score"
   ]
  },
  {
   "cell_type": "code",
   "execution_count": 309,
   "metadata": {},
   "outputs": [
    {
     "data": {
      "text/plain": [
       "array([0, 1, 1, 1, 0])"
      ]
     },
     "execution_count": 309,
     "metadata": {},
     "output_type": "execute_result"
    }
   ],
   "source": [
    "# Make predictions on testing data\n",
    "logreg2_preds = ss_logreg2.predict(X_test)\n",
    "logreg2_preds[:5]"
   ]
  },
  {
   "cell_type": "code",
   "execution_count": 318,
   "metadata": {},
   "outputs": [
    {
     "data": {
      "text/plain": [
       "array([112,  22,  27, 173])"
      ]
     },
     "execution_count": 318,
     "metadata": {},
     "output_type": "execute_result"
    }
   ],
   "source": [
    "# Generate confusion matrix\n",
    "cm_logreg2 = confusion_matrix(y_test, logreg2_preds)\n",
    "cm_logreg2.flatten()"
   ]
  },
  {
   "cell_type": "code",
   "execution_count": 314,
   "metadata": {},
   "outputs": [
    {
     "data": {
      "text/plain": [
       "{'accuracy': 0.8532934131736527,\n",
       " 'misclassification': 0.1467065868263473,\n",
       " 'sensitivity': 0.865,\n",
       " 'specificity': 0.835820895522388,\n",
       " 'precision': 0.8871794871794871}"
      ]
     },
     "execution_count": 314,
     "metadata": {},
     "output_type": "execute_result"
    }
   ],
   "source": [
    "# Extract tn, fp, fn, tp\n",
    "tn, fp, fn, tp = cm_logreg2.ravel()\n",
    "\n",
    "# Convert the values to a confusion matrix (multiple methods will work)\n",
    "pd.DataFrame(cm_logreg2, columns=['Pred Neg', 'Pred Pos'], index=['Act Neg', 'Act Pos'])\n",
    "\n",
    "def class_metrics(TP, TN, FP, FN):\n",
    "    acc = (TP + TN) / (TP + FP + TN + FN)\n",
    "    mis = 1 - acc\n",
    "    sen = TP / (TP + FN)\n",
    "    spec = TN / (TN + FP)\n",
    "    prec = TP / (TP + FP)\n",
    "    results = [acc, mis, sen, spec, prec]\n",
    "    ## create dictionary for easy display of results\n",
    "    names = ['accuracy', 'misclassification', 'sensitivity', 'specificity', 'precision']\n",
    "    res_dict = dict(zip(names, results))\n",
    "    return res_dict\n",
    "\n",
    "class_metrics(tp, tn, fp, fn)\n"
   ]
  },
  {
   "cell_type": "code",
   "execution_count": 424,
   "metadata": {},
   "outputs": [
    {
     "data": {
      "image/png": "[encoded data removed]",
      "text/plain": [
       "<Figure size 432x288 with 2 Axes>"
      ]
     },
     "metadata": {},
     "output_type": "display_data"
    }
   ],
   "source": [
    "plot_confusion_matrix(ss_logreg2, X_test, y_test, display_labels=['GOP win', 'Dem win'], normalize='true');\n"
   ]
  },
  {
   "cell_type": "code",
   "execution_count": null,
   "metadata": {},
   "outputs": [],
   "source": []
  },
  {
   "cell_type": "markdown",
   "metadata": {},
   "source": [
    "#### dtree, `accuracy = 0.736`\n",
    "- Decision Tree with scaled data\n",
    "- standard scaler applied within a pipeline\n",
    "- scores are generated from pipeline\n",
    "- the intent of running this model is more for feature importance, but scoring the model neverthless\n",
    "- Decision Tree will yield very high scores, but are typically very overfit, and cannot handle new data."
   ]
  },
  {
   "cell_type": "code",
   "execution_count": 323,
   "metadata": {},
   "outputs": [
    {
     "name": "stdout",
     "output_type": "stream",
     "text": [
      "The score on the train data is 1.0\n",
      "The score on the test data is 0.7365269461077845\n"
     ]
    }
   ],
   "source": [
    "# Instantiate and fit a decision tree model \n",
    "#above\n",
    "\n",
    "# Check accuracy score on training data\n",
    "print(f'The score on the train data is {ss_dtree.score(X_train, y_train)}')\n",
    "print(f'The score on the test data is {ss_dtree.score(X_test, y_test)}')"
   ]
  },
  {
   "cell_type": "code",
   "execution_count": 324,
   "metadata": {},
   "outputs": [
    {
     "data": {
      "text/plain": [
       "array([1, 1, 1, 1, 0])"
      ]
     },
     "execution_count": 324,
     "metadata": {},
     "output_type": "execute_result"
    }
   ],
   "source": [
    "# Make predictions on testing data\n",
    "dtree_preds = ss_dtree.predict(X_test)\n",
    "dtree_preds[:5]"
   ]
  },
  {
   "cell_type": "code",
   "execution_count": 325,
   "metadata": {},
   "outputs": [
    {
     "data": {
      "text/plain": [
       "array([ 91,  43,  45, 155])"
      ]
     },
     "execution_count": 325,
     "metadata": {},
     "output_type": "execute_result"
    }
   ],
   "source": [
    "# Generate confusion matrix\n",
    "cm_dtree = confusion_matrix(y_test, dtree_preds)\n",
    "cm_dtree.flatten()"
   ]
  },
  {
   "cell_type": "code",
   "execution_count": 334,
   "metadata": {},
   "outputs": [
    {
     "data": {
      "text/plain": [
       "{'accuracy': 0.7365269461077845,\n",
       " 'misclassification': 0.26347305389221554,\n",
       " 'sensitivity': 0.775,\n",
       " 'specificity': 0.6791044776119403,\n",
       " 'precision': 0.7828282828282829}"
      ]
     },
     "execution_count": 334,
     "metadata": {},
     "output_type": "execute_result"
    }
   ],
   "source": [
    "# Extract tn, fp, fn, tp\n",
    "tn, fp, fn, tp = cm_dtree.ravel()\n",
    "\n",
    "# Convert the values to a confusion matrix (multiple methods will work)\n",
    "pd.DataFrame(cm_dtree, columns=['Pred Neg', 'Pred Pos'], index=['Act Neg', 'Act Pos'])\n",
    "\n",
    "def class_metrics(TP, TN, FP, FN):\n",
    "    acc = (TP + TN) / (TP + FP + TN + FN)\n",
    "    mis = 1 - acc\n",
    "    sen = TP / (TP + FN)\n",
    "    spec = TN / (TN + FP)\n",
    "    prec = TP / (TP + FP)\n",
    "    results = [acc, mis, sen, spec, prec]\n",
    "    ## create dictionary for easy display of results\n",
    "    names = ['accuracy', 'misclassification', 'sensitivity', 'specificity', 'precision']\n",
    "    res_dict = dict(zip(names, results))\n",
    "    return res_dict\n",
    "\n",
    "class_metrics(tp, tn, fp, fn)"
   ]
  },
  {
   "cell_type": "code",
   "execution_count": 335,
   "metadata": {},
   "outputs": [
    {
     "data": {
      "image/png": "[encoded data removed]",
      "text/plain": [
       "<Figure size 432x288 with 2 Axes>"
      ]
     },
     "metadata": {},
     "output_type": "display_data"
    }
   ],
   "source": [
    "plot_confusion_matrix(ss_dtree, X_test, y_test, display_labels=['GOP win', 'Dem win'], normalize='true');"
   ]
  },
  {
   "cell_type": "code",
   "execution_count": null,
   "metadata": {},
   "outputs": [],
   "source": []
  },
  {
   "cell_type": "markdown",
   "metadata": {},
   "source": [
    "#### HistGradientBoost, `accuracy = 0.850`\n",
    "- Gradient Boost classifier with scaled data\n",
    "- standard scaler applied within a pipeline\n",
    "- scores are generated from pipeline\n",
    "- similar accuracy to Logistic Regression logreg2"
   ]
  },
  {
   "cell_type": "code",
   "execution_count": 329,
   "metadata": {},
   "outputs": [
    {
     "name": "stdout",
     "output_type": "stream",
     "text": [
      "The score on the train data is 0.999\n",
      "The score on the test data is 0.8502994011976048\n"
     ]
    }
   ],
   "source": [
    "# Instantiate and fit a Gradient Boost model \n",
    "#above\n",
    "\n",
    "# Check accuracy score on training data\n",
    "print(f'The score on the train data is {ss_hist.score(X_train, y_train)}')\n",
    "print(f'The score on the test data is {ss_hist.score(X_test, y_test)}')"
   ]
  },
  {
   "cell_type": "code",
   "execution_count": 330,
   "metadata": {},
   "outputs": [
    {
     "data": {
      "text/plain": [
       "array([1, 1, 1, 1, 0])"
      ]
     },
     "execution_count": 330,
     "metadata": {},
     "output_type": "execute_result"
    }
   ],
   "source": [
    "# Make predictions on testing data\n",
    "hist_preds = ss_hist.predict(X_test)\n",
    "hist_preds[:5]"
   ]
  },
  {
   "cell_type": "code",
   "execution_count": 331,
   "metadata": {},
   "outputs": [
    {
     "data": {
      "text/plain": [
       "array([113,  21,  29, 171])"
      ]
     },
     "execution_count": 331,
     "metadata": {},
     "output_type": "execute_result"
    }
   ],
   "source": [
    "# Generate confusion matrix\n",
    "cm_hist = confusion_matrix(y_test, hist_preds)\n",
    "cm_hist.flatten()"
   ]
  },
  {
   "cell_type": "code",
   "execution_count": 336,
   "metadata": {},
   "outputs": [
    {
     "data": {
      "text/plain": [
       "{'accuracy': 0.8502994011976048,\n",
       " 'misclassification': 0.14970059880239517,\n",
       " 'sensitivity': 0.855,\n",
       " 'specificity': 0.8432835820895522,\n",
       " 'precision': 0.890625}"
      ]
     },
     "execution_count": 336,
     "metadata": {},
     "output_type": "execute_result"
    }
   ],
   "source": [
    "# Extract tn, fp, fn, tp\n",
    "tn, fp, fn, tp = cm_hist.ravel()\n",
    "\n",
    "# Convert the values to a confusion matrix (multiple methods will work)\n",
    "pd.DataFrame(cm_hist, columns=['Pred Neg', 'Pred Pos'], index=['Act Neg', 'Act Pos'])\n",
    "\n",
    "def class_metrics(TP, TN, FP, FN):\n",
    "    acc = (TP + TN) / (TP + FP + TN + FN)\n",
    "    mis = 1 - acc\n",
    "    sen = TP / (TP + FN)\n",
    "    spec = TN / (TN + FP)\n",
    "    prec = TP / (TP + FP)\n",
    "    results = [acc, mis, sen, spec, prec]\n",
    "    ## create dictionary for easy display of results\n",
    "    names = ['accuracy', 'misclassification', 'sensitivity', 'specificity', 'precision']\n",
    "    res_dict = dict(zip(names, results))\n",
    "    return res_dict\n",
    "\n",
    "class_metrics(tp, tn, fp, fn)"
   ]
  },
  {
   "cell_type": "code",
   "execution_count": 337,
   "metadata": {},
   "outputs": [
    {
     "data": {
      "image/png": "[encoded data removed]",
      "text/plain": [
       "<Figure size 432x288 with 2 Axes>"
      ]
     },
     "metadata": {},
     "output_type": "display_data"
    }
   ],
   "source": [
    "plot_confusion_matrix(ss_hist, X_test, y_test, display_labels=['GOP win', 'Dem win'], normalize='true');"
   ]
  },
  {
   "cell_type": "code",
   "execution_count": null,
   "metadata": {},
   "outputs": [],
   "source": []
  },
  {
   "cell_type": "markdown",
   "metadata": {},
   "source": [
    "#### logreg3, accuracy = 0.811\n",
    "- Logistic Regression with scaled data and polynomial features\n",
    "- standard scaler and poly-features applied within a pipeline\n",
    "- scores are generated from pipeline\n",
    "- poly-features accuracy score is less than without poly-features (logreg2, above)"
   ]
  },
  {
   "cell_type": "code",
   "execution_count": 344,
   "metadata": {},
   "outputs": [
    {
     "name": "stdout",
     "output_type": "stream",
     "text": [
      "The score on the train data is 0.906\n",
      "The score on the test data is 0.811377245508982\n"
     ]
    }
   ],
   "source": [
    "# Instantiate and fit a Logistic Regression model \n",
    "#above\n",
    "\n",
    "# Check accuracy score on training data\n",
    "print(f'The score on the train data is {pf_logreg3.score(X_train, y_train)}')\n",
    "print(f'The score on the test data is {pf_logreg3.score(X_test, y_test)}')"
   ]
  },
  {
   "cell_type": "code",
   "execution_count": 339,
   "metadata": {},
   "outputs": [
    {
     "data": {
      "text/plain": [
       "array([0, 1, 1, 1, 0])"
      ]
     },
     "execution_count": 339,
     "metadata": {},
     "output_type": "execute_result"
    }
   ],
   "source": [
    "# Make predictions on testing data\n",
    "logreg3_preds = pf_logreg3.predict(X_test)\n",
    "logreg3_preds[:5]"
   ]
  },
  {
   "cell_type": "code",
   "execution_count": 340,
   "metadata": {},
   "outputs": [
    {
     "data": {
      "text/plain": [
       "array([106,  28,  35, 165])"
      ]
     },
     "execution_count": 340,
     "metadata": {},
     "output_type": "execute_result"
    }
   ],
   "source": [
    "# Generate confusion matrix\n",
    "cm_logreg3 = confusion_matrix(y_test, logreg3_preds)\n",
    "cm_logreg3.flatten()"
   ]
  },
  {
   "cell_type": "code",
   "execution_count": 341,
   "metadata": {},
   "outputs": [
    {
     "data": {
      "text/plain": [
       "{'accuracy': 0.811377245508982,\n",
       " 'misclassification': 0.18862275449101795,\n",
       " 'sensitivity': 0.825,\n",
       " 'specificity': 0.7910447761194029,\n",
       " 'precision': 0.8549222797927462}"
      ]
     },
     "execution_count": 341,
     "metadata": {},
     "output_type": "execute_result"
    }
   ],
   "source": [
    "# Extract tn, fp, fn, tp\n",
    "tn, fp, fn, tp = cm_logreg3.ravel()\n",
    "\n",
    "# Convert the values to a confusion matrix (multiple methods will work)\n",
    "pd.DataFrame(cm_logreg3, columns=['Pred Neg', 'Pred Pos'], index=['Act Neg', 'Act Pos'])\n",
    "\n",
    "def class_metrics(TP, TN, FP, FN):\n",
    "    acc = (TP + TN) / (TP + FP + TN + FN)\n",
    "    mis = 1 - acc\n",
    "    sen = TP / (TP + FN)\n",
    "    spec = TN / (TN + FP)\n",
    "    prec = TP / (TP + FP)\n",
    "    results = [acc, mis, sen, spec, prec]\n",
    "    ## create dictionary for easy display of results\n",
    "    names = ['accuracy', 'misclassification', 'sensitivity', 'specificity', 'precision']\n",
    "    res_dict = dict(zip(names, results))\n",
    "    return res_dict\n",
    "\n",
    "class_metrics(tp, tn, fp, fn)"
   ]
  },
  {
   "cell_type": "code",
   "execution_count": 343,
   "metadata": {},
   "outputs": [
    {
     "data": {
      "image/png": "[encoded data removed]",
      "text/plain": [
       "<Figure size 432x288 with 2 Axes>"
      ]
     },
     "metadata": {},
     "output_type": "display_data"
    }
   ],
   "source": [
    "plot_confusion_matrix(pf_logreg3, X_test, y_test, display_labels=['GOP win', 'Dem win'], normalize='true');"
   ]
  },
  {
   "cell_type": "code",
   "execution_count": null,
   "metadata": {},
   "outputs": [],
   "source": []
  },
  {
   "cell_type": "markdown",
   "metadata": {},
   "source": [
    "#### logreg4, `accuracy = 0.734`\n",
    "- Logistic Regression with scaled data and polynomial features with a gridsearch for Select K-Best number of features \n",
    "- standard scaler, poly-features, and select k-best applied within a pipeline\n",
    "- then we do a grid search for different parameters for Select K-best features\n",
    "- scores are generated from grid\n",
    "- these scores are even lower than logistic regression alone"
   ]
  },
  {
   "cell_type": "code",
   "execution_count": 353,
   "metadata": {},
   "outputs": [
    {
     "name": "stdout",
     "output_type": "stream",
     "text": [
      "The score on the train data is 0.725\n",
      "The score on the test data is 0.7335329341317365\n"
     ]
    }
   ],
   "source": [
    "# Instantiate and fit a Logistic Regression model and Select K Best\n",
    "#above\n",
    "\n",
    "# Check accuracy score on training data\n",
    "print(f'The score on the train data is {gs.score(X_train, y_train)}')\n",
    "print(f'The score on the test data is {gs.score(X_test, y_test)}')"
   ]
  },
  {
   "cell_type": "code",
   "execution_count": 354,
   "metadata": {},
   "outputs": [
    {
     "data": {
      "text/plain": [
       "array([0, 1, 1, 1, 1])"
      ]
     },
     "execution_count": 354,
     "metadata": {},
     "output_type": "execute_result"
    }
   ],
   "source": [
    "# Make predictions on testing data\n",
    "logreg4_preds = gs.predict(X_test)\n",
    "logreg4_preds[:5]"
   ]
  },
  {
   "cell_type": "code",
   "execution_count": 355,
   "metadata": {},
   "outputs": [
    {
     "data": {
      "text/plain": [
       "array([ 94,  40,  49, 151])"
      ]
     },
     "execution_count": 355,
     "metadata": {},
     "output_type": "execute_result"
    }
   ],
   "source": [
    "# Generate confusion matrix\n",
    "cm_logreg4 = confusion_matrix(y_test, logreg4_preds)\n",
    "cm_logreg4.flatten()"
   ]
  },
  {
   "cell_type": "code",
   "execution_count": 356,
   "metadata": {},
   "outputs": [
    {
     "data": {
      "text/plain": [
       "{'accuracy': 0.7335329341317365,\n",
       " 'misclassification': 0.2664670658682635,\n",
       " 'sensitivity': 0.755,\n",
       " 'specificity': 0.7014925373134329,\n",
       " 'precision': 0.7905759162303665}"
      ]
     },
     "execution_count": 356,
     "metadata": {},
     "output_type": "execute_result"
    }
   ],
   "source": [
    "# Extract tn, fp, fn, tp\n",
    "tn, fp, fn, tp = cm_logreg4.ravel()\n",
    "\n",
    "# Convert the values to a confusion matrix (multiple methods will work)\n",
    "pd.DataFrame(cm_logreg4, columns=['Pred Neg', 'Pred Pos'], index=['Act Neg', 'Act Pos'])\n",
    "\n",
    "def class_metrics(TP, TN, FP, FN):\n",
    "    acc = (TP + TN) / (TP + FP + TN + FN)\n",
    "    mis = 1 - acc\n",
    "    sen = TP / (TP + FN)\n",
    "    spec = TN / (TN + FP)\n",
    "    prec = TP / (TP + FP)\n",
    "    results = [acc, mis, sen, spec, prec]\n",
    "    ## create dictionary for easy display of results\n",
    "    names = ['accuracy', 'misclassification', 'sensitivity', 'specificity', 'precision']\n",
    "    res_dict = dict(zip(names, results))\n",
    "    return res_dict\n",
    "\n",
    "class_metrics(tp, tn, fp, fn)"
   ]
  },
  {
   "cell_type": "code",
   "execution_count": 357,
   "metadata": {},
   "outputs": [
    {
     "data": {
      "image/png": "[encoded data removed]",
      "text/plain": [
       "<Figure size 432x288 with 2 Axes>"
      ]
     },
     "metadata": {},
     "output_type": "display_data"
    }
   ],
   "source": [
    "plot_confusion_matrix(gs, X_test, y_test, display_labels=['GOP win', 'Dem win'], normalize='true');"
   ]
  },
  {
   "cell_type": "code",
   "execution_count": null,
   "metadata": {},
   "outputs": [],
   "source": []
  },
  {
   "cell_type": "markdown",
   "metadata": {},
   "source": [
    "#### dtree5, accuracy = 0.___\n",
    "- Decision Tree with gridsearch for best params to create a rank-order list of important features\n",
    "- use these high-importance features to reduce the number of input features, to see if we get a better prediction result with Logistic Regression\n",
    "- standard scaler, poly-features, and select k-best applied within a pipeline\n",
    "- then we do a grid search for different parameters for Select K-best features\n",
    "- scores are generated from grid\n",
    "- these scores are even lower than logistic regression alone"
   ]
  },
  {
   "cell_type": "code",
   "execution_count": 419,
   "metadata": {},
   "outputs": [
    {
     "name": "stdout",
     "output_type": "stream",
     "text": [
      "The score on the train data is 0.607\n",
      "The score on the test data is 0.5988023952095808\n"
     ]
    }
   ],
   "source": [
    "# Check accuracy score on training data\n",
    "print(f'The score on the train data is {dtree5best.score(X_train, y_train)}')\n",
    "print(f'The score on the test data is {dtree5best.score(X_test, y_test)}')"
   ]
  },
  {
   "cell_type": "code",
   "execution_count": 420,
   "metadata": {},
   "outputs": [
    {
     "data": {
      "text/plain": [
       "array([1, 1, 1, 1, 1])"
      ]
     },
     "execution_count": 420,
     "metadata": {},
     "output_type": "execute_result"
    }
   ],
   "source": [
    "# Make predictions on testing data\n",
    "dtree5best_preds = dtree5best.predict(X_test)\n",
    "dtree5best_preds[:5]"
   ]
  },
  {
   "cell_type": "code",
   "execution_count": 421,
   "metadata": {},
   "outputs": [
    {
     "data": {
      "text/plain": [
       "334"
      ]
     },
     "execution_count": 421,
     "metadata": {},
     "output_type": "execute_result"
    }
   ],
   "source": [
    "dtree5best_preds.sum()"
   ]
  },
  {
   "cell_type": "code",
   "execution_count": 422,
   "metadata": {},
   "outputs": [
    {
     "data": {
      "text/plain": [
       "334"
      ]
     },
     "execution_count": 422,
     "metadata": {},
     "output_type": "execute_result"
    }
   ],
   "source": [
    "len(dtree5best_preds)"
   ]
  },
  {
   "cell_type": "code",
   "execution_count": null,
   "metadata": {},
   "outputs": [],
   "source": []
  },
  {
   "cell_type": "code",
   "execution_count": null,
   "metadata": {},
   "outputs": [],
   "source": []
  },
  {
   "cell_type": "code",
   "execution_count": null,
   "metadata": {},
   "outputs": [],
   "source": []
  },
  {
   "cell_type": "code",
   "execution_count": null,
   "metadata": {},
   "outputs": [],
   "source": []
  },
  {
   "cell_type": "code",
   "execution_count": null,
   "metadata": {},
   "outputs": [],
   "source": [
    "\n",
    "# Instantiate and fit a logisitic regression model (solver='liblinear')\n",
    "log = LogisticRegression()\n",
    "log.fit(X_train_ss, y_train)\n",
    "\n",
    "# Check accuracy score on training data\n",
    "score = log.score(X_train_ss, y_train)\n",
    "score\n",
    "\n",
    "# Make predictions on testing data\n",
    "y_preds = log.predict(X_test_ss)\n",
    "y_preds[:5]\n",
    "\n",
    "# Generate confusion matrix\n",
    "cm = confusion_matrix(y_test, y_preds)\n",
    "\n",
    "cm.flatten()\n",
    "\n",
    "# Extract tn, fp, fn, tp\n",
    "tn, fp, fn, tp = cm.ravel()\n",
    "\n",
    "# Convert the values to a confusion matrix (multiple methods will work)\n",
    "pd.DataFrame(cm, columns=['Pred Neg', 'Pred Pos'], index=['Act Neg', 'Act Pos'])\n",
    "\n",
    "def class_metrics(TP, TN, FP, FN):\n",
    "    acc = (TP + TN) / (TP + FP + TN + FN)\n",
    "    mis = 1 - acc\n",
    "    sen = TP / (TP + FN)\n",
    "    spec = TN / (TN + FP)\n",
    "    prec = TP / (TP + FP)\n",
    "    results = [acc, mis, sen, spec, prec]\n",
    "    ## create dictionary for easy display of results\n",
    "    names = ['accuracy', 'misclassification', 'sensitivity', 'specificity', 'precision']\n",
    "    res_dict = dict(zip(names, results))\n",
    "    return res_dict\n",
    "\n",
    "class_metrics(tp, tn, fp, fn)\n",
    "\n"
   ]
  },
  {
   "cell_type": "code",
   "execution_count": null,
   "metadata": {},
   "outputs": [],
   "source": [
    "preds = grid_mnb.predict(X_test)\n",
    "preds\n",
    "\n",
    "cmat_grid_mnb = confusion_matrix(y_test, preds)\n",
    "cmat_grid_mnb\n",
    "\n",
    "tn, fp, fn, tp = cmat_grid_mnb.ravel()\n",
    "cmat_grid_mnb.ravel()\n",
    "\n",
    "plot_confusion_matrix(grid_mnb, X_test, y_test, display_labels=['Star Wars', 'Game of Thrones'], normalize='true');\n"
   ]
  },
  {
   "cell_type": "code",
   "execution_count": null,
   "metadata": {},
   "outputs": [],
   "source": []
  },
  {
   "cell_type": "code",
   "execution_count": null,
   "metadata": {},
   "outputs": [],
   "source": []
  },
  {
   "cell_type": "code",
   "execution_count": null,
   "metadata": {},
   "outputs": [],
   "source": []
  },
  {
   "cell_type": "code",
   "execution_count": null,
   "metadata": {},
   "outputs": [],
   "source": []
  },
  {
   "cell_type": "code",
   "execution_count": null,
   "metadata": {},
   "outputs": [],
   "source": []
  },
  {
   "cell_type": "code",
   "execution_count": null,
   "metadata": {},
   "outputs": [],
   "source": []
  },
  {
   "cell_type": "code",
   "execution_count": null,
   "metadata": {},
   "outputs": [],
   "source": []
  },
  {
   "cell_type": "markdown",
   "metadata": {},
   "source": [
    "#### model-only rmse"
   ]
  },
  {
   "cell_type": "code",
   "execution_count": 161,
   "metadata": {},
   "outputs": [],
   "source": [
    "def rmse_model(model):\n",
    "    \n",
    "    # calculate rmse scores\n",
    "    rmse_train = np.sqrt(mean_squared_error(y_train, model.predict(X_train)))\n",
    "    rmse_test = np.sqrt(mean_squared_error(y_test, model.predict(X_test)))\n",
    "    rmse_overfit = rmse_train < rmse_test\n",
    "    \n",
    "    # return rmse scores\n",
    "    return f'for {model} rmse_train = {rmse_train}, and rmse_test = {rmse_test}.  Overfit = {rmse_overfit}'"
   ]
  },
  {
   "cell_type": "code",
   "execution_count": 163,
   "metadata": {},
   "outputs": [
    {
     "data": {
      "text/plain": [
       "'for LogisticRegression() rmse_train = 0.6284902544988268, and rmse_test = 0.6381109846590285.  Overfit = True'"
      ]
     },
     "execution_count": 163,
     "metadata": {},
     "output_type": "execute_result"
    }
   ],
   "source": [
    "# rmse_model(logreg2)\n",
    "# # winner!  logistic regression w/ scaling\n",
    "# # while overfit, it is not by that much"
   ]
  },
  {
   "cell_type": "code",
   "execution_count": 164,
   "metadata": {},
   "outputs": [
    {
     "data": {
      "text/plain": [
       "'for DecisionTreeClassifier() rmse_train = 0.6164414002968976, and rmse_test = 0.6142031496028296.  Overfit = False'"
      ]
     },
     "execution_count": 164,
     "metadata": {},
     "output_type": "execute_result"
    }
   ],
   "source": [
    "rmse_model(dtree)"
   ]
  },
  {
   "cell_type": "code",
   "execution_count": 165,
   "metadata": {},
   "outputs": [
    {
     "data": {
      "text/plain": [
       "'for HistGradientBoostingClassifier() rmse_train = 0.6024948132556828, and rmse_test = 0.5968981698327618.  Overfit = False'"
      ]
     },
     "execution_count": 165,
     "metadata": {},
     "output_type": "execute_result"
    }
   ],
   "source": [
    "rmse_model(hist)"
   ]
  },
  {
   "cell_type": "code",
   "execution_count": 166,
   "metadata": {},
   "outputs": [
    {
     "data": {
      "text/plain": [
       "'for LogisticRegression(max_iter=10000, n_jobs=-1) rmse_train = 0.5477225575051661, and rmse_test = 0.5867805188019699.  Overfit = True'"
      ]
     },
     "execution_count": 166,
     "metadata": {},
     "output_type": "execute_result"
    }
   ],
   "source": [
    "rmse_model(logreg)"
   ]
  },
  {
   "cell_type": "code",
   "execution_count": null,
   "metadata": {},
   "outputs": [],
   "source": []
  },
  {
   "cell_type": "code",
   "execution_count": 168,
   "metadata": {},
   "outputs": [],
   "source": [
    "def rmse_pipe(pipe):\n",
    "    \n",
    "    # calculate rmse scores\n",
    "    rmse_train = np.sqrt(mean_squared_error(y_train, pipe.predict(X_train)))\n",
    "    rmse_test = np.sqrt(mean_squared_error(y_test, pipe.predict(X_test)))\n",
    "    rmse_overfit = rmse_train < rmse_test\n",
    "    \n",
    "    # return rmse scores\n",
    "    return f'for {pipe} rmse_train = {rmse_train}, and rmse_test = {rmse_test}.  Overfit = {rmse_overfit}'"
   ]
  },
  {
   "cell_type": "code",
   "execution_count": 169,
   "metadata": {},
   "outputs": [
    {
     "data": {
      "text/plain": [
       "\"for Pipeline(steps=[('standardscaler', StandardScaler()),\\n                ('logisticregression', LogisticRegression())]) rmse_train = 0.3065941943351178, and rmse_test = 0.3046545113033533.  Overfit = False\""
      ]
     },
     "execution_count": 169,
     "metadata": {},
     "output_type": "execute_result"
    }
   ],
   "source": [
    "rmse_pipe(ss_logreg2)\n",
    "# logreg2 still a winner!  "
   ]
  },
  {
   "cell_type": "code",
   "execution_count": 170,
   "metadata": {},
   "outputs": [
    {
     "data": {
      "text/plain": [
       "\"for Pipeline(steps=[('standardscaler', StandardScaler()),\\n                ('decisiontreeclassifier', DecisionTreeClassifier())]) rmse_train = 0.0, and rmse_test = 0.4343072121102964.  Overfit = True\""
      ]
     },
     "execution_count": 170,
     "metadata": {},
     "output_type": "execute_result"
    }
   ],
   "source": [
    "rmse_pipe(ss_dtree)"
   ]
  },
  {
   "cell_type": "code",
   "execution_count": 171,
   "metadata": {},
   "outputs": [
    {
     "data": {
      "text/plain": [
       "\"for Pipeline(steps=[('standardscaler', StandardScaler()),\\n                ('histgradientboostingclassifier',\\n                 HistGradientBoostingClassifier())]) rmse_train = 0.0, and rmse_test = 0.3503633699717538.  Overfit = True\""
      ]
     },
     "execution_count": 171,
     "metadata": {},
     "output_type": "execute_result"
    }
   ],
   "source": [
    "rmse_pipe(ss_hist)"
   ]
  },
  {
   "cell_type": "code",
   "execution_count": 173,
   "metadata": {},
   "outputs": [
    {
     "data": {
      "text/plain": [
       "\"for Pipeline(steps=[('standardscaler', StandardScaler()),\\n                ('polynomialfeatures', PolynomialFeatures()),\\n                ('logisticregression', LogisticRegression(max_iter=10000))]) rmse_train = 0.2449489742783178, and rmse_test = 0.33283395727265036.  Overfit = True\""
      ]
     },
     "execution_count": 173,
     "metadata": {},
     "output_type": "execute_result"
    }
   ],
   "source": [
    "rmse_pipe(pf_logreg3)"
   ]
  },
  {
   "cell_type": "code",
   "execution_count": null,
   "metadata": {},
   "outputs": [],
   "source": []
  },
  {
   "cell_type": "code",
   "execution_count": 181,
   "metadata": {},
   "outputs": [],
   "source": [
    "def rmse_gs(grid):\n",
    "    \n",
    "    # calculate rmse scores\n",
    "    rmse_train = np.sqrt(mean_squared_error(y_train, grid.predict(X_train)))\n",
    "    rmse_test = np.sqrt(mean_squared_error(y_test, grid.predict(X_test)))\n",
    "    rmse_overfit = rmse_train < rmse_test\n",
    "    \n",
    "    # return rmse scores\n",
    "    return f'for {grid} rmse_train = {rmse_train}, and rmse_test = {rmse_test}.  Overfit = {rmse_overfit}'"
   ]
  },
  {
   "cell_type": "code",
   "execution_count": 182,
   "metadata": {},
   "outputs": [
    {
     "data": {
      "text/plain": [
       "\"for GridSearchCV(estimator=Pipeline(steps=[('standardscaler', StandardScaler()),\\n                                       ('polynomialfeatures',\\n                                        PolynomialFeatures()),\\n                                       ('selectkbest', SelectKBest()),\\n                                       ('logisticregression',\\n                                        LogisticRegression())]),\\n             param_grid={'logisticregression__max_iter': [100000],\\n                         'logisticregression__penalty': ['none', 'l2'],\\n                         'selectkbest__k': range(5, 25, 100)}) rmse_train = 0.5244044240850758, and rmse_test = 0.5162044806743384.  Overfit = False\""
      ]
     },
     "execution_count": 182,
     "metadata": {},
     "output_type": "execute_result"
    }
   ],
   "source": [
    "rmse_gs(gs)"
   ]
  },
  {
   "cell_type": "code",
   "execution_count": 211,
   "metadata": {},
   "outputs": [
    {
     "data": {
      "text/plain": [
       "\"for GridSearchCV(estimator=DecisionTreeClassifier(random_state=42),\\n             param_grid={'ccp_alpha': [0, 0.001, 0.01, 0.1, 1, 10],\\n                         'max_depth': [2, 3, 5, 7],\\n                         'min_samples_leaf': [2, 3, 4, 5, 6],\\n                         'min_samples_split': [5, 10, 15, 20]}) rmse_train = 0.3714835124201342, and rmse_test = 0.4343072121102964.  Overfit = True\""
      ]
     },
     "execution_count": 211,
     "metadata": {},
     "output_type": "execute_result"
    }
   ],
   "source": [
    "rmse_gs(grid5)"
   ]
  },
  {
   "cell_type": "code",
   "execution_count": null,
   "metadata": {},
   "outputs": [],
   "source": []
  },
  {
   "cell_type": "markdown",
   "metadata": {},
   "source": [
    "**CONCLUSION**\n",
    "\n",
    "Loading all of these factors into a gridsearch removes the overfitting, however RMSE is much higher (52% vs 30% for logreg + standard scaler)"
   ]
  },
  {
   "cell_type": "code",
   "execution_count": null,
   "metadata": {},
   "outputs": [],
   "source": []
  }
 ],
 "metadata": {
  "kernelspec": {
   "display_name": "Python 3",
   "language": "python",
   "name": "python3"
  },
  "language_info": {
   "codemirror_mode": {
    "name": "ipython",
    "version": 3
   },
   "file_extension": ".py",
   "mimetype": "text/x-python",
   "name": "python",
   "nbconvert_exporter": "python",
   "pygments_lexer": "ipython3",
   "version": "3.8.3"
  }
 },
 "nbformat": 4,
 "nbformat_minor": 4
}
